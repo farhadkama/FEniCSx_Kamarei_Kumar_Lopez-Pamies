{
  "cells": [
    {
      "cell_type": "markdown",
      "metadata": {
        "id": "rRbcmrlS_fs-"
      },
      "source": [
        "## Adding the Dolfinx library to the colab environment"
      ]
    },
    {
      "cell_type": "code",
      "execution_count": null,
      "metadata": {
        "id": "g7uH3LaG_Ygf"
      },
      "outputs": [],
      "source": [
        " !wget \"https://fem-on-colab.github.io/releases/fenicsx-install-real.sh\" -O \"/tmp/fenicsx-install.sh\" && bash \"/tmp/fenicsx-install.sh\""
      ]
    },
    {
      "cell_type": "markdown",
      "metadata": {
        "id": "O-u3FiGS_jU-"
      },
      "source": [
        "## Adding the Gmsh library to the colab environment"
      ]
    },
    {
      "cell_type": "code",
      "execution_count": null,
      "metadata": {
        "id": "4Rho6KG1_jnG"
      },
      "outputs": [],
      "source": [
        "!wget \"https://fem-on-colab.github.io/releases/gmsh-install.sh\" -O \"/tmp/gmsh-install.sh\" && bash \"/tmp/gmsh-install.sh\""
      ]
    },
    {
      "cell_type": "markdown",
      "metadata": {
        "id": "zcM0zawa_q9e"
      },
      "source": [
        "## Importing the required libraries"
      ]
    },
    {
      "cell_type": "code",
      "execution_count": null,
      "metadata": {
        "id": "URC2eUqO_pRo"
      },
      "outputs": [],
      "source": [
        "from mpi4py import MPI\n",
        "from dolfinx import mesh, fem, io, plot, nls, log, geometry, la\n",
        "from dolfinx import cpp as _cpp\n",
        "from dolfinx import default_real_type\n",
        "import basix\n",
        "import dolfinx.fem.petsc\n",
        "import ufl\n",
        "import numpy as np\n",
        "from petsc4py.PETSc import ScalarType\n",
        "from petsc4py import PETSc\n",
        "import time\n",
        "import os\n",
        "import gmsh\n",
        "\n",
        "log.set_log_level(log.LogLevel.ERROR)\n",
        "comm = MPI.COMM_WORLD\n",
        "comm_rank = MPI.COMM_WORLD.rank"
      ]
    },
    {
      "cell_type": "markdown",
      "metadata": {
        "id": "8doXQx9n_ur_"
      },
      "source": [
        "## Setting material properties and geometry dimensions\n"
      ]
    },
    {
      "cell_type": "code",
      "execution_count": null,
      "metadata": {
        "id": "En_pCxPx_u9g"
      },
      "outputs": [],
      "source": [
        "# Material properties\n",
        "E, nu = ScalarType(100000), ScalarType(0.2)\t                                      #Young's modulus and Poisson's ratio\n",
        "mu, lmbda, kappa = E/(2*(1 + nu)), E*nu/((1 + nu)*(1 - 2*nu)), E/(3*(1 - 2*nu))\n",
        "Gc= ScalarType(1)\t                                                                #Critical energy release rate\n",
        "sts, scs= ScalarType(200), ScalarType(1000)\t                                      #Tensile strength and compressive strength\n",
        "shs = (2/3)*sts*scs/(scs-sts)\n",
        "Wts = sts**2/(2*E)\n",
        "Whs = shs**2/(2*kappa)\n",
        "\n",
        "\n",
        "#Irwin characteristic length\n",
        "lch=3*Gc*E/8/(sts**2)\n",
        "#The regularization length\n",
        "eps=0.25                                                                          #epsilon should not be chosen to be too large compared to lch. Typically eps<4*lch should work\n",
        "\n",
        "h=eps/5\n",
        "\n",
        "delta=(1+3*h/(8*eps))**(-2) * ((sts + (1+2*np.sqrt(3))*shs)/((8+3*np.sqrt(3))*shs)) * 3*Gc/(16*Wts*eps) + (1+3*h/(8*eps))**(-1) * (2/5)\n",
        "\n",
        "#Geometry of the Brazilian test\n",
        "Dia = 50\n",
        "Diaeff=Dia*3"
      ]
    },
    {
      "cell_type": "markdown",
      "metadata": {
        "id": "2V8Mg-5_ALrd"
      },
      "source": [
        "## Generating the mesh with element size $h=\\frac{ϵ}{5}$\n",
        "We also save the mesh in xdmf format."
      ]
    },
    {
      "cell_type": "code",
      "execution_count": null,
      "metadata": {
        "id": "jwkj7LzrAI4n"
      },
      "outputs": [],
      "source": [
        "gmsh.initialize()\n",
        "gmsh.model.add(\"Brazilian\")\n",
        "gmsh.model.setCurrent(\"Brazilian\")\n",
        "\n",
        "circle_dim_tags = gmsh.model.occ.addDisk(0,0,0, Dia/2, Dia/2)\n",
        "gmsh.model.occ.synchronize()\n",
        "\n",
        "# Add physical tag 1 for exterior surfaces\n",
        "boundary = gmsh.model.getBoundary([(2, circle_dim_tags)])\n",
        "boundary_ids = [b[1] for b in boundary]\n",
        "gmsh.model.addPhysicalGroup(1, boundary_ids, tag=1)\n",
        "gmsh.model.setPhysicalName(1, 1, \"boundary of circle\")\n",
        "\n",
        "# Add physical tag 2 for the volume\n",
        "volume_entities = [model[1] for model in gmsh.model.getEntities(2)]  ## here it just choose the main body\n",
        "gmsh.model.addPhysicalGroup(2, volume_entities, tag=2)\n",
        "gmsh.model.setPhysicalName(2, 2, \"circle area\")\n",
        "\n",
        "# Generating Mesh\n",
        "gmsh.option.setNumber(\"Mesh.CharacteristicLengthMin\",h)\n",
        "gmsh.option.setNumber(\"Mesh.CharacteristicLengthMax\",h)\n",
        "gmsh.model.mesh.generate(2)\n",
        "gmsh.model.mesh.setOrder(1)\n",
        "\n",
        "domain, cell_markers, facet_markers = io.gmshio.model_to_mesh(gmsh.model, comm, comm_rank, gdim=2)\n",
        "\n",
        "gmsh.finalize()\n",
        "\n",
        "\n",
        "with dolfinx.io.XDMFFile(domain.comm, \"refined_mesh.xdmf\", \"w\") as xdmf:\n",
        "    xdmf.write_mesh(domain)"
      ]
    },
    {
      "cell_type": "markdown",
      "metadata": {
        "id": "ukbPENK-AXJV"
      },
      "source": [
        "## Defining the function spaces"
      ]
    },
    {
      "cell_type": "code",
      "execution_count": null,
      "metadata": {
        "id": "LmdhO3uQASsU"
      },
      "outputs": [],
      "source": [
        "# Define function space\n",
        "V = fem.functionspace(domain, (\"CG\", 1, (domain.geometry.dim,)))                  #Function space for u\n",
        "Y = fem.functionspace(domain, (\"CG\", 1))                                          #Function space for z\n",
        "\n",
        "V_plot = fem.functionspace(domain, (\"CG\", 1, (domain.geometry.dim,)))             #Function space for u_plot"
      ]
    },
    {
      "cell_type": "markdown",
      "metadata": {
        "id": "6A_lh3b3AmPS"
      },
      "source": [
        "## Setting the contact boundary conditions"
      ]
    },
    {
      "cell_type": "code",
      "execution_count": null,
      "metadata": {
        "id": "oLaa-X86Ahd1"
      },
      "outputs": [],
      "source": [
        "maxdisp = 0.8\n",
        "\n",
        "def loading1(x, t):\n",
        "    R = Dia/2\n",
        "    Reff = Diaeff/2\n",
        "    disp = maxdisp\n",
        "    return (np.abs(x[0]*x[0]+x[1]*x[1]-R*R)<1e-4) & (np.abs(x[0])<np.sqrt(disp*t*Reff/2)+0.03) & (x[1]>0)\n",
        "\n",
        "def loading2(x, t):\n",
        "    R=Dia/2\n",
        "    Reff=Diaeff/2\n",
        "    disp = maxdisp\n",
        "    return (np.abs(x[0]*x[0]+x[1]*x[1]-R*R)<1e-4) & (np.abs(x[0])<np.sqrt(disp*t*Reff/2)+0.03) & (x[1]<0)\n",
        "\n",
        "def right(x):\n",
        "    R=Dia/2\n",
        "    return (abs(x[1]-0)<1e-4) & (abs(abs(x[0])-R)<1e-4)\n",
        "\n",
        "def top(x):\n",
        "    R=Dia/2\n",
        "    return (np.abs(np.abs(x[1])-R)<1e-4) & (np.abs(x[0]-0)<1e-4)\n",
        "\n",
        "def center(x):\n",
        "    return (np.abs(x[1]-0)<1e-4) & (np.abs(x[0]-0)<1e-4)\n",
        "\n",
        "def outer(x):\n",
        "    return (np.abs(x[0])>27.0)\n",
        "\n",
        "class MyExpression:\n",
        "    def __init__(self):\n",
        "        self.t = 0.0\n",
        "        self.disp = maxdisp\n",
        "        self.R = Diaeff/2\n",
        "\n",
        "    def eval(self, x):\n",
        "        values = np.zeros((1, x.shape[1]))\n",
        "        values[0,:] = -self.t*self.disp+(x[0]*x[0])/(2*self.R)\n",
        "        return values\n",
        "\n",
        "class MyExpression2:\n",
        "    def __init__(self):\n",
        "        self.t = 0.0\n",
        "        self.disp = maxdisp\n",
        "        self.R = Diaeff/2\n",
        "\n",
        "    def eval(self, x):\n",
        "        values = np.zeros((1, x.shape[1]))\n",
        "        values[0,:] = self.t*self.disp+(x[0]*x[0])/(2*self.R)\n",
        "        return values\n",
        "\n",
        "V_1, _ = V.sub(1).collapse()\n",
        "\n",
        "re1 = MyExpression()\n",
        "re1.t = 0\n",
        "c1 = fem.Function(V_1)\n",
        "c1.interpolate(re1.eval)\n",
        "\n",
        "re2 = MyExpression2()\n",
        "re2.t = 0\n",
        "c2 = fem.Function(V_1)\n",
        "c2.interpolate(re2.eval)\n",
        "\n",
        "def loading1_func(y):\n",
        "    def partial_func1(x):\n",
        "        return loading1(x, y)\n",
        "    return partial_func1\n",
        "def loading2_func(y):\n",
        "    def partial_func2(x):\n",
        "        return loading2(x, y)\n",
        "    return partial_func2\n",
        "\n",
        "fdim = domain.topology.dim -1\n",
        "loading1_facets = mesh.locate_entities_boundary(domain, fdim, loading1_func(0))\n",
        "loading2_facets = mesh.locate_entities_boundary(domain, fdim, loading2_func(0))\n",
        "right_facets = mesh.locate_entities_boundary(domain, fdim, right)\n",
        "top_facets = mesh.locate_entities_boundary(domain, fdim, top)\n",
        "center_facets = mesh.locate_entities(domain, fdim, center)\n",
        "outer_facets = mesh.locate_entities(domain, fdim, outer)\n",
        "\n",
        "\n",
        "dofs_loading1 = fem.locate_dofs_topological((V.sub(1), V_1), fdim, loading1_facets)\n",
        "dofs_loading2 = fem.locate_dofs_topological((V.sub(1), V_1), fdim, loading2_facets)\n",
        "dofs_top = fem.locate_dofs_topological(V.sub(0), fdim, top_facets)\n",
        "dofs_right = fem.locate_dofs_topological(V.sub(1), fdim, right_facets)\n",
        "\n",
        "\n",
        "dofs_outer = fem.locate_dofs_topological(Y, fdim, outer_facets)\n",
        "\n",
        "\n",
        "bcl1 = fem.dirichletbc(c1, dofs_loading1, V.sub(1))\n",
        "bcl2 = fem.dirichletbc(c2, dofs_loading2, V.sub(1))\n",
        "bct = fem.dirichletbc(ScalarType(0), dofs_top, V.sub(0))\n",
        "bcr = fem.dirichletbc(ScalarType(0), dofs_right, V.sub(1))\n",
        "\n",
        "bcs = [bcl1, bcl2, bct]\n",
        "\n",
        "\n",
        "bct_z = fem.dirichletbc(ScalarType(1), dofs_outer, Y)\n",
        "bcs_z = [bct_z]"
      ]
    },
    {
      "cell_type": "markdown",
      "metadata": {
        "id": "PEyjmG6uAuqA"
      },
      "source": [
        "## Defining trial and test functions and the normal vector to the boundary"
      ]
    },
    {
      "cell_type": "code",
      "execution_count": null,
      "metadata": {
        "id": "t0R7OF5AAuSf"
      },
      "outputs": [],
      "source": [
        "metadata = {\"quadrature_degree\": 4}\n",
        "n=ufl.FacetNormal(domain)\n",
        "dx = ufl.Measure(\"dx\", domain=domain, metadata=metadata)\n",
        "\n",
        "# Define functions\n",
        "du = ufl.TrialFunction(V)                                                         # Incremental displacement\n",
        "v  = ufl.TestFunction(V)                                                          # Test function\n",
        "u  = fem.Function(V, name=\"displacement\")                                         # Displacement from previous iteration\n",
        "u_inc = fem.Function(V)\n",
        "dz = ufl.TrialFunction(Y)                                                         # Incremental phase field\n",
        "y  = ufl.TestFunction(Y)                                                          # Test function\n",
        "z  = fem.Function(Y, name=\"phasefield\")                                           # Phase field from previous iteration\n",
        "z_inc = fem.Function(Y)\n",
        "d = len(u)"
      ]
    },
    {
      "cell_type": "markdown",
      "metadata": {
        "id": "OP1eM3eKBGJA"
      },
      "source": [
        "## Setting the initial conditions"
      ]
    },
    {
      "cell_type": "code",
      "execution_count": null,
      "metadata": {
        "id": "USeqBDYABFlN"
      },
      "outputs": [],
      "source": [
        "##############################################################\n",
        "#Initialisation of displacement field,u and the phase field,z\n",
        "##############################################################\n",
        "\n",
        "u.x.array[:] = 0.\n",
        "fem.petsc.set_bc(u.vector, bcs)\n",
        "\n",
        "\n",
        "z.x.array[:] = 1.\n",
        "fem.petsc.set_bc(z.vector, bcs_z)\n",
        "\n",
        "\n",
        "u_prev = fem.Function(V)\n",
        "u_prev.x.array[:] = u.x.array\n",
        "z_prev = fem.Function(Y)\n",
        "z_prev.x.array[:] = z.x.array\n",
        "z_trial = fem.Function(Y)\n",
        "z_trial.x.array[:] = z.x.array\n",
        "zdif = fem.Function(Y)\n",
        "zdif.x.array[:] = 0\n",
        "\n",
        "y_dofs_top = fem.locate_dofs_topological(V.sub(1), fdim, loading1_facets)"
      ]
    },
    {
      "cell_type": "markdown",
      "metadata": {
        "id": "UlbXV5_bBP-G"
      },
      "source": [
        "## Defining a function to do an interpolation for any field for visualization purposes"
      ]
    },
    {
      "cell_type": "code",
      "execution_count": null,
      "metadata": {
        "id": "W-nvDSZtBLtN"
      },
      "outputs": [],
      "source": [
        "def local_project(v, V):\n",
        "    \"\"\"[summary]\n",
        "        Helper function to do a interpolation\n",
        "    Args:\n",
        "        v ([dolfin.Funcion]): [function to be projected]\n",
        "        V ([dolfin.Function]): [target `dolfin.FunctionSpace` to be projected on]\n",
        "\n",
        "    Returns:\n",
        "        [dolfin.Function]: [target function after projection]\n",
        "    \"\"\"\n",
        "    expr = fem.Expression(v, V.element.interpolation_points(), comm)\n",
        "    u = fem.Function(V)\n",
        "    u.interpolate(expr)\n",
        "    return u"
      ]
    },
    {
      "cell_type": "markdown",
      "metadata": {
        "id": "GqwF2ZgfBSFI"
      },
      "source": [
        "## Defining a function to evaluate any field in parallel for post-processing"
      ]
    },
    {
      "cell_type": "code",
      "execution_count": null,
      "metadata": {
        "id": "BXEgInnxBTHO"
      },
      "outputs": [],
      "source": [
        "def adjust_array_shape(input_array):\n",
        "    if input_array.shape == (2,):                                                 # Check if the shape is (2,)\n",
        "        adjusted_array = np.append(input_array, 0.0)                              # Append 0.0 to the array\n",
        "        return adjusted_array\n",
        "    else:\n",
        "        return input_array\n",
        "bb_tree = geometry.bb_tree(domain, domain.topology.dim)\n",
        "\n",
        "def evaluate_function(u, x):\n",
        "    \"\"\"[summary]\n",
        "        Helps evaluated a function at a point `x` in parallel\n",
        "    Args:\n",
        "        u ([dolfin.Function]): [function to be evaluated]\n",
        "        x ([Union(tuple, list, numpy.ndarray)]): [point at which to evaluate function `u`]\n",
        "\n",
        "    Returns:\n",
        "        [numpy.ndarray]: [function evaluated at point `x`]\n",
        "    \"\"\"\n",
        "\n",
        "\n",
        "    if isinstance(x, np.ndarray):\n",
        "        # If x is already a NumPy array\n",
        "        points0 = x\n",
        "    elif isinstance(x, (tuple, list)):\n",
        "        # If x is a tuple or list, convert it to a NumPy array\n",
        "        points0 = np.array(x)\n",
        "    else:\n",
        "        # Handle the case if x is of an unsupported type\n",
        "        points0 = None\n",
        "\n",
        "    points = adjust_array_shape(points0)\n",
        "\n",
        "    u_value = []\n",
        "\n",
        "    cells = []\n",
        "    # Find cells whose bounding-box collide with the the points\n",
        "    cell_candidates = geometry.compute_collisions_points(bb_tree, points)\n",
        "    # Choose one of the cells that contains the point\n",
        "    colliding_cells = geometry.compute_colliding_cells(domain, cell_candidates, points)\n",
        "\n",
        "\n",
        "\n",
        "\n",
        "    if len(colliding_cells.links(0)) > 0:\n",
        "        u_value = u.eval(points, colliding_cells.links(0)[0])\n",
        "        u_value = domain.comm.gather(u_value, root=0)\n",
        "\n",
        "\n",
        "    return u_value[0]"
      ]
    },
    {
      "cell_type": "markdown",
      "metadata": {
        "id": "Z6Lv2SwgBlL9"
      },
      "source": [
        "## Defining the stored-energy, strain, and stress functions\n",
        "We also add the balance of linear momentum"
      ]
    },
    {
      "cell_type": "code",
      "execution_count": null,
      "metadata": {
        "id": "H6dMuJq2BlAI"
      },
      "outputs": [],
      "source": [
        "##Stored energy, strain and stress functions in linear isotropic elasticity (plane stress)\n",
        "\n",
        "\n",
        "def energy(v):\n",
        "\t  return mu*(ufl.inner(ufl.sym(ufl.grad(v)),ufl.sym(ufl.grad(v))) + ((nu/(1-nu))**2)*(ufl.tr(ufl.sym(ufl.grad(v))))**2 )+ 0.5*(lmbda)*(ufl.tr(ufl.sym(ufl.grad(v)))*(1-2*nu)/(1-nu))**2\n",
        "\n",
        "def epsilon(v):\n",
        "\treturn ufl.sym(ufl.grad(v))\n",
        "\n",
        "def sigma(v):\n",
        "\treturn 2.0*mu*ufl.sym(ufl.grad(v)) + (lmbda)*ufl.tr(ufl.sym(ufl.grad(v)))*(1-2*nu)/(1-nu)*ufl.Identity(len(v))\n",
        "\n",
        "def sigmavm(sig,v):\n",
        "\treturn ufl.sqrt(1/2*(ufl.inner(sig-1/3*ufl.tr(sig)*ufl.Identity(len(v)), sig-1/3*ufl.tr(sig)*ufl.Identity(len(v))) + (1/9)*ufl.tr(sig)**2 ))\n",
        "\n",
        "\n",
        "eta = 1e-6\n",
        "# Stored energy function\n",
        "psi1 = (z**2+eta)*(energy(u))\n",
        "psi11 = 2*z*energy(u)\n",
        "# Total potential energy\n",
        "Pi = psi1*dx\n",
        "# Compute first variation of Pi (directional derivative about u in the direction of v)\n",
        "R = ufl.derivative(Pi, u, v)\n",
        "# Compute Jacobian of R\n",
        "Jac = ufl.derivative(R, u, du)\n",
        "Jac3=ufl.inner(ufl.grad(du),ufl.grad(v))*dx"
      ]
    },
    {
      "cell_type": "markdown",
      "metadata": {
        "id": "DVt2Qi7dCI6Y"
      },
      "source": [
        "## Defining the external force $c_{e}$ in the phase-field equation"
      ]
    },
    {
      "cell_type": "code",
      "execution_count": null,
      "metadata": {
        "id": "0Mj96L8UCAm_"
      },
      "outputs": [],
      "source": [
        "I1 = (z**2)*ufl.tr(sigma(u))\n",
        "SQJ2 = (z**2)*sigmavm(sigma(u),u)\n",
        "\n",
        "alpha1 = (delta*Gc)/(shs*8*eps) - (2*Whs)/(3*shs)\n",
        "alpha2 = (3**0.5*(3*shs - sts)*delta*Gc)/(shs*sts*8*eps) + (2*Whs)/(3**0.5*shs) - (2*3**0.5*Wts)/(sts)\n",
        "\n",
        "ce= alpha2*SQJ2 + alpha1*I1 - z*(1-ufl.sqrt(I1**2)/I1)*psi11"
      ]
    },
    {
      "cell_type": "markdown",
      "metadata": {
        "id": "bfo7W5bWCKYN"
      },
      "source": [
        "## Weak form of PDE for phase-field"
      ]
    },
    {
      "cell_type": "code",
      "execution_count": null,
      "metadata": {
        "id": "EMWpV264CKJW"
      },
      "outputs": [],
      "source": [
        "# Weak form of PDE for phase-field\n",
        "pen=1000*(3*Gc/8/eps)*ufl.conditional(ufl.lt(delta,1),1, delta)\n",
        "Wv=pen/2*((abs(z)-z)**2 + (abs(1-z) - (1-z))**2 )*dx\n",
        "Wv2=ufl.conditional(ufl.le(z, 0.1), 1, 0)*100*pen/2*((1/4)*(abs(z_prev-z)-(z_prev-z))*2)*dx\n",
        "R_z = y*2*z*(psi11)*dx + y*(ce)*dx + 3*delta*Gc/8*(-y/eps + 2*eps*ufl.inner(ufl.grad(z),ufl.grad(y)))*dx + ufl.derivative(Wv,z,y) +  ufl.derivative(Wv2,z,y)\n",
        "\n",
        "# Compute Jacobian of R_z\n",
        "Jac_z = ufl.derivative(R_z, z, dz)"
      ]
    },
    {
      "cell_type": "markdown",
      "metadata": {
        "id": "w9dxFJSkCY3e"
      },
      "source": [
        "## Defining a class for solving nonlinear PDEs"
      ]
    },
    {
      "cell_type": "code",
      "execution_count": null,
      "metadata": {
        "id": "pycO1IFjCYhu"
      },
      "outputs": [],
      "source": [
        "class NonlinearPDEProblem:\n",
        "    \"\"\"Nonlinear problem class for  PDEs.\"\"\"\n",
        "\n",
        "    def __init__(self, F, u, bc, J):\n",
        "        self.L = fem.form(F)\n",
        "        self.a = fem.form(J)\n",
        "        self.bc = bc\n",
        "\n",
        "    def form(self, x):\n",
        "        x.ghostUpdate(addv=PETSc.InsertMode.INSERT, mode=PETSc.ScatterMode.FORWARD)\n",
        "\n",
        "    def F(self, x, b):\n",
        "        \"\"\"Assemble residual vector.\"\"\"\n",
        "        with b.localForm() as b_local:\n",
        "            b_local.set(0.0)\n",
        "        fem.petsc.assemble_vector(b, self.L)\n",
        "        fem.petsc.apply_lifting(b, [self.a], bcs=[self.bc], x0=[x], scale=-1.0)\n",
        "        b.ghostUpdate(addv=PETSc.InsertMode.ADD, mode=PETSc.ScatterMode.REVERSE)\n",
        "        fem.petsc.set_bc(b, self.bc, x, -1.0)\n",
        "\n",
        "    def J(self, x, A):\n",
        "        \"\"\"Assemble Jacobian matrix.\"\"\"\n",
        "        A.zeroEntries()\n",
        "        fem.petsc.assemble_matrix(A, self.a, bcs=self.bc)\n",
        "        A.assemble()\n",
        "\n",
        "    def matrix(self):\n",
        "        return fem.petsc.create_matrix(self.a)\n",
        "\n",
        "    def vector(self):\n",
        "        return fem.petsc.create_vector(self.L)"
      ]
    },
    {
      "cell_type": "markdown",
      "metadata": {
        "id": "IkWQyD6HCgZQ"
      },
      "source": [
        "## Setting the time step parameters"
      ]
    },
    {
      "cell_type": "code",
      "execution_count": null,
      "metadata": {
        "id": "FoFIN4XTCgIj"
      },
      "outputs": [],
      "source": [
        "#time-stepping parameters\n",
        "T=1\n",
        "Totalsteps=500\n",
        "startstepsize=1/Totalsteps\n",
        "stepsize=startstepsize\n",
        "t=stepsize\n",
        "step=1\n",
        "rtol=1e-8\n",
        "printsteps=10\n",
        "\n",
        "samesizecount=1\n",
        "#other time stepping parameters\n",
        "terminate=0\n",
        "terminate2=0\n",
        "minstepsize=startstepsize/10000\n",
        "maxstepsize=startstepsize"
      ]
    },
    {
      "cell_type": "markdown",
      "metadata": {
        "id": "LIvQJc6XCngu"
      },
      "source": [
        "## Creating Newton solvers and their customizations"
      ]
    },
    {
      "cell_type": "code",
      "execution_count": null,
      "metadata": {
        "id": "nxNgoHCZCnTv"
      },
      "outputs": [],
      "source": [
        "# Create nonlinear problem\n",
        "problem_u = NonlinearPDEProblem(R, u, bcs, Jac)\n",
        "\n",
        "# Create Newton solver and solve\n",
        "\n",
        "solver = _cpp.nls.petsc.NewtonSolver(MPI.COMM_WORLD)\n",
        "solver.setF(problem_u.F, problem_u.vector())\n",
        "solver.setJ(problem_u.J, problem_u.matrix())\n",
        "solver.set_form(problem_u.form)\n",
        "solver.max_it = 10\n",
        "#solver.convergence_criterion = \"incremental\"\n",
        "solver.error_on_nonconvergence = False\n",
        "solver.atol = 1.0e-8\n",
        "solver.rtol = 1.0e-7\n",
        "\n",
        "ksp1 = solver.krylov_solver\n",
        "opts = PETSc.Options()  # type: ignore\n",
        "option_prefix = ksp1.getOptionsPrefix()\n",
        "opts[f\"{option_prefix}ksp_type\"] = \"cg\"\n",
        "opts[f\"{option_prefix}pc_type\"] = \"gamg\"\n",
        "\n",
        "# Create nonlinear problem\n",
        "problem_z = NonlinearPDEProblem(R_z, z, bcs_z, Jac_z)\n",
        "\n",
        "# Create Newton solver and solve\n",
        "\n",
        "solver_z = _cpp.nls.petsc.NewtonSolver(MPI.COMM_WORLD)\n",
        "solver_z.setF(problem_z.F, problem_z.vector())\n",
        "solver_z.setJ(problem_z.J, problem_z.matrix())\n",
        "solver_z.set_form(problem_z.form)\n",
        "solver_z.max_it = 10\n",
        "#solver_z.convergence_criterion = \"incremental\"\n",
        "solver_z.error_on_nonconvergence = False\n",
        "solver_z.atol = 1.0e-8\n",
        "solver_z.rtol = 1.0e-7\n",
        "\n",
        "\n",
        "ksp2 = solver_z.krylov_solver\n",
        "opts = PETSc.Options()  # type: ignore\n",
        "option_prefix = ksp2.getOptionsPrefix()\n",
        "opts[f\"{option_prefix}ksp_type\"] = \"cg\"\n",
        "opts[f\"{option_prefix}pc_type\"] = \"gamg\""
      ]
    },
    {
      "cell_type": "markdown",
      "metadata": {
        "id": "QB31_xC_Cwfw"
      },
      "source": [
        "## Solving the problem over several time steps via a staggered scheme"
      ]
    },
    {
      "cell_type": "code",
      "execution_count": null,
      "metadata": {
        "colab": {
          "background_save": true
        },
        "id": "EFxqjzoICwRW"
      },
      "outputs": [],
      "source": [
        "while t-stepsize < T:\n",
        "\n",
        "\n",
        "    terminate=0\n",
        "\n",
        "    if comm_rank==0:\n",
        "        print('Step= %d' %step, 't= %f' %t, 'Stepsize= %e' %stepsize)\n",
        "\n",
        "\n",
        "    re1.t=t\n",
        "    c1.interpolate(re1.eval)\n",
        "    re2.t=t\n",
        "    c2.interpolate(re2.eval)\n",
        "    loading1_facets = mesh.locate_entities_boundary(domain, fdim, loading1_func(t))\n",
        "    loading2_facets = mesh.locate_entities_boundary(domain, fdim, loading2_func(t))\n",
        "    dofs_loading1 = fem.locate_dofs_topological((V.sub(1), V_1), fdim, loading1_facets)\n",
        "    dofs_loading2 = fem.locate_dofs_topological((V.sub(1), V_1), fdim, loading2_facets)\n",
        "    bcl1 = fem.dirichletbc(c1, dofs_loading1, V.sub(1))\n",
        "    bcl2 = fem.dirichletbc(c2, dofs_loading2, V.sub(1))\n",
        "    bct = fem.dirichletbc(ScalarType(0), dofs_top, V.sub(0))\n",
        "    bcr = fem.dirichletbc(ScalarType(0), dofs_right, V.sub(1))\n",
        "\n",
        "\n",
        "    problem_u.bc = [bcl1, bcl2, bct]\n",
        "\n",
        "\n",
        "    y_dofs_top = fem.locate_dofs_topological(V.sub(1), fdim, loading1_facets)\n",
        "    stag_iter = 1\n",
        "    rnorm_stag = 1\n",
        "    norm_z = 1\n",
        "    while stag_iter<50 and norm_z > 1e-7:\n",
        "        start_time=time.time()\n",
        "        ##############################################################\n",
        "        # PDE for u\n",
        "        ##############################################################\n",
        "        solver.solve(u.vector)\n",
        "        u.x.scatter_forward()\n",
        "        z_trial.x.array[:] = z.x.array\n",
        "        ##############################################################\n",
        "        # PDE for z\n",
        "        ##############################################################\n",
        "        solver_z.solve(z.vector)\n",
        "        z.x.scatter_forward()\n",
        "        ##############################################################\n",
        "\n",
        "        zmin = domain.comm.allreduce(np.min(z.x.array), op=MPI.MIN)\n",
        "\n",
        "\n",
        "        if comm_rank==0:\n",
        "            print(zmin)\n",
        "\n",
        "        if comm_rank==0:\n",
        "            print(\"--- %s seconds ---\" % (time.time() - start_time))\n",
        "\n",
        "        ###############################################################\n",
        "        #Residual check for stag loop\n",
        "        ###############################################################\n",
        "        b_e = fem.petsc.assemble_vector(fem.form(-R))\n",
        "        fint=b_e.copy()\n",
        "        fem.petsc.set_bc(b_e, bcs)\n",
        "\n",
        "        rnorm_stag=b_e.norm()\n",
        "        zdif.x.array[:] = z.x.array - z_trial.x.array\n",
        "        norm_z = zdif.x.norm()\n",
        "        if comm_rank==0:\n",
        "            print('Iteration number for u= %d' %stag_iter,  'Residual= %e' %rnorm_stag)\n",
        "            print('Iteration number for z= %d' %stag_iter,  'Residual= %e' %norm_z)\n",
        "        stag_iter+=1\n",
        "\n",
        "    ########### Post-processing ##############\n",
        "\n",
        "    if terminate==1:\n",
        "        u.x.array[:] = u_prev.x.array\n",
        "        z.x.array[:] = z_prev.x.array\n",
        "    else:\n",
        "        u_prev.x.array[:] = u.x.array\n",
        "        z_prev.x.array[:] = z.x.array\n",
        "\n",
        "        ####Calculate Reaction\n",
        "        Fx=domain.comm.allreduce(np.sum(b_e[y_dofs_top]), op=MPI.SUM)\n",
        "        z_x = evaluate_function(z, (0.0,0.0))\n",
        "\n",
        "        if comm_rank==0:\n",
        "            print(Fx)\n",
        "            print(z_x)\n",
        "            with open('PF_R15S5_formula.txt', 'a') as rfile:\n",
        "                rfile.write(\"%s %s %s\\n\" % (str(t), str(zmin), str(Fx)))\n",
        "\n",
        "        if step % printsteps==0:\n",
        "            u.name = \"Deformation\"\n",
        "            z.name = \"phasefield\"\n",
        "            with io.XDMFFile(domain.comm, \"paraview/2D_Ratio40checkeps2_\" + str(step) + \".xdmf\", \"w\") as file_results:\n",
        "                file_results.write_mesh(domain)\n",
        "                file_results.write_function(u, t)\n",
        "                file_results.write_function(z, t)\n",
        "\n",
        "\n",
        "    #time stepping\n",
        "    if terminate==1:\n",
        "        if stepsize>minstepsize:\n",
        "            t-=stepsize\n",
        "            stepsize/=2\n",
        "            t+=stepsize\n",
        "            samesizecount=1\n",
        "        else:\n",
        "            break\n",
        "    else:\n",
        "        if samesizecount<2:\n",
        "            step+=1\n",
        "            if t+stepsize<=T:\n",
        "                samesizecount+=1\n",
        "                t+=stepsize\n",
        "            else:\n",
        "                samesizecount=1\n",
        "                stepsize=T-t\n",
        "                t+=stepsize\n",
        "        else:\n",
        "            step+=1\n",
        "            if stepsize*2<=maxstepsize and t+stepsize*2<=T:\n",
        "                stepsize*=2\n",
        "                t+=stepsize\n",
        "            elif stepsize*2>maxstepsize and t+maxstepsize<=T:\n",
        "                stepsize=maxstepsize\n",
        "                t+=stepsize\n",
        "            else:\n",
        "                stepsize=T-t\n",
        "                t+=stepsize\n",
        "                samesizecount=1"
      ]
    },
    {
      "cell_type": "markdown",
      "source": [
        "## Results\n",
        "Plot of the normalized force in terms of the normalized applied displacement. Snapshot of the phase field at fracture.\n",
        "\n",
        "![plotbraz.jpg](data:image/jpeg;base64,/9j/4AAQSkZJRgABAQEAZABkAAD/4QAiRXhpZgAATU0AKgAAAAgAAQESAAMAAAABAAEAAAAAAAD/2wBDAAIBAQIBAQICAgICAgICAwUDAwMDAwYEBAMFBwYHBwcGBwcICQsJCAgKCAcHCg0KCgsMDAwMBwkODw0MDgsMDAz/2wBDAQICAgMDAwYDAwYMCAcIDAwMDAwMDAwMDAwMDAwMDAwMDAwMDAwMDAwMDAwMDAwMDAwMDAwMDAwMDAwMDAwMDAz/wAARCAIjBJMDASIAAhEBAxEB/8QAHwAAAQUBAQEBAQEAAAAAAAAAAAECAwQFBgcICQoL/8QAtRAAAgEDAwIEAwUFBAQAAAF9AQIDAAQRBRIhMUEGE1FhByJxFDKBkaEII0KxwRVS0fAkM2JyggkKFhcYGRolJicoKSo0NTY3ODk6Q0RFRkdISUpTVFVWV1hZWmNkZWZnaGlqc3R1dnd4eXqDhIWGh4iJipKTlJWWl5iZmqKjpKWmp6ipqrKztLW2t7i5usLDxMXGx8jJytLT1NXW19jZ2uHi4+Tl5ufo6erx8vP09fb3+Pn6/8QAHwEAAwEBAQEBAQEBAQAAAAAAAAECAwQFBgcICQoL/8QAtREAAgECBAQDBAcFBAQAAQJ3AAECAxEEBSExBhJBUQdhcRMiMoEIFEKRobHBCSMzUvAVYnLRChYkNOEl8RcYGRomJygpKjU2Nzg5OkNERUZHSElKU1RVVldYWVpjZGVmZ2hpanN0dXZ3eHl6goOEhYaHiImKkpOUlZaXmJmaoqOkpaanqKmqsrO0tba3uLm6wsPExcbHyMnK0tPU1dbX2Nna4uPk5ebn6Onq8vP09fb3+Pn6/9oADAMBAAIRAxEAPwD9/KKKKACiiigAooooAKKKKACiiigAooooAKKKKACiiigAooooAKKKKACiiigAooooAKKKKACiiigAooooAKKKKACiiigAooooAKKKKACiiigAooooAKKKKACiiigAooooAKKKKACiiigAooooAKKKKACiiigAooooAKKKKACiiigAooooAKKKKACiiigAooooAKKKKACiiigAooooAKKKKACiiigAooooAKKKKACiiigAooooAKKKKACiiigAooooAKKKKACiiigAooooAKKKKACiiigAooooAKKKKACiiigAooooAKKKKACiiigAooooAKKKKACiiigAooooAKKKKACiiigAooooAKKKKACiiigAooooAKKKKACiiigAooooAKKKKACiiigAooooAKKKKACiiigAooooAKKKKACiiigAooooAKKKKACiiigAooooAKKKKACiiigAooooAKKKKACiiigAooooAKKKKACiiigAooooAKKKKACiiigAooooAKKKKACiiigAooooAKKKKACiiigAooooAKKKKACiiigAooooAKKKKACiiigAooooAKKKKACiiigAooooAKKKKACiiigAooooAKKKKACiiigAooooAKKKKACiiigAooooAKKKKACiiigAooooAKKKKACiisb4gfEXw/8ACbwheeIfFWvaN4Z0DTgpu9T1W9js7O1DOqKZJZGVFy7KoyRksB1IqoxlJqMVdsDZor86P2t/+DoL9l/9m37dp/hvWtY+LXiG1+1QC38MWv8AoEdxFxGJL2YpE0Mj5AmtvtA2qzBSCgf80v2of+DuT4+fFS/mt/hp4d8JfCrSPPjlgl8ka5qoURlXjkmuFFuys5L/AC2ysuEXccMX/UOHfBni3OEp0cK6cH9qp7i+5+815qLRwVszw9PRyu/LX/gH9IlcR8U/2lPh/wDBKaaDxZ4y8N6DfQ2TaiLG6v41vpoBv+eK3z5suTG6qI0YsylVBPFfyHfHn/gpr8d/2nTcr48+J/i/xNZ3V82omwu9Rk/s+Gc7/nitVIgiwJHVRGihVYqoA4rzW1+OPiqCaPbrF0iqRwGr9XwH0XcwcObG42EZdoxbX/gTt/6SfO5hxBjOVrA0437zb/KK/wDbj+tDVP8Agrr8JY/GMek6SvirxFG9sLh7+z01YLeE7mBjYXUkMu4ABiRGVw4+YnIHzz8W/wDg4Kvvhn8H9R8VWfwbtfET6YZPNs7Pxiy8Jt3YdrH0LN93op+lfBf7E/iqbxP8MtDvppnkuptFuod7HcxfacVzX7KevSeK9X8ceE74CaRi93BG43AyJnIwezLuB9a/zy4w46zThPj7E5XmPLWweBq0/aRUXGVSlJ+/73M5JpO94tarsz1fDnD51xf4cZ1xJRcY47AVHywgvdlGnJOcbScn78bxTvdXutTO+Jn/AAd3/tL+MfDt5p+h+HfhX4RuLjb5eo2ek3VzeWuHDHaLi4khO4Aqd8TcMcYbDDyK9/4OaP20bpiY/ixZ22e0fhLRzj/vq1NeAftz/s4L8FPifNdaZCy6Fq3+k24A4h3dU+gORXhmyv8AYXhPgXgPH5bRzLLMBSnSqxUouUVPRq+8+Y+SyfihZrgqePw03yzV+1u6duqejPpfxP8A8Fmv2rPF2t3uoXXx++KEM9/O9xKllrctjArOxYiOKEpHGgJ4RFVVGAAAAKwp/wDgqv8AtOXB+b9ob42D/d8a6iv8pq8E2UbDX29HhDIKKtRwVGPpSgvyiej9am95P72e6f8AD0f9pndn/hoj45/+F3qn/wAfqeD/AIKr/tOW5+X9ob42H/e8a6i385q8D2GlCEmuiXDWTyVpYWk/+4cP8he3n/M/vPpjwx/wWa/as8I63Zaha/H74oTT2E6XESXuty30DMjBgJIpi8ciEjlHVlYZBBBIr1uy/wCDmj9tG1YGT4sWdzjtJ4S0cZ/75tRXw1pvhTUdXP8Ao1jdTf7kZNWNQ8CatpUe64027hX1ZDXi4ngbhKs+WtgMO3/17pp/lcy/tXllye117c36XP06+Gn/AAd4ftL+DvDlnYa54d+Ffi6e33ebqN5pV1a3l1l2Ybxb3EcI2ghRsiXhRnLZY/pH8Bf+Dhe++Nvwbh8XzfBm18Ox3JHlW954zLb1Ziqncthnkqxxt6DPev5zv2afg5J8Zfi/pGjNGwtZJ1a4OOkYOT+ma/Sf9oe7j+G/wg8HaJpq/Z0vroTrGv8AzzjxHEPyU/n9c/wf9MrF8P8ABuCwOX8NYaNLH4qp8Su1GlBOU/cb5bvRLTS+h9J4cxxXE/HmC4Uo1GoOM6tZ2Tapxi1GN2nZym07rW0X3P2Z0/8A4K5/CceMH0nWI/FXhyMWpuY7+901Z7eY5UCNRayTS7iGLAmMLhDlgcA+wfBb9qn4d/tDwx/8Ib4u0fWrqSCS5Ngspg1CKKOXymkktZAs8aByo3OgB3oQSGUn8M/2ntduNG+FtzfeY0V7b+HYXdw2GBbHf6Gvyi1P4/8AiyfUJ2bWbplZ2AUnjGa+V+jT4f5n4k8J/wBu47ERpz55R92Ds+V2v8Wt/Kx8KuMM4/1mzPKacKUqOEqumn70ZO3d+8v/ACVH9tNFfxy/Bz/gq5+0N8ALLR7Pwf8AFrxxoemaDOLix0yHVZW02JvNMpBtHLQOjSFmZGQq+5twO45+1v2Xv+DuT4+fCu/ht/iX4d8JfFXSPPklnl8kaHqpUxhUjjmt1Nuqq4D/ADWzM2XXcMqU/WM4+jZxRhU54KVOuuiUuWT+Uko/+TH3GHzylNfvYuL+9ffv+B/SJRX50fskf8HQX7L/AO0l9h0/xJrWsfCXxDdfZYDb+J7X/QJLiXiQR3sJeJYY3wDNc/ZxtZWKgBwn398P/iL4f+LPhCz8Q+Fde0bxNoGohjaanpV7HeWd0FdkYxyxsyNh1ZTgnBUjqDX4vnXDWa5PU9lmmHnSfTmi0n6PZ/Js9elXp1Fem0zZooorwzUKKKKACiiigAooooAKKKKACiiigAooooAKKKKACiiigAooooAKKKKACiiigAooooAKKKbLJ5cZbbu9qAHUVCb0bfu4OARk4yPX1A+ooN4u5cKx3DcDtPI/D6jr/jgAmoquNQjJxuUH5jycZ2naffg49uRSxXhlmVfL2huuWGVI7HGefx9fTkAnooooAKKKKACiiigAooooAKKKKACiiigAooooAKKKKACiiigAooooAKKKKACiiigAooooAKKKKACiiigAooooAKKKKACiiigAooooAKKKKACiiigAooooAKKKKACiiigAooooAKKKKACiiigAooooAKKKKACiiigAooooAKKKKACiiigAooooAKKKKACiiigAooooAKKKKACiiigAooooAKKKKACiiigAooooAKKKKACiivib/gob/wAF9P2f/wDgnwmo6PfeIB48+IFmJIh4X8NyJczW86+cuy7uM+Ta7ZYtkisWnTereSwr0spybHZpiFhMupSq1Hsopt+rtsu7ei6mdSpCnHmm7I+2a+T/ANtf/gtp+zh+wjp95H4q+IOm694ks55LV/DPhiWLVdYSaKRI5YpY0cJbOhcki5eLPlyBdzKVr8B/+CiH/BxV8fv28P7S0PT9W/4Vf8PbzzIf7B8OTPHNeW7ecmy8vOJZ90MvlyIvlwPsU+SDXwQ7tI5ZiWZjkknkmv6c4N+jPiK0Y4jiSt7Nf8+6dnL0lPWK9IqXqjw8TniWlFX83/kfsJ+2n/wd5fE/4g6nqel/A3wno/w/0GQeVa6zrcC6nrh2zFhMsZY2kO+IIrROlxtJfEhJVl/K742/tHfED9pXxJFrHxD8beLPHGqW8It4brXdVnv5IIgzMI0MrNsQM7kKuAC7HHJri6K/pnhjgDIOH4JZXhowl/M1zTfrJ3fyTS8jw6+MrVv4kv8AIKKKK+xOcKAcGiigD9Tf+CZHiuO/+Ffhlmbd9nvTbyg9NrqFx+hrG8Dai3wd/bjmhkXbC96yMp4BBOK8/wD+CV/jJpPAmr2O7LWMsd2vqNjf/Xr0D9uHTz4S/ab07W4fljv/ACroMO5YA/41/hz9LLhtYLxYx1CS93GUL+rjofsP0HcVB53xPwjW+Gp76XdTjqejftS/s82XxXstU8O3MaC4s52ms2YDJVucA/56V8z+Dv8AgmaZdVYX0XlxK+SzjAFfbfxJuP7S0jwz4gj/AOYhZRq7epAxz+IrMjv3uIetfoH0cfpEZrg+DoZI5NzoXgvloj/OjxDxmd8D8SZhw9gqnLTjVk4rsm76HhFp/wAE/vh/pcGy8jaY7cHaoHP1rA8R/wDBNnwDryN9jvJrOQ/dGzgfU5r6E1ayaVSar+F9Dj1e7Nu+fMB9a4+LPpXcecP472vN+77M+PyXibiPFYhQw+Nnzy210+61j5Xn/wCCUumnVVkXXYRa9wSeP0rvPht/wT28A+DrhWmtbjxBeL/BjEYPv/kV9deGP2dY9RRZpndYhySznbXonhr4Z6J4b092h8tvJHzMBwK/N+Mf2g3GOLwn1TL7U5bOS1Z/QmReGfiHnlHnzLGOlQtq1o2vVJfmfM9h8I7Pwbp6mz8L6TZ26jIHlBmx+INZfir4P+H/AIpeHLiGXTbaG4KEo6IBzjpivVvjF4yjvr5tOsQCx4Yj+EVz2lWsehWi+YwDsMKvc16n0ffELxC4gzj+0cdiqk6W7u3b5H8+8fYfCZLmn1fKcROpOG8nJu7X9aniX7OP7Mtr8J9Z1DVlgVbmbNvbHHO5uDj8D+taf7Xt5/an7QHhXw3A25NKhgg2j+FuC36k17d4c09dW8faTZ7VWGOTzpB2AXkn86+ffDczfF39vLzmbdGt/uJ/ugNXzf0iuOq/EHHdWpXleOBoNekpf8BH+in7PbAV8ZiM643zF3dOlyRb6JK7/Q7X/goLrX9gfC7xT83/AB72lvYMfUhP/rV+R8rb5Wb+8Sa/Sz/gqJ4xaL4S6lhudU1OQ9eoT5R/OvzRr/S76EOQvLfCvA86s6ic3/282/1PwzgTFPHYnM82f/L/ABNWS9FKyCiiiv68P0MK7T4JftHfED9mrxJLrHw88beLPA+qXEJt5rrQtVnsJJ4iysY3MTLvQsiEq2QSinHAri6KwxOFo4im6OIgpxe6kk0/VPRjjJp3R+wv7Fn/AAd5fE/4fanpml/HLwno/wAQNBjHlXWs6JAuma4N0wYzNGGFpNsiLqsSJb7iEzICGZv1r/Yo/wCC2n7OH7d2n2cfhX4g6boPiS8njtU8M+J5YtK1h5pZHjiiijdyly7lAQLZ5ceZGG2swWv5D6VHaNwykqynIIPINfhvFX0eeGs0vVwCeFqP+TWHzg9F6RcT1cPnFenpP3l57/ef3P0V/Kv/AME7/wDg4q+P37B/9m6HqGrf8LQ+Htn5cP8AYPiOZ5JrO3XyU2Wd5zLBthi8uNG8yBN7HySa/c//AIJ5f8F9P2f/APgoOmnaPY+IB4D+IF4I4j4X8SSJbTXE7eSuy0uM+TdbpZdkaqVnfYzeSor+VONfB3iPhvmrVqXtaC/5eU7tJf3l8UfO6t2bPewuZUa2idn2Z9s0UUV+VnoBRRRQAUUUUAFFFFABRRRQAUUUUAFFFFABRRRQAUUUUAFFFFABRRRQAU2ZdyfQg/kc06mzRCaJlOPm9RQB8c/8FgfDereHPgfo/wAQ9F8cfELwvq3hnxf4UsYrTRPEUum6fdRXniXTLS4+0QxELcBoLiVCs25Dv5Ujg+d/t0/Ef4ofGT/golH8EvBug+Lda8PeGfh1B42vbXRPHlz4GW/nuNRu7RFuNTtY5Ltgq237q3QCOV5p2lcLEmfpL9t79hKP9uTwtpug6l8UPiV4H0Owure/ksvC7aYiX1zbXlve2ssrXllcvmG4tonCoyqSuCCCQcvxt/wTjsvGureGPEH/AAtf4taT8QfDmiz+G5/Gmm3emQazr2mTTCd7W8U2RtCokG5Xht4pIyMoynJIB4B4Q+LkP7eXxA/Z5+H/AId8WfFDwb8N9X+HuueMdVit/Etxp/iS/utLvNO0lLC61K3kFyBDNdXLStHL++eJSW2gq3uf/BL/AOJOueNvgb4i0nxNrepeKtV+GfjnxD4Ht9b1Mg6hqllY6jLDayXLYXM/kiJJHIBkeEuQSSau6/8A8ExvAv8Awrz4a6H4R1vxp8N9Q+EdtcWXhjX/AA5fQtqtpb3KKt3FI15DcQ3C3DIkkhmidjIiupVgDXpf7Of7NXh39lf4Q6b4M8Lfbm0vTnuLqS4vrg3N9qV3cSyT3N5cTHl55p5ZZHYYGXwoVQFoA87+Of8AwU9+F/7OWuXlj4ss/itY/YtRt9Ja9h+GHiS502W5nlSGGOK9jsTbSl5ZY0Xy5W3M4UZJxVeX/gqV8NYSu7w38fsEZyfgf4zGPbnSxz+nvUf/AAVLUJ+zPoH+18U/h4p4+9/xWWi9fWvouC18iTO7lgN2BjJAxn15z3J6UAfO3/D1L4Zf9C78fP8AwyPjL/5WUf8AD1L4Zf8AQu/Hz/wyPjL/AOVlfSGKMUAfN/8Aw9S+GX/Qu/Hz/wAMj4y/+VlH/D1L4Zf9C78fP/DI+Mv/AJWV9IYoxQB83/8AD1L4Zf8AQu/Hz/wyPjL/AOVlNb/gqn8Mwpx4c+PhPYf8KR8Zc/8AlMr6SxTWGF/WgD5rf/gq78Lo7xbdtB+O3nSAvGn/AApTxjvkQYBYD+y84DED8RU3/D1L4Zf9C78fP/DI+Mv/AJWV7FqsSr8cfD//AGBNSHX0msf8TXXYoA+b/wDh6l8Mv+hd+Pn/AIZHxl/8rKP+HqXwy/6F34+f+GR8Zf8Aysr6QxRigD5v/wCHqXwy/wChd+Pn/hkfGX/yso/4epfDL/oXfj5/4ZHxl/8AKyvpDFGKAPm//h6l8Mv+hd+Pn/hkfGX/AMrKQ/8ABVL4Zgf8i58fCew/4Uj4y5/8plfSOKay5U4OD2PpQB82Qf8ABVz4W3DSKuhfHaSSFgkyx/BXxi/lOVDbT/xLODgjrUv/AA9S+GX/AELvx8/8Mj4y/wDlZXsXw2UDxZ44wMf8Txf/AEgs/wCpJ/GuuxQB83/8PUvhl/0Lvx8/8Mj4y/8AlZR/w9S+GX/Qu/Hz/wAMj4y/+VlfSGKMUAfN/wDw9S+GX/Qu/Hz/AMMj4y/+VlH/AA9S+GX/AELvx8/8Mj4y/wDlZX0hijFAHzf/AMPUvhl/0Lvx8/8ADI+Mv/lZR/w9R+GRI/4p749LyAS3wS8ZAAdyf+JXX0hio7iMSQOp+6ykH6UAfNtn/wAFXfhdf28csOgfHiWOVBIrp8E/GLKynGCCNMwRyOlTf8PUvhl/0Lvx8/8ADI+Mv/lZXsnwLT/iy3hA5Y/8SWzOSfWBCa6zFAHzf/w9S+GX/Qu/Hz/wyPjL/wCVlH/D1L4Zf9C78fP/AAyPjL/5WV9IYoxQB83/APD1L4Zf9C78fP8AwyPjL/5WUf8AD1L4Zf8AQu/Hz/wyPjL/AOVlfSGKMUAfN/8Aw9R+GX/Qu/Hz/wAMj4y/+VlR3f8AwVd+FtioabQvjvCrMqBpPgn4xVdzEKoz/ZnUsQB7kV9KEYFcn8ZMN4Ss8jIbWtKyM9f+JhbUAeNn/gqh8MwW/wCKd+Pg2kr/AMkR8Zcn2/4llH/D1L4Zf9C78fP/AAyPjL/5WV9GIuJOTu4yPY/5P6VJigD5v/4epfDL/oXfj5/4ZHxl/wDKyj/h6l8Mv+hd+Pn/AIZHxl/8rK+kMUYoA+b/APh6l8Mv+hd+Pn/hkfGX/wArKP8Ah6l8Mv8AoXfj5/4ZHxl/8rK+kMUYoA+bW/4Kp/DMKceHPj4T2H/CkfGXP/lMqN/+CrvwujvFt20H47edIC8af8KU8Y75EGAWA/svOAxA/EV9KMML+tcnqsSr8cfD/wD2BNSHX0msf8TQB47/AMPUvhl/0Lvx8/8ADI+Mv/lZR/w9S+GX/Qu/Hz/wyPjL/wCVlfSGKMUAfN//AA9S+GX/AELvx8/8Mj4y/wDlZR/w9S+GX/Qu/Hz/AMMj4y/+VlfSGKMUAfN//D1L4Zf9C78fP/DI+Mv/AJWUf8PUvhl/0Lvx8/8ADI+Mv/lZX0hj/OaTt/8AXoA+bz/wVS+GX/Qu/Hz/AMMj4y/+VlRw/wDBVz4XTvIiaD8dpJIWCSrH8FPGLeUxUNtb/iWcHBHX1r6RkfCn1+tfOvx2/aysv2RtSutQvdL/ALSg8VfECw0A7bryTapNp9s0lx91t/lhSdvy53feFaUaM6s1Tpq7eyMMRiadCm6tV2S36/kN/wCHqXwy/wChd+Pn/hkfGX/yso/4epfDL/oXfj5/4ZHxl/8AKyvouKUvtyFy2eA2cVLiszdO6uj5v/4epfDL/oXfj5/4ZHxl/wDKyj/h6l8Mv+hd+Pn/AIZHxl/8rK+kMUYoA+b/APh6l8Mv+hd+Pn/hkfGX/wArKP8Ah6l8Mv8AoXfj5/4ZHxl/8rK+kMUYoA+b/wDh6j8MiR/xT3x6XkAlvgl4yAA7k/8AErqGz/4Ku/C6/t45YdA+PEscqCRXT4J+MWVlOMEEaZgjkdK+kriMSQOp+6ykH6Vy/wAC0/4st4QOWP8AxJbM5J9YEJoA8b/4epfDL/oXfj5/4ZHxl/8AKyj/AIepfDL/AKF34+f+GR8Zf/KyvpDFGKAPm/8A4epfDL/oXfj5/wCGR8Zf/Kyj/h6l8Mv+hd+Pn/hkfGX/AMrK+kMUYoA+b/8Ah6l8Mv8AoXfj5/4ZHxl/8rKP+HqPwyP/ADLvx8/8Mj4y/wDlZX0higjFAHzYP+Cr/wAJINV0m1vrT4vaKNa1Oz0e2utZ+E3inS7IXV3cR2tvHJc3Onxwx75po0BdwCzqOpAr6PinZ3w0Zj9mI3dT6cds9a+dP+CosjW/7OXhhkZlb/havw9UEMRjPjLRvQg19FRRBWXbhVwTgDuef8fzoAlooooAKKKKACiiigAooooAKKKKACiiigAooooAKKKKACiiigAooooAKKKp+IPEFh4T0G+1XVb6z0zS9Mt5Lu8vLuZYbe0hjUs8kjsQqIqgsWYgAAk8UK70QFyvnr9vz/gqF8Hf+CbXgNtY+JHiSNdUlETWXhvTHiuNd1JJHZRJFbNIh8oeXJmVykYMZXdvKq35d/8ABTv/AIOyY4LbVPBv7NOm3MV9DcCJvHerQRNGBHK4f7HZSK4dZFWIrLPghXcGENtcfh9488e638UfGOpeIfEmrahrmu6xcPd31/fTtPcXczsWeR3YkszMSST1Jr+jvDz6PeZZry43Pm8PQ0aj/wAvJr0+wvOV5f3ep4uMziFP3aOr/D/gn3p/wU2/4OMfjR+3tfX2h+F7zUPhN8M7q3FvJoOk3+661EGN45ftd4qRySJIJXBhXbFtCBkdlLt+ezu0jlmJZmOSSeSaSiv7K4d4XyrIsKsHlVGNOHW2785Sesn5tv7j5utiKlWXNUdwooor6AxCiiigAooooAKKKKAPqT/gl54uXTfitcaXI22PUYHjx6kjj9cV9bft4aEdc+Fng/X1XdLbIbSRv9qNv8CK/PX9j/xc3g3466LdK23bOv8AMV+o3xf8PL40/Zt8RWar5kmk3QuoiOyOOT+eK/yo/aBZD9Tz3JuJIrTmdOT8pKy/E9T6P+ff6veOGFlJ2hjaTg/OUf8AgGh4Cv8A/hNf2TdFulbzJNNco3+yOCP61T0/UFWFTntWZ+wFrC+KPhZrnh2ZsvGvmopPdev6ZrVuPAtzDqTwqzLGGwPav8+eFOLHwzmmMoNacza9Hr+p+b/Tc8N8Vh/EGrisNC8a2vzI77Wk27V+Zj0A6mur+DXgW41HWftUsZRWIwD6Vb8F/DO1tisk2Gb1aus1T4hab4BstsZUzdFVeSTXh8deImYcRSWGpx9Ej8l8P/DfC5TUjnWfVVCENbXO78Q6NLLY28Mc0dtaxqC7FsZrzz4o/Faz8N6J/ZWmS+dM3BIPLGvNPin8fmsbBrvXNWj0axwSsZf97IPYf5+teN237afgJNWa3hkkuJB96R5ACfr15r9I8L/oi8a8RUYZhiKDp0N/eVm/O2/3n6Nx39IbMc2y2WUcJ4WfskrOol020PY/DlgXmaef5pZDuYnuamk0WSXVvtNw48uM5Az1rL8D/FLQ/G9srWNwqswyFLCtjWZmgtWPbFf3PleVy4FyWWE9ly8kd7dkfw/ivrKxMlXTjN733LnhfUF0uw8U69J93TdPdI29HcY/qK8K/YKsP7U+LPibxLMu5NPt55tx7EggfqRXpXxx1v8A4QT9lC5kztuNeuDg55Kgf/XH5Vz37HfhxvC/7OmuakyMs2tTx2kZ/vKTlv6V/nHmeY1c1/tHMXrPF1lTj6XS/Vn+zHglhY8BfRxx+dVPdnXhOS7vmTt+h81/8FUfFHl6NoOm7/neMzSD/aZif8K+I6+lv+Cmni3+2vjZJZqwMdiohAH+yAK+aa/6GvB3IY5Nwbl+XxVuSnFfgj+T/C/BvD8N4bm3mnN+sncKKKK/TD9ACiiigAooooAKVHaNwykqynIIPINJRQB+hX/BMn/g4x+NH7BN9Y6H4ovNQ+LPwztbc28eg6tf7brTgI0ji+yXjJJJGkYiQCFt0W0uFRGYOv8AQj+wH/wVC+Dv/BSXwGusfDfxJG2qRCVr3w3qbxW+u6akbqpkltlkc+UfMjxKheMmQLu3hlX+OStbwH491v4XeMdN8Q+G9W1DQ9d0e4S7sb+xnaC4tJkYMkiOpBVlYAgjoRX4T4geA+TZ9zYvLrYbEPW8V7kn/eitE31lGz6tSPVwebVaPuz96P4n9xVFfht/wTE/4OyY57bS/Bv7S2m3Mt9NcGJfHekwRLGRJKgT7ZZRqgRY1aUtLBklUQCEtuc/t74f8QWHizQbHVdKvrPU9L1O3ju7O8tJlmt7uGRQySRupKujKQwZSQQQRxX8T8WcF5vw3ivqmbUnBu/LJaxkl1jJaP00aurpH0+HxVOvHmpsuUUUV8qdAUUUUAFFFFABRRRQAUUUUAFFFFABRRRQAUUUUAFFFFABRRRQAUUUUAFNk/1bfSnU2T/Vt9KAPnH/AIKnf8mzeHv+yqfDz/1MtFr6O/j/AM+1fOP/AAVO/wCTZvD3/ZVPh5/6mWi19Hfx/wCfagB1FFFABRRRQAUj/cP0paR/uH6UAcpq3/JcPD//AGBdS/8AR1hXWVyerf8AJcPD/wD2BdS/9HWFdZQAUUUUAFFFFABRRRQByPw2/wCRr8cf9hxf/SCzrrq5H4bf8jX44/7Di/8ApBZ111ABRRRQAUUUUAFNl/1bfSnU2X/Vt9KAOX+Bf/JFfCH/AGBLL/0QldVXK/Av/kivhD/sCWX/AKISuqoAKKKKACiiigAPSuS+MX/IpWf/AGGdL/8AThb11p6VyXxi/wCRSs/+wzpf/pwt6AOqH+sX6H+lPpg/1i/Q/wBKfQAUUUUAFFFFACP9w/SuU1b/AJLh4f8A+wLqX/o6wrq3+4fpXKat/wAlw8P/APYF1L/0dYUAdZRRTd/tQA6imySeXHu4H1qP7VhN20/h3ok0tWG7sTN0prNtjPt6mue+IfxU0H4U+GLjWvEmrafoek2v+tu72cQxIT91ctj5m6ADJJ4wa+YviT/wUwm+LGkalovwF8H+KvH2vTBbS011dMaHQrKdyBvlllKNhMk8JgkDnFdWGwNau/cjp3eiXzZ5+MzTD4fSclzfy9X8tz6ze64+aMxs2R8zDg/n3HP0Havyv/4K/wDxZsPil4lsfD/g/WtJ1q40vXtR129Gn38Vz9h+yaZZfPIEYsP9XcjGOTDKvVTj6I0X4C/tZfEy4uv7e+L3g/wlYa5mC6i0bSReyadGiBQ1t5gXmbLOWZgYwVI3E4Xr/wBmn/gnR8K/hdruqBPDtnq+o6Ap0Nry/VpzfRTWVu05ljZjG29pJOCuAJGA4xj2srlhsrxP1qpNVZRTsltdprV2S3Z4OZQxua4d4ehB0Ytq8n2vd6b9DO/4Jv8A7cup/tnfFf4t+atqvhvwzcadDoSpAY5PLkW5WR2J+Zg5gVwSq43YGcZP1vXyT+xJ4Q0vwD+37+0xouh6bY6PpOn/APCMi1srKBbe3t1bT5GKpGmEX5iTwB1r62rizyNFYtvDx5YuMGl2vCLf4nocNyqvApV3eSlNN97SaT+4KKKK8g94KKKKAGy/6tvpXL/Av/kivhD/ALAll/6ISuol/wBW30rl/gX/AMkV8If9gSy/9EJQB1VFFFABRRRQAUHpRQelAHzf/wAFS/8Ak2/wv/2Vj4d/+plo1fRsfRfoK+cv+Cpf/Jt/hf8A7Kx8O/8A1MtGr6Nj6L9BQA+iiigAooooAKKKKACiiigAooooAKKKKACiiigAooooAKKKKACiivz/AP8Agsl/wXr8G/8ABLuKLwnoem2njz4sahbtMuj/AGvyrXQY2jJhnvWUFiWYowt12u8eWLxho2f1sjyPHZxjYZfltN1Ks9kvxbb0SXVtpLqZ1a0Kceebsj6K/wCCgH/BRr4X/wDBNX4PR+MPiVqlzHHfT/ZtM0nTkSfVNYkBXeLeJnQMI1YM7syooKgtudFb+Zf/AIKl/wDBaT4r/wDBT/xhc2utX8nh34a2d+13ovhGzZRb2g2BFeeRVV7mbaCd8mQpkk8tY1crXzt+0d+0h40/az+MeuePfH2uXniDxN4guDcXV1O3A6BURR8scaKFVUUBVVVAAAArhq/u3ww8Ecu4cjHH5jati97te7TfaCe7X8717KOt/lMdmk63uQ0j+fr/AJBRRRX7qeUFFFFABRRRQAUUUUAFFFFABRRRQBufDbUG0vxvp06nHlzKc/jX7GfBK6Txt4Me0bLJr+g7QB/E8a8fmRX4v6XcfZNRhk/uODX6sfsO/EldU+GPhvUBJubSbgQyc9Eb/Jr+Hfp6cJ1M28PamKoxvOg1Nf8Abrv+R+Z8W5pPIuJMm4khoqFaKk+0ZOzKP7Fetv4B/aFn0uT5Y5pmiYHuCSDXv3xQ1yLwx4kmiVd0m44UDk14j8U/C/8Awqn9quG/hG20up1mRh0Kscj+detfG69XTvFuoaoymaJbIXcaYzkEE/4V/jzlHDS4q4pwGEoy5frcUr+a/U/qr6dWZSjkeX8S5ek3WUVfzaM+fxnql7btt2WcA+9I7Yx/SvCfj/8AtmeHPg1YzLa3S6xrTAgOW3LGf618t/tK/tx+KPFuu3WnW1w9rbxMV2Idqj8BXzvq2tXWt3LTXU0k0jHJLHNf67+DP0J+G+HJ08zzRe2qqzV9Uvlsfw/kfhnmebOGL4mruUNGqaenz/4B2fxl/aF8QfGTXprrUL2Zo3PypuOAK4eG+mt5hIkjqwOc5qKiv7nwuDoYakqFCKjFaJJaH7tg8Bh8JRWHw8FGCVkktD2L4JftJ6n4Q1CGFriTbkAc1+h3wV8fzfEf4VLcSZaVWEan1J7f59a/Kz4d+H5vEXii1hiUsWcCv1p/ZW+G39heFPDekzKqBUF9dHG3YgGQD+X61/Hv0w8xyrIuCsVjppKpKLS829EfhPipwzhMZj8FgcFBfWK9SMUlvq9Tnf299UMVr4X8Kw/eht4zIoP8Tc/yIr0SPTY/ht8GvC+ksuz7NavqlyvTnbx+gFeV3tvJ+0N+138oLWsV1gZ5Cop/oBXR/ts/FGHwt4D8TahG6ohQabaDPRFGDj8sfjX+TvgzwjVz3i/JOHoxvyy9tU+++vzP7k+l5mEeHPDDJ/D3Bu1TEOnFpb2Vmz8yP2mvFreMfi/q10W3BpmIP415/VrW79tU1a4uGO5pHLZqrX/RJgcOsPh4UI7RSX3I/EMtwscLhaeHjtGKX3IKKKK6jtCiiigAooooAKKKKACiiigAr7C/4Jaf8FpPiv8A8EwPGFta6LfyeIvhreX63eteEbxlNvdjYUZ4JGVntptpB3x4DGOPzFkVAtfHtFePnuQZfnODlgMzpKpTl0a2fdPdNdGrNdGaUq06cueDsz+yr/gn/wD8FGvhf/wUq+D0njD4a6pcyR2M/wBm1PSdRRINU0eQltguIldwokVSyOrMjAMA25HVfdq/iY/Zx/aQ8afsmfGPQ/HvgHXLzw/4m8P3AuLW6gbg9QyOp+WSN1LKyMCrKzAggkV/TP8A8Ebf+C9fg3/gqJFL4T1zTbTwH8WNPt1mbR/tfm2uvRrGDNPZMwDAqwdjbtudI8MHkCyMn8J+KfgpjuGnLMMvvWwff7VO70U0t12mlbulpf6rAZpGv7k9Jfn/AF2P0Aooor8LPWCiiigAooooAKKKKACiiigAooooAKKKKACiiigAoooPSgAorh/ih+0v8O/gjq+j6f4z8eeDfCV94hlWDS7fWdbttPl1KRmCKkKzOpkYsQoCAkkitj4gfFTw78I/CeoeIPF2t6P4U0DSoTcXmp6vfRWdnaxhtpeSWRgiLkryxA+dR1OKAOgpsn+rb6Vw/wARP2mfh/8ACHwHa+KvFvjbwj4X8L3zxR22sarrNvZ2Ny0q7ohHNI6xvvUqybWO4HjnAPUeH/FOn+L9FtdQ0u8tNS0/UIBcWt1aTrPDcRMAVdHUlWVgQQQSCDQB4D/wVO/5Nm8Pf9lU+Hn/AKmWi19Hfx/59q+cP+Cpx/4xm8P/APZVPh5/6mWi19H7vn/P+lADqKTd9Pzo3fT86AFopN30/Ojd9PzoAWkf7h+lG76fnSO3yN9KAOV1b/kuHh//ALAupf8Ao6wrrK5HV2/4vj4f/wCwLqX/AKOsK63d9PzoAWik3fT86N30/OgBaKTd9Pzo3fT86AFopN30/OkL4/OgDk/ht/yNfjj/ALDi/wDpBZ111cj8OGx4s8cf9htD+dhaf4V1u76fnQAtFJu+n50bvp+dAC0Um76fnRu+n50ALTZf9W30pd30/Oklb9230oA5f4F/8kV8If8AYEsv/RCV1Vcn8C2/4st4Q/7All/6ISur3fT86AFopN30/Ojd9PzoAWik3fT86N30/OgBT0rkvjF/yKVn/wBhnS//AE4W9dZnI7Vyfxj48JWf/YZ0v/04W9AHVD/WL9D/AEp9Rg/vF+h/pT930/OgBaKaW47fnQGPt+dADqKZJIUTIAP40Ryl16D86V9bBoOf7h+lcpq3/JcPD/8A2BdS/wDR1hXUu56cc+9clq83/F7NBbado0XUeSD1M1j7e1FwOvYkLxj8TUTzMFztbpmsXxn8TdB+HmlNfa9rGl6RaLk+beXKwqccnBYjpXzHY/twfFP9pC2ef4M/CWK+8NXUk0Vp4p8TakLSxvFRim9LdR5roSGwQR06cMB24fLa2I1Vku7aivvbR5+KzTD0NG+Z9knJ/crn034v+IujeB9Gmvtc1Kw0XT4RmS6v7iOCJOe7MQB68/zzj5m8Wft8a98ePH0ng79nXT9B8bXlnbGfVvEd9PNFoukncAqhwg+0MRnAiY4OMjGam+GH/BOe1+JXi+88dfHqbSfiN401KUGG0iM39h6LCq4EEEDNtYdcmRWJ69SWb6c8MeCNJ8E6TFp+jadp+k6fCP3dvZwLDHH24VQAOPQV0RlhcN8C55Lv8P8Am/yOH2eNxatUtTg+3x/8D03PmXwJ/wAE89R+Ifi3S/FXxu8caj8SNSsbo30GhJiHwzZuEZE8u1IIZkDE7sqWPUEZB+nNL8OWfh+yjtbKztrW1iXEcUMQjWP/AHQOB17CtBYMHqKcFwfvLXHisVWxCtKTS7Lb5I78Ll9DD/CuZ93q/vIY7cm5Em78xXM/D3H/AAlnjhsY/wCJ0o/Kws/8a6wja2eK5P4d8+LPG6/3tbQ/nYWn+Fc1NWv8tvU7Wunc8J/ZVfH/AAUq/agX1j8Lt/5TpBX1NXyv+y/+7/4KZ/tND+9b+GG/8kJBX1Pu+n516ubfxo/4Kf8A6RE8jI/93kv78/8A0ti0Um76fnRu+n515Z7ItFJu+n50bvp+dACS/wCrb6Vy/wAC/wDkivhD/sCWX/ohK6iVv3bfSuV+Bbf8WW8If9gSy/8ARCUAdZRSbvp+dG76fnQAtFJu+n50bvp+dAC0HpSbvp+dIzfL2/OgD5x/4Kl/8m3+F/8AsrHw7/8AUy0avo2Pov0FfOP/AAVLP/GOHhj/ALKx8O//AFMtGr6Oj6L9BQA+iiigAooooAKKKKACiiigAooooAKKKKACiiigAooooAKKK/IX/g4E/wCDgSH9mG01f4J/BPV45viRMrWniLxFaSbl8LKeGtoGHW9PRnH+o6D97/qfoOGOGMwz/MIZblsOacvuiuspPpFdX8ldtIxr4iFGHPPYP+DgT/g4Eh/ZhtNX+CfwT1eOb4kTK1p4i8RWkm5fCynhraBh1vT0Zx/qOg/e/wCp/ns8Z+NNY+I3ivUde8QapqOua5q9w93fahf3D3F1eTOxZ5JJHJZ2ZiSSSSSaoXl5NqN3JcXEkk08zF5JHbczseSSe5NR1/ot4d+HOXcJ4BYfDJSrS+Oo170n2XaK6R+bu7s+NxmMniJ80tuiCiiiv0I4wooooAKKKKACiiigAooooAKKKKACiiigAzX2V/wTK+MKrql14XupMLfJsjBPRx93/D8a+Na6v4L+O5vh58QtP1GF2TypVJwfevkuOeGqGf5HiMrxCuqkWvvR8pxrkEc4yetgn8TV4+UlqvxP1z+PGgnx78JdL1yNd2oaG/2W4I+9gfdNa73sfjz4S6LrB/eNaRnTb4A87CMA/wBKh+A3i6z+I2gxws6NYeLrIdT8qTgf41F8C7dtA8U634M1EFYdQDRxhuNrj7p/p+Nf85fEGBzDgbiargleNbL6/PDzhe/3WP2bhKsvFfwNrZBiXfGYJOOu6lT2++x+X/7bXwWn+FfxYvvlb7LcSF43I+8p5BrxWv02/bs+ArfED4dXUnk51TQSY5ML8zp2Nfmjq2myaRqEtvKpV42IIIr/AKBfBPxEwvGXCuFzbDyu5QV/J21+4/APDfiKeY5YsPidK9F8k097x0K9A5NFbXgTwvN4r8Q29rGjNvYDgV+sVakacHOeyP0CtWjSg6k9lqfQ/wDwT6+B7eMvGcN9cwn7LanzZGP90V+h+s6+vw6+DWta822O61YGysx0IjHUj/PevLv2T/gl/wAIJ4C03TYYdupazt3kL80cfHX/AD6V0v7UWqf8JV4x0nwfpf7y100LBhejN/EcfWv8V/pr+KK4m4ro8L4ad6OHfPU7abJ/11OX6MHCr448SanEuKV8Jgb8rezl3/ryG/skeGz4U8G694xul/0iZTb2pbqzvxx+H86+Wv8Agp/8UvsVnp/hmGX5o08yfB6u3J/pX2548+y/Dbwhpugjalvodr9tvuesmM4P8q/JD9qj4mS/E74t6netIWQytjn3r9E/Z/cAyzHNMbxvio+63yU7/wAse3qZ+MXFz478W61em+bDZeuSPbne/wBx5rmiiiv9aD0gooooAKKKKACiiigAooooAKKKKACiiigArT8GeNNY+HPivTte8P6pqOh65pFwl3Y6hYXD291ZzIwZJI5EIZGVgCCCCCKzKKipTjUi4TSaejT1TT6NBe2qP6Jv+Dfv/g4Eh/aetNI+Cfxs1eOH4kQqtp4d8RXcm1fFKjhbadj0vR0Vz/r+h/e/679eq/hjs7ybTruO4t5JIZ4WDxyI21kYcgg9iK/oi/4N+/8Ag4Eh/aetNI+Cfxs1eOH4kQqtp4d8RXcm1fFKjhbadj0vR0Vz/r+h/e/67+J/GnwWeWOefZDC+HetSmv+XfeUV/J3X2P8Pw/UZZmfPalV36Pv/wAE/Xqiiiv5iPcCiiigAooooAKKKKACiiigAooooAKKKKACmzBTGdwUhfm5GenNOpssfmxleQG4OKAPjj/gtTpXh20/ZAGqXVnoaeIY/GfgsWd5cJH9qjiXxdo3mYkbD7AD820/dJ6ZzXjP/Ba3V/F/jz4ffEiz1L4U+O/GHwe8J/DfV9W03VtEuNIk06516Swu1W+1Az30M4g0yICSMRxSlppTLgyW8Nfcvxy/Y7+FP7Tdzp8/xG+Gvw/8f3GlKyWUniXw5Z6ubRWILrH9ojcoGKjOO3p1rc8PfAbwX4U+FI8B6b4S8Maf4GWxk00eHrfSoI9LFrIrLJB9mC+X5bq7hkK4bc2cgkUAfCfwv8a2PxA/bB/ZT1L4haDdeF9Lk+C2vL4c03xQbMPFrSXGjRzOm2aWI3Emnq8kQ8xn8iSUsF+cL69/wRoNv/wyJq/9k+T/AMIL/wALC8WjwT5RP2UaF/bl59i+z7ufI8vf5f8A0z29sV9C/En9m7wH8ZvA9r4X8YeDfCfirwvZNFJb6Pq+j299ZQPH/q2SKZGVSg4TaBsBIGOMdLoPhXT/AAjoltp+l2dnp2n6fALe1tbWBYIbeJQAqKiYVVUAAAAAAYoA+Lv+CoHir4zv4L0ayn8BfDWH4fx/FTwGY9Zj8bXsmsOq+LdHMJNh/ZQhXfKERs3Z2qxYbyAjfWY1/wAbEj/in/DKnkEHX5flPHH/AB6147/wVQTd+zP4eJwWHxT+HgUn+EnxlooyMV9Ibf3npznjv9aAOS/t7xr/ANAHwx/4Ppf/AJFo/t7xr/0AfDH/AIPpf/kWuvxRigDkP7e8a/8AQB8Mf+D6X/5Fo/t7xr/0AfDH/g+l/wDkWuvxRigDkP7e8a/9AHwx/wCD6X/5FpDrvjVhj+wfC/zcf8h6X/5FrsMUh4FAHlWpa54uf4v6HIdF8PrN/Y98I4xrUhR1aSyLMW+zZGCoGMHO4dK6f+3vGv8A0AfDH/g+l/8AkWl1RNnxv8PAfw6JqY59PP08112KAOQ/t7xr/wBAHwx/4Ppf/kWj+3vGv/QB8Mf+D6X/AORa6/FGKAOQ/t7xr/0AfDH/AIPpf/kWj+3vGv8A0AfDH/g+l/8AkWuvxRigDkP7e8a/9AHwx/4Ppf8A5FpDrvjUkf8AEh8M9R016X/5FrsMUYoA8p8B6z4uj8UeMPL0Xw68jashmV9akUQt9itgFB+zHdlNrZ4+9jtk9P8A2941/wCgD4Y/8H0v/wAi0nw3jB8W+OD83/Icj6nPI06yXP5AV2GKAOQ/t7xr/wBAHwx/4Ppf/kWj+3vGv/QB8Mf+D6X/AORa6/FGKAOQ/t7xr/0AfDH/AIPpf/kWj+3vGv8A0AfDH/g+l/8AkWuvxRigDkP7e8a/9AHwx/4Ppf8A5Fplx4i8aRQOzaD4a2qpJ267KTjv/wAutdlimTLuibOcd/egDy74O6z4wg+FHhmO30bw7cW8Ok20ccza3InmhY1UNt+zHGcZ6nrXS/2941/6APhj/wAH0v8A8i1L8Dct8F/CJz/zBLL/ANEJXVYoA5D+3vGv/QB8Mf8Ag+l/+RaP7e8a/wDQB8Mf+D6X/wCRa6/FGKAOQ/t7xr/0AfDH/g+l/wDkWj+3vGv/AEAfDH/g+l/+Ra648CgHNK4HI/2941H/ADAfDH/g+l/+Ra5n4ra54ufwta/aNF8OwxLqunMWj1qSRiwvoCoCm2HVgBnPAOecYPqbnatch8an/wCKMt13MC2r6Yq4/vG/t8A/jimAR6942d/+Rf8ADIIBBzr8vB9OLX2/WnnXPGy/e0HwuD6f29N/8iVwv7V37a3hf9kqz02PWLfV9U1nXjOulaTpVq1xc3rxJubgfdXLKNx4Gc1474G/4LF+EdetPhRDqGjzWOsfEe7ktryyjuzL/wAI8q3DWoeZigyGmCqMhPl3N/CA3pUMnxtan7WlTbi+vp/X6bnj4jPsBQqeyq1UpbW8z6aOu+NCP+QD4Z/8H0v/AMi01tf8aKv/ACAPC/8Asj+3puT2H/HpXG/tI/tqeF/2bG0ey1Kx8ReItd1+SRbDRfD1idQ1C5ES75HEakYVVwSSRnPTqB414g/b/wDi58QLe4s/h38APGFvdKsl0l74oRrG2ktl5Xao5M0gDARhhtODkjilh8pxFeF0rLu2l+bRpiM6wdCTUnzPyTf5XPpN/EPjJwVOg+F+TgZ12dcnkH/l09R2zxzXz9+0L/wU2H7OXx10HwPqXh3Q7qS+MTate22uSvb6AkziOA3DfZfkZ2OdpxhcNnBGfPNG/ZJ+LX7ZV03xb8ReKNW+FXjKHUIbjwdovFxD4dsBlWNxH8u+WdCwYEgDbjBDYH0L8Bv2C/Bvwn+HWtaLrEbeOtQ8WSLc+JNW1yMXM2uTj7rSbs/Kv8Kj7vJySST1U8LgMM74ibn0cVpr3vt/mcMsVmOKX+z01T7Slrp6bmD8Xf8Agoh4f+DvgTUdb1DVvhteyWFtJcxabY+LvtN9f7fupDEtsWZm4HoCeeATXnMvx1/aW+MnjvQ5vD/wn8I+AbifSb1rKTxL4hW+3xGWz3SFLcb0ZfkwpHJfnAUg+/8Ag/8AYS+Dfw/u47nSPhj4GtbiA7o5v7GgeSMjkbWZSy888Guo1C2MPxs8PoHbb/YmpFhk/MRNYAEjp3PasI4nCUW5UafM/wC/qvu/W5tPBY7EWjXq8sVvyaN/PX7kl6ny98KP+CYlnpkX9tfErwv4Z+JvjrUJZLnUNV1bxFey28kjNuAS2e3MMar0AAzwDnNfSGj2HiTw3pVrp+m+F/CWn6fZxrFbWttrUkMNuigBURFtQqqF4xj06AAV34gx6flTjHkdTXHisZVxGlb3l26L0XQ7sHl9HDfwFyvq+r9X1OPGr+Mgyn+wfDOVGOdel/8AkWn/ANveNf8AoA+GP/B9L/8AItdaEIP3qdiuc7rHIf2941/6APhj/wAH0v8A8i0f2941/wCgD4Y/8H0v/wAi11+KMUAcedd8akj/AIkPhnqOmvS//Itcz4D1nxcninxh5WieH5Jm1dDMja1IvlN9itQFB+zHdlNrZ4xuxg459WxXG/DqNf8AhLfG/wB7/kNxk5PcadZLn8QBQtLv0/MXVf10Pmr9njVvE9v/AMFJP2iGg0nQ5L2a08ONcQyarJHHAFsnA2v9nO/Of7q4r6Y/t7xr/wBAHwx/4Ppf/kWvBv2dGYf8FQf2hl3Nt/szw8QueB/ordK+qMV62cfxYf4Kf/pETx8j/gz/AMdT/wBLZyH9veNf+gD4Y/8AB9L/APItH9veNf8AoA+GP/B9L/8AItdfijFeSeych/b3jX/oA+GP/B9L/wDItH9veNf+gD4Y/wDB9L/8i11+KMUAcbceIvGkUDs2g+GtqqSduuyk47/8utc78HdZ8YQfCjwzHb6N4duLeHSbaOOZtbkTzQsaqG2/ZjjOM9T1r1GZd0TZzjv71zHwNy3wX8InP/MEsv8A0QlAEX9veNf+gD4Y/wDB9L/8i0f2941/6APhj/wfS/8AyLXX4oxQByH9veNf+gD4Y/8AB9L/APItH9veNf8AoA+GP/B9L/8AItdfijFAHIf2941/6APhj/wfS/8AyLSNr/jUI3/Eh8L9P+g9L/8AItdhimsMqeT0oA+Tv+ClureKLr4CeE49Q0jQbWzb4r/D0yS2+ryTyL/xWGjYwht0Dc4H3hgc89D9YR9F+gr5y/4Kl8fs3+F+T/yVf4dj/wAvLRa+jY+i/QUAPooooAKKKKACiiigAooooAKKKKACiiigAooooAKKK/Mn/g4d/wCC0WmfsOfBbVPhZ8PvEE8fxs8VWyIJ9OlXzPCVm5VnnlbB2zyxbliRcOok87cm2PzPa4d4fxud5hSyzL481So7Lsl1k+0UtW+iMq1aNKDnPZHnf/BwJ/wcCQ/sw2mr/BP4J6vHN8SJla08ReIrSTcvhZTw1tAw63p6M4/1HQfvf9T/ADu3l5NqN3JcXEkk08zF5JHbczseSSe5NF5eTajdyXFxJJNPMxeSR23M7HkknuTUdf6PeHfh3l/CeX/VcL71WVnUqNayf6RX2Y9N3dtt/GYzGTxE+aW3RBRRRX6AcYUUUUAFFFFABRRRQAUUUUAFFFFABRRRQAUUUUAFKrbGDDqDmkooA/Qj/gmx8aW8T+BJNDeb/TtLYXNqCefl+8B+A/Svrb4q2P8AaDaN40075Xk2rcbf4XXrmvyU/ZH+L03wk+LWn3iyFYWlVXGeCM8iv1z+DWt2fi7TpdHkdW0/XIRcWjE5EbkdPzr/AB7/AGgXhVLLM1ocb4GHuS9yrZdH1f8AXY+e8J+LHwF4kexrO2DzFWfZT/4JN8V9Oh8QaZY+IUjElrq0HkXqdsng/wBfzr8yP26P2Zbj4e+MZr+yhZrO4JkjZRwymv1R8AaKZLDVfCeoL97Jh3Dow/xryP4lfDCz8ZWNz4d1yMb4SRDKw5Ar89+hX49rhPM58NZjU/cTd4NvRX6Hz/jxkFbw+44lxBgI3weL1klsm+v9eZ+Ptvpk91ciFY3Lk4xivsr9gn9l7zrxdc1WHba2uJDuH3j2FeoaJ/wT503TfEn2qaa3FqGDcHOQPbrXv3gLwNDe3Nn4e0eDy7KEgSlR976+5r++PH36S2U5Bw1Vq4OonUlF2Se7aPy7irxMln8KeS8PJupWaTa6XOq8GMvhDwhqfiq6URt5ZgsVx09x/P8AKuP/AGffCn9qeJtT8Y6qP9H0/Mqsw+8/Yc113xvDa3qOn+FtNGbe1whCfxN3NSeP0t/A3hmx8K2rqqQp9o1B19QMkH6dPzr/ABGwtXMuJc09nG88Vj6nzUW/8j+7KeKwXgr4QyhTssXWjbzc5L+vkfN37e/xubwh8L75mm26h4gdnYZ+ZY+w/wA+lfmReXTXt1JKxy0jFjXv37ffxtPxL+J9xb28mbO0byo1B4CrwK+fa/6I/Ajw8w/B3CGEyijGzjFX83bX8T+X/DPJKuCyv61i9a2IbqTb3vLUKKKK/ZD9GCiiigAooooAKKKKACiiigAooooAKKKKACiiigAqSzvJtOu47i3kkhnhYPHIjbWRhyCD2IqOiplFSXLJXTA/om/4N+/+DgSH9p600j4J/GzV44fiRCq2nh3xFdybV8UqOFtp2PS9HRXP+v6H97/rv16r+GOzvJtOu47i3kkhnhYPHIjbWRhyCD2Ir+mb/g3i/wCC0Wmftx/BbS/hZ8QfEE8nxs8K2zoZ9RlXzPFtmhZknibA3TxRbVlRsuwj87c+6Ty/4g8b/B2OTuWfZLH/AGeT9+CX8Nv7S/uN6W+y2ktGkvqMrzL2n7mrv0ff/gn6bUUUV/NB7gUUUUAFFFFABRRRQAUUUUAFFFFABRRRQAUUUUAFNk/1bfSnU2T/AFbfSgD5x/4Knf8AJs3h7/sqnw8/9TLRa+jv4/8APtXzj/wVO/5Nm8Pf9lU+Hn/qZaLX0d/H/n2oAdRRRQAUUUUAFI/3D9KWkf7h+lAHKat/yXDw/wD9gXUv/R1hXWVyerf8lw8P/wDYF1L/ANHWFdZQAUUUUAFFFFABRRRQByPw2/5Gvxx/2HF/9ILOuurkfht/yNfjj/sOL/6QWdddQAUUUUAFFFFABTZf9W30p1Nl/wBW30oA5f4F/wDJFfCH/YEsv/RCV1Vcp8DDj4KeEP8AsCWX/ohK6sHIoAKKjabYCccAetD3Hl+nHXmp5kA9zhajll8mMsFLY/lXAfH/APal8Efsx+GrbVvG2vWuh2N5MLeB3jllaVyCwVUjRmbgHoODj1r5w8U/t1eIP2tvHOi+D/2e7x7drhLm61nxRq2hT/Y9LijChEVJlXe7O2MdsD1yO6hga1T3to93sebis0oUZezXvT7Lf/gH0n8e/wBpvwR+zP4Ui1nxxr9rodhcSGGFpI5JWmkAztVI1ZmP0FfJ/wAaf2r/ABB+3B4t8N+E/g/feJPDfg1L+G48Q+LH0eS3BBuoY4I7UzBSZPOdGJI4APB7eqfCv9hTXD8aNJ8dfFL4lTfFDVvD8FxHotrJosGn2OmNMAHkEcZId9u5Qzc4PtXtXxdthD4OsVXgf2zpXQYz/wATC3rrjPC4RqVNe0n3d+Veia1a89DjdHHYxfvm6UOy+J/PovTU8z+AX7Avhn4H/EFvF15r3i7x14yktWs21jxJqP2yaKJ9nmCIBVVN21c4GcDHevMvBn/BIrwm138XP7e1S4mHxG1T7XYXGmAW93oMAnNwiwyMGAcSFMkKARDGMcEn7FaLdIPof6Ui2jY+aTdzkcdKyjnOOUpP2jvJJXWlrO6Vv6RpLIcC1H90ny6663b8/wDM8E/Zn/4J1+Cf2afHH/CWW9zrfiPxpdW80F5rer3j3E1yZZRJI+0najMVUfL2X1LE+8vYqCuFXCjA4+71HH51OI8d6Hj3HrXHiMVXxMuetNt/1od+FwOHw0eWhBJb/MjEXzr/AHqkVNvct9e1KFwaWsTrEf7h+lcpq3/JcPD/AP2BdS/9HWFdW/3D9K5TVv8AkuHh/wD7Aupf+jrCgDrKKKKACiiigAooooAK4/4dDPivxx/2HB/6QWddhXH/AA6P/FWeN/8AsOL/AOkFnSl8L+X5k9UeD/s8Nt/4KjftAD/nppHh9vpi2Ir6or5W+AB2/wDBUv48D+9oegt/5AIr6pr184/iQ/wU/wD0iJ5GR/wZ/wDXyp/6WwoooryT2QooooAbL/q2+lcv8C/+SK+EP+wJZf8AohK6iX/Vt9K5f4F/8kV8If8AYEsv/RCUAdVRRRQAUUUUAFB6UUHpQB83/wDBUv8A5Nv8L/8AZWPh3/6mWjV9Gx9F+gr5y/4Kl/8AJt/hf/srHw7/APUy0avo2Pov0FAD6KKKACiiigAooooAKKKKACiiigAooooAKKK439of48+G/wBl74G+KviF4uvFsfDvg/TZtTvX3oryLGuRFHvZVaWRtscaFhvd0UcsK0pU51JqnTTcm7JLVtvZLzYN2V2eC/8ABYD/AIKhaL/wSv8A2Wm8YT2Vtrni7Xrk6X4Z0aS4WMXV15bO08q7hIbaEAGQxgnc8SZTzA6/yY/Gb4u698fviz4k8b+Kb3+0fEXizUrjVtSufLWMTTzSNI5CKAqjcxwqgADgACvXv+Cnf/BQjxJ/wUs/a0174ka5FNpmnXGy00PRftUlxDo1jGoWOJCxxubBkkKhVaWSRgqhsD57r/Q7wb8MafC+W/WMVH/a6yTm/wCVbqmvT7TW8u6SPjcyxzrztH4Vt/mFFFFfsx5oUUUUAFFFFABRRRQAUUUUAFFFFABRRRQAUUUUAFFFFABRRRQBJbXDWtwki8NGwYGv0m/YC+Nb+O/hjDa+d/xMtDIli+bkrxkV+ate9fsG/F2T4cfFO1VpD9nncI654YHg1+S+NnAOG4u4TxWVYmN+aLt5M/OvE3IZ5hk8q2H0rUXzwa3TWp+xEFwni7SrHxJY/LdR7VuQvXI71R+NPw8TxVYQ6tarsmddxKjo3eua+CXjSPw54iaykbzNN1Nd8efukNz/AFzXttlpMa28lm3zW83zRMa/5p+Ksrx3Cme1MBWvGdCTSe2if6bryP13hnOsF4pcAwwmPtKvSXK773XU+X4fD+rXVwLfG3nBbmvZPh14Pj+HHhCa/Zf9KkXbGT1LHv8AhXSW3w2jj1Xd5a9c9K1NZ0iPUXSN2CWVqMse1c/EPGmMzdQpYqo5RXd307fM8Pwc8FMDkGZyzXHK/s9U30seb6JpkPg6wvvFGpbWm5+zq/Ut6/h/Ovl/9sf42H4ffDTULyaTGqa3nAJ5VP8APpXvnxm8bp4p19bGNli03TRukwflAHP/ANevzD/b/wDjfJ4/8ezWcMjfZbcmNFB4wK/0K+gb4M1M5zl8WZnD3YaQTWi9PT/M/OfFPjKr4i8c08tou+Dwbu10bX9fmfPfiDV5Nc1ee6kYs0zlsmqdFFf7XRioxUY7I/SIRUYqMdkFFFFUUFFFFABRRRQAUUUUAFFFFABRRRQAUUUUAFFFFABRRRQAV03wZ+LuvfAH4s+G/G/ha9/s7xF4T1K31bTbny1kEM8MiyISjAqw3KMqwII4IIrmaKxxGHp16UqFaKlGSaaeqaas0/JocZNO6P69P+CP/wDwVC0X/gqh+y0vjCCyttD8XaDcjS/E2jR3CyC1uvLV1niXcZBbTAkxmQA7klTL+WXb6sr+OP8A4Jif8FCPEn/BNP8Aa00H4kaHFNqenW++01zRftUlvDrNjIpWSJypxuXIkjLBlWWONirBcH+ur9nj48+G/wBqH4G+FfiF4RvFvvDvjDTYdTsn3ozxrIuTFJsZlWWNt0ciBjsdHU8qa/zr8YPDWpwpmnNhk3ha13Te/K+sG+8eje8bPdO32OW45YiFpfEt/wDM7KiiivyE9IKKKKACiiigAooooAKKKKACiimySeUm4+oH50AOoryH9of9un4Z/sq6/oOm+OtcvtIuvElzb2ll5OiX99GJLidLeETSW8EiW++aSNAZmQEuBnJxVX4//wDBQD4X/sxeLX0Pxhq2sWupQ6cmr3Men+HNT1ZdOsneRBc3T2dvKltCDFJmSZkVQuSeRQB7RTZP9W30ryH4v/t2/DH4F+DvC+ueIPEazWPjmPz/AA0mi2dxrl14gh8kTGa1trKOWaaJYiJGkRCiIyszKDx3Hwn+MPhr48/DfRvF3g/WbHxB4Z8RWou9O1G0k3RXEZyM9AQwPylWAZWBUgEEUAeL/wDBU7/k2bw9/wBlU+Hn/qZaLX0d/H/n2r5v/wCCprbv2ZtAwrMy/FP4eHAUt08ZaKewOPxx/LP0cZv3uME84Ptxn/OKAJKKbv8A84o3/wCcUAOopu//ADijf/nFADqR/uH6Um//ADihmyp+lAHK6t/yXDw//wBgXUv/AEdYV1lcjq7H/hd/h5gpKnRdTyfT99YY/Pn8q6zf/nFADqKbv/zijf8A5xQA6im7/wDOKN/+cUAOopu//OKN+KAOT+G3/I1+OP8AsOL/AOkFnXXVx/w4LL4s8cblKg63GVP94HTrI9vTkfhXXb/84oAdRTd/+cUb/wDOKAHUU3f/AJxRv/zigB1Nl/1bfSkeQqvC7j6UyWf903HRc0Acz8Dm2/BPwj/2BLL/ANEJXUSyFE4XPtXJ/BO68j4L+Ewy48vRrJTgg8+Sq/j+H/6/Nf2xv23NF/Zr8Kf2fp76f4g+IusSxWWh+G47gG4uriZtsZkVcskQ5YsRyFOD1I1w+HniJKFJavr2832XqY4rEQw8XOq9unV+nc9X+IfxL0P4VeDtS8QeItQtdJ0fSIfOvLqeQBIV7Z75JwqgZLMwABJFfKXij9s/xR+2V430Xwj+z9eatoumXJnudZ8bX3h93s7WBEwiwpcBPMZpMoQQpGMgEfMNK1/Yp+Jn7SuoabcfHT4h2t1odveRX8ng3w5YrBpzyRMrpHNO5Msq7hkrjjbkMDgj6ysdOXTo1jj+SNQAFVcAY6f4V6kfq+C2aq1P/JV+HvP8PU8X/a8dvelTfRfE/XsvxPnb4TfsCXWhfGLR/HfxA+ImvfE7xBoMVymmpf2cFtZWLTgCSSOFAQDgbRzwDX0XDarFnj3xgepPb/PFSNDuPXP1FOWMIOn6GvOxGLrV3zzevy/JaL5HqYXAYfDx5KUbL79fV6jV3b+jfjXMfGL/AJFKz/7DOl/+nC3rqRGobdjn6GuV+MrEeD7VgpO3WNMbGD/z/wBv7VznWjqx/rF+h/pT6iWQGXH8S8ED/PtT9/8AnFAx1FN3/wCcUb/84oAdRTd/+cUb/wDOKAFf7h+lcpq3/JcPD/8A2BdS/wDR1hXVM2VP0rk9XY/8Lv8ADzBSVOi6nk+n76wx+fP5UAddRTd/+cUb/wDOKAHUU3f/AJxRv/zigB1FN3/5xRv/AM4oAdXHfDzjxT449tcU/wDkhZ115kwK474flh4q8cKUb5tbTbyPmB06yP6HI/ClLa39dxdUeFfApfJ/4KpfG9f+enh7RHz9IytfVFfK/wAFX2/8FVvjEQpKzeF9HfIGduNwwT0/I19Tb/8AOK9bN/4kP8EP/SEePkf8Gf8Ajqf+lsdRTd/+cUb/APOK8o9kdRTd/wDnFG//ADigAl/1bfSuX+Bf/JFfCH/YEsv/AEQldNM+IW4PSuX+Bjsvwa8Joy7Sui2YPOefJUdvpQB1lFN3/wCcUb/84oAdRTd/+cUb/wDOKAHUHpTd/wDnFDybUP0oA+cf+Cpf/Jt/hf8A7Kx8O/8A1MtGr6Nj6L9BXzh/wVKcN+zh4X/7Kv8ADs9R/wBDlotfR8fRfoKAH0UUUAFFFFABRRRQAUUUUAFFFFABRRRQAV/Oj/wdI/8ABVr/AIaM+NP/AAoDwXfCTwV8OdQL+IpTaeXJe69CZoZIldjuMNurFOFQNK0pPmKsTD9SP+C/X/BS+1/4J2/sR6pDpOoXFn8TPiRb3GjeEhDHIGtjiNbq981GQxNbxTBkYMW854flZQ5X+Um6uZL25kmmkaWaZi7uxyzsTkkn1Nf1J9HXw6WMxL4nx8f3dJ2pJrea3n5qGy/vX6xPBznGcq9hDd7+hHRRRX9qHzIUUUUAFFFFABRRRQAUUUUAFFFFABRRRQAUUUUAFFFFABRRRQAUUUUAFbnw81JtL8V2syHDK45rDrofh9ocmpa3DhSRuFc+McVRlz7WZy45wVCfPtZn6k/AbxbJ4u+Emm3gb/S9NwM+o7f1FfWnws8W/wDCV+CVbdulhTcD396+MP2PNHm0v4ZzrJu8plGAexr6Z/Zi1AjzLYt8rFl57ZJr/BD6cnCmEwvEX9pYZJOe9u6/4B+G+AfEUsp45rZdRl+6qSenTp/mejaf4zkvLoW+4k5xWD8dPHf/AAimgPbwt+8YbcA/eY1Y8N6RJD40+ZTtjfJ+leZfH7UWv/GEMLE7d5av4w4byWnj83oYSO0mvxdj+uPpFcSyyDhqc8E7SqK115nin7R3j3/hXHwlvJWk/wBN1IHLZ5x3/M/yr8ufH+tSa74nuZ5GLMzmv0C/4KBpdS6XHHHlYVhGOfbt+dfnfrts1vqMm7+8a/6Qvo68K4LIuGKOFwiStFfkfyf4H4GnHLp4xu9So7t9SnRRRX9CH7oFFFFABRRRQAUUUUAFFFFABRRRQAUUUUAFFFFABRRRQAUUUUAFFFFABX65f8Gt3/BVr/hnP40/8KA8aXwj8FfEbUA/h2UWnmSWWvTGGGOJnU7hDcKoTlXCyrER5atKx/I2pLW5ksrmOaGRopoWDo6nDIwOQQfUV8pxtwlhOJMoq5Vi9pK8ZdYzXwyXo9+6bXU6MLiJUaiqRP7nKK+Gf+CAv/BS+1/4KJfsR6XDq2oXF58TPhvb2+jeLRNHIWuTiRbW9812cytcRQlnYsG85JvlVShb7mr/ADGzrJ8VlWPq5djI8tSlJxa9Oq7prVPqmmfcUqkakFOOzCiiivLNAooooAKKKKACiiigApsxCxkt0XnpnFOpsieYhU9D1oA+Hf8Agux+0h8P/g3+yPY6H4p8Z+HfDeuax4w8JXunWl/fwxT3MFr4p0i4upY1f5isMMbyMRgKsbHotZf7cn/BXH4X21r4Y+G/gX4tfDHRde+K2kSalH4z1nXbaPQPDGitLLby6ikjSrHeXbOksdvbROWeRWaQxxIxP3hLp6TPub721kzjHDYLD8SB+VDaersWY7i3Bz/Ev90+3/1+uTkA/PBPEfwr/YV/aM/Zz8ZSeKtNt/2e9M+C+oeBfDfjS4v1uNIt7lLjSJ4XlvU/ch7u0s22zEgStbbVyW2n23/gkVpN4n7MOu642n32kaL408f+K/Fnh6yurY2ksWkahrl5dWTmFsNGssLrOqEABbgdeg+ohYYZG82TcuCxAA3npk4HORxjp07gEJFYLbKTuZj8xOe5PJPt+HHtQB8S/wDBUP8AZ98VW/gnRfE0vxp+JF1okvxV8BY8JS2Og/2PHv8AFmkRriRdOF7+7ZhIv+lcsgDblLKfrSP4b6sh/wCR48TZPXMFg2OnTNsf1zXj3/BU7/k2bw9/2VT4ef8AqZaLX0d/H/n2oA5X/hXOsf8AQ9eJv/AbTv8A5Fo/4VzrH/Q9eJv/AAG07/5FrrKKAOT/AOFc6x/0PXib/wABtO/+RaP+Fc6x/wBD14m/8BtO/wDkWusooA5P/hXOsf8AQ9eJv/AbTv8A5Fpr/DnV9v8AyPPif/wH08fqLUGuupH+4fpQB5ZqXgDVE+MGhw/8Jj4iMjaRfOJvJsiy7JLJTwbcj5t2enb8R1H/AArnWP8AoevE3/gNp3/yLRq3/JcPD/8A2BdS/wDR1hXWUAcn/wAK51j/AKHrxN/4Dad/8i0f8K51j/oevE3/AIDad/8AItdZRQByf/CudY/6HrxN/wCA2nf/ACLR/wAK51j/AKHrxN/4Dad/8i11lFAHJ/8ACudY/wCh68Tf+A2nf/ItNf4b6u4/5HrxP1B4t9PH8rUGuuooA8q8A+AdSuPE3jBY/GHiC3MGsLGxjhsv3p+xWpyQ1uR0YD8K6n/hXOsf9D14m/8AAbTv/kWm/Db/AJGvxx/2HF/9ILOuuoA5P/hXOsf9D14m/wDAbTv/AJFo/wCFc6x/0PXib/wG07/5FrrKKAOT/wCFc6x/0PXib/wG07/5Fo/4VzrH/Q9eJv8AwG07/wCRa6zNNd9g6Z+lAHJyfDvWFT/kePE5+ltp3/yLVe48B6otpIzeNvEjR7Tu3QaftP1xbA4/EV10l1+7zjjuQ3T+Wa+Sfjt8f/G37VHxI174S/B5l0uy0vzLDxX44uEzBpDMMG2tVyPMnwSCQflIPQ4YdGFws68rJ2it35HDjMZDDq9rze3qcT/w1d4n8baLp/gH4G3niXxd4st9MgttQ1AQ2kOgeF3KKuZJXtf3rowYGNec7hkFSB6z+yx/wTp0f9nvSYNUj1zUrnxxexCbVNdaK1up7q4bDytHJPDJIsbMTgbgcAexHon7G/wj0T4O/s3+DNH0G1W0tF0q3nYjhriSSNXklfnJZmYnrwCBjAAHqawbGJB+914612YjHKMHQwnux695Lz8vI4sLlsqk1icY+afRdI+a8zkbb4b6tF8q+NfEqLx/yxsWYYz/AHrc9c+mfepv+Fc6x/0PXib/AMBtO/8AkWuqWPaeuadXkwSSstD27t7nJ/8ACudY/wCh68Tf+A2nf/ItH/CudY/6HrxN/wCA2nf/ACLXWUVQHJn4dauB/wAj14m/8BtO/wDkWuX+LHgDU4PC1qZfGXiK6RtV05PLkgsFXLX0ABytsrcEg8Ecj0r1Q9K5L4xf8ilZ/wDYZ0v/ANOFvQA2P4dauny/8Jz4o+bJOYLBgPpm2Pr3zT/+Fc6x/wBD14m/8BtO/wDkWupH+sX6H+lPoA5P/hXOsf8AQ9eJv/AbTv8A5Fo/4VzrH/Q9eJv/AAG07/5FrrKKAOT/AOFc6x/0PXib/wABtO/+RaP+Fc6x/wBD14m/8BtO/wDkWusooA5F/hzq+3/kefE//gPp4/UWoNczqXgDVE+MGhw/8Jj4iMjaRfOJvJsiy7JLJTwbcj5t2enb8R6m/wBw/SuU1b/kuHh//sC6l/6OsKAD/hXOsf8AQ9eJv/AbTv8A5Fo/4VzrH/Q9eJv/AAG07/5FrrKKAOT/AOFc6x/0PXib/wABtO/+RaP+Fc6x/wBD14m/8BtO/wDkWusooA5P/hXOsf8AQ9eJv/AbTv8A5Fo/4VzrH/Q9eJv/AAG07/5FrrKKAORk+HGrsn/I9eJ+oP8Ax76eP5WoNcr4G8BalceJ/Fyr4u8QW5g1hUYxxWf7wiytW3HMB5wQPTjv0r1dvu1x/wAOxu8W+N/fXFH/AJIWdTJ6r5/kHn/XY+aPhL4N1GX/AIKjfFS0XxVrkc8fhXSpHvBDZ+dOMkBWHkeXx7IK+nP+Fc6x/wBD14m/8BtO/wDkWvAvhM/l/wDBWb4pLj/W+DNKf6YkIr6pr1s1+On/AIIf+ko8fJFajNf35/8ApTOT/wCFc6x/0PXib/wG07/5Fo/4VzrH/Q9eJv8AwG07/wCRa6yivLPYOT/4VzrH/Q9eJv8AwG07/wCRaP8AhXOsf9D14m/8BtO/+Ra6yigDj7j4b6s8DK3jjxKykEFTb6eAfri2B/Iiub+DXw+1O6+FPhi4i8ZeIrWOfSLV1gjhsTHDuiQ4UNbnpyOc9e1epS/6tvpXL/Av/kivhD/sCWX/AKISgBv/AArnWP8AoevE3/gNp3/yLR/wrnWP+h68Tf8AgNp3/wAi11lFAHJ/8K51j/oevE3/AIDad/8AItH/AArnWP8AoevE3/gNp3/yLXWUUAcn/wAK51j/AKHrxN/4Dad/8i0jfDnWNp/4rrxP0/599OH/ALa11tB6UAfJ/wDwUv8ABupaT8A/CdxP4r17UoY/iv8AD0NbXEdosUufGOjAZMcCtweRhhyO4yD9Wx9F+gr5y/4Kl/8AJt/hf/srHw7/APUy0avo2Pov0FAD6KKKACiiigAooooAKKKKACiiigAqn4g8QWHhPQb7VdVvrPTNL0y3ku7y8u5lht7SGNSzySOxCoiqCxZiAACTxVyvyJ/4Ot/+ClWo/s8/BDQvgX4N1a603xL8TLaS98RTWztHJDofzwC3zswVupRIrFJAwS1kRlKTc/R8J8NYrP8ANqOU4T4qjtfpFLWUn5JJvz23ZjiK8aNN1JdD8d/+Cvf/AAUX1b/gpl+2frnjm4/c+GdL36L4UtDbrDJa6VHNK8PmhWbMz+Y0khLsNzkKQiqo+XaKK/1ByXJ8LlWApZdgo8tOnFRS9Or829W+rbZ8LUqSqTc5bsKKKK9QzCiiigAooooAKKKKACiiigAooooAKKKKACiiigAooooAKKKKACiiprKza8mVVBOTSbSV2KUkldkml6c+o3Kqq55r6O/Zp+Ccmsalbt5ROWHauN+C3wlk1i+h3Rlskdq++P2bvhDD4S0hL2aNRsHygjqa/JPETjSll+EmlLoz8U8TuOqeAwsqNF+89DtfDvh6PwL4KhslULIVDSfWu6+AN/8A2dN5hP3mJ/WuG8TagZy1XfB3iddGgX5tvHrX+Hn0juJqnEObSS1SvY/EfDHNVgM4jmWIlrvfzZ9PHVrMRPcqF8515Oa+ffjY+fEMdx/dfk1q2nxUEibfMrnvHOorrdqxDbm6g1/NfDeErZbj4YnrFp/cf0Z4rcd4fijJXh4yu4r8jzz9oP4eR/EXwIZkQPNbptb1x2r85vjd8L5fD+rTfu9u1j2r9RfDOorJEYZMMrDaynuK+ff2tfgAsolurePdHKCytiv9yfo3+K1PH5bSpTlqkkfgvhfxhLKsZ9Qrv3W9P8j86ZYjC5U02ux+I3gWXQ9QkHln5T6Vx7KUODX9xYbERrU1OB/YGFxUK9NVIPRiUUUV0HQFFFFABRRRQAUUUUAFFFFABRRRQAUUUUAFFFFABRRRQAUUUUAFFFFAH1F/wSE/4KL6t/wTN/bP0Pxzb/vvDOqbNF8V2gt1mkutKkmiebygzLiZPLWSMh1G5AGJRmU/15eH/EFh4s0Gx1XSr6z1PS9Tt47uzvLSZZre7hkUMkkbqSroykMGUkEEEcV/DXX9FX/BqR/wUq1H9ob4Ia78C/GWrXWpeJfhnbR3vh2a5dpJJtD+SA2+dmAtrKY1UvIWKXUaKoSHj+UvpI8A+2w8eKMHH3qdo1bdYtpQl/26/dfk10ie/kuLtL2Euux+u1FFFfxofShRRRQAUUUUAFFFFABRRRQAUUUUAFNk/wBW30p1Nk/1bfSgD5x/4Knf8mzeHv8Asqnw8/8AUy0Wvo7+P/PtXzj/AMFTv+TZvD3/AGVT4ef+plotfR38f+fagB1FFFABRRRQAUj/AHD9KWkf7h+lAHKat/yXDw//ANgXUv8A0dYV1lcnq3/JcPD/AP2BdS/9HWFdZQAUUUUAFFFFABRRRQByPw2/5Gvxx/2HF/8ASCzrrq5H4bf8jX44/wCw4v8A6QWdddQAUU122LSeb8+MUClJLcWQZWoriMtFIOzDH4U+dswt2x6188/tnftRa14G1DSfhv8ADuz/ALU+KnjcH7BGVDRaHagkSX1x1G1Ar7QeGZcHjg6UMLKvU9nDrv5Luc2MxUcNTdafTZdW+iS6s5n9q341eLvi78Y1+CPwp1CPS9cks1u/E/iQEOvhm0chQiDGPtEgIKjIYK2Rg/Mvs37OX7Ovhv8AZk+G9j4X8M2729pb7p55JDumv7hiDJcSseTI5HsAMKAFVQuL+yB+ytpX7LngKaxguJtW8Sa1Ob7xF4guiXutcvmGWmdiSSoywUHoMnlmdm9ce12bm3dfQdfrXVi8VFRWGw/wx0b7+f8AkcWCwF6jxeJXvvVLe3kcv8CYVX4OeEcFudGs2P1MCV2Fcj8DI2/4Uz4PO7j+xLLj/tglddXE+yPXvJ6y3CiiikAUUUUAB6VyXxi/5FKz/wCwzpf/AKcLeutPSuS+MX/IpWf/AGGdL/8AThb0AdUP9Yv0P9KfTB/rF+h/pT6ACiiigAooooAR/uH6Vymrf8lw8P8A/YF1L/0dYV1b/cP0rlNW/wCS4eH/APsC6l/6OsKAOsooooAKKKKACiiigBH+7XH/AA6GfF/jb/sOr/6QWddg/wB2uP8Ah1z4v8bf9h1f/SCzqJfFH5/kD+F/L80eDfDL5P8Agrf8SF/v+B9OP5T4/rX1VXyr8O22/wDBXbx8uP8AWeArF/p/pIFfVVevmvx0/wDBD/0lHj5N/Dqf45/mwoooryz2AooooAbL/q2+lcv8C/8AkivhD/sCWX/ohK6iX/Vt9K5f4F/8kV8If9gSy/8ARCUAdVRRRQAUUUUAFB6UUHpQB83/APBUv/k2/wAL/wDZWPh3/wCplo1fRsfRfoK+cv8AgqX/AMm3+F/+ysfDv/1MtGr6Nj6L9BQA+iiigAooooAKKKKACiiigAooooAx/iL8QNH+E/w+13xV4gvF07QPDOn3Gq6ldtG8gtbaCNpZZCqAs21EY4UEnHAJ4r+Nr/goB+2BrH7ef7YXjr4q6zG1vJ4q1FpLO0LK39n2UYEVrbblRA/lwJGhfaC5UsfmYmv3w/4Oov8Agoav7NP7Gtv8IvD+oiHxj8Yg9vfCCfbNY6JGR9oLbJFdPtD7YBuRo5Yvtanla/msr+0Poz8H+wwdbiLER96r7lNv+RP3mv8AFJJf9uvufM55ibyVFdNX6hRRRX9UHghRRRQAUUUUAFFFFABRRRQAUUUUAFFFFABRRRQAUUUUAFFFFABRRRQBJbQG4lCivT/hP8NX1a7jJjLZI7Vy/wAPPDDarfx/KTk19g/s5fCL7S0BMfXB6V8XxZn8cFQdmfAcbcTQy7DSs9Tuv2bPgUqNDJJFhVAJJHQV9C38kdhaLbwjbHGMACmaFokXhTRY7eNQr4+c/wBKp30hmev88vGTj2riObD0pbn8VZxnFXNcY69V+70My9Q3D02DRPN7Vp2en+c9aF3c2fhy18y6kVOMgdzX81cOeFVbP8V7WrG6ZyyxTjaFPVmC/h9oxldy/SoJbi4tAVYl1960LP4o6Lf3fk7tvOM5zV/UtJjuoPMhZZI2GQw6GvS48+j1LB4b6xh4arsdFHH4rDS5aqcbnN6bcmG4z0ya6DUtKt/GegSWdwFYsvyE9jWJcWJt5a0dHvDC45r5nwl4jxfDWYrD1G0kyMVeTVam7Nao+P8A9pj4Btp11cMsPQntXyX408JyaNdsNpABr9avir4Dh8d+HZJFRTOi8/7Qr4W/aE+D7abcTHysYJ7V/rd4Y8eU8dh4JyvdH9F+FvHzrwWFxD95aHy4Rg0VoeINKbTbxlI71n1+9QkpR5kf0ZTmpx5kFFFFUUFFFFABRRRQAUUUUAFFFFABRRRQAUUUUAFFFFABRRRQAUUUUAFex/8ABP8A/bA1j9gz9sLwL8VdGja4k8K6isl5aBlX+0LKQGK6ttzI4TzIHkQPtJQsGHzKDXjlFceY5fQx2FqYLFR5qdSLjJd01Z/gVCbhJSjuj+4j4dfEDR/ix8PtC8VeH7xdR0DxNp9vqum3axvGLq2njWWKQK4DLuR1OGAIzyAeK2K/LL/g1d/4KGr+0t+xrcfCLxBqIm8Y/B0Jb2Inn3TX2iSE/Zyu+Rnf7O+6A7UWOKL7Io5av1Nr/LPirh+vkeb4jKsR8VKTXqt4y9JRaa9T7zD1lVpqouoUUUV8+bBRRRQAUUVH9oAGeMY9fQ4P5UASUVAl/HJCJMqI26MWGD+IyKUXoMhXax2kqfbGOvYcHPJyR0FAE1FfPP7dP7ZPjD9jzR/D/iDTfhrY+MfB91q+k6Vreqv4mGmyaQ2oapa6dG0cP2aU3G17pXI3R/Kp5HUQ/tBftqeMPB3x3/4Vr8L/AIY2/wATPFml+G4/Fevrd+I/7Ds9Lspp5YLWJJvs0/m3c7290Y4SsalYGZpFBFAH0ZTZP9W30r5P/wCHoEnxa8M/CNfg14Bk8eeKvi94buPFttpes60NBtdB062Fulw17crDc7JkubmK18tI3zKJBkKhY+vfsiftR2P7XHwPtfFtvo994bvo76+0TWNGvpFe50TVLG6ks7y0kK8EpcQyBWGA6bHwu7aADg/+Cp3/ACbN4e/7Kp8PP/Uy0Wvo7+P/AD7V81/8FT72Ff2Z/D6mRFYfFX4fDBOMlfGOiseOp49M/lnH0gLuMyD95HzyPmHI9aAJqKb56f31/Ojz0/vr+dADqKb56f31/Ojz0/vr+dADqR/uH6Unnp/fX86a9xGEOZEAx1LdKAOX1b/kuHh//sC6l/6OsK6yuO1O6ST42aC2+Pauj6ijfN0Yy2LAfkM11/np/fX86AHUU3z0/vr+dHnp/fX86AHUU3z0/vr+dHnp/fX86AHUU3z0/vr+dI1zGo++n/fVAHKfDb/ka/HH/YcX/wBILOuurjfhtcxnxV41ZZI2WTWkdTu6r9gtAT+DAj8K7Dz0/vr+dACuMimP8gZvwH1oe5RR95c9Bz1Paq2q30FnptxNcSpb28aM0sjtsWNR95ieMADnPbrQtXYmTS1lsef/ALUn7S2i/ssfB/UPFGsLLcNDtt7GyhG641K7fiG3iX+Jmbj2GTXm37D/AOzjrvh++1b4pfEeQXXxM8fIsl1CDmLQbP70VjD6bRt3njJUDHBLcR8HYz/wUG/amX4jXhb/AIVL8Mrx7bwlbyIVj17VAHWa/IPDJH0QgnkA8EMo+xYo0iH+sjzkk44BJr1sTJ4Sn9Xh8Uvifl/L/n56dDxcLF4yv9cqfDG/IvPZyf8A7b9/UIY1Dq3IYnn/AAqaX/Vt9KaJEB+/H19abdXccVtIxkTCgnlq8hK2nQ9uOisc38C/+SK+EP8AsCWX/ohK6quR+CFxHF8HvCcZkj3Jo9pGecHKwqDx9Q35V1nnp/fX86Yx1FN89P76/nR56f31/OgB1FN89P76/nR56f31/OgBx6VyXxi/5FKz/wCwzpf/AKcLeuqM6EffX865L4zXCp4OtW3L8ur6Y/XsL+3NAHWj/WL9D/Sn1CtxH5g/eR7sdNw6ev6VJ56f31/OgB1FN89P76/nR56f31/OgB1FN89P76/nR56f31/OgBX+4fpXKat/yXDw/wD9gXUv/R1hXUPcRhDmRAMdS3SuS1O6ST42aC2+Pauj6ijfN0Yy2LAfkM0AdjRTfPT++v50een99fzoAdRTfPT++v50een99fzoAdRTfPT++v50een99fzoAV/u1x/w6GfF/jb/ALDq/wDpBZ11slxGF++v/fVcb8PLqMeKPGknmR7X1pHU7uo+wWg/9CBH4VLV5K3n+QPZ/L80eGeBF8v/AIK9+Nh/e+Hlm3/k5j+lfVNfK3g6UL/wV88XH+GT4cWZDY+X/j+Pfpmvqfz0/vr+detmnxU/8EP/AElHj5N8FRf35/mOopvnp/fX86PPT++v515Z7A6im+en99fzo89P76/nQAS/6tvpXL/Av/kivhD/ALAll/6ISukuruOK2kYyJhQTy1cv8ELiOL4PeE4zJHuTR7SM84OVhUHj6hvyoA66im+en99fzo89P76/nQA6im+en99fzo89P76/nQA6g9Kb56f31/OmtcIFPzL09aAPnP8A4Kl/8m3+F/8AsrHw7/8AUy0avo2Pov0FfOH/AAVKkVv2cPC+GX/kq/w7PX/qctGr6Pj6L9BQA+iiigAooooAKKKKACiiigAoor5c/wCCz/7W/wDwxV/wTT+KnjO1vvsPiC40ptD0BotR+w3Q1C9Itopbdx8zSwCR7nanzFbZzlQC692V5fWx+MpYHDq86sowj6yaS/Fk1JqEXN7I/nK/4L0ftszftyf8FLfHes29za3PhnwXO3g/w69rcR3NvLZWU0qmeOWNVEiTzvPOrHdhZ1UOyqpr43pXdpHLMSzMckk8k0lf6pcP5NQynLaGWYf4KUVFedlq/VvV+bPga1R1Juct2FFFFewZhRRRQAUUUUAFFFFABRRRQAUUUUAFFFFABRRRQAUUUUAFFFFABU1lAbi4Vfeoa3vAulm+1OPjvWVaooQcmY4iqqdNzfQ9k+APgb7ZdQnb3GeK+9PgF4Jj0fSluGjA8sDH1r5p/Zt8IDdbnZ6V9meGrEab4bhjXjcMmv5V8VOIJqM1Fn8c+LGfTr1vYRe7DUpy7GqcVsZXq1LH5j1Zs7VYlLtwq8k+lfxRLJ6+bZj72t2fjqqKEbIr39/B4Y0p7qYgbR8o9TXzB8fv2g3+1TBZsAE4ANd9+0f8Uvs9vLFHJtjUbQAa+FvjL49kvbyQbz1Pev7T8K+AKNGlH3T9o8MeCfrlRYrELf8AA9D0v9oWaHV1/fHr619Qfs7/ALQMes28drdSb45MA5PSvzLi1+aO63bj19a9p+BPxVl0y/hzIeo71+r8XcCYfEYNxUeh+s8a+HOGxGCfs46pH6W6rpiyoJI8MjDKkd6yBEYJKxPgP8TovGGhR2s0gL7fkJPT2rsNS07y5DxX+afip4aSy7GvEUI21P5PrUauDrywtfdEmj3mPlboeDXkn7THwqivrWS4jj+WQEjAr1G1Bikq14j0lfEfhmaBhuYKStfd+DXFVbDVI4eo9i8tzCeAxsMRTel9T8r/AI1+BW0u9lOzbtJ7V5TInluVr7I/ab+HX2eefEfQntXyT4p0w6dqLLjHNf6Q8J5ssXhU7n9ycE50sdgou+tjLooor6w+2CiiigAooooAKKKKACiiigAooooAKKKKACiiigAooooAKKKKACiiigD7I/4IL/tszfsN/wDBS3wJrNxc2tt4Z8aTr4P8RPdXEdtbxWV7NEonklkVhGkE6QTsw25WBlLqrMa/rYr+GBHaNwykqynIIPINf1+f8EYP2t/+G1f+Cafwr8Z3V99u8QW+lLoevtLqP266OoWRNtLLcOfmWWcRpc7X+YLcocsCHb+OvpPcKqFbDcQ0V8X7qfqryg/muZf9uo+kyPEXUqL9V+p9R0UUV/Jh9AFFFFACOCw4OORXC/H34WeIPi74Mt9H0Lx5rnw9ZrtHv9T0S1t5NRmtgjhoIXuEkjhZnKEyGJ2CqwUK5WRO7ri/2iPj14d/Zi+DWt+OvFlxcW+h6CkbS/Z7dri4uJJJUhhgijUFpJZZpI40RRlnkUDk0AfmV40/aA/Zk8A+KL1vDfxm/bavNe0qS3hfxZ4e1Lxd4ksZpJ7qa1tpMXMdxplzDJdW88Me2JoJZIZEQPsbH6gfDvStU8NeDdN0/Xdb/wCEi1bT4RFc6m1nFZtdHAwZI48xpI2VJVNq55VVHy1+afwI/ZM0/wDbH8BXXw98A+NviJ8JJPC/w90r4W+P/Dnj74erb69qHhtJbyTTJrffOFt5HR7+JLjFwmFkzGrx7T+pdvH+7jG+TPTnPYY/i55FAHyb/wAFddI+IvxN/Z6s/BPw7+FHiP4iXureINC1u4urLVNJ0+CwTS9e06/eOUX11bs7SxW0ioEBBYqCVBLDF1ez+MXw1/arv/jd4b+B2ueJD8UvAeneHdY8JTeJNHtdX8M6lpt3qEtvJPK10bSS1ljvyHa3llkQwghHLbK+0vs+D2x245A789eaYbIFQMrhfujb930/x+uDxigD8+vgv+xj8UP2CY/gD4y8P+Fx8XNa8J/D/U/BfjTR9G1K0srgTX97a6obuxN3JDA8cV1HPEVZ0ZopUYbmURt9F/8ABOv4E+JvgJ8BbqHxtHYWnjPxl4o17xprNhYXP2i10q41PU7i9NpFLhfNWBJooi+Dl1cjhsD3s2nzZ3dhgkZIx2z6cfXk8054cAtubAHA7dD+f40AfEv/AAVB/Yq+Dum+CNF+Ilt8K/hzb+P7r4qeAvN8Sx+G7JdXk87xbo8Mubry/N+eJ2Rvm5ViDwa+sY/gX4NRmH/CK+HdpPT+zojkcdcg5rxz/gqd/wAmzeHv+yqfDz/1MtFr6O/j/wA+1AHL/wDCi/Bf/Qo+Gf8AwVW//wARR/wovwX/ANCj4Z/8FVv/APEV1VFAHK/8KL8F/wDQo+Gf/BVb/wDxFH/Ci/Bf/Qo+Gf8AwVW//wARXVUUAcr/AMKL8F/9Cj4Z/wDBVb//ABFNk+BXgsof+KS8NfhpkC/qFzXWUj/cP0oA8u1T4N+FF+MehW3/AAjWgGCTR9Qd4zp8RV2WWxAOCp7Guo/4UX4L/wChR8M/+Cq3/wDiKbq3/JcPD/8A2BdS/wDR1hXWUAcr/wAKL8F/9Cj4Z/8ABVb/APxFH/Ci/Bf/AEKPhn/wVW//AMRXVUUAcr/wovwX/wBCj4Z/8FVv/wDEUf8ACi/Bf/Qo+Gf/AAVW/wD8RXVUUAcr/wAKL8F/9Cj4Z/8ABVb/APxFNf4E+C2H/Ip+GRyDkaXAP5KDXWUUAeWeAvg54Tv/ABT4yWbw3oMy2+spHGJNPibYv2C0OBlccsSfx/Gup/4UX4L/AOhR8M/+Cq3/APiKj+HBx4q8cf8AYcX/ANILOurMm0dKAOUufgh4LigY/wDCJ+GVyMZGlQcZ4z9yvln9vHQ9H8f+L/D/AMCvAfh/RbLxZ49UXOsX9tpsccuhaIjYml3hchpCCijIzuwcblz9SfHT4xaP8C/hJ4g8W67N9l0vQbKS7mf+IheAFHPzM2Ao7kivEv8AgnR8HtWHhzWPi542h/4uD8WJBqV2smT/AGbZY/0WzjzyqLHsyOCdqBslM16mXqNCLxs/s6Jd5dPkt/Wx4eZSeIqLAQ+1rJrpHr85beSu+x6x4G/Ze8BeB/Dmm6XaeEfDn2fTbRbONpNOhkkZEAC7mKksTjJJycnPXJO3/wAKL8F/9Cj4Z/8ABVb/APxFdMkeHyec8/Q+1SV5bnKT5pHtQgoq0Tlf+FF+C/8AoUfDP/gqt/8A4imy/A3wasbFPCvhuNwPlZdMgVlPYgha6ymy/wCrb6UFHl/wX+C3hLUPhN4Xurjwz4fuLi60azaWSTTomaQmJW+b5cHknt3rqP8AhRfgv/oUfDP/AIKrf/4ij4F/8kV8If8AYEsv/RCV1VAHK/8ACi/Bf/Qo+Gf/AAVW/wD8RR/wovwX/wBCj4Z/8FVv/wDEV1VFAHK/8KL8F/8AQo+Gf/BVb/8AxFH/AAovwX/0KPhn/wAFVv8A/EV1VFAHKn4GeCwP+RR8M/8Agqt//iK5f4sfBnwjp/he0kt/DHh63l/tbTYxJHpkCsA19Arc7O4JH416kelcl8Yv+RSs/wDsM6X/AOnC3oASP4G+DVkYHwr4dIbnH9nRHPfnIOetSf8ACi/Bf/Qo+Gf/AAVW/wD8RXTj/WL9D/Sn0Acr/wAKL8F/9Cj4Z/8ABVb/APxFH/Ci/Bf/AEKPhn/wVW//AMRXVUUAcr/wovwX/wBCj4Z/8FVv/wDEUf8ACi/Bf/Qo+Gf/AAVW/wD8RXVUUAcnJ8CvBZQ/8Ul4a/DTIF/ULmuZ1T4N+FF+MehW3/CNaAYJNH1B3jOnxFXZZbEA4Knsa9Rf7h+lcpq3/JcPD/8A2BdS/wDR1hQA7/hRfgv/AKFHwz/4Krf/AOIo/wCFF+C/+hR8M/8Agqt//iK6qigDlf8AhRfgv/oUfDP/AIKrf/4ij/hRfgv/AKFHwz/4Krf/AOIrqqKAOV/4UX4L/wChR8M/+Cq3/wDiKP8AhRfgv/oUfDP/AIKrf/4iuqooA5OX4F+CyvHhPwyORyNLgH8lBrlfBHwe8LXvibxkJPDuhutvrKpHusYzsUWFocDjuxJ/HFeqsMiuO+HA8zxR43/7Da/rYWdKPxX/AK6h/wAD8Gj5p8MfC3wyv/BWvX9Lbw/orae3w1t7gW7WEJhRxf7SQpXvmvp7/hRfgv8A6FHwz/4Krf8A+Ir5/wBCOz/gshrC/wB/4WRNn6akBX1VXp5k7un/AII/kePk/wANX/r5L8zlf+FF+C/+hR8M/wDgqt//AIij/hRfgv8A6FHwz/4Krf8A+IrqqK809g5X/hRfgv8A6FHwz/4Krf8A+Io/4UX4L/6FHwz/AOCq3/8AiK6qigDk5fgb4NWNinhXw3G4HysumQKynsQQtcz8F/gt4S1D4TeF7q48M+H7i4utGs2lkk06JmkJiVvm+XB5J7d69Ql/1bfSuX+Bf/JFfCH/AGBLL/0QlAB/wovwX/0KPhn/AMFVv/8AEUf8KL8F/wDQo+Gf/BVb/wDxFdVRQByv/Ci/Bf8A0KPhn/wVW/8A8RR/wovwX/0KPhn/AMFVv/8AEV1VFAHK/wDCi/Bf/Qo+Gf8AwVW//wARSN8C/Be0/wDFI+GemP8AkFW//wARXV0HpQB8of8ABTH4V+GPDfwC8J3un+HdCsbyD4r/AA9Ec9vp8MUiZ8Y6MDhlUEZBI4PQmvqyPov0FfOX/BUv/k2/wv8A9lY+Hf8A6mWjV9Gx9F+goAfRRRQAUUUUAFFFFABRRRQAV+FX/B4/+1bN9v8AhN8D7Ge6jhWKXxvrETQx+TOWaSzsCsnMm5Nmo7l+VSJIz85A2furX8eP/BXv9qaP9sz/AIKSfFvx9azWtxpF9rb6fpE1vDLDHPp9mq2drLsk+dWkhgSRgwHzyN8qjCj96+jtw6sx4pWMqL3MNFz8uZ+7Ffi5LzieTnNbkocq3lofNtFFFf38fIhRRRQAUUUUAFFFFABRRRQAUUUUAFFFFABRRRQAUUUUAFFFFABRRRQAKNxr0r4PaH517G23vXndjH5tyo969s+DWnCN4zj05rw8+xHs8O7Hz3EmJ9lhHY+rP2fNJW3WHI9K+nLECbTItv8ACMV8z/CS+Sxgj6DbXtGj/EBLS1xu7etfyXxlgZ4yrKJ/E3GmHrYjFucVfU7BbPnJ4+tcx8R/Gkej6ZJDE3b5iD1rI8SfFgLCyrJj8a8h+IXxCN6H/eZz714vDPBsaVVT5Tzsj4br160ZVVoec/HbxW9+03zZ618r/EDzJrx256/nXvnj26/tF5P4s5ryPxT4fM7s22v6g4VjDDQUT+seC408JTUTzBlKmuj8D6hJZ3yYJ4NMuvDTJJ92rmh6M0EytjpX3WIr050mj9IxWIpVKTR9W/s3/EqTTpIB5nQjvX2V4T8Qw+L9FjcMPOVRuHrX5yfDHVW06ePnGMd6+pfgr8U2sfLXzP1r+a/EbhOljYSfKfyn4k8L+0qPEUF7yPfJbIxvVzTl/hPQ8Gquh+JrTxFbKyuqyEevWtSKARfNkbfXNfzBheEauXY7ngtLn4TWco+5UVmfOv7Tng1ZftDbeea+D/jJ4a+w6hIyrjk1+kvx1to7+3mPHQ18PfHzw4PtEx2+tf2L4a5nKMYwkf0z4Q5xOMI05nzqeDRU+owfZ7pl96gr99i7q5/TUXdXCiiimMKKKKACiiigAooooAKKKKACiiigAooooAKKKKACiiigAooooAK/cv8A4M4P2rZvt/xZ+B99PdSQtFF430eJYY/JgKtHZ35aTiTc+/Ttq/MoEch+Qk7/AMNK+kv+CQn7U0f7Gf8AwUk+Enj66mtbfSLHW00/V5riGWaODT7xWs7qXZH87NHDO8ihQfnjX5WGVP574qcO/wBt8LYzBRV5qPPH/FD3kl62cfRnZgK3sq8ZdNvvP7DqKKK/zJPuAooooAK+e/8AgqZbeF5P2I/El14w+Icfwp0XR9V0HWP+Erey+2ro91Z63Y3VoxhyPM33UMEe3P8Ay0/CvoKV/LjLYzt5I9q8b/b7+MPgf4HfsieMvFHxI8IXfjzwVpsVvHqfh+10ePWJdSEtzDFHH9lkIST97JGTuO1QCxOFJoA/Oyw/aW8O6F8Z9d8f2f7fNy3iLXtHsNBvW/4U0HSe0tJby5tlVFhAyHvrohlxnzDkniv1xtEMAVSu04AOMcnnnjjH4DpX5C/sc/txeBfh78ddJ8UWPxIuvgj8HreOaO5+FpXXPGA1XfDIIhmW1Nto3lOyOYdOeSIiMqSASR+vFmwdsrnHIwTzkE7uncE4/CgC1RRRQAU2T/Vt9KdTZP8AVt9KAPnH/gqd/wAmzeHv+yqfDz/1MtFr6O/j/wA+1fOP/BU7/k2bw9/2VT4ef+plotfR38f+fagB1FFFABRRRQAUj/cP0paR/uH6UAcpq3/JcPD/AP2BdS/9HWFdZXJ6t/yXDw//ANgXUv8A0dYV1lABRRRQAUUUUAFFFFAHH/DoZ8U+OP8AsOL/AOkFnXUy5RGOfpXL/Dg/8VV44/7Di/8ApBZ1xH7aX7Scf7NHwOvtYht2vvEOqTR6ZoGnAbpL6/mO2JAB1Ucu3ThDVUqUqlRU4r4tPQ58VXjRpurL7Ovr5HjvxqVv25f2xNM+F1vvk+Hfwukh1rxdKhPl6jqA5tLDP8SLku2epjYEAqM/X1tbi2/dp/q16DHA47V41+wr+zlN+zh8HLez1S4Oo+LPEFxJrPiW/kO+a91CbBlLN3VD8oxwcEgLkivbBFgnmuzMKkW/q8Phhon37v5/kcWU0ZcjxVRe9U19PIUH7tOpoTGOelOrhPVCmy/6tvpTqbL/AKtvpQBy/wAC/wDkivhD/sCWX/ohK6quV+Bf/JFfCH/YEsv/AEQldVQAUUUUAFFFFAAelcl8Yv8AkUrP/sM6X/6cLeutPSuS+MX/ACKVn/2GdL/9OFvQB1Q/1i/Q/wBKfTB/rF+h/pT6ACiiigAooooAR/uH6Vymrf8AJcPD/wD2BdS/9HWFdW/3D9K5TVv+S4eH/wDsC6l/6OsKAOsooooAKKKKACiiigAPSuN+Goz4p8bf9htP/SCzrsj0rj/hvH/xVPjf21xP0sLOls2S9/k/0PBdL+X/AILKX3+38J42/LVAK+qq+U7OTH/BZqYY/wBZ8Iw30xqwFfVlejmH/Lv/AAo8rKf+Xv8AjkFFFFeeeuFFFFADZf8AVt9K5f4F/wDJFfCH/YEsv/RCV1Ev+rb6Vy/wL/5Ir4Q/7All/wCiEoA6qiiigAooooAKD0ooPSgD5v8A+Cpf/Jt/hf8A7Kx8O/8A1MtGr6Nj6L9BXzl/wVL/AOTb/C//AGVj4d/+plo1fRsfRfoKAH0UUUAFFFFABRRRQAUUUUAeE/8ABTj9qGb9jL9gH4r/ABKtJri31Tw3oEw0qaCCKZoNQnK21nIUl+RkW5mhZgwPyhvlb7p/jXeRpXZmZmZjkknJJr+kL/g7w+OUfgP/AIJ6eFfBVvq91Zap488XQNJYwtKq6jp9nBLLN5hX5GRLh7FtjnlijAHYSv8AN3X9y/RlyVYfIK+ZSXvVqlr/AN2Csv8AyaUz5XPKvNWUOy/P+kFFFFf0meKFFFFABRRRQAUUUUAFFFFABRRRQAUUUUAFFFFABRRRQAUUUUAFFFFAF/QYvMu1+te3/C+VbcR/hXiWgvsuFNeoeEda+zRr81fNZ9TdSHKj5TiWjKrT5UfRnhbxaLOBfmxxWzdfFLyY/wDWfrXhMXjj7PF96s7VPiK3P7z9a/NpcN+1neSPyOXCPt6nM0ex658VGmyPN/WuV1Lxk14T82c15XN45aZvv/rVzTfEbTv979a9Slw/GjG6R7VHheOHjdI7G7k+21kX+gC57Vd0m488LzXQWmnCZR8uaHVdFilXeHeh51d+DdzfdquPC/kN9w16nL4dV1+6KzNQ0Dyx93pW9PNm9Gzpo55KWjZyOlqbGQdsV3XhDxs2muvz8CuR1a1+zZ9qxZtcazb72KurhVio2ZrWwccbCzPqrwF8ZTAE/e/rXqGj/F8XUCgyZ49a+FtE+JDWjr+86V6D4X+LhIUGT9a+GzfguMnzqJ+b574fRk+eMT6O8beKV1O1bLZyDXzP8arJbhZmA654rsm+IwvLf/WfrXB/ELV1vbeTnqK24dy2eEqpG3CmU1MDXSsfN3jOy+zag/1rErrfiBDuumI6Zrkq/ecFPmopn9LYGpz0IthRRRXUdgUUUUAFFFFABRRRQAUUUUAFFFFABRRRQAUUUUAFFFFABRRRQAU5JGidWVmVlOQQcEGm0UAf2Vf8Ex/2oZv2zf2AfhR8Srua4uNU8SaBCNVmngihafUIC1teSBIvkVGuYZmUKB8pX5V+6Pdq/KP/AIND/jlH48/4J6eKvBVxq91e6p4D8XTtHYzNKy6dp95BFLD5Zb5FR7hL5tiHhg7EDeC36uV/ljxxkqyniDGZdFWjTqSUf8N7x/8AJWj7zC1PaUYz7oKKKK+VOgRhuH41wHx9sviIvhC1uPhpJ4RuNfsrpJp7HxHHMtlqtuFcPbieEl7WRmZHEvlzDMe0xkOWX0BjgVwP7QH7Qmg/s7eB49Y1+HXLtby6WxsbDRNIudX1DUbplZ44Ibe3jd2ZlRiWICIFLMyqCwAPEx+0P+1FrxOmxfs1+EdDvJAYX1XU/ifbz6PBk/eAhsjcyqBkhGhi3HCkqCWH0R8LtO8Qad4H0uLxVfaPqXiKOH/TrjSbR7OwMmSdsETu7rGoO0bnYkDJOa+fYP8Agoz4g0w/bta/Zh/aU0Tw6oy2qnR9L1KSGMZLO9lZ6hPfHGPupA7nPC19DfDr4iaV8VPCWn69odxJeaTqcZlhmaF4W4OCrxyKskbgggoyhlZWVgCMUAbzHApplwM4wOpJPSiY/uz972wK+RP+CoH7R3ij4Ha98JrDS/FuteA/C3jLXbnT9e1vw34fi8R+I4nS0eW1hstPaC5acySLiR0tZ/LAHy/MHQA+t/tiltvRskYb5T6fl70C5EyfKDtZSc4/L25/wr85fhl+278V/i3+zT8M9B0XxtZR+KPi18VdW8DaX45fRrVdQttFsYdQvHvbnTyvkW+q+RYGAwTxKI2cNJbqyvEv0R+wx8WPGlx8YPjR8J/HXiJvG+qfCnVdPGn+JJbK3s7zVNN1GyS6h+1Q26pAJ4pRcxFoUjR1jQ7EPFAFj/gqd/ybN4e/7Kp8PP8A1MtFr6O/j/z7V8P/APBUL9r3wrf+C9D8Bx6V8SV1yL4q+A1+0S/D7XYdIcw+LNImfbqT2YsnyqELtmO5sKMkgV9Zx/GnSXG82fihV6c+Hr85PHTEJFAHX0VyP/C69H/59fE3/hO3/wD8Zo/4XXo//Pr4m/8ACdv/AP4zQB11Fcj/AMLr0f8A59fE3/hO3/8A8Zo/4XXo/wDz6+Jv/Cdv/wD4zQB11I/3D9K5L/hdej/8+vib/wAJ2/8A/jNB+NOjsNotPE5LcD/inb//AOM0AO1b/kuHh/8A7Aupf+jrCusryvUvi3pcnxf0S6+x+I1ji0nUImB0G93ZMtieB5WT0rpv+F16P/z6+Jv/AAnb/wD+M0AddRXI/wDC69H/AOfXxN/4Tt//APGaP+F16P8A8+vib/wnb/8A+M0AddRXI/8AC69H/wCfXxN/4Tt//wDGaP8Ahdej/wDPr4m/8J2//wDjNAHXUVyJ+Nej4/49fE3/AITt/wD/ABmm/wDC69Jw3+h+JjtBOB4d1DJxz/zxo6XHFN7DfATeT4o8dcbtuto3HfNhZn+lfM/wqj/4bv8A2zrzx5uEvw3+Ds8uleGkx+41bVzj7TegfxJDwikdyCCOQM/9sv8AajurLTvEnw78Ef2ovj34na1HZWKrYXAuNOsxY2y3VyYgnmEpHHIAAByynIxXvXwHXwj+zv8ACfQfBmh6f4kh07w/aJaoR4dv2Mr43SSE+TyzuWdj3Zj+HrUV9Uw31n7U01Hyj1f/AG9svRnz+Iksbi/q32IWb85dF8t33ueuRIOOvy9KkrkF+NOjqf8Aj18TY/7F2/8A/jNL/wALr0f/AJ9fE3/hO3//AMZryEe+jrqK5H/hdej/APPr4m/8J2//APjNH/C69H/59fE3/hO3/wD8ZpgddTZf9W30rk/+F16P/wA+vib/AMJ2/wD/AIzTZfjTpDJtW08TFm4GfD1+oyfUmHigCb4F/wDJFfCH/YEsv/RCV1VeW/Bv4uaXpnwk8L28ln4kLW+kWkRdNBvmRiIVHBEXPSuk/wCF16P/AM+vib/wnb//AOM0AddRXI/8Lr0f/n18Tf8AhO3/AP8AGaP+F16P/wA+vib/AMJ2/wD/AIzQB11Fcj/wuvR/+fXxN/4Tt/8A/GaP+F16P/z6+Jv/AAnb/wD+M0Adcelcl8Yv+RSs/wDsM6X/AOnC3pP+F1aOf+XXxN/4Tt//APGa5n4rfFrS9Q8L2qRW3iLcuq6dL+80G+jXCXsDn5mhA6KcepwKAPUR/rF+h/pT649PjPpDEN9k8TAbc/8AIvX5yM46iEjtTv8Ahdej/wDPr4m/8J2//wDjNAHXUVyP/C69H/59fE3/AITt/wD/ABmj/hdej/8APr4m/wDCdv8A/wCM0AddRXI/8Lr0f/n18Tf+E7f/APxmj/hdej/8+vib/wAJ2/8A/jNAHWv9w/SuU1b/AJLh4f8A+wLqX/o6wpp+NOjsNotPE5LcD/inb/8A+M1zOpfFvS5Pi/ol19j8RrHFpOoRMDoN7uyZbE8DysnpQB6pRXI/8Lr0f/n18Tf+E7f/APxmj/hdej/8+vib/wAJ2/8A/jNAHXUVyP8AwuvR/wDn18Tf+E7f/wDxmj/hdej/APPr4m/8J2//APjNAHXUVyP/AAuvR/8An18Tf+E7f/8Axmj/AIXXo/8Az6+Jv/Cdv/8A4zQB1x6VyHw5/wCRp8cf9hxf/SCzpX+Nej7GxZ+J2wCcDw7f/wDxmuY8D/FfTbDxJ4wZ7TxE32rV0kXZoN820GwtBhsQ8cqf51MhdTyiJdn/AAWcX/a+EH/uZ/8ArV9WV8ayfEexj/4K92+qNa64LV/hQ1qF/sW98/eNXZiTH5W7bgfe9fzr6c/4XXo//Pr4m/8ACdv/AP4zXpZgmvZ3/lX6nkZR/wAvf8b/ACR11Fcj/wALr0f/AJ9fE3/hO3//AMZo/wCF16P/AM+vib/wnb//AOM1557B11Fcj/wuvR/+fXxN/wCE7f8A/wAZo/4XXo//AD6+Jv8Awnb/AP8AjNAHWS/6tvpXL/Av/kivhD/sCWX/AKISoZfjTpDJtW08TFm4GfD1+oyfUmHiud+Dfxc0vTPhJ4Xt5LPxIWt9ItIi6aDfMjEQqOCIuelAHqVFcj/wuvR/+fXxN/4Tt/8A/GaP+F16P/z6+Jv/AAnb/wD+M0AddRXI/wDC69H/AOfXxN/4Tt//APGaP+F16P8A8+vib/wnb/8A+M0AddQelcj/AMLr0f8A59fE3/hO3/8A8ZoPxq0cg/6L4m6E/wDIu3//AMZoA8d/4Kl/8m3+F/8AsrHw7/8AUy0avo2Pov0FfKX/AAUw+Jem+IPgH4Ss7eDXEmm+K/w9Km40W8t4xjxhoxOXkiVRx6kZPHUivq2Pov0FAD6KKKACiiigAooooAKKKKAP58f+DyT4yXusftR/B/4fNHarp3h3wtceIY3VW86SW/u2t3DndtKqunJtAUEF5Mk5AX8ba+2v+Diz4mab8Uv+CxfxiutJu/ttlpdzY6MZPLePbPaafbQXMeGAPyXCTJnGDtypKkE/Etf6aeEuVrAcH5fQXWmpv1qXqf8Atx8PmFTnxM352+7QKKKK/RDjCiiigAooooAKKKKACiiigAooooAKKKKACiiigAooooAKKKKACiiigCxYzeUwb+6a6PTPEPkJ96uWR9hqRbnH96ueth1U3Oavh41PiOvm8WnZ941mXviRpT96sNron1/Om+f7VjTwMI9DCngKcdbGtBrLGT71dN4d1csy81w6tkZrY8P3m2RayxeGi4aGWMwsZU3ZHsnhW98wL3r0PQFEoX9K8i8HXvzLzXqXhi8yq81+cZvRcXofk2fUHFux1SWu5OlZWuWqrGeK1oLn93WVr9wvl187R5uc+Tw3N7Q8/wDFg8rdXm3iXUPJZua9B8aXfD815P4su8u2DX6FktLmtc/VOH6PMlcz5PETwy8Ma2NC8cPC65c9a4q4lLPSR3LRmvrKmBpzjZo+2qZfSqRs0e0aV8QiyAb8/jTtZ8XfaoG+bt615LZ67JDj5qtN4mdlwWNeNLI4qfNE8GXDsFU5ooteLr0XEjc1y7feq7fXrT8/5NUq9/D0/Zw5T6bC0vZwUQoooroOgKKKKACiiigAooooAKKKKACiiigAooooAKKKKACiiigAooooAKKKKAP2S/4M2/jJe6P+1H8YPh8sdq2neIvC1v4hkdlbzo5bC7W3QId20Ky6i+4FSSUjwRghv6Dq/k5/4N0/iZpvwt/4LF/B261a7+xWWqXN9owk8t5N093p9zBbR4UE/PcPCmcYG7LEKCR/WNX+f/0jMrWF4wlXX/L6nCfzV6f/ALYfXZLU5sNbs2v1/UKKKK/Bz1hssfmJjoeCD7jkV5/+034H0Hxz8F9U0zxF4w1vwDpM8lqH17R9dOhX1i63EZiEd4pBj3ybYyuf3iyNGQwkKn0KvI/26/Hngf4b/sr+KNU+I3hBfH/hPNnZTeGjpkGpNrtzcXkFvZ2qW85EUkkl1LAqhyAGKnIxmgD5G/Z6+F/7Q+rfGz41+F/A37VGrXWh/DHxRp+kaPF458HaZ4jXUIrjQNK1JnmubYWNzI3mX7qjCQgRRxgljkn9CrRBDcAbT8ycE5yCOxJ5xzwPZjX5MaPov7L+qReIrD4f/AH9pj4W/GPR9Rk0vxB4K+F0uo6DqGjXBhjkRrl7C9TRxBNDJG8UkkpEyO3lhiHVf1otkU3JO4dSwAwee5PYdR05+uTQBZZd64rwz9qj9kXXPjT8UPh38QfBfja08D+Pfhr/AGhBp1zqGgjWtMvLS/jiS6guLUT28hJNvbsjxTxsmxgdyuwr3SigD5Dtv+CWV5Z/CJFj+Jl2vxci+IT/ABRj8ajQohbprb25tHT+zxIP9CazZrcwefvKOx87cdw9Q/ZS/ZM1D4Aal448TeKPFy+OPH3xI1dNY8QavFpS6XaMYbWOztbe1tRJL5EMVvEo+aWR2d5HL/NtHtlNk/1bfSgD5v8A+Cp0f/GMugDOA3xT+HqkDowPjLReo6H8fSvo7yvn78dBnpxivnP/AIKnf8mzeHv+yqfDz/1MtFr6O/j/AM+1AB5f+9+Zo8v/AHvzNOooAb5f+9+Zo8v/AHvzNOooAb5f+9+ZoeMbG+909adSP9w/SgDkNUgVfjb4fHddF1EA+wlsR/Wuu8v/AHvzNcrq3/JcPD//AGBdS/8AR1hXWUAN8v8A3vzNHl/735mnUUAN8v8A3vzNHl/735mh22LSeb8+MUClJLcJF2r/ABdfU1j+MfFmn+BPC2paxq1xHZ6fpVu93cTSN8sUaDcSc+wrXuMvA2373b3NfIv7ZetXH7Wvx78P/s/6HJP/AGOvl6/4+uI2wIdORgYrPI5Ek7hOCchDnDcgdWBwqr1eWTtHdvsl/mcOYYp0KXMvi2iu7f8AkVf+CcnhuT9oL4oeOP2gNct5oNQ8UXZ03w/azKQbLSRHC0T4OP3kqiMk7QcJ33cfYnl4AHYdOa4f4P6Ja+HdZ8V2VjEkFnaapDbxRoMIipp1mqqo/hAVcYru8H1p43Ee2qOS0WyXZIeXYN4aioS1lu35saIuf4vzNL5f+9+Zpw4FFch3DfL/AN78zR5f+9+Zp1FADfL/AN78zTLqESW0i8/MpXr61LTZf9W30oA5T4HRBvg74Sk+7u0W0+UdADCp/r1rq/L/AN78zXL/AAL/AOSK+EP+wJZf+iErqqAG+X/vfmaPL/3vzNOooAb5f+9+Zo8v/e/M06igBpTj+L8zXI/GaLf4OtVyw3axpYznP/MQt+xyDXYHpXJfGL/kUrP/ALDOl/8Apwt6AOpCZk6serden+c07y/978zSD/WL9D/Sn0AN8v8A3vzNHl/735mnUUAN8v8A3vzNHl/735mnUUANeMbG+909a5HVIFX42+Hx3XRdRAPsJbEf1rr3+4fpXKat/wAlw8P/APYF1L/0dYUAdV5f+9+Zo8v/AHvzNOooAb5f+9+Zo8v/AHvzNOooAb5f+9+Zo8v/AHvzNOooAjlhDp1bqD19Oa5H4dxA+J/HQX5d2tpnHqLCzH8scex9a7I9K4/4df8AI0+OP+w4v/pBZ1MhdTwO7wP+Cy9j8qjd8Jm+YKNxxqzcZ64r6q8v/e/M18q6l8v/AAWS0dv73wqkX/yqMa+rK9TMNqX+Bfmzycp/5e/43+SG+X/vfmaPL/3vzNOorzT1xvl/735mjy/978zTqKAIrqESW0i8/MpXr61y/wADog3wd8JSfd3aLafKOgBhU/1611cv+rb6Vy/wL/5Ir4Q/7All/wCiEoA6jy/978zR5f8AvfmadRQA3y/978zR5f8AvfmadRQA3y/978zQ0fyn73T1NOoPSgD5v/4Klcfs3+F+v/JV/h2Ov/U5aNX0bH0X6CvnL/gqX/ybf4X/AOysfDv/ANTLRq+jY+i/QUAPooooAKKKKACiiigAoornvi38SrD4MfCnxN4w1WO6m0vwnpN1rN5HbKrTvDbwvM4QMyqWKoQAWAzjJHWnGLbsgP41/wBu/wCLVl8ev22/i9420yO6i0vxZ4z1fVrJLpVWdLea8lkiVwrMoYIyggMQDnBI5ryipb26a9vJpm+9M5c/UnNRV/rTluDWEwdLCx2pxjH/AMBSX6H57OXNJyfUKKKK7iQooooAKKKKACiiigAooooAKKKKACiiigAooooAKKKKACiiigAooooAKKKKACiilUbmxQBLCMJV/R22y/jVICtLSICGBrnrS913OetJcjud54UudhWvSvDWqbUXn9a8r0KTywlddpOr+SoG6vh8yw/Oz86zjDe0eh6bBrWIuvaszW9Yyjc/rXNr4k2oRurP1TxF5iEbvxrwaOXvmufNYfKXz3sZ/i/Ud5bmvMfE0++Vq67xBqXmq3NcPrUm92+tfdZTR5LH6RkmH9mkZMww9NqScdDUdfSI+qQUoYjuaSigAzRRRQAUUUUAFFFFABRRRQAUUUUAFFFFABRRRQAUUUUAFFFFABRRRQAUUUUAFFFFAHq/7CHxasvgL+238IfG2px3Uul+E/GekatepaqrTvbw3kUkqoGZVLFFYAFgCcZIHNf2k1/DJZXTWV5DMv3oXDj6g5r+3r4SfEqw+M/wp8M+MNKjuodL8WaTa6zZx3Kqs6Q3EKTIHCsyhgrgEBiM5wT1r+N/pTYJRxeX4tfajUj/AOAuLX/pTPpMhl7s4+h0NFFFfyefQBXnX7Vv7Oml/tWfA/UPBesax4g8O2t1e6dqkOqaHPFBqGnXVhf2+oW00LyxyIGS4tYm+aNgQCMc16G7+WuTnqBwM1wfx0/aR8I/s4+EYde8a6hcaHoMl1HazaobSaaz09nV2WS5ljVltoMx7fPm2RbnRS+XAIB+TPwK/b3m+C3w/wBd+KWhftFXmnal8WLSz8Y6po/xo+CepJNqciaZbWkUdvqGmrZQTk29nBHGbdJUlPzIHd2J/ZqxkVhEFbzI2TMZLbiwHG7POcgrznnPQV+Z/wAJZLH9i79mnwfpPhH/AIKG/Cy+8KeFdEstM0+HxXo+happ9xHbQJEsdoLC5tLxg20CNPtE82NiB5GAY/ox8M/H+n/FPwhpviLS476PT9ZhFzb/AGyymsZ5EIG1jFMqSqpHI3qCQQcYxQB0VFFFABTZP9W30p1Nk/1bfSgD5x/4Knf8mzeHv+yqfDz/ANTLRa+jv4/8+1fOP/BU7/k2bw9/2VT4ef8AqZaLX0d/H/n2oAdRRRQAUUUUAFI/3D9KWkf7h+lAHKat/wAlw8P/APYF1L/0dYV1lcnq3/JcPD//AGBdS/8AR1hXWUAFFFFACMMio24LEfhUpOBVeefyYiSvbkZ79hSavoJ23Z5n+1r+0pp/7LXwP1rxVfW7Xk1pF5dhYof3mpXbnbDAg5+8x5IyVXJwelcf+wF+zjqXwQ+G11rHiyZb74i+O7j+2fE94w+Y3EmWWAf3UiUhABxkPjAxjzfwdEP2/v20DrzfvfhV8FrxoNKCj9xruuj/AFk3o8cHyleSM7D/ABMF+xYLNoTzIW7AYHyj/P8AIfU+riJfVqH1aO8tZfovlu/+AeFhYvGYj62/hi7R/V/Pocp8NG3eLPGzeutRrgDA4sLT/Guyrj/hsp/4Svxtz01xc+/+gWddhXl631Pe0eqCiiigAooooAKbL/q2+lOpsv8Aq2+lAHL/AAL/AOSK+EP+wJZf+iErqq5X4F/8kV8If9gSy/8ARCV1VABRRRQAUUUUAB6VyXxi/wCRSs/+wzpf/pwt6609K5L4xf8AIpWf/YZ0v/04W9AHVD/WL9D/AEp9MH+sX6H+lPoAKKKKACiiigBH+4fpXKat/wAlw8P/APYF1L/0dYV1b/cP0rlNW/5Lh4f/AOwLqX/o6woA6yiiigAooooAKKKKAA9K5D4c8+KfHH/YcX/0gs6689K5H4cf8jV44/7Di/8ApBZ1Mg6ngOtjZ/wWJ8Pt/e+GM6/+VFjX1ZXyn4jHl/8ABYHwr/tfDW5GfXF+f8a+rK9XMvho/wCBfmzx8p/5e/43+SCiiivMPYCiiigBsv8Aq2+lcv8AAv8A5Ir4Q/7All/6ISuol/1bfSuX+Bf/ACRXwh/2BLL/ANEJQB1VFFFABRRRQAUHpRQelAHzf/wVL/5Nv8L/APZWPh3/AOplo1fRsfRfoK+cv+Cpf/Jt/hf/ALKx8O//AFMtGr6Nj6L9BQA+iiigAooooAKKKKACvF/+Cj901j/wTw+PUy8ND8OvELg+mNMuDXtFeG/8FPH8r/gmt+0M3934Z+JD/wCUu5r08lpqpmNCD6zgvvkjOppBvyP40aKKK/1lPz8KKKKACiiigAooooAKKKKACiiigAooooAKKKKACiiigAooooAKKKKACiiigAooooAKkgHWo6lg+5+NKWwpbFi1h8163tMs8AVnaTb7iK6OwtsLXl4ytbQ8nG1raFy0/dp9DVyPVDCOtUJT5I6n1rOvL/YDzXl+x52eN7D2jN6XxDtX73tVK68Qb8/NmuaudWx3/Oqzapu/irrp5etztp5WlrY2NQ1HzR14/nWHqDbhmpDdb+pP41BOfMz9K76NHkPTw9HkKrruXFQVYqGUYf8AWu2J3RG0UUVRQUUUUAFFFFABRRRQAUUUUAFFFFABRRRQAUUUUAFFFFABRRRQAUUUUAFFFFABRRRQAV/Zx/wTgumvv+CeHwFmblpvh14ecn1zplua/jHr+y7/AIJhv5v/AATW/Z5b+98M/DZ/8pdtX8rfSlpp5fgJ9pzX3xX+R72Q/HNeSPcqKKK/jA+mAjNed/tQ6jL4W+BXiDV7fx14f+GraPAL1vEmuWcd5p2lRpKkkrTxySxKUZFaMnzUKiQkMCAa9ErxH/gol+z94j/ae/ZP1jwj4Tj8MXGvtrGhaxbWviOWWLSdQGnazZajJa3LRJI4imjtXibajcScjGaAPmb9mf4yLcQS/Ejwt8EfgT8ctLjuZEuPHPwOu9O/tQzAbn82xvPLaKYKVZo47+aX94vyncM/cfwz8a2/xE8H6Zrdvp2taRHqUQm+yavZSWN7DxgrLE+GDjA65HHBNfCvw38YfHv9mT9rH4g/ETxR+ytqE3h3xr4e0fTtQT4YeJ9L1wzX9hPqJfUGt7v7BcSNLBd28Xyxs+2yi3M/G39CIGy65VskY69Dz26duvFAErtsUseg5NQNf7M5XG04bJxgce3PB6Dvge9TSDcuOueoPpXwR/wVys/Gnxg/ag/Zr+DGgxeGbzwz8RpfEl/rNv4lFxJotxNp9jbyWq3lvbyRS3cWJrl/swmjEkkcZZtiOpAPvQXO58BGP0/H8O3rn2pBdean3T8w9D6Z9K/Ldb/S/iL8N/hL8CtU8HeFfAXg2x+P178OvHGk+GFax8OeIRZ6LfavBDDE/wAyWdzcLZb7fcwDJJDulGWP0Z/wTn8L6f8ABr9p79pb4W+FIW0/4c+BfEWjzaDpETF7XQJ7/SILi7tIBz5cJYR3AiB2Ibs4ALYAB2X/AAVO/wCTZvD3/ZVPh5/6mWi19Hfx/wCfavh7/gqH+0F4quPBOi+GZfgt8SLXRIvir4Cx4tlvtB/seTZ4s0iRcRrqJvf3jKI1/wBF4ZwW2qGYfWkfxI1Zz/yI/ibI65nsFz06ZuR+uKAOvork/wDhY2sf9CL4m/8AAnTv/kqj/hY2sf8AQi+Jv/AnTv8A5KoA6yiuT/4WNrH/AEIvib/wJ07/AOSqP+Fjax/0Ivib/wACdO/+SqAOspH+4fpXKf8ACxtY/wChF8Tf+BOnf/JVNb4javt/5EbxP/4Eaef0F0TQA7Vv+S4eH/8AsC6l/wCjrCusryvUvH+qP8YNDm/4Q7xEJF0i+QQ+dZBm3yWTE5NwB8u3HXv+B6j/AIWNrH/Qi+Jv/AnTv/kqgDrKK5P/AIWNq/8A0Ivib/wJ07/5KprfEfWFUn/hBvE3Az/x86d/8lUAdZO/lxM393mvmj/goL8dNY8P+F9H+GnguRn+IXxSmbSdMMbc6fan/j5vGwMqEi3AHjDZIPyYPqHxA/aAl+HXg3VNc1nwj4h03S9Jt5Lu4uJbnTwIo4hlmI+08jIAAHLZr50/YksNf+LHxB8RfHrxN4P1681DxqgtfDEEctps0rRBkxBfMnTEkmGZmABwQed/Hp5fSUE8XUV1HZd3/wADf8Dxc2qTm44Ok7OW77Lv+a9bH0z+zt8D9H/Z3+D/AIe8H6JGq2Oh2whMu3DXUx5lmb3dyzH3PpXd1xsHjzWIuW8EeJmbv/pOnY7dB9r46VI/xI1dB/yIvifqBxcaef5XRNedOUpO8tT1qVOMIqMFYPht/wAjX44/7Di/+kFnXXV5V4B8falb+JvGDR+D/EFwZ9YWRhHNZfuj9itRglrgDooP411P/CxtY/6EXxN/4E6d/wDJVSaHWUVyf/CxtY/6EXxN/wCBOnf/ACVR/wALG1j/AKEXxN/4E6d/8lUAdZRXJ/8ACxtY/wChF8Tf+BOnf/JVH/CxtY/6EXxN/wCBOnf/ACVQB1lNl/1bfSuV/wCFjax/0Ivib/wJ07/5KqO4+JGrJAzN4H8SqoBJY3GnkD64uSfyBoAm+Bf/ACRXwh/2BLL/ANEJXVV5X8GfiDqdr8KfDNvF4N8RXUcGkWqLPHNYiOYLEgypa4HXk846d66j/hY2sf8AQi+Jv/AnTv8A5KoA6yiuT/4WNrH/AEIvib/wJ07/AOSqP+Fjax/0Ivib/wACdO/+SqAOsork/wDhY2sf9CL4m/8AAnTv/kqj/hY2sf8AQi+Jv/AnTv8A5KoA6w9K5L4xf8ilZ/8AYZ0v/wBOFvSn4i6uR/yIvib/AMCdO/8AkquX+LHj/U5/C1qJfBviK1RdV05/MknsGXK30BAwtyzckAcA8n0oA9RH+sX6H+lPrkI/iLq7/N/wg3ij5cg5nsFB+mbkenfFP/4WNrH/AEIvib/wJ07/AOSqAOsork/+Fjax/wBCL4m/8CdO/wDkqj/hY2sf9CL4m/8AAnTv/kqgDrKK5P8A4WNrH/Qi+Jv/AAJ07/5Ko/4WNrH/AEIvib/wJ07/AOSqAOrf7h+lcpq3/JcPD/8A2BdS/wDR1hTW+I2r7f8AkRvE/wD4Eaef0F0TXM6l4/1R/jBoc3/CHeIhIukXyCHzrIM2+SyYnJuAPl2469/wIB6pRXJ/8LG1j/oRfE3/AIE6d/8AJVH/AAsbWP8AoRfE3/gTp3/yVQB1lFcn/wALG1j/AKEXxN/4E6d/8lUf8LG1j/oRfE3/AIE6d/8AJVAHWUVyf/CxtY/6EXxN/wCBOnf/ACVR/wALG1j/AKEXxN/4E6d/8lUAdYelch8ORnxT45/7Da/+kFnSyfEjV1X/AJEXxP1A/wCPjTz/ACuia5fwJ4/1K18SeMGj8H+Iroz6urssU1l+6P2K1GDuuAOi5/GpkHVHlXi35f8Agr94NP8Ae+Hd4v8A5OZr6rr418a+L9QH/BV7wPd/8IvrazDwJexi1M1n5rj7UeQfP28Yzyw49+K+nv8AhY2sf9CL4m/8CdO/+Sq9bMlZUf8AAvzZ4+UPWsv77/JHWUVyf/CxtY/6EXxN/wCBOnf/ACVR/wALG1j/AKEXxN/4E6d/8lV5Z7B1lFcn/wALG1j/AKEXxN/4E6d/8lUf8LG1j/oRfE3/AIE6d/8AJVAHVS/6tvpXL/Av/kivhD/sCWX/AKISobj4kaskDM3gfxKqgEljcaeQPri5J/IGub+DPxB1O1+FPhm3i8G+IrqODSLVFnjmsRHMFiQZUtcDryecdO9AHqlFcn/wsbWP+hF8Tf8AgTp3/wAlUf8ACxtY/wChF8Tf+BOnf/JVAHWUVyf/AAsbWP8AoRfE3/gTp3/yVR/wsbWP+hF8Tf8AgTp3/wAlUAdZQelcn/wsbWP+hF8Tf+BOnf8AyVSN8RtY2n/ihfE/T/n404/+3VAHjn/BUv8A5Nv8L/8AZWPh3/6mWjV9Gx9F+gr5S/4KX+MtS1b4B+E7efwpr2mwyfFf4elrm4ktGiix4x0YjIjnZuTwMKeT2GSPq2Pov0FAD6KKKACiiigAooooAK8L/wCCoX/KND9oj/smXiT/ANNVzXuleF/8FQf+UaH7RH/ZMvEn/pqua9jh/wD5GmG/6+Q/9KRnW+B+jP406KKK/wBYD8/CiiigAooooAKKKKACiiigAooooAKKKKACiiigAooooAKKKKACiiigAooooAKKKKACprcZH41DUsH3PxpS2FLY39GXJ/KujtFxHXMaPNXR2U+UrwsYnzHz2Oi7i35wv4Vz2qyEfrXQ3n7wVhalbF80sK0nqLB2T1MKV9zmm1NPbMrZqPym9K9mLVj3YtWFhbDYqWmxW5BzT2UpSb1E3qViMGo5+1SMctUc55FaRNIkdFFFWWFFFFABRRRQAUUUUAFFFFABRRRQAUUUUAFFFFABRRRQAUUUUAFFFFABRRRQAUUUUAFf2Wf8Evf+UaH7O/8A2TLw3/6arav406/ss/4Jff8AKND9nf8A7Jl4b/8ATVbV/Lf0pP8AkV4H/r5L/wBJPeyH+JL0PdKKKK/is+mCmyJ5i7fcdutOooArz2P2iMoZCq7gykKCVIxj72RwRnp6VJFbLDt2qq7V2jAxgeg9vapKKAEZdy155+0B+yz4L/ae0HTdN8ZaXLfQ6LejU9MubO/utMv9MuwrL51vd2ksU8LFXdWMbruViDxnPolFAHi7f8E+vhG37O6/Cv8A4RC1XwWl6NTS3S6uUvEvhN9o+3i8EguftnnZk+0iQS7jnce/UfAD9mPwX+y34PuNF8E6Q2l2V3eTalePNeT311qF1Jt33Fxc3DyT3ExCqPMlkdsKACAAB6BTZP8AVt9KAPm//gqau39mbQMMys3xT+HgyGK9fGWijsRn8c/yx9HGH97nJHOT78Y/zivnP/gqd/ybN4e/7Kp8PP8A1MtFr6O/j/z7UAGz/OaNn+c06igBuz/OaNn+c06igBuz/OaGXCn6U6kf7h+lAHJaup/4Xf4eUMQo0XU8j1/fWGPy5/Ous2f5zXK6t/yXDw//ANgXUv8A0dYV1lADWTK9f1qGQNGsjFgo9WPAqab/AFZ/l614v+25+0x/wzL8F7jUbOD+0vE+vXMejeG9Oj+eS+1Cf5YhtAPyqTubttX3rTD0JVqsaMN5aehzYuvGjSlWntFX9fI8i/ahvZf23f2mtN+B2jXEjeDPC7w634/u4iSrY+e307PTc7BWIzwATgmMivrnTdIi0i0ihgjihhhURxRxoFWNAMBQOwHoMdh2ryD9hr9mX/hmr4Qw22qTLqXjLxBM2seJdUY75L7UJfmkyxyWVM7FOeQGOASc+1hfmzXVmFaN1hqPww0v37v5/lY5Mtw7aeKq/FPX0XYAv+c0bKNnz5zTq4dj1Dj/AIcBm8WeONzFgNbjCjH3QNOsh29eT+Ndds/zmuT+G3/I1+OP+w4v/pBZ111ADdn+c0bP85p1FADdn+c0bP8AOadRQA3Z/nNNmTMTcnpUlNl/1bfSgDlfgYjN8GvCbs24totmTxjnyVPb611Wz/Oa5f4F/wDJFfCH/YEsv/RCV1VADdn+c0bP85p1FADdn+c0bP8AOadRQA0rx/8AXrk/jKpPg+1UMRu1jTFzk/8AP/b+9dcelcl8Yv8AkUrP/sM6X/6cLegDqFjAlz/E3JI/z70/Z/nNIP8AWL9D/Sn0AN2f5zRs/wA5p1FADdn+c0bP85p1FADWXCn6Vyerqf8Ahd/h5QxCjRdTyPX99YY/Ln8661/uH6Vymrf8lw8P/wDYF1L/ANHWFAHVbP8AOaNn+c06igBuz/OaNn+c06igBuz/ADmjZ/nNOooAY6cfjXIfD5Gk8UeOQzEj+3IwvA+UDTrIfzyfxrsWGRXIfDo58U+OP+w4v/pBZ1L7B1TPBPH52/8ABW34e8ttfwNfDAPHE5PT8a+qdn+c18r/ABLj8j/grR8Mefv+CtSH5SD/ABr6qr1cx+Ci/wC4vzkeLlGk8Qv+nj/9JiN2f5zRs/zmnUV5h7Q3Z/nNGz/OadRQBHMmYm5PSuX+BiM3wa8Juzbi2i2ZPGOfJU9vrXVS/wCrb6Vy/wAC/wDkivhD/sCWX/ohKAOo2f5zRs/zmnUUAN2f5zRs/wA5p1FADdn+c0PHuQj2p1B6UAfNv/BUlAv7OHhf/sq/w7HQf9DlotfR8fRfoK+cv+Cpf/Jt/hf/ALKx8O//AFMtGr6Nj6L9BQA+iiigAooooAKKKKACvEP+Cmkfnf8ABNz9oJP73w18Rj/yl3Ne314//wAFCrH+1P2Bfjha/wDPx8P9ei/76064H9a9DKaypY6jVe0Zxf3NMiorwa8j+L+iiiv9aD8+CiiigAooooAKKKKACiiigAooooAKKKKACiiigAooooAKKKKACiiigAooooAKKKKACpID8pqOnRPtahgzR0658tq6DT7zIHNcqjbGzWrpd5yK8/FUeZXPOxVHmXMdMo8wcVDcab5tS6WfNUVt2ml+aBXiVKvs2fP1K3smclcaGT/DVZ9F2Ho1egHw7vX7tVbvw9tH3cU6eZdAp5strnByaeUFUrkbV+ldZqumeWG+X61zGrR7C3516uFrc7PawmI9ozNqGVsvUrNtWoK9OJ6sQoooqigooooAKKKKACiiigAooooAKKKKACiiigAooooAKKKKACiiigAooooAKKKKACiiigAr+zH/AIJlx+T/AME3P2fU/u/DXw4P/KXbV/GdX9oH/BPWx/sv9gX4H2v/AD7/AA/0GL/vnTrcf0r+U/pTVksDl9Lq51H9yiv1PfyFe/N+SPYKKKK/jM+lCiiigAooooAKKKKACmyf6tvpTqbJ/q2+lAHzj/wVO/5Nm8Pf9lU+Hn/qZaLX0d/H/n2r5x/4Knf8mzeHv+yqfDz/ANTLRa+jv4/8+1ADqKKKACiiigApH+4fpS0j/cP0oA5TVv8AkuHh/wD7Aupf+jrCurZto/SuT1g4+N+gf9gXUv8A0dYV091NttnY8KAckcke/wCHWgLkWrajDYaVcXFxJHbQwxs8kkr+WsaqMli38IHXPbrXyJ+zFZzftw/tP6h8a9WjmHgjwfJNo3gG3mQqt043Lc6jtPGSwKIccBeoKkVqftzfELVvjt8RdJ/Z58G3TQ6l4mQX3jC/gb/kCaICNys3Z58FQOuGx0YE/SHw2+Hml/C7wXpPh3Q7VbHSdHtUtbeJOVEcY2rk9yfvE9ySTkkk+tG2Gwt38dRad1Hv6y2XkvM8OV8Xi/d+Ck9ezl2/7d3fm7bo2IbNYbgMrYwTlQODnk9/X+vrVqkC80teT5vc9qMUlZBRRRQUcj8Nv+Rr8cf9hxf/AEgs666uR+G3/I1+OP8AsOL/AOkFnXXUAFFFFABRRRQAU2X/AFbfSnU2X/Vt9KAOX+Bf/JFfCH/YEsv/AEQldVXK/Av/AJIr4Q/7All/6ISuqoAKKKKACiiigAPSuS+MX/IpWf8A2GdL/wDThb11p6VyXxi/5FKz/wCwzpf/AKcLegDqh/rF+h/pT6YP9Yv0P9KfQAUUUUAFFFFACP8AcP0rlNW/5Lh4f/7Aupf+jrCurf7h+lcpq3/JcPD/AP2BdS/9HWFAHWUUUUAFFFFABRRRQAHpXG/DvnxT42/7Dij/AMkLOuyNcd8Omx4q8b+2uL/6QWdLqgfws8I+LZ8v/grF8I2/56eEtWjHvgg19UV8r/HdPsf/AAVP+BEmf+PrQ9dh/wC+Yd39f0r6or1Mw/g4d/3P/bpHj5V/GxP/AF8/9tiFFFFeYewFFFFADZf9W30rl/gX/wAkV8If9gSy/wDRCV1Ev+rb6Vy/wL/5Ir4Q/wCwJZf+iEoA6qiiigAooooAKD0ooPSgD5v/AOCpf/Jt/hf/ALKx8O//AFMtGr6Nj6L9BXzl/wAFS/8Ak2/wv/2Vj4d/+plo1fRsfRfoKAH0UUUAFFFFABRRRQAUUUUAfw2+JtNOjeJNQs2GGtbmSEj02sR/SqNfR3/BYHwZfeA/+Cpn7QNjqFldWFxP481bUUiuIWidorq5e6ikAYAlJI5kdW6MrqwyCDXzjX+sWQ45Y3LMPjF/y8pwl/4FFP8AU/P6seWbj2bCiiivWMwooooAKKKKACiiigAooooAKKKKACiiigAooooAKKKKACiiigAooooAKKKKACiiigCWJ9wx3q3p8hWWqMZw4q7p6b7gVlUtYyqbHZ+Gk80j6132gaZ5qg/lXG+D7Xftr1Lwpp25F4r4XNq3KfnOe4jkbsPh8P7kFVNU0DCNla7qy0kGPpVPWdLAjavl6eOfPY+MpZk/aWueO+JdM8oNXn3iGDy2YY9q9h8Y6fgNXlviu22u1fc5PiOax+kZDiuexyU5+X8aiqa4XA+hqEDca+sjsfaR2CiporNpP/rVYTR2Zfu0SqRW4pVIrco0VYmsvL6jHvVc8GmpJ7FKSewUUUUxhRRRQAUUUUAFFFFABRRRQAUUUUAFFFFABRRRQAUUUUAFFFFABRRRQBe8M6adZ8SafZqMtdXMcIHruYD+tf3JV/Hb/wAEfvBl948/4Kmfs/WOn2V1f3EHjzSdReK3haV1itblLqWQhQSEjjhd2boqozHABNf2JV/Fv0pMcp5ngcH/ACU5y/8AA5Jf+2H02Qx9ycvNfh/w4UUUV/LJ7wUUUUAFFFFADZZVhjZ2O1VGST2FYfxD+JWjfCfwNrXibxJfW+j6D4ds5dQ1G+uGxFaW8Ss8kjEZOFRS34gdTW5IcIT6c8V8uft5/C/4wfE74h/DePwX4S8C+OPAfh+9l1zXNC1/xXcaD/aWpQSRPp5keOwvPNtoZd1x5O0bpordiwEW1wDqdQ/4Kb/BfTvgd4N+In/CV3V14Z+IW8eHPsWhalealrHlq7S+Tp8Vu16wjWNzIfJ/dgbn2qQT6h8Ivjb4X+P/AMONI8WeDtZsfEHhzxBbm4sL+0ffHOoO1u3DKwZHU4aN1KMFYFR+S/8AwTX+MU37POh/sufFT41Wuj+B/hva+BfGHg3TNcfWZb3T9MvZdV0y6ge8nkhhSzluI7S9hRMuJBbphy0uxfuP/gkbp1xL+z14w8RLa3lj4f8AHfxG8V+KvD0FzatbM2lXmrzy20xidQ0azrm4QEKCl0rgc4ABv/8ABVB9v7M/h4HCsfin8PSoP8RHjLReBivpDd8/rzjjtXw9/wAFQPCvxnTwXo17P49+Gs3w/k+KngMR6NH4JvY9YRW8W6OIQb/+1TC2yUo7ZtBuVSo2Eh1+sxoHjYEf8VB4ZY8kk6BL8x45/wCPqgDsM0ZrkP7B8a/9B7wx/wCCGX/5Ko/sHxr/ANB7wx/4IZf/AJKoA6/NGa5D+wfGv/Qe8Mf+CGX/AOSqP7B8a/8AQe8Mf+CGX/5KoA6/NIeRXIHQvGoH/Ie8M/8Aghl/+SqbLo3jSNQ39veF+oxu0GbGc8f8vVC1fKD0Vx2tSZ+NXh9hjnRNTbnjgT6fXOftVftK6b+y78EdU8W6nFJeTW+22sLGFS02o3knEMCqBnczEZwCQoJwcYqtrWm+Krb4paN52ueG966RfFZDo0ixxxq9mHBX7TkgsQc5GMCvm/4X6N4m/wCCgH7TbeOLjUtHl+H/AMKr57Pwu02lytZ67qQXE98YftA3LE+wRtux9G3qvdgMPCpJ1K3wQ1fn/dXqeXm2InCmqNH456J/y+b8v1sezfsC/s3ar8I/B1/4s8bP9u+J3xFkXV/Ed2Qf9GZgTHZp/dSJCq4HBYNjACgfQSxYfPzHndz2OMVyI8PeNVlYjX/DO1m4DaFMdox6/auvv6ADrkl/9g+Nf+g94Y/8EMv/AMlVz4jEzr1HVnu/y6fctDqweFhh6Kow2X59W/NvU6/NGa5D+wfGv/Qe8Mf+CGX/AOSqP7B8a/8AQe8Mf+CGX/5KrE6jr80ZrkP7B8a/9B7wx/4IZf8A5KpDoXjUY/4n3hnqOmgy/wDyVQAfDdx/wlvjgfN/yHI+oxydOsmx+RFdhmvKfAejeLpPFHjDy9a8OpIurIJmfRZGEzfYrYhgPtI24TauOfu574HT/wBg+Nf+g94Y/wDBDL/8lUAdfmjNch/YPjX/AKD3hj/wQy//ACVR/YPjX/oPeGP/AAQy/wDyVQB1+aM1yH9g+Nf+g94Y/wDBDL/8lUf2D41/6D3hj/wQy/8AyVQB1+aZM22Js5x39q5P+wfGv/Qe8Mf+CGX/AOSqZceHfGksDq2veGtrKQduhSg47/8AL1QBY+BoK/BfwiMf8wSy/wDRCV1Wa8r+DujeMJ/hR4Zkt9Z8O29vNpNtJHC2iSP5QaNWC7vtIzjOOg6V0v8AYPjX/oPeGP8AwQy//JVAHX5ozXIf2D41/wCg94Y/8EMv/wAlUf2D41/6D3hj/wAEMv8A8lUAdfmjNch/YPjX/oPeGP8AwQy//JVH9g+Nf+g94Y/8EMv/AMlUAdcelcl8Z2Mfg21bazbdY0s4x/1ELek/sHxqf+Y94Y/8EMv/AMlVzPxW0Pxcnha1+0a14dmibVdOUrHoskbBjfQBSGNyejEHGOQMcZyAD1EH94O46ZHr/kVJmuNTQPGqt/yMHhkkjJzoEvJ9f+Pr3/Sn/wBg+Nf+g94Y/wDBDL/8lUAdfmjNch/YPjX/AKD3hj/wQy//ACVR/YPjX/oPeGP/AAQy/wDyVQB1+aM1yH9g+Nf+g94Y/wDBDL/8lUf2D41/6D3hj/wQy/8AyVQB1x5Fclqj7/jf4eI/i0TUzz6efp4pp0LxqBn+3vC/y8/8gGX/AOSq5nUtD8XJ8X9DjOteH2m/se+Mcg0WQIirJZBlK/acnJYHORjaOtAHq2aM1yH9g+Nf+g94Y/8ABDL/APJVH9g+Nf8AoPeGP/BDL/8AJVAHX5ozXIf2D41/6D3hj/wQy/8AyVR/YPjX/oPeGP8AwQy//JVAHX5ozXIf2D41/wCg94Y/8EMv/wAlUf2D41/6D3hj/wAEMv8A8lUAdca4z4eyAeKvHH3v+Q3HwRjk6dZNj8iKkOheNRj/AIn3hnqOmgy+v/X1XLeCdH8XHxH4y8vWvD6SJqqCZm0WRvOb7FbEMB9pG3CbVxz93PtRa9vUJfC/R/oeX/tMf6P/AMFOv2aW6/aLbxLEeDxtsQ3X8a+qA2exr46/aq0vxRaft8/szyT6voct20/iOO2lXSZEig3WEYO5PtBL8ZA+ZeSD2wfpUaH41L/8h7wwMgcf2DL/APJVepjtcPhpf3P/AG+Z4+WaYjEx/v8A/tkTsc0ZrkP7B8a/9B7wx/4IZf8A5Ko/sHxr/wBB7wx/4IZf/kqvLPYOvzRmuQ/sHxr/ANB7wx/4IZf/AJKo/sHxr/0HvDH/AIIZf/kqgDrJm2xNnOO/tXMfA0Ffgv4RGP8AmCWX/ohKr3Hh3xpLA6tr3hraykHboUoOO/8Ay9Vzvwd0bxhP8KPDMlvrPh23t5tJtpI4W0SR/KDRqwXd9pGcZx0HSgD1TNGa5D+wfGv/AEHvDH/ghl/+SqP7B8a/9B7wx/4IZf8A5KoA6/NGa5D+wfGv/Qe8Mf8Aghl/+SqP7B8a/wDQe8Mf+CGX/wCSqAOvzTWOFPB6VyX9g+Nf+g94Y/8ABDL/APJVI2geNSjf8T7wv0/6AMv/AMlUAeP/APBUvn9m/wAL8H/kq/w7P/l5aLX0bH0X6Cvk/wD4KW6T4otfgJ4Tk1DV9BurNfiv8PRJFb6RJBI3/FYaNjDm4cDnB+6cjjjqPrCPov0FAD6KKKACiiigAooooAKKKKAP5fv+Dqb4PX3w2/4K3a9rl1JayWvxC8O6VrlmImYtFHFB/ZzLJlQA/mWLthSw2uhzklR+cFfuh/weYfA+JT8D/iTa6Rdec39peGtU1RVkaEKPJubK3c/6tGyb91GAzjzPvCMbfwvr/SbwXzX6/wAG4Go94RdN+XJJxX/kqT+Z8TmVPkxMl8/vCiiiv1I4QooooAKKKKACiiigAooooAKKKKACiiigAooooAKKKKACiiigAooooAFG41Ktvn1P0pLZdz/pXQaTo32gD5axrVlBXZhWrKmrswTan/a/KmeQfauzbwnuThaz7zwsy/wmueGOpvS5zU8wpydrnPxxbT71raFYtJKvFOj0Blk+7XRaBopRh8ves8VioqGhnjMZFQ0Z03g7T8FK9S8L222NfzrhvC9l5YWu90WUQqv61+d5tUc27H5XnlZzbsdVAAIx9Kp6yFaE02PVVVOtZ+q6qsiV83TpS5z4+jQnz3OO8YRb1evLfFVluZuK9R8QzecGrh9Y0z7S7fL+Ffb5TU9mtT9IyOr7NK55neWDCU8VY07w9Jcv939K7a18FNdS/cJrsPC/wwaYr+7/ACFe/iM7p0obn02L4hpUYas4LRvA7SY+U1qT+Cvs8XKfp1r2XS/hl5UA/d9vSqHifwqtlbt8vavmXxB7SpZM+P8A9alVq8sWfPnibSfsobiuXl/1hr0H4jRLCXHvXn0hy5r7rLajnS5mfpGV1XUoqTG0UUV6B6QUUUUAFFFFABRRRQAUUUUAFFFFABRRRQAUUUUAFFFFABRRRQAUUUUAfo//AMGrPwevviT/AMFbtB1y1ktY7X4e+HdV1y8ErMGljlg/s5VjwpBfzL5GwxUbUc5yAp/qBr8L/wDgzP8AgfEx+OHxJutIuvOX+zfDWl6oyyLCVPnXN7bof9W7ZFg7DBZB5f3RId37oV/nj9IHNfrnGdemndUYwpr/AMB5n90pNH2GT0+XDJ97v+vuCiiivxU9QKKKKACiiigBGXeu09DUT2fmRMrN97nIHIYdDzkccdu1TUUAQvZCQNuZjkbRz936e/fPXP4UeRsLNuy3zfhn65x0HTj2qamyf6tvpQB84f8ABU4f8YzeH/8Asqnw8/8AUy0Wvo/Hz/n/AEr5x/4Knf8AJs3h7/sqnw8/9TLRa+jv4/8APtQAu36flRt+n5UtFACbfp+VG36flS0UANZfl7VHMWC/Lt9s8A0+c7Y/xFeaftVftKaL+yx8F9V8WaxvlNqnl2NlH80+pXLHbHAgHJLMRnGcDJwcVVOjKtNUobmVatGjB1Z9DwT9v7xprfxS+M3hX4O+A71rXxN4s0i6g1y+h5l0PSJZbdpJc9NzrbyIBkZLDn5lz9N/CD4U6R8Fvh5oPhXw/Zpp+i6Hara28S8khRjLHuzEs7HqWYk8k5+ef2Hv2eda+GvxDtvGXjpvP+KHxI0vUNU8QM3K2C+bY+TZp2CxBjwMDcX7Kor6vW3Il3bsj0x3rvzCqlFYWm9I6trq/wBV28jy8uozlN4yrvLRJ9F/W/UVFb5f14p+36flSIhUD5qdXmR7nsrRWE2/T8qNv0/KloqgE2/T8qQpn8/SnUUAcj8OBnxZ44/7DaD8rC0/xrrdv0/KuS+G3/I1+OP+w4v/AKQWdddQAm36flRt+n5UtFACbfp+VG36flS0UAJt+n5Uko/dt9KdTZf9W30oA5X4Fr/xZbwh/wBgSy/9EJXV7fp+Vct8C/8AkivhD/sCWX/ohK6qgBNv0/Kjb9PypaKAE2/T8qNv0/KlooATGB2/KuT+MfPhKz/7DOl/+nC3rrT0rkvjF/yKVn/2GdL/APThb0AdSB+8H0P9Kft+n5U0f6xfof6U+gBNv0/Kjb9PypaKAE2/T8qNv0/KlooAa6/I309K5PV1/wCL4+H/APsC6l/6OsK61/uH6Vymrf8AJcPD/wD2BdS/9HWFAHV7fp+VG36flS0UAJt+n5Ubfp+VLRQAm36flRt+n5UtFADSmfz9K4/4f/N4o8cf9hpB+VhZ/wCNdkTiuN+Hg/4qbxwfTW1/9ILOiP6ils/RnhP7aUfk/tufsw3G77us6vD/AN/LNf8A4n9a+o4z5jDjp/n+tfLX7dbfZ/2oP2abn+74tuYfpvtsV9SwHIB/v8/TpXpY3XCYd/3X/wClyPIy/TGYlP8AmX/pER5HI/wpdv0/KjPIoLba809cNv0/Kjb9PypBJmlDZFSpJ6DElH7tvpXK/Atf+LLeEP8AsCWX/ohK6iWYFGA9K5f4Gybfgr4Q/wCwJZf+iEq7MnmVr3Or2/T8qNv0/KkMmBQr5/8A10ihdv0/Kjb9PypA5LdKdQAm36flSMvy9vyp1B6UAfN3/BUsf8Y4eGP+ysfDv/1MtGr6Oj6L9BXzl/wVL/5Nv8L/APZWPh3/AOplo1fRsfRfoKAH0UUUAFFFFABRRRQAUUUUAfnb/wAHRvwP/wCFwf8ABJHxNqi3f2eX4d65pviVIvJ8z7X+8axaPO4bMJfPJuw3+r24+bcv8uNf28/Gz4T6Z8evg14u8C6091Ho3jTRbzQr97V1SdLe6geCQxllZQ4R2wSpAOMg9K/ic8feCNS+GfjrWvDetWd1p+seH76fTr61uYWhmtp4ZGjkjdGAZWVlIKkAggg1/af0X88VXLMXlEnrTmpr0mrO3o43/wC3j5nPaVqkandW+4yaKKK/qU8EKKKKACiiigAooooAKKKKACiiigAooooAKKKKACiiigAooooAKKKKAJ7D/XD616L4M00XCrxXnFm+yda9X+GBE7R14udScaXMjwc+m40eZHX6d4N+0wj5e1NvvhyW6R/pXp/gfw6t7Avy/pXaR/DT7RFxH+lfluI4h9hUs2fi+K4qeHqtNnzJceAGhJ+SpbPwybdvu19Aa18KjGrfu/0rjtb8FfYyfk6e1dlDiKNZWuehhuK44hctzi7GD7Mo9q0YtX+zrVbVo/sO6uW1jxF5O4bq7qdF13c9Klh3iXdHYS+KVQfeFU7nxMsv8Vec3njDDn5qdY+JPtD/AHvwrujk/Kuax6cch5VzNHcSXP2w8Va0zwwb9/u96z/CMTahIvfJr2z4ZfDptReP92e3avGzPHRwcG2z57OMyhgINtnPeDvhM126nyv0r1fwn8GfLiUmHt6V6n8P/g/HbWsckyBFx3HWu9tNAsrRNqx/jX45nnHS5+RSPwrPuPqlSbhSdzwfVPh+un2zfu+g9K8e+LFutjDJX1d8UNMjsLNmXA4zXyD8ftbWAzfN617/AAfip4uqme/wLjKuOrxZ83fE++DXbrnua4UnJrb8a6j9s1J+e9Ylf0rgKXs6KR/XWW0fZ4eMQooorsO4KKKKACiiigAooooAKKKKACiiigAooooAKKKKACiiigAooooAKKK1vAPgjUviZ460Xw3otndahrHiC+g06xtbaFpprmeaRY440RQWZmZgAoBJJAFZ1q0KUHVqO0Yptvslq2CTbsj+nj/g1y+B/wDwp/8A4JI+GdUa7+0S/ETXNS8SvF5Pl/ZP3i2Kx53HflLFJN2F/wBZtx8u5v0SrmPgn8J9M+Avwa8I+BdFe6k0bwXotnoVg906vO9vawJBGZCqqpcoi5IUAnOAOldPX+U3EucSzXNsTmUv+Xs5T9FJtpfJWR9/Qp+zpxh2VgooorxDUKKKKACiiigAooooAKbJ/q2+lOpsn+rb6UAfOP8AwVO/5Nm8Pf8AZVPh5/6mWi19Hfx/59q+cf8Agqd/ybN4e/7Kp8PP/Uy0Wvo7+P8Az7UAOooooAKRm2rS5qKZy0LKv3mHGO1AbEeo38VjYTTXEkdtDChkkeRtqoq8sxPYAc57da+Ovg9Zyf8ABQf9p9viRfRz/wDCpvhrdPaeDrWUFYdc1FCRJqJU/eROVT1IByCGUa/7aPxF1b9on4p2f7PXgW8ktp9USO78carAf+QJpJ5aAv8Awyz8AKeSknoTj6T+Gfw80n4U+B9J8N6DZR6boui2i2lnbRDCRRINoz3LN94seSc9ySfYpv6lQ9r/AMvKisu8Yvd+stl5X7o8GtH6/iPZL+FTev8Aektl6R3fnZdGUb6FovjpofzfK2jak2MDk+dYdfp0+gH49lXJaqMfHDQP+wLqX/o6wrra8ZRtoe9e4UUUUwCiiigAooooA5H4bf8AI1+OP+w4v/pBZ111cj8Nv+Rr8cf9hxf/AEgs666gAooooAKKKKACmy/6tvpTqbL/AKtvpQBy/wAC/wDkivhD/sCWX/ohK6quV+Bf/JFfCH/YEsv/AEQldVQAUUUUAFFFFAAelcl8Yv8AkUrP/sM6X/6cLeutPSuS+MX/ACKVn/2GdL/9OFvQB1Q/1i/Q/wBKfTB/rF+h/pT6ACiiigAooooAR/uH6Vymrf8AJcPD/wD2BdS/9HWFdW/3D9K5TVv+S4eH/wDsC6l/6OsKAOsooooAKKKKACiiigAPSuP+HX/IzeOP+w4v/pBZ12B5rjvh5x4m8cf9hxf/AEgs6NtWS1fTyPBP+Cg3+j/Gr9nG49PiBDB9N8Tf/E/rX1PCflj+hr5Y/wCCkY+z+N/2e5hlvL+KWlxD5T/Gso7Z9P1ycAV7x8Uvjn4V+A3hD+3PGWuWHh3S1kEQmvJNu92zhEAyXYgE7VBOAT2NepiKcp4XDwgruz0Wr+Js8bC1I08ZiKlR2jdavRfCkdkxwPzpsj4T7ufavmTUv+Cwv7P9qq/ZvGs2pTOdscNpoeoTPI393iDAJ7ZIrmU/4Ke+LvFN22m6H+z/APEiTVdWjFx4eF7GtvBfW/I8+4cj/RVBx8rbiQRyM1P9i4x7wcfXT8HYqWfYGOqnzL+6m/xVz66W4UylfL+YDP3vXoPX9KkFwFXK7Tgkfe9P/r18paR8MP2r/Gtr/aV78TPAHhC4vhvk0u30EXyaX3CLIx/eHsWbI9B0pY/2CfiR8X9UmvPip8cvGUybRb2+m+D5v7EsWiHJM6AOJGbHXC47c0fUKUVepXj8uZv8rfiKOYVp60sPLyvypfPW/wCB9Sz6xCrNH5ke/aWC+YA2B1OD2968/wDgN8WPC918F/Cgh8RaDL5WlWsD7dQiO10gTcvB6jnIrwn4g/8ABIXQbbQpr34f+O/HXg3xl5L239tzapLqTT2rqVe3ljlcKyYYlcbSGAOTirvwY/4JT/AnW/g/4Sm1LwDp15fS6LaG4nW5uITNIYo2ZyEkA3M3JPfkdK0jhcqirurNv/Av/kiY4nNXKzowXnzv/wCRPdde/aa+GvhyRlvvHng20kT7yT63bRkfgzir3gL48+C/iZqzWPh3xR4b168jiM8kGnanDdSRxhgpcqjEhdzKMnuRXB6T/wAE2/gXo1qsMPwt8HSKve5sFumP1Mu4muu+F/7Kvw7+C3iKfVvCfg3w34d1O6haCW506wjt5JI2YOVJUD5dyqce1c9aODtak5P1SX5Nm9J5i5/vuVLsm3+aR3wI31JTQuKdXAj1QoPSig9KYHzf/wAFS/8Ak2/wv/2Vj4d/+plo1fRsfRfoK+cv+Cpf/Jt/hf8A7Kx8O/8A1MtGr6Nj6L9BQA+iiigAooooAKKKKACiiigAr+WL/g5l/ZTh/Zk/4KqeKtQ0+C1t9F+KNnB4ytIoZpZGjmnLw3nmGTo73kFxNtUlQs6AbR8i/wBTtfk9/wAHdH7KU3xb/YU8K/E+wguri++EmubbzbNGsMOm6l5cEsjI3zu4uorBV2HhZJCVIG5P2PwJ4k/sni2hCbtDEXpS9ZW5P/J1FejZ5ubUfaYdtbrX/P8AA/nAooor/RU+NCiiigAooooAKKKKACiiigAooooAKKKKACiiigAooooAKKKKACiiigBUbawr0n4T6ji5jXd3Fea11Pw61P7NqKfN35rzs0o+0oNHl5vQ9rhpI+0vgzGt1HFX0H4T8GLfWy/KPyr5n/Z81pZmh57ivsLwE6toSyL1wBX8rcb1p4apKR/F/iDUq4au1HuYOtfC9ZYGKxj8q8j+JPw7NmJD5Z/Kvo77VtasHx94Si17S5JI1+cDkV8Vw/xcpV+RyPkcl4gr4etH2j0Pgj4mae2ntJ2xXiXi7WWhlYZr6o+PngiS1M3yY618l/EOwe1vmyMDNf1PwjiKeJpqR/XnAuKpYqkpHO3OptI/3jWt4Yumnu1X3rnlUs2O9d18LPCsmp6hH8p6jtX3GOlClRcpH6LmFSnRoOUuh7Z8D/Cr6nND8m7JFfZ/wa+G8WmaZHcTphVAwD/FXlf7LfwfaVYZpI8IoBJI4Ar6Mu7mOxt1hjwscYwAK/j3xa47pYKMkpH8ZeIvEjxWLeFw79SW5v8Ab8q8KvAA7UWs5kasj7SZZK1dKTA3N91Rk1/KuR8QYjNsxSTurn5bUpKETjPj3rS6fpJXPITmvgn9oTxd5lzMN3c96+p/2p/iAqG4VX4APevgv4t+JjqOpyKGzzX9++F+SNU4zkj+lvB3h+Xs41przOKvZ/tFwze9Q0Zor9/SsrH9MpWVgooooGFFFFABRRRQAUUUUAFFFFABRRRQAUUUUAFFFFABRRRQAUUUUAFfoH/wbNfspw/tN/8ABVTwrqGoQWtxovwus5/GV3FNNLG0k0BSGz8sx9XS8nt5trEKVgcHcPkb8/K/o/8A+DRf9lKb4SfsKeKviffwXVvffFvXNtnumjaGbTdN8yCKRUX50c3Ut+rbzyscZCgHc/5N428Sf2PwjiZQdp1v3UfWd+b7oKTXmj0Mro+0xEV0Wv3f8E/WGiiiv84D7QKKKKACiiigAooooAbK/lxs2N20ZxnrXmP7QXxQ+JfgubR7b4b/AA30Xx1c3vnvfS6x4tTQLTTUjMYQF1t7mWR5d7FQsW0CM72QlQfTLlFlgZWxtf5eQD1478V8vf8ABSLxP8crbwx4c8N/Bvwf4q1q38VXMsfirxB4c1TSbXWPDOnKFz9hi1K6toTdT7mjSUsRAFaQpK4QAAqQf8FP5PEP7P3grXdC+HGq33xG8eeMb74f6f4OudUjt0h1nT5r2PURNfKjp9kt1067kNxHHIWWMYjySF9I/ZI/axvP2jIvGui+I/CbeB/H3w31r+wvEuhLqQ1KG1ke1hu4J4LkRx+dBNb3EbqxjRs7gUGM14D4n/Zr8RaF8If2f/FHwv8AgrrXhHUP2ffE097b/D7WNa0xdQ1PTbiwvdOudlzDeXFq1yRem5V57nl0cOwMnmD079hL4ReMtJ+Jfxk+Kfjrw+3gvWfjD4htL6z8ONqFvfT6Rpun6bbWFstxLbs8LXEvlSzOInkVRIqeY2zJAJv+Cp0n/GMugHGQvxT+HrEjooHjLRep6D8fWvo7zfn788A468Zr4h/4KhfsheFbHwXofjyPVfiS2uS/FXwG32eX4g67NpCGbxZpEL7dNe8NkmFcldsI2thhggGvrOP4LaSg2G88UMvXnxDfjB46YmAoA63zP978jR5n+9+Rrk3+C2jheLrxMf8AuYr/AP8Aj1Rv8HNJVW/0jxNkdP8Aio7/AJ/8jUnJK7DqkddNINn8X5V4x+2d+1PH+zR8KluLGz/tbxh4guF0vw5pSK7NfXrkBchQSI0zuZuBhcZBNbnxK8O+EPhd4C1TxBrmreItP0nSbZ7q7nk8R34WONOTn99k56ADk5wOcV87fsafAC4/af8AiJP8cPHFvrltp9wDB4A0m51S587SNO5H2pnL+YJZsseWOFdsEqy16OX4em/9qrfBHp/M+i/V+R4+ZYqbf1Sj8cuv8q6v17Hsv7Df7L0n7Ofw4ubrXbo6t4+8XTnVfFGqSDdJdXcmWMYP/POPJVR064AyAPbsbV5ZmCgnJHJ/pXKp8FNJU/8AH34kxz/zMOodzn/nt196U/BbR1G4XficFeR/xUV//wDHq5K+InXqSqz3bPQwuGhh6MaUNl/X3vqN1SdW+N3h885bRdRIHsZbE/0rrvM/3vyNeW6l8JNLj+L+iWv2zxG0cuk6hKxOvXu7IlsRwfNyOtdN/wAKU0f/AJ+vE3/hRX//AMerI6DrPM/3vyNHmf735GuT/wCFKaP/AM/Xib/wor//AOPUf8KU0f8A5+vE3/hRX/8A8eoA6zzP978jR5n+9+Rrk/8AhSmj/wDP14m/8KK//wDj1H/ClNH/AOfrxN/4UV//APHqAOs8z/e/I0jzBF6N1A6HucVyn/ClNH/5+vE3/hRX/wD8eob4KaOVYC88TruBGR4iv+//AG2oAT4bOD4r8c4O7braZx2JsLM/yx+Z9K63zP8Ae/I15b4F+E+maj4m8XrJd+IgLXV0iXZr18m4CwtDziXk5Y/pXTf8KU0f/n68Tf8AhRX/AP8AHqAOs8z/AHvyNHmf735GuT/4Upo//P14m/8ACiv/AP49R/wpTR/+frxN/wCFFf8A/wAeoA6zzP8Ae/I0eZ/vfka5P/hSmj/8/Xib/wAKK/8A/j1H/ClNH/5+vE3/AIUV/wD/AB6gDrPM/wB78jTLqYR20jc/Kpbp6Vy3/ClNH/5+vE3/AIUV/wD/AB6my/BbSFTct34mDLyM+Ib9hkeoM3NAD/gdLt+DvhKP723RbT5h0IEKj+nSur8z/e/I15f8G/hHpep/CTwvcSXniQNcaRaSlE16+VFJhU8AS8da6T/hSmj/APP14m/8KK//APj1AHWeZ/vfkaPM/wB78jXJ/wDClNH/AOfrxN/4UV//APHqP+FKaP8A8/Xib/wor/8A+PUAdZ5n+9+Ro8z/AHvyNcn/AMKU0f8A5+vE3/hRX/8A8eo/4Upo/wDz9eJv/Civ/wD49QB1hfj+L8jXI/GaXZ4OtWwx26xpZxjH/MQt+5wBTv8AhSujj/l68Tf+FFf/APx6uZ+K3wl0vT/C9q8Vz4i3NqunRfvNevpFw97Ah+VpiOjHHocGgD1APiTo3denX/OKd5n+9+RrkU+DGkKQv2vxMRtx/wAjDfjAznoJgO9O/wCFKaP/AM/Xib/wor//AOPUAdZ5n+9+Ro8z/e/I1yf/AApTR/8An68Tf+FFf/8Ax6j/AIUpo/8Az9eJv/Civ/8A49QB1nmf735GjzP978jXJ/8AClNH/wCfrxN/4UV//wDHqP8AhSmj/wDP14m/8KK//wDj1AHWPINjfe6elcjqk6t8bvD55y2i6iQPYy2J/pTj8FtHUbhd+JwV5H/FRX//AMermdS+Emlx/F/RLX7Z4jaOXSdQlYnXr3dkS2I4Pm5HWgD1LzP978jR5n+9+Rrk/wDhSmj/APP14m/8KK//APj1H/ClNH/5+vE3/hRX/wD8eoA6zzP978jR5n+9+Rrk/wDhSmj/APP14m/8KK//APj1H/ClNH/5+vE3/hRX/wD8eoA6zzP978jR5n+9+Rrk/wDhSmj/APP14m/8KK//APj1H/ClNH/5+vE3/hRX/wD8eoA6uScRrnDdQOh7nFch8PJF/wCEn8dfxbdbTdg9M2Fmf5Y59z6VI3wU0cowF54nXcCM/wDCRX/f/ttXMeBvhNpupeJfF6SXniJVttXSIbNdvV3gWNofm/e85LH8KXcOzPnj/guJrureEvgT8O9Y0GY2uvad8QdPn0uVUWRluVt7t4mVGyGIdVO0jnpWn8Lv2AfHfjT4l6D4y+NvxLPjiXSbia8i8ORWR/sm3nKGOJ0BKrlRlyBHw+OSBk/QXi/9lTwf8QILOPW7fVtWj0+7jv7ZbrWb2Rba4QELKgM3ysAxwexOa1/+FI6Pkf6V4lGCeniG/wCQeSP9d3PPGOgr2Y5xVp4KOGoWUru8nFN2dtE73XyPBlkdOrjZYis5ctlaKk0r92lZP5mzZeG7HTt/2e3toWlHzskAVn4xzirr2q+duVc/Vf0+nt61zZ+Cmj5/4+/E3/hRah/8eoPwU0fPF14m/wDCi1D/AOPV5Lk+Zyu3f+u57UacYJJJabHUAYwPmX6DpThw275vyPSuV/4Upo//AD9eJv8AwotQ/wDj1H/ClNH/AOfrxN/4UV//APHqhGmp1F5Kq2kpPZCeR7VzHwQlH/CofCa4Hy6Na8qPlI8pB+fFMl+C2kKm5bvxMGXkZ8Q37DI9QZua534N/CPS9T+Enhe4kvPEga40i0lKJr18qKTCp4Al460wPUPM/wB78jR5n+9+Rrk/+FKaP/z9eJv/AAor/wD+PUf8KU0f/n68Tf8AhRX/AP8AHqAOs8z/AHvyNHmf735GuT/4Upo//P14m/8ACiv/AP49R/wpTR/+frxN/wCFFf8A/wAeoA6zzP8Ae/I0NJ8p+909DXJ/8KU0f/n68Tf+FFf/APx6g/BXRwD/AKV4m6Ef8jFf/wDx6gDx3/gqUc/s3+F+v/JV/h2en/U5aNX0bH0X6CvlL/gph8NNN8P/AAD8JXlvPrjzQ/Ff4ehRca1eXEZz4w0YHKSSsp49QcHnqBX1bH0X6CgB9FFFABRRRQAUUUUAFFFFABXnv7WP7POl/tZ/szePPhprH2WOx8b6HdaQbi4s1u1sZJYmWK5WJiAzwybJU+ZSHjUhlIBHoVFa0K9SjVjWpO0otNPs07p/JilFNWZ/ED8XvhZrXwN+K/ibwV4jtfsXiDwjqt1o2pW4kWQQ3NvK0UqhkJVgHRhuUkHqCRzXO1+p3/B2B+xVB8AP27NJ+Jeh6T9g8O/F7TTd3ckfkpC2s2zeXd7Y4wGXfE1pMzOCZJZpm3MdwX8sa/1J4J4kp5/keGzaG9SK5kuklpJfKSfyPhMVRdKrKm+gUUUV9Uc4UUUUAFFFFABRRRQAUUUUAFFFFABRRRQAUUUUAFFFFABRRRQAVd0K8+yXyN71SpyNscGplHmjZkzjzRcWfUn7PPi4Ryw/N6d6+5/g1rq6nofl7snaCOa/MT4NeL/sF5Gu7G0ivuD9nD4kgfZw0npX87+JmQucZSij+WfFzhuT5qsF5n0BdHY9OtLrBweh4Ip1xtu4Fmj5VxkVnmTynr+Is0xNfKsfzPRXP51jHmjY87/aA+F66pYyTwpuWQE8DpXw78aPhfJb3k37s9T2r9MMQ6rZNbzLujcYPtXifxk/Z5+3yySRx7kfkFR1r+n/AAx8Q6UqcbyP1jw943lltVUMQ/Q/O3Tfh1cT6gq+W3X0r6Y/Zn+A8moXtv8AuSeR2ruPC37MEk2rr/o5+96V9G/D74fWfw10dflX7Uy8/wCxX3XH3ihh8LgJTc7aH3XHXijGphvYYV3lLsaPh/Q7fwPoMdrCFEm0byPX0qjeX/nSdabq+r+a55qrZhriSv8ALfxC8Rq2e5m6NGV1c/A6dKTbq1XeT1ZpabCZXFSeO/EUfhLwtI7NtkkUgfSrumW6WVs00p2pGNxJr52/ai+NCnzo45MKoIUZ6Cv6S8DOA6tTkxFWO525HlNTNMfGjBe6nqeG/tL/ABM+2XNwvmZyT3r5d1y/a/vmYnvXYfFXxo2sX8gDZ5PeuDJya/0g4byuODwsY2P7l4TyWOAwcYJa2CiiivpD6oKKKKACiiigAooooAKKKKACiiigAooooAKKKKACiiigAooooAKKKKAOi+EPws1r45fFfwz4K8OWv23xB4u1W10bTbcyLGJrm4lWKJSzkKoLuo3MQB1JA5r+zz9k79nnS/2TP2ZvAfw00f7LJY+CNDtdIFxb2a2i30kUSrLctEpIV5pN8r/MxLyMSzEkn+e//g0//Yqg+P8A+3Zq3xL1zSft/h34Q6aLu0kk8l4V1m5by7TdHICzbIlu5lZADHLDC25TtDf0pV/D/wBJbiv65nFLJKL9zDrml/jmk/8AyWNv/AmfUZJh+Wm6r6/kgooor+Zz3AooooAKKKKACiiigBHXcvXFR/ZQW+821WDAL8uPbjqOvBz1qWigCGG18lVAb7oxwML+VDQbWZ9zZIORk4Ppx0/xqamyf6tvpQB84/8ABU7/AJNm8Pf9lU+Hn/qZaLX0d/H/AJ9q+cf+Cp3/ACbN4e/7Kp8PP/Uy0Wvo7+P/AD7UAEhwlV2Zdjbhgd8njPpU9wA0DBjhSMHFfKX7Z/xs8QfFP4iwfAj4X3ksHizXYVn8S6xCTt8K6WwG9yyn5Z3UjYvB/eKeNwNdGEwrr1VHZLVvol1ucOYYtYenzNXb0S6t9LHPeKppP+Cl37R8vhe1kZvgr8NL9W1y5iYqninV48lbRGBw1vFwXIJyy46FWP2PpukQ6TFHHbrHDDEoRI0QKiKBgAAdMdsduPTHJfAH4I6F+zv8MNF8I+GbOO00jSYPKQgfNO38Urn+J3YlifU+mMduRmtMbilUap0dIR0X+b82Z5fg3Tj7StrOWrf6L0DvSP8AcP0pcc0j/cP0rjR6Rymrf8lw8P8A/YF1L/0dYV1lcnq3/JcPD/8A2BdS/wDR1hXWUAFFFFABRRRQAUUUUAcj8Nv+Rr8cf9hxf/SCzrrq5H4bf8jX44/7Di/+kFnXXUAFFFFABRRRQAU2X/Vt9KdTZf8AVt9KAOX+Bf8AyRXwh/2BLL/0QldVXK/Av/kivhD/ALAll/6ISuqoAKKKKACiiigAPSuS+MX/ACKVn/2GdL/9OFvXWnpXJfGL/kUrP/sM6X/6cLegDqh/rF+h/pT6YP8AWL9D/Sn0AFFFFABRRRQAj/cP0rlNW/5Lh4f/AOwLqX/o6wrq3+4fpXKat/yXDw//ANgXUv8A0dYUAdZRRRQAUUUUAFFFFABXI/Db/ka/HH/YcX/0gs666uR+G3/I1+OP+w4v/pBZ0AddRRRQAUUUUAFFFFADZf8AVt9K5f4F/wDJFfCH/YEsv/RCV1Ev+rb6Vy/wL/5Ir4Q/7All/wCiEoA6qiiigAooooAKD0ooPSgD5v8A+Cpf/Jt/hf8A7Kx8O/8A1MtGr6Nj6L9BXzl/wVL/AOTb/C//AGVj4d/+plo1fRsfRfoKAH0UUUAFFFFABRRRQAUUUUAFFFFAHyf/AMFtP2KLf9u//gnD8QfCsdndXniTQbN/E/hlLWCS4uG1OzikeOKOJGUyPPGZbYA7sfadwVmVRX8iDo0blWUqynBBHINf3P1/Kv8A8HFX/BO//hg/9v3VtQ0PTfsfw9+KHmeI9B8mDy7Wzld/9Msk2xJEvkzEssUe7ZBPb5OTX9XfRn4yjRxFbhvES0qfvKf+JK04r1ilJf4X3Pn88w10qy6aP9D4Hooor+yj5sKKKKACiiigAooooAKKKKACiiigAooooAKKKKACiiigAooooAKKKKANTw1q7aZeK27HPrX0h8CPiqbSWEeZ6d6+W1bac11HgnxjJpF2vzHg+tfP59lEMZRaa1PmeJMjhmGHcWtT9Vvgt8R4fEmlJbySDJA2knoa6zUrYxMa+I/2e/jcba4gXzu4719oeDvFEPjbw6kysrSoo3c9a/h/xe4BnGE6sI6o/injLhmrlOMc7e42Nju/Jfr3rRt9XWSPbIFZT2PNY2qIYGNZ6ahIz7Y1Zj7V/E8vETEcOYpwnJqzPm44P2yXLudQ2pW9kpMUccbeoFYOra011JtXLMe1OtNGvtVbG0oprWj8JrpNqWZfmxkk1+e8e+OGMzeP1elN2PqMp4OxVX99OLUV1Zyc8UiyLu+83at7w7pZkZeKoxQf2hqrbfuqcCj4m+Orf4a+FJGLqtzKhwM8qK+w8A/D/E59jliqqbjc8nHU5VMQsJhldt2Ry37Q/wAYrfwppEllbygbQdxB6mvgz43fFhtXvZQJCck966T9ob43yaxqEwExbcT3r571nV5NTuGZmJ5zX+xnh7wTSy7CwvG1kf1D4acBwwGHjWrL3nqV767a7nZmOeahoor9dSSVkftiSSsgooopjCiiigAooooAKKKKACiiigAooooAKKKKACiiigAooooAKKKKAClRGkcKqlmY4AA5JpK++P8Ag3V/4J3/APDeH7fuk6hrmm/bPh78L/L8R6950HmWt5Kj/wCh2T7onibzpgGaKTbvgguMHIrwuJuIMPkmV181xXwUot+r2UV5ydkvNmtCjKrUVOPU/fj/AIIl/sUW/wCwh/wTh+H3hWSzurPxJr1mnifxMl1BJb3C6neRRvJFJE7MY3gjEVsQNufs24qrMwr6woor/LPNMyr5hjKuOxLvOpJyk/OTu/8AgH3lOmoRUI7IKKKK4CwooooAKKKKACiiigAooooAKbJ/q2+lOY7R/hUL3ILFMbcjI3EAnjsOv54oA+df+Cp3/Js3h7/sqnw8/wDUy0Wvo122HPX2/KvnL/gqcQP2ZvD5bO0fFT4eE4GT/wAjlotdx+1h+1Rof7Lfw2bV9UWS81O9lFlo+k23zXmr3jkCOGFcHJJIyeijJNaUaM6tRUoK7ZjicRChSdao9Ec/+2p+1u/wJ8M6boHhmzj1z4l+NJ/7P8NaQckPKetxNjlYIxlmY9Su3jki3+xd+ytB+zP4BmbUbxtc8beJpf7R8Sa1N801/dsSzrnk+WjMwUZ/iY8FjXJfsWfsv69p3iW++LHxQ8u++KPi2P54l+a38NWZ5SwgyeCP42AG5s+rFvpX7NiTdu47jFd2MrRoQeEo66+8118l5L8Ty8FRniZrGVtNPdXbzt3YkSAP3zuzz2NTVHHGy9WzzUleXG/U9iOwUj/cP0paR/uH6VRRymrf8lw8P/8AYF1L/wBHWFdZXJ6t/wAlw8P/APYF1L/0dYV1lABRRRQAUUUUAFFFFAHI/Db/AJGvxx/2HF/9ILOuurkfht/yNfjj/sOL/wCkFnXXUAFFFFABRRRQAU2X/Vt9KdTZf9W30oA5f4F/8kV8If8AYEsv/RCV1Vcr8C/+SK+EP+wJZf8AohK6qgAooooAKKKKAA9K5L4xf8ilZ/8AYZ0v/wBOFvXWnpXJfGL/AJFKz/7DOl/+nC3oA6of6xfof6U+mD/WL9D/AEp9ABRRRQAUUUUAI/3D9K5TVv8AkuHh/wD7Aupf+jrCurf7h+lcpq3/ACXDw/8A9gXUv/R1hQB1lFFFABRRRQAUUUUAFcj8Nv8Aka/HH/YcX/0gs666uR+G3/I1+OP+w4v/AKQWdAHXUUUUAFFFFABRRRQA2X/Vt9K5f4F/8kV8If8AYEsv/RCV1Ev+rb6Vy/wL/wCSK+EP+wJZf+iEoA6qiiigAooooAKD0ooPSgD5v/4Kl/8AJt/hf/srHw7/APUy0avo2Pov0FfOX/BUv/k2/wAL/wDZWPh3/wCplo1fRsfRfoKAH0UUUAFFFFABRRRQAUUUUAFFFFABXyH/AMFqv+CaGn/8FNv2M9U8OW8Yj8eeFRLrfhG6SKHzJL1IXH2JpJCuyG5+VGw6AMsMjbhFtP15RXoZVmmJy3GU8fg5ctSnJSi+zX6dGuq0IqU4zi4S2Z/DHd2klhdywTRtHNC5jkRhyjA4IP0NR1+sX/B03/wTHh/Zn/aOs/jZ4P0u6j8H/FS4nl14hpJo7DXS7SSsWKbY0uVfzEUuxMkdzgKiqo/J2v8AT7gvirDcR5PRzbC7TXvLrGS0lF+j27qz6nw2Kw8qNR05BRRRX1RzhRRRQAUUUUAFFFFABRRRQAUUUUAFFFFABRRRQAUUUUAFFFFABSo5RsikooA7T4d+OpNFvo/nIAPrX21+yl8dVSeCKSXKNgMCeor884ZWhkDCvWvgR8SptI1eFfM6MO9fB8ZcM0sfhZadD834+4RpZngpu2tj9RtfgW4tFmj+aORdyn2NS/DPw6NZl+7u+YiuU+DHig+L/hjHJIQWhwPfBH+fzr1z9mzSPt1yzN90Oefxr/Dv6WGRrI8z5o6c1z+dfCvIZYviWOV1Vdptfkddpnw0W3s9/l9s9K4H4syro8DRp95vlA9690sPEcWpajNZxqvlopA49BXz/wDGdzc+No7f+EEtX8kcH0a+ZZrTwk95Nfiz+rPHLh2hwvw/zUY2ckl95zljJD4Z0SW/usLHCueT94+lfG37Wf7QT6zqFwizfLkgAHivbv2zfie/g/w8unwsyqqZYjuSK/O34j+NZfEGqSkuWy3rX+/X0efC3D5VlNKXLrZXP558IeDfrlT+1cSr329P+CY/ibX5NYvGZm71l0E5NFf11TpqEeWJ/VFOnGEVGOwUUUVZoFFFFABRRRQAUUUUAFFFFABRRRQAUUUUAFFFFABRRRQAUUUUAFFFFAElpaSX93FBDG0k0ziONFHLsTgAfU1/XB/wRV/4Joaf/wAEyf2M9L8OXEYk8eeKhFrfi66eKHzI714UH2JZIy2+G2+ZFy7gs00i7RLtH4+/8Gsn/BMeH9pj9o68+NnjDS7qTwf8K7iCXQSWkhjv9dDrJEwYJtkS2VPMdQ6kSSW2QyMyn+j6v4p+kdx99cxkeGsFL3KL5qttnO2kf+3Fv/ednrE+myXCcsfby3e3p/wQooor+XT3gooooAKKKKACiiigAooooAKR22KT+nrS0jrvUj9fSgDw79uH9pbxF8B/DfgXSPBWn6LqPjj4o+L7TwfoJ1YyNp1lJJDcXc93OsZV5I4bSzuXEaspd1RNy53Vnfsb/tF+MviJ8Rvif8NPiRa+Gl8efCq/sUudR8N289tpWuWV/aC4trqOCaSWSBtwnieN5JArQZDkMpq/+3L+zZ4i+OvhjwNrHgnUND0/x18L/F9p4v0BdXEi6dfSpDcWc1ncPEGkjjmtby4j8xEco7I+xtu0537Hn7OnjP4dfEj4nfEj4lTeGj49+K1/YyXGm+Hbia50vQ7KwtRb21tFNNHFLcNkzSvK0Ue57jAjVUBoA8H/AOCzH/BRn4J/DX9nK+0iT4ofDvUPGfg/x74N1e78Kw+JbL+2Ctj4m0q8mU23meYNsMLs2VAVVJOACRyH7MX7ZnwD8c/FFPjJ8Zv2jfgL/wAJhNAy+H/D6eO9Nex8JWzAAqm6bDXRyytIOgzjvj7U/a1+AEv7R/wu03QrW6tNPm03xj4a8TPLPEZl2aXrdhqUseOoaSO1aMYI5cds59Eexs4pPmhh8wSZb5B88hUDkkdTuA3fQZ7V10cW6VN04LWWjfW3Y4q+BjWqxqVHpHVLpfuzwKP/AIK1/ssrMrN+0r8CcKSSP+E60znP/bfp3+tWP+Hu/wCyr/0cl8Cf/C70v/4/XvsFnazbf9Hj6H+AEAjAIyPfj8DUv9mW/wDz7w/98CuNdui2O3Tfr1Pn3/h7v+yr/wBHJfAn/wALvS//AI/R/wAPd/2Vf+jkvgT/AOF3pf8A8fr6C/sy3/594f8AvgUf2Zb/APPvD/3wKYHz7/w93/ZV/wCjkvgT/wCF3pf/AMfpH/4K7fsqlG2/tI/AlmwSAPHml5PtzPX0DNYW8UTN9ljbaM7Qgy3sKgmjtd/lrbwMzD5SFzzzjO0ZA45JwOe9AHzHq3/BWD9l/wD4XDo11/w0T8EfstvpF/FJN/wm+mbEaSWyZAT538So5HYhciuj/wCHu/7Kv/RyXwJ/8LvS/wD4/XV+JPgBJ4g/bA8D/E1Lqy/szwt4U8QeHZbQxBpJ5NRvdInSRWHGF/s6QEcljKpyMYPqJt7Yf8usee/7vp+n6deRxQB4H/w93/ZV/wCjkvgT/wCF3pf/AMfo/wCHu/7Kv/RyXwJ/8LvS/wD4/Xv4sbUlR9nh+b/YHSn/ANmW/wDz7w/98CgD59/4e7/sq/8ARyXwJ/8AC70v/wCP0f8AD3f9lX/o5L4E/wDhd6X/APH6+gv7Mt/+feH/AL4FIdNtlH/HvD/3wKAPn7/h7v8Asq/9HJfAn/wu9L/+P0h/4K7/ALKuDt/aR+BLHrgeO9L/APj9e/y2dvGm77LGew+Tr+QJ/SmNa2kh2+RDnI42dQSf0OD/APX7gHy/4G/4Kv8A7L+l+KfGTXH7RHwRt47nWVkiaXxxpieYosrRSQDN0Dqy/UH0rpf+Hu/7Kv8A0cl8Cf8Awu9L/wDj9db8AP2fZfhF8TfjFr1xcW97D8TPFlr4gtYViwbOOLQdK07y245PmWErg4GFkVccZPpxitQ2Ps8XUKcoPlJxjPb3xnPTjkUAeCf8Pd/2Vf8Ao5L4E/8Ahd6X/wDH6P8Ah7v+yr/0cl8Cf/C70v8A+P173BDbTug+zQ/MCcFMMuMdQQD3/UevE/8AZlv/AM+8P/fAoA+ff+Hu/wCyr/0cl8Cf/C70v/4/R/w93/ZV/wCjkvgT/wCF3pf/AMfr6C/sy3/594f++BTJ7K2t4i32WNtvZYwT/n9aAPAP+Hu/7Kv/AEcl8Cf/AAu9L/8Aj9I//BXX9lVkb/jJL4E9P+h70v8A+P174sFs4bbawttYqcAHkHGOO/Tg+vtTL6xhnsp1jt1DMhCsoCnJyOCORj1GT6c0AfMnwe/4Kw/sv6N8JPC1tdftEfBG2uLfR7SOaKXxxpivCywqrK4875SGGDnjPGc10f8Aw93/AGVf+jkvgT/4Xel//H67H9jb9n5v2Zv2UPhf8OdQuLPVtQ8A+FdK0C6voINkd5La2iW7SKrDcqEoSoPRcDPUV6ZFaWsj7fs8KtjO0qu4fXH1H50AeBf8Pd/2Vf8Ao5L4E/8Ahd6X/wDH6P8Ah7v+yr/0cl8Cf/C70v8A+P19Bf2Zb/8APvD/AN8Cj+zLf/n3h/74FAHz7/w93/ZV/wCjkvgT/wCF3pf/AMfo/wCHu/7Kv/RyXwJ/8LvS/wD4/X0F/Zlv/wA+8P8A3wKR9Ot1Qn7PCfQbBzQB8/H/AIK7/sqn/m5L4E/+F3pf/wAfrmvij/wVh/Zd1jw3aw2n7RfwPuZl1bTpPLi8caa7FUvYHYgCYnhVJ6dq+oo7a3kl2rawkDhjtHynggEYz0559vWvMf2uP2fpP2i/hVpvh/T7jT9PlsfFvhvxFJNNB5qvFpeu2OpTRBQDl3S0aNcjAZwTwDQBxx/4K5/sro6k/tIfAnaQMEePNLPXkH/X+31BPIFO/wCHu/7Kv/RyXwJ/8LvS/wD4/Xu/2eJJWbyI2ZjgjZuzk8ZODnkdeg6e9TR2trJJt+zw7uvCA8c4PTocH8qAPAv+Hu/7Kv8A0cl8Cf8Awu9L/wDj9H/D3f8AZV/6OS+BP/hd6X/8fr6C/sy3/wCfeH/vgUf2Zb/8+8P/AHwKAPn3/h7v+yr/ANHJfAn/AMLvS/8A4/R/w93/AGVf+jkvgT/4Xel//H6+gv7Mt/8An3h/74FNlsLeKPd9mjbHUBB0oA+fn/4K7fsqlG2/tI/AlmwSAPHml5PtzPXO6t/wVg/Zf/4XDo11/wANE/BH7Lb6RfxSTf8ACb6ZsRpJbJkBPnfxKjkdiFyK+oHsbcw/8e0IYjIAUcn26d/XFeX+JP2f5PEH7Yngf4lLdWa6b4X8J6/4els2hBluJNSvNHuI5lYcBFGnShs8s0iHtQByX/D3f9lX/o5L4E/+F3pf/wAfo/4e7/sq/wDRyXwJ/wDC70v/AOP17yq2zyqn2OMMwDDKDkcZPTtnBzgg+g5qZLO1dsC3h5GchVIoA8A/4e7/ALKv/RyXwJ/8LvS//j9H/D3f9lX/AKOS+BP/AIXel/8Ax+voL+zLf/n3h/74FH9mW/8Az7w/98CgD59/4e7/ALKv/RyXwJ/8LvS//j9H/D3f9lX/AKOS+BP/AIXel/8Ax+voFtNtwP8Aj3h/74FRvBZoyjyYdzHjKDnjPHrx6ZoA8BP/AAV3/ZVwdv7SPwJY9cDx3pf/AMfrm/A3/BV/9l/S/FPjJrj9oj4I28dzrKyRNL440xPMUWVopIBm6B1ZfqD6V9OzRW/lt/ocLbcfLhcv9O3PAGTyTzXm3wF/Z8f4O/E74x67cXlrqEPxM8W23iC1gSL5rOKLQtK00ROcAF99hJICOAkqDsTQByH/AA93/ZV/6OS+BP8A4Xel/wDx+j/h7v8Asq/9HJfAn/wu9L/+P1759ntct/ose1RnOwc9c+/anx2Nu5wba3z0OADj26UAeAf8Pd/2Vf8Ao5L4E/8Ahd6X/wDH6P8Ah7v+yr/0cl8Cf/C70v8A+P19Bf2Zb/8APvD/AN8Cj+zLf/n3h/74FAHz7/w93/ZV/wCjkvgT/wCF3pf/AMfo/wCHu/7Kv/RyXwJ/8LvS/wD4/X0DJp9tGm77PDx1+QdKi8i1yv8Ao0WG55QLxjOcEZ/rn86APAn/AOCuv7KrI3/GSXwJ6f8AQ96X/wDH6534Pf8ABWH9l/RvhJ4Wtrr9oj4I21xb6PaRzRS+ONMV4WWFVZXHnfKQwwc8Z4zmvp660y3mtZY/LjjZlK7kGGXPcHsfftXmf7GXwCb9mr9kf4W/D3ULix1bUPAfhTStAub63gxFezWtnHbtIgIysbFcqDgqpAOOlAHIf8Pd/wBlX/o5L4E/+F3pf/x+j/h7v+yr/wBHJfAn/wALvS//AI/XvsUFpLOY/s8QbGeVXkfTr+dS/wBmW/8Az7w/98CgD59/4e7/ALKv/RyXwJ/8LvS//j9H/D3f9lX/AKOS+BP/AIXel/8Ax+voL+zLf/n3h/74FH9mW/8Az7w/98CgD59/4e7/ALKv/RyXwJ/8LvS//j9I3/BXf9lXaf8AjJL4E9P+h70v/wCP19BPp1si5+zw/wDfA/wqKO1tp9y/ZYV/hyQvJxkj8KAPhb9vP/got8APjx8KvBnhfwT8bfhP4v8AE2ofFXwA1ppOi+LLC/vroR+LtIlk8uGKVnbbGjscA4VGJ4Br7zThgPQY/L/9deV/tcfs9zftFfCzS9Asrq00uTT/ABf4Z8SvNLDv3RaVrlhqUkYCnO6RLRkB7FwTxXpz3qQuem7OzA/vELgZx3yOfcUAWaKjhuRNt+U859wCMAjI9+PwNSUAFFFFABRRRQAUUUUAFFFFABRRRQB5j+2f+yzoX7bH7LPjj4V+JG8rS/GemPZ/aArMbKcESW9yFV0LmGdIpQhYBjHtPykiv48/2tf2YfE/7Gn7Rni34Z+L7ZoNc8J6hJZSSCKSOK9jDHy7mHzFVmhlTbIjFRuR1Pev7Wq/Lj/g5t/4JTD9sT9nNvjF4QsVk+I3ws0+SS+DXflrqWgwrPPNEqMCrTQu7SpgoWVpl/eMYlH7v4FeI3+r2a/2djZWw2IaTvtCe0Z+Sfwy8rN/CeTm2D9tT54/FH8UfzTUUEbTg0V/oCfIhRRRQAUUUUAFFFFABRRRQAUUUUAFFFFABRRRQAUUUUAFFFFABRRRQAVufD2SQeJLdY/vFh+FYdehfs3+CpfGnxFs7eNC26QDj61w5lWhSws6k9kmefm2IhQwdSrU2SbP0a/Zjs30f4MCaUsxuCApPfA/+vX1H8CNEbw94GmvHXbI0Zx7k15B8NvAXmSaP4dt1/d2SKZsevU/r/Kvo37BHFbW+k22D5IHmEdzX/PF9MLj6jnvF9TB4Z3hSdm/nr/kfn/0X+EamZ57iOKK0bUoyfK+/wDSsY3w+hkfxC0jZwxIrzX476Q+l+Lobsqdm7aT6Zr3rSdMs9LkVVbMg6ketc78Y/h5H4q0WYquWxnjqK/mDh3iL+z84pY6OnK1+DP6I8fOHv8AWzIqlLB6ypq6t3R+cv8AwUR8MzNbLqEe/wAueIEHHHTBr8/b7d9rk3ddxr9a/jh8Oz4++HOpaPcR/wCnWILR5HJHf9Ofwr8sPif4Zk8K+Lrq1kUqUcjmv+j76NfH2D4m4Wo4nDyTfKrrs+qP5W8Fc0vgqmV1lapRdmnvY52iiiv6MP3EKKKKACiiigAooooAKKKKACiiigAooooAKKKKACiiigAooooAKKKKACvRv2Sv2YfE/wC2X+0Z4S+GfhC2afXPFmoR2Uchikkisoyw8y5m8tWZYYk3SOwU7URj2rzkDccCv6Wf+DZL/glMP2O/2c1+MXi+xWP4jfFPT45LELd+Yum6DMsE8MTIoCrNM6LK+S5VVhX92wlU/mnipx9S4VyWWKjZ16l40o95fzNfyxWr7uy6ndgMI8RV5ei3Pvn9jD9lnQv2J/2WfA/wr8Nt5ul+DNMSz+0FWU3s5JkuLkqzuUM07yylAxCmTaPlAFenUUV/mxiMRVr1ZV60nKcm229227tvzbPtYxSVkFFFFYjCiiigAooooAKKKKACiiigAooooAhvlDWrZye+B3PYdRn6d+lfnT8R/wBr/wCMln8Kvil+0Xp/j2Ky8D/DX4i3vhy2+Hv9iWU1nrGi6ZrC6TfTzXTRm9W8kdbiaIxyrHHiJDC+4uP0ami8+JkPRhg8Zr4/8af8ErtU8Vaz4p8Mw/FO5s/gf468ZDxz4g8GHQVk1C5vWu4765tYdT88GKxuLuLzZYjbvIfMlRZkR9oAOz/4KEfHLxX8MfCXw58M+BdSt9A8SfFjx7p/gq112W1iv/7DR4ru8urpIpT5ckq29jcIgkyBKyEqwG0+AeP/ANtD4s/s3aH8cPhpdeKrXx5488J674N0fwd4u1XS7aGQR+KbxbCF762tRFA8lpOl1JtjSJZVEKlVyTX0V8bv2L/E/wAe/h3NZ618TGXxZ4f8cL428Da7BoEUa+FnhY/ZrSS3EoF5EsTzwyMzxvLHcONyHDVx8n/BLp/Hnwt+KVv4++Il9r3xG+KmoaVqtz4t0nSI9KXQ7jSHil0gWNq0k/lxWs8PnBJJZC7zT7mw+FALX7MPxE+IXwu/bc8SfBLx148uvihZv4LsfG+h67f6bZafqVvuu7iyu7WdLSOOF49yW8kTrEjASOrbyN1fVVeC/s0fsf8AiD4a/GvxF8UPiR48tfiL8RNd0i18OQXlhoH9habpOl28ss6wQWvn3DmSSeeWSWWSZy37tUWNE2n3qgAooooA85/bB+Of/DMX7J/xL+JAsRqbeAfC+peIlsyxUXbWltJOIiw+6GKBd38Oc9q+a/gz8SfjL8Cf2l/gj4d+JHxJHxQ0/wCOWhai99A2iWWnp4Y1WztY74fYjaqjPZvEbmMLP5suUjYzH7lfXHxd+F2j/HH4U+JvBfiK3a68P+LtKutF1OANtM9rcRNDKmf9pHYfjXzX8Of+CdHxA0XxNoWveLvje3i/Xvhz4W1Hw58Pr3/hEorQ6FNdwRW51O+U3Eg1G8WKCJc/uYyGmxGvm/KAdd+2lpfirRvDWreNl+P2qfBXwb4R0Ga7vntvDum30Pmxb2a4uJLuKVmjIMaiCIRSNtO19zfL8/8AxU+M37T3xA/Z/wD2Y/EWnaX8TPC+o+KNGn1L4l2nw/0bQZtXs5XsoHtgseuRtDEvnMxeMZlCq6hXKGvUf2of2Avir+0N4++FusR/GTwe2nfDixt7ifQ/Enw9l1fTdc1+LprUsUGp2gDx4DQQNvjgdnkXL+W0fpvxA+Evxv17wp4XXw/8WfAfh/xDY208PiG5m+Hst9p+syOY9ksFs2prLamMIwAa4nB38g7QKALH7DfxY0v4zfs5eH9Z0vxZ4o8X7ZLuwvbzxHplrpesQ3lvcSQXNteWttBBFDPDNG8bosS4K55BBPsVeV/sffst2f7JHwfHhqHW9R8Tanf6pf6/rWs3sccM2r6lfXUt3dTmOMBI0MszBI0G1EVF5ILN6pQAUjZ28UtI671/HNAHzt/wUE+MPjDwHpPwx8I+BNXh8O+Ivi944tvCMevPZpePolubO81C5uYo5AY2mFvYTJGJFKB5EdgyqUbM/Yl+K/jY/Gb4y/CTx94jl8dan8Mb3SrvTPEsumQaffalpuqWZliWeK1RIBNDLDdRmSJI1ZBGSqkEt3/7X/7KrftP+BvD0Gm+I5fB/i3wPr1r4n8M64lkt6mm6hAskQaS3Zk86KSCaeF0DoxSZsOpww4r4NfsQ+NvhTr+seKpvixFqHxA8ceLbDXvGmrxeFYbe11rTrS0FpHpNtatNJ9kiCJGwm8yWUP5hJPmEAA8G8SftBfFb4Qftc+KtU+LHjD48eC/hPb/ABFs9O8MXmk+GvC1x4Nl0yWOyjt7e+na1l1WFbi8eeBp8oqrJFiVM71vfHr48/Gz4h67+0x4q+H/AMRLXwbov7Ng+waPoQ0OyvbPxdqFvo1trF0NQnmUzLA/2uG3VbSaB0273L7gtewfHn9h34jftOXd14Z8Z/GDTp/hDea7b6tP4e03wf8AYtZu7aC6ju49Ol1P7Y6fZ/MiiVmjtY5WRSvmDdmsj9ob/gmj4j+K3jb4pSeE/i5deBfCPx2s7e08faSvh6O+vLspZrp81xp12ZoxZTzWUcMLu8NwB5YZVVuaAPoT4E/Ea1+LXwe8IeKLSCa3t/FWj2uswwyv5kkCTwJKFZz97aJFXPJP512NZfhPwhY+CPD+n6TpdvDZ6XpNtFaWltGmI7eKNAiIvoAoAA+vrxqUAFRXqb7STtxnOcbcc5z7dalpsieYhU459RkUAfJfx38Y/Ez45/t1ap8H/h/8SLv4U6b4O8CWni3UtWsNGsdWvtQvb+7vLW0t/LvI5Y0tYlsJZJVjVJZDPGFkjwWrtP2GvjP4g/bN/YT8K+Ktauf+Ef8AFniDTbvTdTvNIjVlsdStp57Ka5thOrrhbiGSSNZEZR8gKkKQY/2hP2NPF3jH492/xQ+F3xKtvhv42n8OnwprE2oeG116y1WwWd7i3YwfaLfZc28ss5ilLMoE8itG4PG1+y5+x/cfsm6H4X8J+HvGN5cfDfwv4Uj0OLQ7vToWvLvUfPeWbVpb0YcySh2zEqLGGd2H3gFAPE/gnL8UtL/4KayfD9Pjl4++I/gPwX4K/t3xjBr2j+HYU/tDULgw6XaxvY6davGRDb31y43Esv2fIKsQeL/YN+Pvxa8P/GHwPpP7Q/i748aD4o8ZXOpWWm6Xr3hzwxbeD9euoxcSxW1vc6fafbYphaIZkjunhaT7PJ94Ltb6u/Zh/ZVP7Per/E7Wr7xA3iTxN8UvF934o1HUmsvsxhiZI7eyskQvJ+7tbSCCENn5yrvtQuVHnuh/sNfEbx18Wvh/4g+Lvxh0vxzpXwx1J9b0TSNE8GDw/HdaibWa1iuL6Q3lyZvKiuJyiRLAu9wxBxggH06swZ9vQ4B598/4U+mLAEbjpnOPf/OafQAUy42+S24qF/i3YxjvnNPpsi70ZemRjOKAPk39nTxb8S/CX/BSv4i/DXxd8SL7x14Zh8AaP4v0m1vNC0/T/wCx5bzVtWt5IY3toVd0WKyt1HmyOc8961v23Pix41l+OfwZ+EPgbxU/ga++I82rajqviaGwtdQvNO0/SraOWSO2iuY5bcTSzXFspeWN1RN5Cs23FDwd+xB8YvDn7emrfGa6+M3ge+03W9Ms/DdzoEfw5mgmGkWt7e3cMS3f9qkC63X0oacwlWwP3I6Vs/ET9iPxz4/8N/DXXH+LNvF8ZfhbqN9d6Z4ufwpGdPvbe7WWGayudMjuEDQNbtCp8ueNzJbRyB1Py0AeB/8ADZPxgbwMnwkbxVZr8Sf+F6SfB8+Om0q3DrpyaQdeGoi12/Zhe/2eyQhdvl+dl/LKr5Z91/Yc+LPjX/he3xk+EPj7xJ/wnmqfC+90u80zxNLp9tY3moadqVmZY0uorZUgW4hmhuYy0SIHjMJ2Kd2cKP8A4JZyQfA+Kxj+I18vxYh8fP8AFBfHB0lSh19lMLObHzcfYzZn7H9nEwJgABlL/vK9O/ZJ/ZMv/wBn/XPHXirxZ4tXx58RPiRqVvf67rMWlDS7RY7a2S1tLS1tfNlMMEUasQGlkZpJ5mLfMFUA9qooooAKwfifoGseKvh/q2neH/ED+FdavLcx2erpZxXjadIekoilzG5Ho4I9Qelb1Y/xB0zWta8D6taeG9U0/RNfuLWSPTtQvrBtQtrKcqdkklussLTKrYJQSpuAxuGaAPn3/gl38UPGHxL+Avi5PHXiqbxlr3hT4i+K/Cg1aewtNPnurbTtYubK2MkVpFFEJPKhTlEGfc1yf/BSnX/iN8Bvhd42+KWi/HLUvCceiWefDHhCLwrpmoWevaoUCW+nytJC95cy3U+IlW2lhKiXHz7Garf7OX7CHxw/Z++GPxD8PQ/H7wrJceMdb1TxNpupWPw2a3m0PU9S1Nr+6kKTanPHcQkyzIkTKu3epLttwbP7Qf7CPxY+Kv7Yem/FLQ/i94Fs9L8L2KW3hbwx4l+Ht1rln4cuSrLcX8TQ6vaK93KGKCV4yYovkTbudnAOD/bN+I37QmmfGbwbcaNH8bvD/gH/AIQWTU/Ekfwy0Xwxq93Za158GyNv7XhlMsaQmcGO1DSkrFtVw2R9X/s2fEnRfjN8D/Bvivw34nuPGmha/pNvfWmuTwRwTarG0KbbiWNEjEcjj5igjjC5I2KQBXHfGH4L/HDxbd2beDfjN4V8GwzaPHYaqtx4AOqSPdguZL2zc38f2dm3gCOYXEa7BwSWLdj+zB+zpon7J3wE8I/Dvw5NfXGi+DtMi0y1mvZBLc3GxRulkYADfI2522hV3N8qqABQB39FFFADZeU7dR1+tfNX/BVbWfiJ8PP2IPiT47+HPxE1D4fa18O/Cms+JxPbaTY6k2ovaWE08UDC7R441Mka7iqEkEgYJBH0rIu+NlyV3DGR2rxP9vj9mfxl+1v+zf4k+HXhPx1oPgO38Z6bfaFrV7qXhiTXWl0+7tJbaWOBUvLXyZcS7hIWfGMbfQA9C+GmsXHib4Y+H9Qu5PNu7zS7e5klGI1dmiV92AFAUlhnbgduma+Hv2afj38VPBv7SGi2Px88ZfHrw5/wlnjPW9B8PWep+G/CsfgjXENzfnS7Nbm1tTqMUrWMcEi/aHhMkqMoLhtp+ofgl8Cfi14A0vwDZ+JPi1oOvW3hc3MGswaZ4KGmR+IrX7MsVnHmW8uZLd4JF8xpEdvNzt2oBmuI1L9hX4jfF34jeDLz4qfGPTfFXhHwDr8PifTdF0XwYui3F/fW/mG1a+umu7gTJCziQJFFDudFLFh8tAHgfxJ/a8+McXwl+Jf7Rmm+OobbwT8MfiNeeH4Ph+miWM1jqui6bqyaTfTy3TRm8W9kMdxPEySokeYo2icMzj9FoG2yovmFuuM4LHGQf1IHT+dfIvjP/glbqnijWfFnhu3+KU9j8EvHnjL/AITrXvBp0BZL+4vXu4765totS88eXY3F5GJpITbvIfMlRZVR9o+v4LfyAqrt2qMABcYHYfQcUASUUUUANm/1f3tuSBmvkv8AbF8Y/Ev4P/tY/s+6nofxHvrbwT8QPHsXg7VPCX9h2hgnhOj6reSTNctG04k86yiICMgwGHzAkH61dd649etfMH7bn7FvxX/ae+K3w913wn8XPBvgfS/hrrkPifSrHUfh/Lrlw+pJZ31kzyzrqdsGhMN9JiMRghlB3npQB738Q/D2peNvBeoaPpnifVvB2p3kWINX0yG0nvLE7g2+NLqGaE4AK/vYmGG6A4NfG/wE8RfGS++Ov7TGmaf8XvGnxP8ACvws8PReHdHGt6HoKzT+LZLQ384jNhp9srLBDNYR+W6uGkuJgx+RQPrT4b+BPGfh7xdr194k8a2fiLTdRtrCPTtMttDGnxaRNFAyXbq/nSPItxIRIEcnytu0F/vVxH7L/wCyDqX7MP7KuoeCNP8AGX2/xtrVxqus6l4wfSVVr3WtQuJrmTUGtWkcELLKu2IyEbIkTdgZoA8K/wCCa3xv8ef8LP0bwb8bPF3xyh+J+seEjqq+HvHWgeGbHSNQlhNql9c6bc6Tbq8rW8sqxmOabeIrhGMXBYfctfOPwp/Ys8ZN+0n4f+KXxY+Jel+PNd8FaTe6T4bsNC8KDw7pun/bDCLm6kR7q7lluHjt4owRKkSqGxHkgr9HUAFFFFAEd2VW2ZpNu1fmOQMcc9+K+Mx4p+LX7Ov7aHwd8E33xov/AIwXXxAlv5fE/h298M6dp8ehaRBZXEh1e3e0iSS3jW9W0t9t1JN5pu9qNuRiPs6aPzYmXJG4YJBIOO+CMEfXtXyL+x7+wR8Yv2afixrnijxD8Y/h34+vfGupG/8AFeqT/DW7s9e1lFVhbWqXf9tSRW9vbghYoUtjGq78JukdyAdh/wAFD/jf4s+FvhP4beGfA+qQ+HvE/wAWvHtj4Lttbmsorz+w43hur24uUhm+SSRbaxuFjDAr5jRkhgCjfPvj/wDbQ+LP7N2h/HD4aXXiq18eePPCeu+DdH8HeLtV0u2hkEfim8Wwhe+trURQPJaTpdSbY0iWVRCpVck19FfGz9i3xN8efh5NZ618TJP+Es0DxwvjbwLr0WgxR/8ACLPC7fZbSWBZAL2JYpLiCQs8bSx3D4MbYYcfJ/wS6fx58Lfilb+PviJfa98RvipqGlarc+LdJ0iPSl0O40h4pdIFjatJP5cVrPD5wSSWQu80+5sPhQC1+zD8RPiF8Lv23PEnwS8dePLr4oWb+C7Hxvoeu3+m2Wn6lb7ru4sru1nS0jjhePclvJE6xIwEjq28jdX1VXgv7NH7H/iD4a/GvxF8UPiR48tfiL8RNd0i18OQXlhoH9habpOl28ss6wQWvn3DmSSeeWSWWSZy37tUWNE2n3qgAooooAKKKKACiiigAooooAKKKKACiiigD+bf/g5b/wCCPP8Awx98W5vjd4D0/SrH4W+PNSS2udKsU8n/AIR3U3hZ2RYyxzBOYpZVMYCRsWj2ooi3/lPX9vnxf+EHhn4+/DLWvBvjLRbHxF4X8RWzWmoafdpuiuIzz7FWBAZXUhkZVZSGAI/k3/4K/wD/AASz8V/8ExP2m9U0e60+8m+HuvXdxc+D9aZ/PjvbLflIZJAij7TErIsqbV5wwBR0Zv7e8BPFSOZYePDmaz/f01anJv44L7PnKK+co67pt/L5tgOSXtqa0e/kfJdFFFf00eGFFFFABRRRQAUUUUAFFFFABRRRQAUUUUAFFFFABRRRQAUUUUAA5Nfa3/BM74OeW1x4mvIf3dmuY8j7znp/j+FfInw88KzeM/F1nYQqWaaQDAHvX65fsu/BWLQPD+h+HY02RwRrdXz44BxnB+gr+Y/pWeKtHgrgrEYnmtVmnGK63ei/zPynxOxmIxNOhw5l+tfFyUUluo31Z7D8KtMXwD4Tk1q7GNQ1I/uVPUe/4D9a7DTdUHhjwu2oXTbbi6yU3ddvrXDx6x/wsz4jRWNr8mmaf8gx0RF6n+ZrH+M3jqTxPrp0vT2221r+7JXsBxiv+eqllOYcQZsqKTnXrPml1er0X+Z/RXGmMy7wj4DoZZTsq0orTq5Nas6Cy+Lscms480fe9a9KbxL5+iQ30X7xF+WVexFfMH/CLbD+7mXz15+V/mFekfA74gb7iTQ9SbHnLsBPf0P4V9T4heEOccOUIYrGUWo97H4H4J+O0MTnay/NnaNV2Te2onxw8HRwSQ+ItOXdbSfLMoGeO4P0r8z/APgo38C/+Ec8Uf25ZQ/6HeDzAQOBnrX6kWWrx6R4gvPDurFfsl4TGGbkI3Y189/tVfBH/hKPBuseH7iNWuLMNPaMR95PQGv6y+gx4yVOGuI48N4+f7mvrBt6X7fP8z0PGzgmfAnFtDijAr/ZMU7Ttsm+p+RdFa3jfw1L4S8S3VjMrK0MhAyKya/3Tp1I1IKcdnqfaUqkakFUhqmroKKKKs0CiiigAooooAKKKKACiiigAooooAKKKKACiiigAooooAKKK+tP+CQH/BLPxX/wU7/ab0vR7XT7yH4e6Dd29z4w1pX8iOyst+XhjkKMPtMqq6xJtbnLEBEdl8nPc8wWT4GpmOYTUKdNXbf4Jd23ol1ehpSpSqTUIbs+pP8Ag2k/4I8/8Ng/FuH43ePNP0q++FvgPUntrbSr5PO/4SLU0hV1RowwxBAZYpWMgKSMFj2upl2f0kVzfwg+EHhn4BfDLRfBvg3RbHw74X8O2y2mn6faJtit4xz7lmJJZnYlnZmZiWJJ6Sv81fEHjjF8VZvPMcR7sPhhDpCC2Xm3vJ9W+1kvtsHhY4enyLfq/MKKKK+HOoKKKKACiiigAooooAKKKKACiiigAooooAKKKKACiiigAooooAKKKKACiiigAooooAKKKKACiiigAooooAKKKKACiiigAooooAKKKKACmyyeVEzbWbaM4UZJ+lEj+WhbGcdvWvC/+Civx81T4E/sn+ILrw1t/wCE88TTWvhPwfEW/wBbrmpTJaWTAdWSOWUTPjBEcEpBGMgA9uW/V5GULnbwSGB5GM9D2zznH405rwKOR3wOepJwMHpz6da+C/hb+1frn7B3wT+KXwz8Rah4i+KXj34U+KtN0Twn/burNNqfjGHxFcIND8+6kZmH+l3E9o0rhgqac7AEgKIvD3iD4oa3/wAFR/AGn/GbUPh/Np/wh+GmueP21XwzaXmn2scl9Nb6csM0NxNKxaGGG/Pn7k3iQjyYivIB98LfKybtrY5ycHgA4OeP0/oM0/7RmTbjntnjP5j2NfnX+xP4l8S/tA/tafCO88dXuqXkLeCNb+NljZajO8/9n3GtamLXS4UDk+WLHR2mg2LgB7qRjycV1n7WPgG6+Fn7R3gWz+HfxI+Lmt/Gjxz40stYm0C68UXV3olr4cW+T+1JLzTMrZwafHZvNDFKIlmecWsayO4YUAfcyXW4fdIHrzxk8ZHUccnPSo7fVFuT8q5Vc7iDnBBI/TByDgjgY5r8s/8Agop+0RrC/tW/HfVrzRf2j9d8F/B3wZo+mQH4cePZfDel6HqtwtzqFzfan5eoWzAJb3WnHzGgnSOBZWdQFOPatGtPHvwK+Lv7FereOdUg1n4k+KNMuvht4+vrb5odWb+wrjV/O3KAshhu9MJDgAAXVyRjc20A+51ucnBXDDhuDjPHQ45pGusD7vfAycbj6V89/t9ftM+Jf2NfAWn/ABPht9H1X4d+E7lU8a6bPmPVJbOZ0hjudPlZxHJcwyMp+zbS1wJGRGWURpJc/wCCf/7Qvij9rL4NyfE/V4tD0vwr44n/ALR8G6TYzR3V5p+k7VRGvrmKR4XupnV5Wij4gLeUzu6OQAe7XOoLarlto4yAXCscdeuB6d+/amnVRzhGbrgLyx/DqCO+cYJA718fft4eGdU8Dftgfs2+LNJ8bfEGx/4Sr4kW/hjVdBt/EtzBoUtj/Yet3WJLGN1ikYyW8LlpAw/c45pPjl4d1T9q7/gotq3wu1Dx18QfBfg7wT8NrDxPHD4T8QT6HdX+o3+o39os0tzbkSyrbJYfJCzmIvcuXRsKAAfYqagkiIy5dZMbSvIYHuPbvnpj6iuA+OH7VXg/9nKzt7jxhNr2nWdxbz3cl5beHtR1Gy0+3h2+bcXdxawSxWcCBgzS3DRoqhiSArY8I/Ye13x5+2j+wb8LfEms/FTxh4R8URW99pms6j4ctNGceI5bS9lsTdSrfWV1GPM+zeb+4CKTcNjcu0Lb/bA8DfEy5+HHhn4WWGhfET4seE/FAuY/HniiK58PWmrS6cNoNj5bSafCDcrIYnnijDxwQybFMrrIgB9XRXHnbcK21uhI+vbqOnfHUd+KkrP0kqsMP7mS1yihYHCjysrnZlSVOOnylh8o5wK0KACiiigAooooAKKKKACiiigAooooAKKKKACiiigAooooAKKKKACiiigAooooAKKKKACiiigAooooAKKKKACiiigAooooAKKKKACiiigArxf/AIKB/sQeF/8Agoh+yp4l+Fvip2s7XWlSax1OK2jmuNHvImDw3MQcdQQVYKVZo5JU3LvJHtFFdGExdbC14YnDycZwalFrdNO6a80yZRUlyy2P4x/28f2DviB/wTu/aA1L4ffEHTfs15bfvrC/hBay1m1JIS5t3IG6NsEYIDKwZWCsrKPF6/sf/wCCkH/BOD4f/wDBTP8AZ/uvBPja1+zX1tvn0HXoIg17oF0QB5secbo2wokiJCyKByrKjp/KR+3j+wd8QP8Agnd+0BqXw++IOm/Zry2/fWF/CC1lrNqSQlzbuQN0bYIwQGVgysFZWUf6AeEPi9Q4ooLAY9qGMgtVsqiX2o+f80em602+RzHLnQfNH4fyPF6KKK/cDywooooAKKKKACiiigAooooAKKKKACiiigAooooAKKKtaNpsmr6pBbRruaZwoAqZSUVdkykormex9Sf8E1PgwviLxhL4hvoQ1npi+blhwSOg/Ov0V1TWx8L/AIVvct8ureIM4z95Y/T/AD6V5F+xH8EV8KfDzQdJ8vy5tRxeXhxjEa8jP+e9dl4m1R/jb8ebfTLPP9n2LiJB2VFr/Dn6bfiZ/rRxt/YdKf8As2CXNPXRy6I6foxcIw4r4zxvG2YK+FwScKd9rrdo7TwZK3w4+E02pSf8hPWvkhB+8FPX8/8AGvnv9p79oy3+BHheS3imVtXulLSvn5kz/U17J8dviPZ6ELy9dlXS/DsPkW6k/K8gGOPxz+tflD+0z8Zbz4p+PLy4kmZ42kJ61+nfQV8C1mTnxlm9P437ia2ij8k8Rs4n4neIGIxE3fBYVuMV0k0/6/A77Qv26datPFq3LXU23fx83HWvtz4E/HC2+NPhi31KzkVNXsQHcKfvgd/8a/JfNe3fse/tA3Xwr8d2itM32dnCsCeCO4r/AEA8YfBfKOKeHq2A9kr8rtp5Hm8eeGuGrYP63lMfZ16WsWtL26H6zfEW7/4Tn4e2fiK0z9rscR3AB+YEdD/n0qDUdST4ofDm21iH5tT0fEdwo5MkfTn+X5VmfBbxlZ6jJHHvV9H8TQ4HOVRyP5j+nvWN4K1d/hD8ZbrRNQyLC+YwuD0Kn/Oa/wCf3POG8y4Rz+tlsrxxGDnz03s3FO+n9dj+qvDnE4Xxh8KsRkeO/wB8w8XF33UorR/gfAn/AAUf+CS+EvGq63ZRYs9RAmBA6Z6j8818s1+s37bHwOXxV8Pdc0do99xpebq0OPvRHrj/AD2r8o9a02TR9VntpF2tC5Uiv9/fo2+JtHjbgnC5nGV5qKUl2a0f4n83+GeZ4iWCqZRj9K+Fk6ck99NEyrRRRX7+fpgUUUUAFFFFABRRRQAUUUUAFFFFABRRRQAUUUUAFFFe0fsHfsHfED/goj+0Bpvw++H2m/aby5/fX9/MCtlo1qCA9zcOAdsa5AwAWZiqqGZlU8OZZlhcvws8bjZqFOCvKT2S/rZbt6LUqEJTkoxV2w/YO/YO+IH/AAUR/aA034ffD7TftN5c/vr+/mBWy0a1BAe5uHAO2NcgYALMxVVDMyqf60P+Cfn7EHhf/gnf+yp4a+FvhV2vLXRVea+1OW2jhuNYvJWLzXMoQdSSFUMWZY44k3NsBON/wTf/AOCcHw//AOCZn7P9r4J8E2v2m+udk+va9PEFvdfugCPNkxnbGuWEcQJWNSeWZnd/oGv89/FrxWxPFmL9hQvDCU3eEesntzy87bLaKdt22/sMvy9YePNL4nv/AJBRRRX46ekFFFFABRRRQAUUUUAFFFFABRRRQAUUUUAFFFFABRRRQAUUUUAFFFFABRRRQAUUUUAFFFFABRRRQAUUUUAFFFFABRRRQAUUUUAFFFFABRRRQA2VPMTb/TpXin7X/wCxLa/te3fgO6m+IHxA8B33w71h9d0u48MS2Hz3bW8luHmjvrS6ik2JNLsygKF9wIIBHttFAHxj4o/4IuaD8SfGureJPGnxs+O3jPX9R0a10eC/v77R7SbSzZ6lFqdjdQGy023/ANItbuNpImk3qBPMpVkdlN3xZ/wShRPBfxok0v4m+PPEHjv46aBpvhLxB4j8V3FrPNbaZBJcJP8AZEtLe3jt5Htr25ACII/MWFwikOX+wabKnmxMuSu4YyO1AHjfi39mAn9pf4bfETwxcWOjyeD9H1LwrqVgYMR6lo12IZY4V2/deG7s7R0J4EZuVx+8BHAeCf8AgmM/w3/aI8afEfQPjr8Z9P1bx9rKaxrdq8Xh28gukjY+TYedcaTJdpZQxkxRwpOvlqzlCruzn6hEJ353cZPAGPSpKAPHdB/Ym8J6H4Y+MWlzTatrVt8cNTu9S8RrqMkUm/z9Ot9O+zxYjASBLa2jRFIYgbslic1zvhT9iZdB+LPwXvJ9evNY8N/AvwncaLoQ1IibVNQ1CWC3sv7QuZVCoXSzgkXEcaBnvZGwMKo+hCMio0txGV2k/L0+mMY/l+VAHDfEz9m3wn8Y/H/g/wASeJrGTVr3wDeyanodvNcSfYrS9dAi3Ztw3lSXEa7xHK6s0XmyFCpOQnwg/Zr8K/AjWfFt74VspNHPjbVn13VLW3nkWxN7IiLNPDbljHC0rIJJCijfIWdtzMxPfUUAfOf7Wv8AwTw/4a4+JfhHxJefGP4teC18C6hHrGiaV4a/sVdPs79ILm3+1lbvTrl3kMF3NGQ7tHhuEBq98av+CfumfGLxLoXiS3+IvxQ8E+NtH0A+GLrxP4a1K1tdS1zTyQ7Q3XmW0kJPm7pVkhjikjeRzGyA4r36igDj/gd8DfDv7Ofws0HwV4Rs/wCy/DPhiwh07TbUMZGhhjXaA0jEvITyxZyWLMxLHNdUliqY9eM4AG7Hr+ZqaigBkcIjLHux5p9FFABRRRQAUUUUAFFFFABRRRQAUUUUAFFFFABRRRQAUUUUAFFFFABRRRQAUUUUAFFFFABRRRQAUUUUAFFFFABRRRQAUUUUAFFFFABRRRQAUUUUAFfP3/BSD/gnB8P/APgpn+z/AHXgnxta/Zr623z6Dr0EQa90C6IA82PON0bYUSREhZFA5VlR0+gaK6sFjcRg68MVhZuFSDTjJOzTWzTJlFSXLLY/jH/bx/YO+IH/AATu/aA1L4ffEHTfs15bfvrC/hBay1m1JIS5t3IG6NsEYIDKwZWCsrKPF6/sf/4KQf8ABOD4f/8ABTP9n+68E+NrX7NfW2+fQdegiDXugXRAHmx5xujbCiSIkLIoHKsqOn8wX/BUz/glN8QP+CWPxt/4R3xMP7b8L6sXl8O+J7a3MdrrMKkZBXLeVOmVEkJYlSQQWRkdv748JfGbCcSUoZdmUlTxqVrbRqWXxR6KXePq46XS+SzDLZUHzw1j+R8u0UUV+7HlBRRRQAUUUUAFFFFABRRRQAUUUUAFFFFABXtX7D/whb4ofGGxWRC1tbuHkOMgAck/lXiyqXYKOpr9CP8Agm18Kv8AhHvh7c6x5f8ApWoMtrASO7dT/L86/MfGDjSjwvwpjM3qu3JCTX3HwPiTnk8tySo6P8Sp7kfWWh9Vza7D8NPhHrGu/LDNej+z7Ef3UAwcfyrD/ZwsW8J/DrV/FVwv+magTbWmepZupH0H86539r7xFnxB4f8ABNk2UsURJFU9XbBb/PtXoPjhV8F+FNH0mFf3ei6abyVcfflK7uf5V/z15bl+M4szqjQqv99mdfmk+0Oa/wB1j+kuJo/8Qj8AaWEoe7i8XFK/Xmqbv5XZ8ef8FGPjr/wjmhx+GbO4/e8tc4PLOev5Zx+dfBssrTSszcsxya9G/ah8VX3ir4p6hPeedzKxG/tzXm9f9EvhrwjhOG+HsNlmDilGEUtPQ/nXw/4fp5Tk9KktZyXNJ929WFS2V21jcpLGdrIcioqK+9aurM+2aurM/Q3/AIJ8fHL/AITbwc2gXE/+l2uJbYs3IYdh+VfSX7RVifFPgLR/F1qpW7tCILvHUMvQn/Pavys/Ze+LFx8LviTY3UczRqJRnmv1o+GGpWvxH8LXmmLtez8S2X2m19EmAzgfjxX+Rv0+PCtZZjsNxvgYe6ny1LdYy7+h814P8Rvw/wDFKjJu2EzB8kl0U3t9/wCpI2uRfEv4VaTr/wAs01mPsN+Ou5CMAmvyx/bk+EjfDD4yXyIhW2uHMkZxwVPIP61+jH7LGtfY/FeveCb5tseoK8casekgzt/w/GvBf+ClXwibxF8P7fV1j/0zS3a1uCF5+XOCf89q8r6BPiB/YvE2L4Pry/dVv3lPtZ7pH0f0guFVwV4qwzCguXC5lH5c62+8/PeilZdjEHscUlf7DlBRRRQAUUUUAFFFFABRRRQAUUUUAFFFFABRRX1F/wAEs/8AglN8QP8Agqd8bf8AhHfDI/sTwvpJSXxF4nubcyWujQsTgBcr5s74YRwhgWIJJVFd18vOs6wOU4OePzGoqdKCu5P8kt23skk23okaU6cqklCCuzhf2Dv2DviB/wAFEf2gNN+H3w+037TeXP76/v5gVstGtQQHubhwDtjXIGACzMVVQzMqn+rf/gm//wAE4Ph//wAEzP2f7XwT4JtftN9c7J9e16eILe6/dAEebJjO2NcsI4gSsak8szO7n/BN/wD4JwfD/wD4Jmfs/wBr4J8E2v2m+udk+va9PEFvdfugCPNkxnbGuWEcQJWNSeWZnd/oGv8AP/xY8WMVxXivq+HvDBwfux6yf88/Pstorzuz67L8vjh480tZP8PJBRRRX42ekFFFFABRRRQAUUUUAFFFFABRRRQAUUUUAFFFFABRRRQAUUUUAFFFFABRRRQAUUUUAFFFFABRRRQAUUUUAFFFFABRRRQAUUUUAFFFFABRRRQAUUUUAFFFFABRRRQAUUUUAFFFFABRRRQAUUUUAFFFFABRRRQAUUUUAFFFFABRRRQAUUUUAFFFFABRRRQAUUUUAFFFFABRRRQAUUUUAFFFFABRRRQAUUUUAFFFFABRRRQAUUUUAFFFFABRRRQAUUUUAFFFFABRRRQAVxvx5/Z48DftQ/Di88I/ELwrofjDw7fBt9lqdqsyRuUePzYyfmilVZHCyxlXTcSrA812VFaU6s6c1UptqSd01o011T6MGk1Zn8vv/BY7/g3r8df8E7n1b4geDZG8Z/Bt78pFPHufVPD0b7fLW+QIF2F2MazRkqxVdwiaREP5w1/dBX45f8Fa/wDg1q0T446lq3xB/Z3lsfC/iy+uJr7UPCV7Mtvo17+63bbErH/o0rSKf3ch8kmbhoEjAP8AXPhf9IRWhlnFUvKNb8EqiX/pa/7eW8j53HZP9uh93+X+R/PZRWx4/wDAGt/Cvxpqfh3xJpV9oeu6LcyWd9Y3sLQ3FrMjFXR0YAqwYEEHuKx6/rejWp1aaq0pKUZK6ad009mmt0z51pp2YUUUVoAUUUUAFFFFABRRRQAUUUUAXvDVn/aGvWsP/PSQCv1+/ZA8HQ+G/CPhe3kXbDY2jalOCOmBx+mK/Kf4AeH28S/FbSbVV3b51GPxr9cp71fh/wDBrxVqG7b9ls4tMhYdjt5/QV/n3+0H4mnhOC6WT0ZWliqkYfJvX8j4irkr4j8QMh4dSupVfaSXlHXU8b8A3U3xr/a/Mz7pF+2556Y3V7v8U9WUfEu/80boZU8vHYjkEflXlH/BOPw8LrxNrHiS4XK2sbyBj2Pb9SK7nxzrEGs+IJmY5+c81/k3Qz2vk3FNHFYHfCxil69fwP3b9oZmeHmsFw5Tly+yS09FY8O+Nv7Cfh/4otcXmlzLDdSZYpJ1J+tfF/x2/ZQ174OahJ51rL5KkkHacYr9OrTQxNHut5mVuo5zmqfizw7Z+KtJk03xBZpdW0gKiTbynuD2r/RDwd+nDy4mGXcRrli7Lm6f8A/gjh7jbiHh9ReIvWw/3tLyf+Z+O7KUbB4Ior7T+OP/AATMudQ1SS+8K3CXFvKS3lj7y+g21z3w0/4Ji+IrzUY31lfs0KnLeZ8uPz61/otgvFLhrFYFZhSxUXBq+6P3Sh4qcN1MJ9aeIS01i/iT7WPm/wCH/gzUvEeuW/2WGZgHHzKK/VD9lyO+8H/DLw3JeZW4s7lSuRtJU4BGPxNZnwt/Zn8J/COzjCwR3lzGOpGFB/rXa6pqokEKKqxxxsuFUYCgGv4a+lN42ZBxDw1i8iw9p3i0uuvc/BeNvExZ3jcOsDBxjRmpKT0d0+hx/wC0HI/wh/ahtNXtj5UV1KlwpXgANhv61237Ufg638beG9aijRWt9e04ahB3Afbk4/lWD+3zoP8AaPgXw34ghGTHEInceqn/AAxXTeBtdXxv8A/Cupttkexkawm5/gYZGfxOPwr/ADe8KeJKmTZ/kfEEHZwqKlN+TdtT/Sb6U2VrifwZy3jDD61cL7OV15Wufjp460ZtA8V3tqy7fLlIx+NZFeqfti+Ez4Q+OGr223btmbt715XX/RxleKWJwdKuvtRT/A/BcmxixeBo4lfain96CiiivQPSCiiigAooooAKKKKACiiigAorY8AeANb+KnjTTPDvhvSr7XNd1q5js7GxsoWmuLqZ2CoiIoJZixAAHc1+/f8AwSU/4NatE+B2paT8Qf2iJbHxR4ssbiG+0/wlZTLcaNZfut22+LR/6TKsjD93GfJBh5adJCB8Bx54kZPwphvaY+fNVkm4U4/FL/5GN95PTtd6HXhcFUxErQ26s+Cv+COP/BvX46/4KIvpPxA8ZSN4M+DaX4SWeTcmqeIY03eYtihQrsDqI2mkIVSzbRK0boP6UPgN+zx4G/Ze+HFn4R+HvhXQ/B/h2xC7LLTLVYUkcIkfmyEfNLKyxoGlkLO+0FmJ5rsqK/gXj7xHzbivF+2x0uWnH4Ka+GK/9ul3k9X0stD63CYKnh42jv1YUUUV8AdgUUUUAFFFFABRRRQAUUUUAFFFFABRRRQAUUUUAFFFFABRRRQAUUUUAFFFFABRRRQAUUUUAFFFFABRRRQAUUUUAFFFFABRRRQAUUUUAFFFFABRRRQAUUUUAFFFFABRRRQAUUUUAFFFFABRRRQAUUUUAFFFFABRRRQAUUUUAFFFFABRRRQAUUUUAFFFFABRRRQAUUUUAFFFFABRRRQAUUUUAFFFFABRRRQAUUUUAFFFFABRRRQAUUUUAFFFFABRRRQAUUUUAFFFFABRRRQAUUUUAFFFFAHz1+35/wAEvfg7/wAFJfAbaP8AEjw3G2qRCJbLxJpiRW+u6akbswjiuWjc+UfMkzE4eMmQtt3hWX+dL/gpx/wb9/Gr/gnJaap4q+z23jz4XWk4VfEmkn95ZJJI6RC8tj+8hYhU3MoeENKieaWYCv6sqK/TOAvFbPOFZ8mFn7Sg3rSldx83F7wfmtO6Zw4vL6WIV5aPufwv0V/TN/wU2/4NivhP+2VfX3iz4Y3Fn8H/AB09uB9lsNPjXw7qTxxuF8y2jCm3d28oNNESAqMxhkdix/Cn9vD/AIJO/HL/AIJz69LH8RvBt5H4fa4MFn4l03N5ot/lpQm24UYjd1hdxFMI5QgBKAGv7Y4H8YOH+JYxpUqnsq73pzdnf+69p+Vte8UfMYrLq1DVq67r+tD5vooor9UOAKKKKACiiigAooooA+gv+Ccvg3/hJvj5YzNHvjsz5zZ6YXk/yr7v/a+8Sf8ACKfs0abZq22bXLyS5Yf3lztXP618vf8ABKzwttOvasV+aOAxxn1ZiF/lmvb/APgodqnmeNPCvhmJvlsLSFCo9WAY/wDoVf5F/Tsz7+0OPcryNP3aMZVZL0Vl+J9h9FHI1nnjXWx01eGBopekpa/kep/ssaX/AMK//ZTuL7G2bVZAikdWAGT/ADFR2mim5i3N8zNySe9dJqenjwv8EfBuiqu2R4BPIv15/kBUemweVEMiv5P8G+FKOf43F47FK8ZTaT8k7fkkfy79NDjOeb+JGMUZXjSfKv1ML+yLnTjuhdlxzjtW74Qvk8QXP2O6jXzOnPejVNQiggOcdKk+Fukyap4l+1bSsSnCn1qPGjg/I8jpqeBqfvOyPwzw7xmOxOZ0sKlzQk7NPVW6nbR/s4rfWwnt5mttw4w+0f4Vy3jX4P6p4VhZnupXVR/EK93eGHVNHt4kulhaMdCetVfGWkJqHhT7O8izSKpG4elfzVlvHOc4aSpQxE1C9uW7St99j+2uJPAnhLEZM8ZhIpYjlvZPr6Hy3p8Ml45DckHBq/caCxtzx2qe7sm8M+I5oJF2qzFlJ710EPl3NrxjpX9yeFPC+WcS5Q6lSpzVLapvW5/nlnUK2AxcsPUjZxbX3GL8RdO/4WF+y9q1m677nRX8weyngn+VcL+xfrZ174JeKtFb5pNNKXkY7jY3P869W+H1st5qOu6M/MerafKqr6uFOP1xXhH7Et7/AMI7+0Hrnh+YlY9Qjnt9p7kg4/XFfzZmmV1MrlmeV/aw1SNSPomn+h/sN9H3Hf69fR+zLIqz5p0oTj9ydv0Plb/gqB4VGl/F6PUEX5L+JZc+pI5/XNfL9fdH/BVHwo0nhPQ9Q2fNa77V2x3Vj/jXwvX/AEL+CWfrOeCcuzBO/PSi/wAEfyf4W4uVbhuhGfxU7wf/AG62gooor9UP0IKKKKACiiigAoor6Q/YP/4JO/HL/goxr0Ufw58G3knh9bgQXniXUs2ei2GGiD7rhhiR0WZHMUIklKEkIQK83Nc4wOWYd4vMKsaVNbyk0l6a7vslq+hdOnKb5YK7Pm+vu7/gmP8A8G/fxq/4KN2ml+Kvs9t4D+F13OVbxJqx/eXqRyIkos7YfvJmAZ9rMEhLROnmhlIr9eP+CZP/AAbFfCf9jW+sfFnxOuLP4weOktyPst/p8beHdNeSNA3l20gY3Do3mhZpSAVdWEMbqGH6dV/KviB9JC/NguFo+TrSX/pEH/6VL/wHqe/g8l+1X+7/ADZ89fsB/wDBL34O/wDBNrwGuj/Dfw3GuqSiVb3xJqaRXGu6kkjqxjluVjQ+UPLjxEgSMGMNt3lmb6Foor+Tsdj8Tja8sVi5udSTu5Sbbb82z6CMYxXLFWQUUUVyFBRRRQAUUUUAFFFFABRRRQAUUUUAFFFFABRRRQAUUUUAFFFFABRRRQAUUUUAFFFFABRRRQAUUUUAFFFFABRRRQAUUUUAFFFFABRRRQAUUUUAFFFFABRRRQAUUUUAFFFFABRRRQAUUUUAFFFFABRRRQAUUUUAFFFFABRRRQAUUUUAFFFFABRRRQAUUUUAFFFFABRRRQAUUUUAFFFFABRRRQAUUUUAFFFFABRRRQAUUUUAFFFFABRRRQAUUUUAFFFFABRRRQAUUUUAFFFFABRRRQAUUUUAFFFFABRRRQAVT8QeH7DxZoN9pWq2Nnqel6nbyWl5Z3cKzW93DIpV45EYFXRlJUqwIIJB4q5RQm1qgPyz/wCCiH/BrB8G/wBpv+0vEfwkuP8AhT/jO48y4+xQRG48O38x858Nb532u+R413QHy4448Lbsa/Fj9tr/AIIpftG/sD2V9q3jb4f3l54Rs7iWIeJdDlXUtMZElSNZpGjJktkkaSPZ9pSJmLYA3BgP686K/aODvHbiXIoxoVZrEUV9mpdtLtGfxLyvzJdEeZicpoVdV7r8v8j+F+iv64f20/8AghR+zR+3Vqep6x4p8BR6D4u1QZl8R+GZzpd+0hmMzzOig2880jM4aSeGRyH65VCv5K/tW/8ABoL8YvhraXGofCfxx4Y+J1pDAj/2dfxnQdVllaQq0cQd5LZlVCrl5J4s/OAuQu/+muFvpCcMZolTxsnhanaesL+U1pbzkoHh4jJ69PWPvLy/y/4c/IiivUP2lv2J/i3+xzr/APZvxQ+HfizwVK9xPawT6lYOlnfPCwWT7PcgGG4VSy/PE7qQ6EEhgT5fX7Zg8dhsXSVfCVI1IPaUWpJ+jV0zzJRlF2krMKKKVBlx9a6iT9Iv+CWvgoxfCm0Pl/NquoxKDjkqvzH+lT/GHd8XP24TbxbpIo7wRqBzwDgV6F/wTv0b+w/hP4Xk2/6m3uNRA91TH9K5f9kvSx4l/ae8QeIrk+ZDpPnXRfsCuSP1xX+Df0ouIpYvxRzrGN3+r0o04+stfzP2P6FVWll2XcV8Z4jRRlOKflCJ7f8AGLxRp+i6/dXV5MsOm6FClohJ+8VAGB+X6VzHgL40aH8R5ZLexmRZF4Qbh81fK3/BTP8AaEm0lrLwzY3G26mzeXm09HfkA/QEfnXy58Mf2h9c+G2qJcQ3Ej7Tn71f3F9H/wCjbDB+HWFlWXLiK0FN33vJXP8AP7F+HmM4yWJ4nrztVxE5zgn/ACtu1/Vfgfqhrkbrer5isYw3zAeldBpfj8aXarHZ20rPjHC4r4N0v/gqrq1jYLHcabHeSKuN0gBrmfF3/BUDxvq8DRaetvp6E8MihWH4gZr8jzz6BWeZ5m8sTi8Wo0m/V2OHh3w/4zy6ThhIQg39tyX4bv8AA/RyXxr4imIfzI7cN0BP/wCqtCw+LWraSdl9C8kf95ef0r8h9Y/a+8d63cLJNrdxuDb+GPJrqPAf/BQn4geC7pT/AGh9shyC0UvzKfwNe5m37OXLKmB5MHibVUt3s39x9hT4P4+wj+sUMfGcusW2k/LX/I/Tbx34psfEtt5ifLOOQMfMDUfhaeSSH5+ABkk9q+MfCv8AwVZt5oo11jw/F5g+88Y+9+RwPyp3jz/gqFDqOlSW+lWv2VZBg4UhsfWvF8Mfob8X8K5tzVaqlS8uqPzniPgXizOcZzYnCqMnvJNW9dGfb+gamuj+NtJ1KJlkiWcRsVPY8Y/lXhWrWzfCP9u2N1+WNr4MpxwwLcV5t+xP+10fif4nu/D+oTbJrpTJbbz/AMtByMfXp+VevftjWoT4p+DPE0fyDUreFnbHRl+Vvxytfz/9Jfw2r8KcduFaNqeNoS9HKP8AwD+8/oCVsTk2cZxwNmW9Wl7SPmrNO34GJ/wU+8GC4+E+vKq/8g3UmZR7OM/0r8wTwa/Xj9vDSl1/4U+JHPz+dpVte5HRiVA/rX5EzDbMw9GIr/Rf6DGdyzDwrwcZu7p3h/4C2v0Pw7gvC/UMwzbKelDFVUl2TdxtFFFf2KfoAUV6h+zT+xP8W/2xtf8A7N+F/wAO/FnjWVLiC1nn02wd7OxeZisf2i5IENurFW+eV0UBHJICkj9J/wBlL/g0F+MXxKtLfUPix448MfDG0mgd/wCzrCM69qsUqyBVjlCPHbKrIGcPHPLj5AVyW2fG8R+IXDuRXWZ4uEJL7KfNP/wCN5fNq3mdNHB1qvwRf6fefkRX1b+xL/wRS/aN/b4srHVvBPw/vLPwjeXEUR8S65Kum6YqPK8bTRtIRJcpG0cm/wCzJKylcEbioP8ARp+xZ/wQo/Zo/YV1PTNY8LeAo9e8XaWMxeI/E051S/WQTCZJkRgLeCaNlQLJBDG4Cdcs5b6/r+ceKvpPSd6PDuGt/fq7/KEXb0bk/OJ7OHyPrWl8l/mfln/wTv8A+DWD4N/syf2b4j+Ldx/wuDxnb+XcfYp4jb+HbCYeS+Ft877rZIki7pz5ckcmGt1NfqB4f8P2HhPQbHStKsbPTNL0y3jtLOztIVht7SGNQqRxooCoiqAoVQAAABxVyiv5l4g4ozXPMR9azWvKrLpd6LyjFWUV5JJHuUcPTpLlpqwUUUV4JsFFFFABRRRQAUUUUAFFFFABRRRQAUUUUAFFFFABRRRQAUUUUAFFFFABRRRQAUUUUAFFFFABRRRQAUUUUAFFFFABRRRQAUUUUAFFFFABRRRQAUUUUAFFFFABRRRQAUUUUAFFFFABRRRQAUUUUAFFFFABRRRQAUUUUAFFFFABRRRQAUUUUAFFFFABRRRQAUUUUAFFFFABRRRQAUUUUAFFFFABRRRQAUUUUAFFFFABRRRQAUUUUAFFFFABRRRQAUUUUAFFFFABRRRQAUUUUAFFFFABRRRQAUUUUAFFFFABRRRQAUUUUAFFFFABRRRQAUUUUAU/EHh+w8W6BfaVqtjZ6npep28lpeWd3Cs1vdwyKUeORGBV0ZSVKsCCCQeK+I/2ov8Ag3J/ZQ/agvp9QbwA3w/1i6njmlvfBdz/AGUrKkZj8sWpV7RFb5WYpArM67i2Wfd90UV6uU57mWV1PbZdXnSl3hJxv62av6MzqUYVFaaT9T8Mfjx/wZxvA1xcfDH4t2t4st83kad4n097U21od5Xdd2/mebKv7tTi3jVss3yYCH59+Jf/AAaq/Hb4X38k0cekeKtNs7M3093oN+Jgu3eWhWGZY7iSXagIWOJ929QpZsqP6UKK/TcB48cZYaHJLEqov70U396Sb+dzwMw4ZoYmLVOpOk+8WvykpL8D8FvhJ8F9W+A8+neC/EWm6poWpx6BLHHBqVlJY3E6SF0WRI5QrFSysobGMqw4wceXafHa/sm/A7xh4k1oeSb6djtzh3hjI+Ue7OUXHvX9HVeW6r+w38FNd0b+zb74P/C2808ncbWfwpYSQk+uwxFf0r+Vcy8Oqeb8ZS4nzrEOpRrVadStSUOXnVN35VLmdk7JO8drl8OZTi8h4FzDgfAV24Y2alOpJWlyuSdSKUdLyimk9LX2P4z/AIp/Eq/+K/jvUde1Bt1xfzNJt7ICeAPpXP76/qu+Jf8AwbP/ALHPxC8OXlna/DG88K3l1t2alo3iHUEubXDqx2JNNLB8wBU7om4Y4w2GHkN7/wAGg37MN0xMfij40W2e0et6ecf99WJr/TXLPpI8IqjGi6NakopJLki0kui5Zv8AJHDR4dlh6UaNFJRikkl0S0SP5rtxpK/ffxP/AMGY/g+71u9k0X48eJNP02Sd2tIL3w1DeTwRFjsSSVZ4lkYLgFgiBiCQq5wMKf8A4Mt7Vj+7/aOuF/3vAYb/ANyAr6Wj9ILgia97Eyj606n6RZX9lYhbR/FH4S0V+6n/ABBZru/5OTbH/ZPv/vlU0H/Blvaqf3n7R1w3+74DC/8AuQNdEvHzgZK6xrf/AHCq/rAP7LxP8v4r/M/CUHFO3mv318Mf8GY/g+01uyk1r48eJNQ02OdGu4LLw1DZzzxBhvSOVp5VjYrkBijhSQSrYwfW7L/g0G/ZhtWBk8UfGi5x2k1vTxn/AL5sRXk4j6RnBtP4J1J+lN/+3OJX9kV3ul95/OP8P/Hd98OfF9jrOnyNHdWMokXBxnB6V+q2hXtv+17+zt4Z1rSVWSSyuVmMYwWjWQ4kQ/7sit+DCv1A+Gn/AAbP/sc/D3w5Z2d18MbzxVeWu7fqWs+IdQe5usuzDekM0UHyghRtiXhRnLZY/UOkfsM/BPw/o/8AZ9h8HfhZY6fnd9mt/CdhHDn12LEB+lfyN9JziHh/xNy3C4fLac6GJw9TmhWnGLtFpxnHljNtqSf8ys0j0+FcLi8h4owfFGDklUo88ZLX36c4tOLflLlknraz7n43fFP4P6t8bLy+8E+G9N1TXNS/sCOOW30uykv7iCNCis7xxBmCBmVS2MAsBnJFeI/CH/g1s+NHxrlN8sVr4T0u6ilmhufE0r2JZ1l8vyjbrG10jH5mBeFUKrkN8ybv6UqK+J8G+Js98OuH1kGV4hThdy5nCzu3d6cz6+bPlI+H8P7axucyxVS+KqOpKEeVRu+l3Fy+5o/EL4Of8GcenvZaPdfED4vNDcLPu1XTfD+kGZGiEp+SC8ndSGaID52tiEZj8rhct9q/svf8G5X7KH7MF/BqC/D9viBrFrPJLFe+M7kaqqK8fl+WbUKlo6r8zKXgZ1dtwbKpt+6KK+pzjxR4rzOLhisdU5XuovkXo1G1163Ps8PlmGor3I/N3b/G5T8P+H7DwloFjpWlWNnpml6Zbx2lnZ2kKw29pDGoRI40UBURVAUKoAAAA4q5RRXwLberO8KKKKACiiigAooooAKKKKACiiigAooooAKKKKACiiigAooooAKKKKACiiigAooooAKKKKACiiigAooooAKKKKACiiigAooooAKKKKACiiigAooooAKKKKACiiigAooooAKKKKACiiigAooooAKKKKACiiigAooooAKKKKACiiigAooooAKKKKACiiigAooooAKKKKACiiigAooooAKKKKACiiigAooooAKKKKACiiigAooooAKKKKACiiigAooooAKKKKACiiigAooooAKKKKACiiigAooooAKKKKACiiigAooooAKKKKACiiigAooooAKKKKACiiigAooooAKKKKACiiigAooooAKKKKACiiigAooooAKKKKACiiigAooooAKKKKACiiigAooooAKKKKACiiigAooooAKKKKACiiigAooooAKKKKACiiigAooooAKKKKACiiigD//Z)"
      ],
      "metadata": {
        "id": "2pAYHSjWfP2N"
      }
    }
  ],
  "metadata": {
    "colab": {
      "provenance": []
    },
    "kernelspec": {
      "display_name": "Python 3",
      "name": "python3"
    },
    "language_info": {
      "name": "python"
    }
  },
  "nbformat": 4,
  "nbformat_minor": 0
}