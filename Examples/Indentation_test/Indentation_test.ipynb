{
  "cells": [
    {
      "cell_type": "markdown",
      "metadata": {
        "id": "ehRec-_62NE9"
      },
      "source": [
        "## Adding the Dolfinx library to the colab environment"
      ]
    },
    {
      "cell_type": "code",
      "execution_count": null,
      "metadata": {
        "id": "KpiGbFO7pQpd"
      },
      "outputs": [],
      "source": [
        "!wget \"https://fem-on-colab.github.io/releases/fenicsx-install-real.sh\" -O \"/tmp/fenicsx-install.sh\" && bash \"/tmp/fenicsx-install.sh\""
      ]
    },
    {
      "cell_type": "markdown",
      "metadata": {
        "id": "PRk5PB4E2P75"
      },
      "source": [
        "## Importing the required libraries"
      ]
    },
    {
      "cell_type": "code",
      "execution_count": null,
      "metadata": {
        "id": "HgTYnc5Apxis"
      },
      "outputs": [],
      "source": [
        "from mpi4py import MPI\n",
        "from dolfinx import mesh, fem, io, plot, nls, log, geometry, la\n",
        "from dolfinx import cpp as _cpp\n",
        "from dolfinx import default_real_type\n",
        "import basix\n",
        "import dolfinx.fem.petsc\n",
        "import ufl\n",
        "import numpy as np\n",
        "from petsc4py.PETSc import ScalarType\n",
        "from petsc4py import PETSc\n",
        "import time\n",
        "import os"
      ]
    },
    {
      "cell_type": "markdown",
      "metadata": {
        "id": "qAoPUKJp2UH0"
      },
      "source": [
        "## Setting material properties and geometry dimensions"
      ]
    },
    {
      "cell_type": "code",
      "execution_count": null,
      "metadata": {
        "id": "fboD1neMpzHf"
      },
      "outputs": [],
      "source": [
        "# Material properties\n",
        "E, nu = ScalarType(80000), ScalarType(0.22)\t                                      #Young's modulus and Poisson's ratio\n",
        "mu, lmbda, kappa = E/(2*(1 + nu)), E*nu/((1 + nu)*(1 - 2*nu)), E/(3*(1 - 2*nu))\n",
        "Gc= ScalarType(0.009)\t                                                            #Critical energy release rate\n",
        "sts, scs= ScalarType(60), ScalarType(1000)\t                                      #Tensile strength and compressive strength\n",
        "shs = (2/3)*sts*scs/(scs-sts)\n",
        "Wts = sts**2/(2*E)\n",
        "Whs = shs**2/(2*kappa)\n",
        "\n",
        "\n",
        "#Irwin characteristic length\n",
        "lch=3*Gc*E/8/(sts**2)\n",
        "#The regularization length\n",
        "eps=0.08                                                                          #epsilon should not be chosen to be too large compared to lch. Typically eps<4*lch should work\n",
        "\n",
        "h=eps/5\n",
        "\n",
        "\n",
        "\n",
        "delta = (1+3*h/(8*eps))**(-2) * ((sts + (1+2*np.sqrt(3))*shs)/((8+3*np.sqrt(3))*shs)) * 3*Gc/(16*Wts*eps) + (1+3*h/(8*eps))**(-1) * (2/5)\n",
        "comm = MPI.COMM_WORLD\n",
        "comm_rank = MPI.COMM_WORLD.rank\n",
        "log.set_log_level(log.LogLevel.ERROR)\n",
        "\n",
        "#Geometry of the specimen\n",
        "W, L = 25.0, 12.5                                                                 #making use of symmetry"
      ]
    },
    {
      "cell_type": "markdown",
      "metadata": {
        "id": "VdSSKJfa2XHo"
      },
      "source": [
        "## Generating the mesh with element size $h=\\frac{ϵ}{5}$\n",
        "(note that the mesh is saved in xdmf format)"
      ]
    },
    {
      "cell_type": "code",
      "execution_count": null,
      "metadata": {
        "id": "o3RhUSMLrPJm"
      },
      "outputs": [],
      "source": [
        "domain = mesh.create_rectangle(comm = comm,points=\n",
        "                             [np.array([0,0]), np.array([W,-L])],n=[int(W/(32*h))\n",
        "                             ,int(L/(32*h))], cell_type=mesh.CellType.triangle\n",
        "                               , diagonal= mesh.DiagonalType.crossed)\n",
        "\n",
        "\n",
        "def cell_criterion(x):\n",
        "    \"\"\"Given mesh coordinates, return if each point\n",
        "    satisfies (x[1]>-4) & (x[0]<8)\n",
        "\n",
        "    :param x: Input coordinates, shape (num_points, 3)\n",
        "    :returns: Boolean array of shape (num_points, )\n",
        "    \"\"\"\n",
        "    return (x[1]>-4) & (x[0]<8)\n",
        "\n",
        "ir=0\n",
        "while ir<2:\n",
        "    domain.topology.create_connectivity(domain.topology.dim, domain.topology.dim)\n",
        "    cells_local = np.arange(domain.topology.index_map(\n",
        "        domain.topology.dim).size_local, dtype=np.int32)\n",
        "    midpoints = dolfinx.mesh.compute_midpoints(\n",
        "        domain, domain.topology.dim, cells_local).T\n",
        "    should_refine = np.flatnonzero(cell_criterion(midpoints)).astype(np.int32)\n",
        "    domain.topology.create_entities(1)\n",
        "    local_edges = dolfinx.mesh.compute_incident_entities(\n",
        "        domain.topology, should_refine, domain.topology.dim, 1)\n",
        "    domain = dolfinx.mesh.refine(domain, local_edges)\n",
        "    ir+=1\n",
        "\n",
        "\n",
        "def cell_criterion2(x):\n",
        "    \"\"\"Given mesh coordinates, return if each point\n",
        "    satisfies (x[1]>-3) & (x[0]<9) & (x[0]>3)\n",
        "\n",
        "    :param x: Input coordinates, shape (num_points, 3)\n",
        "    :returns: Boolean array of shape (num_points, )\n",
        "    \"\"\"\n",
        "    return (x[1]>-3) & (x[0]<9) & (x[0]>3)\n",
        "\n",
        "ir=0\n",
        "while ir<3:\n",
        "    domain.topology.create_connectivity(domain.topology.dim, domain.topology.dim)\n",
        "    cells_local = np.arange(domain.topology.index_map(\n",
        "        domain.topology.dim).size_local, dtype=np.int32)\n",
        "    midpoints = dolfinx.mesh.compute_midpoints(\n",
        "        domain, domain.topology.dim, cells_local).T\n",
        "    should_refine = np.flatnonzero(cell_criterion2(midpoints)).astype(np.int32)\n",
        "    domain.topology.create_entities(1)\n",
        "    local_edges = dolfinx.mesh.compute_incident_entities(\n",
        "        domain.topology, should_refine, domain.topology.dim, 1)\n",
        "    domain = dolfinx.mesh.refine(domain, local_edges)\n",
        "    ir+=1\n",
        "\n",
        "\n",
        "with dolfinx.io.XDMFFile(domain.comm, \"refined_mesh.xdmf\", \"w\") as xdmf:\n",
        "    xdmf.write_mesh(domain)"
      ]
    },
    {
      "cell_type": "markdown",
      "metadata": {
        "id": "BK-_fQa32aUN"
      },
      "source": [
        "## Defining the function spaces"
      ]
    },
    {
      "cell_type": "code",
      "execution_count": null,
      "metadata": {
        "id": "Q7EQXquWtDen"
      },
      "outputs": [],
      "source": [
        "# Defining the function spaces\n",
        "V = fem.functionspace(domain, (\"CG\", 1, (domain.geometry.dim,)))                  #Function space for u\n",
        "Y = fem.functionspace(domain, (\"CG\", 1))                                          #Function space for z"
      ]
    },
    {
      "cell_type": "markdown",
      "metadata": {
        "id": "lyG0APXP2biM"
      },
      "source": [
        "## Setting the Dirichlet part of boundary conditions"
      ]
    },
    {
      "cell_type": "code",
      "execution_count": null,
      "metadata": {
        "id": "N6QAzvbKtFM1"
      },
      "outputs": [],
      "source": [
        "maxdisp = -0.05\n",
        "\n",
        "def left(x):\n",
        "    return np.isclose(x[0], 0)\n",
        "\n",
        "def front(x):\n",
        "    return np.isclose(x[0], W)\n",
        "\n",
        "def top(x):\n",
        "    return np.isclose(x[1], 0)\n",
        "\n",
        "def bottom(x):\n",
        "    return np.isclose(x[1], -L)\n",
        "\n",
        "def loadset(x):\n",
        "    return (x[0]>0-1e-4) & (x[0]<1.0+1e-4) & (abs(x[1]-0)<1e-4)\n",
        "\n",
        "def outer(x):\n",
        "    return (x[1] < -L/10)\n",
        "\n",
        "fdim = domain.topology.dim -1\n",
        "left_facets = mesh.locate_entities_boundary(domain, fdim, left)\n",
        "front_facets = mesh.locate_entities_boundary(domain, fdim, front)\n",
        "top_facets = mesh.locate_entities_boundary(domain, fdim, top)\n",
        "bottom_facets = mesh.locate_entities(domain, fdim, bottom)\n",
        "loadset_facets = mesh.locate_entities(domain, fdim, loadset)\n",
        "outer_facets = mesh.locate_entities(domain, fdim, outer)\n",
        "\n",
        "\n",
        "dofs_left = fem.locate_dofs_topological(V.sub(0), fdim, left_facets)\n",
        "dofs_bottom = fem.locate_dofs_topological(V.sub(1), fdim, bottom_facets)\n",
        "dofs_loadset = fem.locate_dofs_topological(V.sub(1), fdim, loadset_facets)\n",
        "\n",
        "dofs_outer = fem.locate_dofs_topological(Y, fdim, outer_facets)\n",
        "\n",
        "bcl = fem.dirichletbc(ScalarType(0), dofs_left, V.sub(0))\n",
        "bcb = fem.dirichletbc(ScalarType(0), dofs_bottom, V.sub(1))\n",
        "bct = fem.dirichletbc(ScalarType(0), dofs_loadset, V.sub(1))   # at the end, we have to change the value in the loop using bct.g.value[...] = ScalarType(t*maxdisp)\n",
        "bcs = [bcl, bcb, bct]\n",
        "\n",
        "\n",
        "bct_z = fem.dirichletbc(ScalarType(1), dofs_outer, Y)\n",
        "bcs_z = [bct_z]\n"
      ]
    },
    {
      "cell_type": "markdown",
      "metadata": {
        "id": "DqTO3eXh2feJ"
      },
      "source": [
        "## Marking the facets and defining trial and test functions"
      ]
    },
    {
      "cell_type": "code",
      "execution_count": null,
      "metadata": {
        "id": "nqJmdSu3dVM0"
      },
      "outputs": [],
      "source": [
        "marked_facets = np.hstack([top_facets, bottom_facets, left_facets])\n",
        "marked_values = np.hstack([np.full_like(top_facets, 1),\n",
        "                           np.full_like(bottom_facets, 2),\n",
        "                           np.full_like(left_facets, 3)])\n",
        "sorted_facets = np.argsort(marked_facets)\n",
        "facet_tag = mesh.meshtags(domain, domain.topology.dim -1,\n",
        "                          marked_facets[sorted_facets],\n",
        "                          marked_values[sorted_facets])\n",
        "\n",
        "metadata = {\"quadrature_degree\": 4}\n",
        "ds = ufl.Measure('ds', domain=domain,\n",
        "                 subdomain_data=facet_tag, metadata=metadata)\n",
        "dS = ufl.Measure(\"dS\", domain=domain, metadata=metadata)\n",
        "dx = ufl.Measure(\"dx\", domain=domain, metadata=metadata)\n",
        "\n",
        "# Define functions\n",
        "du = ufl.TrialFunction(V)                                                         # Incremental displacement\n",
        "v  = ufl.TestFunction(V)                                                          # Test function for u\n",
        "u  = fem.Function(V, name=\"displacement\")                                         # Displacement from previous iteration\n",
        "u_inc = fem.Function(V)\n",
        "dz = ufl.TrialFunction(Y)                                                         # Incremental phase field\n",
        "y  = ufl.TestFunction(Y)                                                          # Test function for z\n",
        "z  = fem.Function(Y, name=\"phasefield\")                                           # Phase field from previous iteration\n",
        "z_inc = fem.Function(Y)\n",
        "d = len(u)"
      ]
    },
    {
      "cell_type": "markdown",
      "metadata": {
        "id": "hfDt5tyu2gny"
      },
      "source": [
        "## Setting the initial conditions"
      ]
    },
    {
      "cell_type": "code",
      "execution_count": null,
      "metadata": {
        "id": "RAHr-HhndV7O"
      },
      "outputs": [],
      "source": [
        "u.x.array[:] = 0.\n",
        "fem.petsc.set_bc(u.vector, bcs)\n",
        "\n",
        "\n",
        "z.x.array[:] = 1.\n",
        "fem.petsc.set_bc(z.vector, bcs_z)\n",
        "\n",
        "\n",
        "u_prev = fem.Function(V)\n",
        "u_prev.x.array[:] = u.x.array\n",
        "z_prev = fem.Function(Y)\n",
        "z_prev.x.array[:] = z.x.array\n",
        "\n",
        "\n",
        "y_dofs_top = fem.locate_dofs_topological(V.sub(1), fdim, top_facets)"
      ]
    },
    {
      "cell_type": "markdown",
      "metadata": {
        "id": "81nFOmSn2nTh"
      },
      "source": [
        "## Defining a function to evaluate any field in parallel for visualization purposes"
      ]
    },
    {
      "cell_type": "code",
      "execution_count": null,
      "metadata": {
        "id": "ije-Ny86dY57"
      },
      "outputs": [],
      "source": [
        "def adjust_array_shape(input_array):\n",
        "    if input_array.shape == (2,):                                                 # Check if the shape is (2,)\n",
        "        adjusted_array = np.append(input_array, 0.0)                              # Append 0.0 to the array\n",
        "        return adjusted_array\n",
        "    else:\n",
        "        return input_array\n",
        "bb_tree = geometry.bb_tree(domain, domain.topology.dim)\n",
        "\n",
        "def evaluate_function(u, x):\n",
        "    \"\"\"[summary]\n",
        "        Helps evaluated a function at a point `x` in parallel\n",
        "    Args:\n",
        "        u ([dolfin.Function]): [function to be evaluated]\n",
        "        x ([Union(tuple, list, numpy.ndarray)]): [point at which to evaluate function `u`]\n",
        "\n",
        "    Returns:\n",
        "        [numpy.ndarray]: [function evaluated at point `x`]\n",
        "    \"\"\"\n",
        "\n",
        "\n",
        "    if isinstance(x, np.ndarray):\n",
        "        # If x is already a NumPy array\n",
        "        points0 = x\n",
        "    elif isinstance(x, (tuple, list)):\n",
        "        # If x is a tuple or list, convert it to a NumPy array\n",
        "        points0 = np.array(x)\n",
        "    else:\n",
        "        # Handle the case if x is of an unsupported type\n",
        "        points0 = None\n",
        "\n",
        "    points = adjust_array_shape(points0)\n",
        "\n",
        "    u_value = []\n",
        "\n",
        "    cells = []\n",
        "    # Find cells whose bounding-box collide with the the points\n",
        "    cell_candidates = geometry.compute_collisions_points(bb_tree, points)\n",
        "    # Choose one of the cells that contains the point\n",
        "    colliding_cells = geometry.compute_colliding_cells(domain, cell_candidates, points)\n",
        "\n",
        "    if len(colliding_cells.links(0)) > 0:\n",
        "        u_value = u.eval(points, colliding_cells.links(0)[0])\n",
        "        u_value = domain.comm.gather(u_value, root=0)\n",
        "    return u_value[0]"
      ]
    },
    {
      "cell_type": "markdown",
      "metadata": {
        "id": "rMKItRrc2qbZ"
      },
      "source": [
        "## Defining stored energy, strain and, stress functions"
      ]
    },
    {
      "cell_type": "code",
      "execution_count": null,
      "metadata": {
        "id": "_0WYG6JtdbHX"
      },
      "outputs": [],
      "source": [
        "# Stored energy, strain and stress functions in linear isotropic elasticity (plane strain)\n",
        "\n",
        "def energy(v):\n",
        "    return mu*(ufl.inner(ufl.sym(ufl.grad(v)),ufl.sym(ufl.grad(v)))) + 0.5*(lmbda)*(ufl.tr(ufl.sym(ufl.grad(v))))**2\n",
        "\n",
        "def epsilon(v):\n",
        "    return ufl.sym(ufl.grad(v))\n",
        "\n",
        "def sigma(v):\n",
        "    return 2.0*mu*ufl.sym(ufl.grad(v)) + (lmbda)*ufl.tr(ufl.sym(ufl.grad(v)))*ufl.Identity(len(v))\n",
        "\n",
        "\n",
        "def sigmavm(sig,v):\n",
        "    return ufl.sqrt(1/2*(ufl.inner(sig-1/3*(1+nu)*ufl.tr(sig)*ufl.Identity(len(v)), sig-1/3*(1+nu)*ufl.tr(sig)*ufl.Identity(len(v))) + ((2*nu/3-1/3)**2)*ufl.tr(sig)**2 ))\n",
        "\n",
        "eta = 0.0\n",
        "# Stored energy density\n",
        "psi1 = (z**2+eta)*(energy(u))\n",
        "psi11 = energy(u)\n",
        "# Total potential energy\n",
        "Pi = psi1*dx\n",
        "# Compute first variation of Pi (directional derivative about u in the direction of v)\n",
        "R = ufl.derivative(Pi, u, v)\n",
        "# Compute Jacobian of R\n",
        "Jac = ufl.derivative(R, u, du)"
      ]
    },
    {
      "cell_type": "markdown",
      "metadata": {
        "id": "NfuTuJQK2tbK"
      },
      "source": [
        "## Defining the external force $c_{e}$ in the phase-field equation"
      ]
    },
    {
      "cell_type": "code",
      "execution_count": null,
      "metadata": {
        "id": "zKm3MrF0d2NF"
      },
      "outputs": [],
      "source": [
        "I1 = (z**2)*(1+nu)*ufl.tr(sigma(u))\n",
        "SQJ2 = (z**2)*sigmavm(sigma(u),u)\n",
        "\n",
        "alpha1 = (delta*Gc)/(shs*8*eps) - (2*Whs)/(3*shs)\n",
        "alpha2 = (3**0.5*(3*shs - sts)*delta*Gc)/(shs*sts*8*eps) + (2*Whs)/(3**0.5*shs) - (2*3**0.5*Wts)/(sts)\n",
        "\n",
        "ce = alpha2*SQJ2 + alpha1*I1 - z*(1-ufl.sqrt(I1**2)/I1)*psi11"
      ]
    },
    {
      "cell_type": "markdown",
      "metadata": {
        "id": "rLgo6yPk2vZj"
      },
      "source": [
        "## Weak form of PDE for phase-field"
      ]
    },
    {
      "cell_type": "code",
      "execution_count": null,
      "metadata": {
        "id": "CofYz-C0eIul"
      },
      "outputs": [],
      "source": [
        "#Balance of configurational forces PDE\n",
        "pen=1000*(3*Gc/8/eps)*ufl.conditional(ufl.lt(delta,1),1, delta)\n",
        "Wv=pen/2*((abs(z)-z)**2 + (abs(1-z) - (1-z))**2 )*dx\n",
        "\n",
        "R_z = y*2*z*(psi11)*dx + y*(ce)*dx + 3*delta*Gc/8*(-y/eps + 2*eps*ufl.inner(ufl.grad(z),ufl.grad(y)))*dx + ufl.derivative(Wv,z,y)\n",
        "\n",
        "# Compute Jacobian of R_z\n",
        "Jac_z = ufl.derivative(R_z, z, dz)"
      ]
    },
    {
      "cell_type": "markdown",
      "metadata": {
        "id": "3O3zm0Xt2xXb"
      },
      "source": [
        "## Defining a class for solving nonlinear PDEs"
      ]
    },
    {
      "cell_type": "code",
      "execution_count": null,
      "metadata": {
        "id": "XpKLHtMYeJY1"
      },
      "outputs": [],
      "source": [
        "class NonlinearPDEProblem:\n",
        "    \"\"\"Nonlinear problem class for PDEs.\"\"\"\n",
        "\n",
        "    def __init__(self, F, u, bc, J):\n",
        "        self.L = fem.form(F)\n",
        "        self.a = fem.form(J)\n",
        "        self.bc = bc\n",
        "\n",
        "    def form(self, x):\n",
        "        x.ghostUpdate(addv=PETSc.InsertMode.INSERT, mode=PETSc.ScatterMode.FORWARD)\n",
        "\n",
        "    def F(self, x, b):\n",
        "        \"\"\"Assemble residual vector.\"\"\"\n",
        "        with b.localForm() as b_local:\n",
        "            b_local.set(0.0)\n",
        "        fem.petsc.assemble_vector(b, self.L)\n",
        "        fem.petsc.apply_lifting(b, [self.a], bcs=[self.bc], x0=[x], scale=-1.0)\n",
        "        b.ghostUpdate(addv=PETSc.InsertMode.ADD, mode=PETSc.ScatterMode.REVERSE)\n",
        "        fem.petsc.set_bc(b, self.bc, x, -1.0)\n",
        "\n",
        "    def J(self, x, A):\n",
        "        \"\"\"Assemble Jacobian matrix.\"\"\"\n",
        "        A.zeroEntries()\n",
        "        fem.petsc.assemble_matrix(A, self.a, bcs=self.bc)\n",
        "        A.assemble()\n",
        "\n",
        "    def matrix(self):\n",
        "        return fem.petsc.create_matrix(self.a)\n",
        "\n",
        "    def vector(self):\n",
        "        return fem.petsc.create_vector(self.L)"
      ]
    },
    {
      "cell_type": "markdown",
      "metadata": {
        "id": "dPW-MAoc2zSp"
      },
      "source": [
        "## Setting the time step parameters"
      ]
    },
    {
      "cell_type": "code",
      "execution_count": null,
      "metadata": {
        "id": "PaBfaSQ_eLYo"
      },
      "outputs": [],
      "source": [
        "# time-stepping parameters\n",
        "T=1\n",
        "Totalsteps=1000\n",
        "startstepsize=1/Totalsteps\n",
        "stepsize=startstepsize\n",
        "t=stepsize\n",
        "step=1\n",
        "rtol=1e-9\n",
        "printsteps = 5"
      ]
    },
    {
      "cell_type": "markdown",
      "metadata": {
        "id": "4WjOr0SA21B6"
      },
      "source": [
        "## Creating Newton solvers and their customizations"
      ]
    },
    {
      "cell_type": "code",
      "execution_count": null,
      "metadata": {
        "id": "d9IVi66IfIqr"
      },
      "outputs": [],
      "source": [
        "# Create nonlinear problem\n",
        "problem_u = NonlinearPDEProblem(R, u, bcs, Jac)\n",
        "\n",
        "# Create Newton solver and solve\n",
        "\n",
        "solver = _cpp.nls.petsc.NewtonSolver(MPI.COMM_WORLD)\n",
        "solver.setF(problem_u.F, problem_u.vector())\n",
        "solver.setJ(problem_u.J, problem_u.matrix())\n",
        "solver.set_form(problem_u.form)\n",
        "solver.max_it = 10\n",
        "solver.error_on_nonconvergence = False\n",
        "solver.atol = 1.0e-8\n",
        "solver.rtol = 1.0e-7\n",
        "\n",
        "ksp1 = solver.krylov_solver\n",
        "opts = PETSc.Options()\n",
        "option_prefix = ksp1.getOptionsPrefix()\n",
        "opts[f\"{option_prefix}ksp_type\"] = \"cg\"\n",
        "opts[f\"{option_prefix}pc_type\"] = \"gamg\"\n",
        "\n",
        "# Create nonlinear problem\n",
        "problem_z = NonlinearPDEProblem(R_z, z, bcs_z, Jac_z)\n",
        "\n",
        "# Create Newton solver and solve\n",
        "\n",
        "solver_z = _cpp.nls.petsc.NewtonSolver(MPI.COMM_WORLD)\n",
        "solver_z.setF(problem_z.F, problem_z.vector())\n",
        "solver_z.setJ(problem_z.J, problem_z.matrix())\n",
        "solver_z.set_form(problem_z.form)\n",
        "solver_z.max_it = 10\n",
        "solver_z.error_on_nonconvergence = False\n",
        "solver_z.atol = 1.0e-8\n",
        "solver_z.rtol = 1.0e-7\n",
        "\n",
        "\n",
        "ksp2 = solver_z.krylov_solver\n",
        "opts = PETSc.Options()\n",
        "option_prefix = ksp2.getOptionsPrefix()\n",
        "opts[f\"{option_prefix}ksp_type\"] = \"cg\"\n",
        "opts[f\"{option_prefix}pc_type\"] = \"gamg\""
      ]
    },
    {
      "cell_type": "markdown",
      "metadata": {
        "id": "mDJOcvTQ23MY"
      },
      "source": [
        "## Solving the problem over several time steps via a staggered scheme"
      ]
    },
    {
      "cell_type": "code",
      "execution_count": null,
      "metadata": {
        "id": "SzD1EipLfJRD"
      },
      "outputs": [],
      "source": [
        "while t-stepsize < T:\n",
        "\n",
        "    if comm_rank==0:\n",
        "        print('Step= %d' %step, 't= %f' %t, 'Stepsize= %e' %stepsize)\n",
        "\n",
        "    bct.g.value[...] = ScalarType(t*maxdisp)\n",
        "    stag_iter = 1\n",
        "    rnorm_stag = 1\n",
        "    while stag_iter<100 and rnorm_stag > 1e-7:\n",
        "        start_time=time.time()\n",
        "        ##############################################################\n",
        "        # PDE for u\n",
        "        ##############################################################\n",
        "        solver.solve(u.vector)\n",
        "        u.x.scatter_forward()\n",
        "        ##############################################################\n",
        "        # PDE for z\n",
        "        ##############################################################\n",
        "        solver_z.solve(z.vector)\n",
        "        z.x.scatter_forward()\n",
        "        ##############################################################\n",
        "\n",
        "        zmin = domain.comm.allreduce(np.min(z.x.array), op=MPI.MIN)\n",
        "\n",
        "\n",
        "        if comm_rank==0:\n",
        "            print(zmin)\n",
        "\n",
        "        if comm_rank==0:\n",
        "            print(\"--- %s seconds ---\" % (time.time() - start_time))\n",
        "\n",
        "        ###############################################################\n",
        "        #Residual check for stag loop\n",
        "        ###############################################################\n",
        "        b_e = fem.petsc.assemble_vector(fem.form(-R))\n",
        "        fint=b_e.copy()\n",
        "        fem.petsc.set_bc(b_e, bcs)\n",
        "\n",
        "        rnorm_stag=b_e.norm()\n",
        "        stag_iter+=1\n",
        "\n",
        "    ########### Post-processing ##############\n",
        "\n",
        "    u_prev.x.array[:] = u.x.array\n",
        "    z_prev.x.array[:] = z.x.array\n",
        "\n",
        "    # Calculate Reaction\n",
        "\n",
        "    Fx=domain.comm.allreduce(np.sum(b_e[y_dofs_top]), op=MPI.SUM)\n",
        "\n",
        "    if comm_rank==0:\n",
        "        print(Fx)\n",
        "        with open('output.txt', 'a') as rfile:\n",
        "            rfile.write(\"%s %s  %s\\n\" % (str(t), str(zmin), str(Fx)))\n",
        "    if step % printsteps==0:\n",
        "        with io.XDMFFile(domain.comm, \"paraview/2D_plane_strain_indentation_\" + str(step) + \".xdmf\", \"w\") as file_results:\n",
        "            file_results.write_mesh(domain)\n",
        "            file_results.write_function(u, t)\n",
        "            file_results.write_function(z, t)\n",
        "\n",
        "    if np.isnan(zmin):\n",
        "        t1=t\n",
        "        break\n",
        "\n",
        "    # time stepping\n",
        "    step+=1\n",
        "    t+=stepsize\n"
      ]
    },
    {
      "cell_type": "markdown",
      "metadata": {
        "id": "lXwl1WcDE1tz"
      },
      "source": [
        "The figure below shows a snapshot of the phase field at the last step of the loading.\n",
        "\n",
        "\n",
        "![Indentation_test.jpg](data:image/jpeg;base64,/9j/4AAQSkZJRgABAQEAeAB4AAD/2wBDAAIBAQIBAQICAgICAgICAwUDAwMDAwYEBAMFBwYHBwcGBwcICQsJCAgKCAcHCg0KCgsMDAwMBwkODw0MDgsMDAz/2wBDAQICAgMDAwYDAwYMCAcIDAwMDAwMDAwMDAwMDAwMDAwMDAwMDAwMDAwMDAwMDAwMDAwMDAwMDAwMDAwMDAwMDAz/wAARCAJ3BKkDASIAAhEBAxEB/8QAHwAAAQUBAQEBAQEAAAAAAAAAAAECAwQFBgcICQoL/8QAtRAAAgEDAwIEAwUFBAQAAAF9AQIDAAQRBRIhMUEGE1FhByJxFDKBkaEII0KxwRVS0fAkM2JyggkKFhcYGRolJicoKSo0NTY3ODk6Q0RFRkdISUpTVFVWV1hZWmNkZWZnaGlqc3R1dnd4eXqDhIWGh4iJipKTlJWWl5iZmqKjpKWmp6ipqrKztLW2t7i5usLDxMXGx8jJytLT1NXW19jZ2uHi4+Tl5ufo6erx8vP09fb3+Pn6/8QAHwEAAwEBAQEBAQEBAQAAAAAAAAECAwQFBgcICQoL/8QAtREAAgECBAQDBAcFBAQAAQJ3AAECAxEEBSExBhJBUQdhcRMiMoEIFEKRobHBCSMzUvAVYnLRChYkNOEl8RcYGRomJygpKjU2Nzg5OkNERUZHSElKU1RVVldYWVpjZGVmZ2hpanN0dXZ3eHl6goOEhYaHiImKkpOUlZaXmJmaoqOkpaanqKmqsrO0tba3uLm6wsPExcbHyMnK0tPU1dbX2Nna4uPk5ebn6Onq8vP09fb3+Pn6/9oADAMBAAIRAxEAPwD9/KKKKACiiigAooooAKKKKACiiigAooooAKKKKACiiigAooooAKKKKACiiigAooooAKKKKACiiigAooooAKKKKACiiigAooooAKKKKACiiigAooooAKKKKACiiigAooooAKKKKACiiigAooooAKKKKACiiigAooooAKKKKACiiigAooooAKKKKACiiigAooooAKKKKACiiigAooooAKKKKACiiigAooooAKKKKACiiigAooooAKKKKACiiigAooooAKKKKACiiigAooooAKKKKACiiigAooooAKKKKACiiigAooooAKKKKACiiigAooooAKKKKACiiigAooooAKKKKACiiigAooooAKKKKACiiigAooooAKKKKACiiigAooooAKKKKACiiigAooooAKKKKACiiigAooooAKKKKACiiigAooooAKKKKACiiigAooooAKKKKACiiigAooooAKKKKACiiigAooooAKKKKACiiigAooooAKKKKACiiigAooooAKKKKACiiigAooooAKKKKACiiigAooooAKKKKACiiigAooooAKKKKACiiigAooooAKKKKACivm3/AIKE/wDBUr4b/wDBOjTPD9n4kh8QeLfHvjS4Wz8LeB/C9n/aGv8AiGZnCAQwZG1AxALsQDyFDvhD85/Eb/gut8Rv2PdW8N6t+05+yf4x+Cvww8VagmmW3i+y8X6f4pj06Z8lPt1taorW42guRudiFYIrspUAH6PUVV0PXLPxPotnqWm3dvf6fqECXNrc28gkhuInUMjowyGVlIII4IINWqACivlv9v3/AIKx+Af2EfF3hfwL/ZPiT4lfGLx223w34A8KW63Wr36/N+/l3EJb24KNmRznCyMquI5Cvh+q/wDBdbxd+y78YfB3h39q39mzxJ+z34f+IV5/Z2h+K4fF1h4q0hLk4xHeyWqoLXr6ueC2Niu6gH6KUUiuHUMp3KwyCO9ZHxB+IOh/CjwPq3ibxNq2n6D4f0G1kvtR1G+nWC2soI1LPJI7EBVABJJoA2KK+If+CUP/AAWr0X/grd8Yvi/pvgjwHqek+APhnPaQad4pvtQBk8RNOZgD9j8pTbjELMAZHYqy7gjEqPSf2+P+Cpnw7/YF1bwz4Z1Oy8SeOvih46fy/DHgPwnZi/13WeSvm+WWVYoAwbMsjAEJJtDlGAAPpWivzh+PP/Bb/wCMX7D2j6f4u/aE/Y58XfD34WXd5HZ3PiXQvHWm+KZtJeRisf2q1gRBECdo3eaVJYKGZyFP358Ivi14b+PPww0Hxp4P1e017wv4nsYtR0zULYkxXcEihkYZAI4PKsAynIIBBFAHRUUUUAFFFFABRRRQAUUUUAFFFFABRRRQAUUUUAFFFFABRRRQAUUUUAFFFFABRRRQAUUUUAFFFFABRRRQAUUUUAFFFFABRRRQAUUUUAFFFFABRRRQAUUUUAFFFFABRRRQAUUUUAFFFFABRRRQAUUUUAFFFFABRRRQAUUUUAFFFFABRRRQAUUUUAFFFFABRRRQAUUUUAFFFFABRRRQAUUUUAFFFFABRRRQAUUUUAFFFFABRRRQAUUUUAFFFFABRRRQAUUUUAFFFFABRRRQAUUUUAFFFFABRRRQAUUUUAFFFFABRRRQAUUUUAFFFFABRRRQAUUUUAFFFFABRRRQAV+cf/BS7/gvH4q/YL+Pvhf4d2P7N/jnVLnxp4gi8PaJ4i1zUbfTdF1aZpYkLWrQ/aJJRiVcCQRNzyvGK/RyvyB/4KQ3jftef8HM/wCyj8JYZBeaP8IdKm8b6rA43RwXBMlwMjpki1s/+/g9qECP1A/ao+P+n/sq/sz+PfiVq0IubDwLoF5rktv5vlfavs8LSLCHwdpdlCA4OCw4NeY/8Ep/259V/wCCkX7E3hj4xap4I/4V/wD8JVNd/ZNKGpnUf3ENw8Cy+aYos7zGxxs4Hc185f8AB1P8cn+DX/BG3x1YW5xefEDU9O8MQYzuPmTi4kAx6xW0i/Rq+rv+Cb/wFT9l/wDYH+D/AIBWNo5PDPhPT7W5DDk3HkK0xPuZWc/jQB7XXgP7eP8AwUv+FH/BN3RfDeofFTUtc0628Vzz22nHTtFudSLvCqM4YQI2zh1xuxnnGcGvfq+fv29/2/ov2DND8N30vwj+NfxY/wCEknngEPw78NDWptO8pUbdcKZY/LV9+FPOSrdMUAfOX/EUZ+yH/wBDN46/8IfVP/jNH/EUZ+yH/wBDN46/8IfVP/jNV/8AiIjtP+jOP26P/DXD/wCSqP8AiIjtP+jOP26P/DXD/wCSqYz7E/Y5/bH8C/t3/A6y+Inw5vdQ1DwvqFzPaQzXunzWMpkhcxyAxyqrDDAjOMGvUq8t/Y5/aiT9sP4GWPjiPwH8Rfhwt9cT2/8AYnjfR/7J1iHynKb3g3vhGxlTu5HNepUhBVXXNbtPDOiXmpahcR2ljp8D3NzPIcJDGilndj6BQSfpXxr+3z+0l+2v8MPjxHpP7Pv7Ofgv4l+A10uGaXXNZ8WWmnTPes8nmRLC9zE4VFEfJTBLHB4xXE/GL4+/tJeIv+CMP7UHiX9oD4a+G/hJ40sPCeu2uj6boWrx6p5lodNKi6eSOWVFJkeQAbgwEeSo4JAPlv8A4N8JLj/gqf8A8FNf2g/2zvGdu97Dot6vhTwDBdDeui27qx2xjokkdp5KEgDJu52PLk19af8ABzymkt/wRF+NDassbbE0o2RZQWW5/tW0Cbc9+Tz6E151/wAGh/ge18Kf8EcNE1C3VRP4m8U6vqN0R1Z0mW1Gf+AW6V5//wAHfnxkvtc/Zg+FH7PvhWN9S8bfGjxlbi302Bt01xBbfKiFRz891cW20ngmNvQ4Yz7D/wCCB2u6l4j/AOCOf7Ptzq0sk12vhWKBXc5byY5JI4R+ESRj8K+lvjR8V9J+BHwf8VeNtem+z6J4P0i61q/kzjbBbwtLJj32oce9YP7IvwEtf2WP2Wfh18NrORZoPAvhyw0MSqDidre3SJpOf7zKW/4FXzj/AMHEnie88Jf8EWfj9dWLSJNLoUFkxTr5U97bQSD6GORwfYmkI+Pf+DXfwXrH7aPxa+PX7a3xHja+8Z/EDxDJ4d0J5z5i6TZRrHLLFbluRGFe2t1IxhbUr3Nejf8AB4SLA/8ABH+T7YE+0DxrpX2Hd1E224zj38rzfwzXrn/Bsz4Ds/AX/BE/4KraqofVrbUNUuGB/wBZLNqNy2T9F2r/AMBr5J/4Owtc1L9q34vfsx/sl+EXkuvE3xC8Tf25ewRYJtYubO3mfn7gWS+ck8BYCaAP0i/YW+L1r4M/4JZ/B7xx4/1qy0ezsPhpo2q63quoXAjht0GnQvJNLI3A4yST3NfFGpa7r3/BcPUNX+Kvja11Twr+w78LRPreh+H7uJ7e6+L1zYhpft97GcMNMjaLMcJ/1hGW5yE86/4K7fC79pL4mftNeBfhTof7NfjD4sfsl/Cay09v+Ec0jxDb6FD45u4bdPKF5cHzXNrAwVRCsa7irEnO0pl/8FK/+Cu/7UHgf/gnL8RtD8RfsOap8F/B2paAfC48Qt48tLi10CK6UWqBLWO0QuoVtiohUDI6AVRR6p/waGfDxU/YP+IfxKa3jtJvih8QL++jhiiWKKKCBUjRUVQFVVczAKAAMYHFeX/8G63igftwf8Fdv2xvjz4yEd94v0W/h0PQ0uCHfRtPluLqMRRBslNsNlBFkY43j+Ns+v8A/BuN8WPjl4C/Zv8AhV8G/En7L2reA/hzpvhubVk+Id34nglj1d55DcxsLFYA6NN5+QGlJVVyewrM+K3/AAQ4+Pn7I/8AwUU8TftDfsY/EXwD4f8A+FgTTXHifwX42juV0m5eaQSyqpt45C8bTZkUDypIiWCSFWK0hH15/wAFw30tP+CRH7Q51iOOSz/4Qm/Cq4BHn7P3BHuJvLIPYgV4r/warNrDf8ETfhj/AGs1w0X23WP7P83PFt/aVxtC5/h378V8E/8ABaLxZ+1V+1z8Ufh/+yJrnxV8GeIfit8Q7u2uNf8AAnwt0eez8M+H7Ff3q3OqX11JJeTcYnEBEUaRwrKyMzQ1+437JP7Nmh/sefszeB/hf4bX/iTeB9Ht9KgkK7WuTGgDzMMn55H3SNz95zQB3HiC9utO0G+uLGz/ALSvre3kkt7QSrD9qkCkrHvbhdxwNx4Gcmvyg07/AIONfiN4F/4KRXHwS+L3wHi+GjaRos1/NoOjapJ438UeILt7dJbGy09bBFh86beG2yDYqZLyRBS1frXX46/8EG47f9qf/gs/+3F8eWjhuoLLW4/Cej3MkYaRIRNInyN2BisYM47EUhG9+0v/AMHBHx0/YT/a9+Gun/H79nPS/hP8EviPeNaQatP4kj1fVrGJZESS5me0Lwq0SyRyyWwRm2sQsjlSa3f+Cg3/AAXI/aG+A/wMn+M3wt/Zfurr4E6Vcw+d4r8baiNOv9WtZJhCtzDpKst3bW8jFPLmuF3Ms0bmFVzXCf8ABa9If2q/+C9n7EfwRaGHU9P8O3EvjHVrN0EiGPzvNIdT2Memt16hxXqn/B2H8ZZ/A3/BLCTwRpswXW/i14o0zw1awD706CX7S4HB4zAin/fFMZ9ifCz9r3WP2hf2AfDvxp+HPgG68Ta34u8MWviDSfCM+rwadLcyzRo/2VruQeUm0sw8xhg7c45xXwP+yV/wcd+PPjV+1l8Vvhj4u+BM2n+MfBLJpGi/D/wjet4i8QatqwumhuPNvx5enwWVuApmuJjHGmch3JEdfox8IfCmm/safsYeHdHuBHDpXww8HQQXBTCr5dlZjzG/ERsc+9fm3/waHeCJfFX7Mnxp+NWpwxf238WviHeTyTtGPOeKFVkwX6lfOuZ+M4zmgC1Zf8HEvxP/AGXv+CiVr8I/2s/gppHwZ8N+KNKbU9Cu9H1ObxFeRZWQwIWtVcXjSyxNbhYYkYSlflIOaj/4KAf8F+/2kP2GJvBfxE8Q/sny+FPgP4l1SOxW48R6/CfE9yjoZU821tpHXT52jDkQzCUgxsrMrHAx9SSP9rr/AIO/bWLyYNT0n9nv4fb3DoJEt7l4Mg89HWXU1IPZkzW1/wAHOl037Qnxc/ZF/Zvs5v8ASPiZ8Q4tS1CHB+W0tykJZvbFxMf+2Z96AP1j0DWofEmhWWoW+77PfwJcRbhhtrqGGR64NW6ZbQLaW8cUaqkcahVVRgKBwABT6QgooooAKKKKACiiigAooooAKKKKACiiigAooooAKKKKACiiigAooooAKKKKACiiigAooooAKKKKACiiigAooooAKKKKACiiigAooooAKKKKACiiigAooooAKKKKACiiigAooooAKKKKACiiigAooooAKKKKACiiigAooooAKKKKACiiigAooooAKKKKACiiigAooooAKKKKACiiigAooooAKKKKACiiigAooooAKKKKACiiigAooooAKKKKACiiigAooooAKKKKACiiigAooooAKKKKACiiigAooooAKKKKACiiigAooooAK/Ir9p/9jL9qj9lj/gvTrf7VPwf+Euj/AB68JeOvDkWh3GkyeKrLQbnRwtrbQMhluSNh8y1WRXSOVSjurBWIav11ooA/Gr/gtH+wB+25+318I/hp4qudF8Ba5d+E/Ftvq5+EnhnU40trS3CFhPdaremH7Zcg5hcRLFEivlFlO6Sv0+/ZF+KHxW+LPw/m1P4sfCfTPg/q3mIlrotv4ui8STlNgLtLLDBHCmHyqhHkyBuJUnaPV6KACiiigAooooAKKKKACsD4rfDTSfjR8L/Eng/xBbtdaF4r0u50fUYVbaZbe4iaKVQexKOwz2rfooA/I/8AYF+A/wC2J/wQ+8LeLPg14T+Bun/tOfC2TV7jWPB2vaZ420/w1d2Im+9bXkN5yNxVXJQMsbGTDSBgE9h/Ys/4JYfEb4mfty3H7Wn7V2oeH9S+KNtbfYPBPgrRZGutG+H1nhtv75/9fdDzJOVGxXkkkDOzp5X6H0UAfAn/AAWO/Zq/bI+O3xn+COofsy/Em08FeGfD+qtL4ptn1E2Idt6FLi4UK32y1WMSK1vhvmYHY+d0f13+1P8As46D+13+zZ40+GPikSNofjjR59Iu5IhiSDzEIWZP9uN9rrnjcgzmvQKKAPyc/YF8Mftw/wDBI34FSfAS3/Z30P8AaG8L+GLy5Pg3xfpHj7T9Ag+yzzGXybuC7zMpR5JHJVTjdsUuAJD7P/wTc/4JP+M/AX7WPiv9qb9pHxBoPi/9oLxlE1rY2WiCQ6H4GsGXYLSzMvzs/lARlyOF3gNIXeST78ooAK/MX/g6Z+HXj79oX9jf4efCvwD4L8YeLp/HHjyxGqyaFpFxfrptnCr7pLgxIwij8yWM7nwPkJzwa/TqigDH8GeGLP4a/D/SdFs0ZdP0DT4bKFUjLMIoYwigKoJJ2qOACa+BfH//AAUH/aN/4KCC68K/slfCnXPAPh24ka1u/jF8UNObSLCzT5g0ml6ZKpuL1zj5JZIxGrqUkjAO4folRQB8qf8ABMv/AIJK+BP+CbWi63q1tqerfEL4seNnNz4v+IGvnzdW1+d28yQAszGGEyZfywzEnaXeRlDD6roooAxfiTNrFt8Otfk8O28d54gj064bTLeSURLPdCJvJQueFBfaNx4Gc18Hf8G4H/BOH4hf8E5f2PvF2l/FjTbHTPH/AI08X3OuXsdtfxXv7gwwxxbpIyybiyStgE43jvmv0LooA/N/4cf8E7fi14m/4OM/GX7SfjDRdP0/4YaL4RGheEboanDcXF3KYIISfJU+ZEPnvGO8D7wwTmqP/Bw3/wAE5Pjx+3FrvwA8UfBOHwvrlx8IfEkut3eg6zeCzS8mL2skEu9iFeNfs7q6blbEg25ycfpdRQB8i/tReEv2kP2hP+CX3xi8N33hHwLo/wAWvGWh3Wj6FovhzxJJdW0UNzCkL+deXUNuvnAPcEhVCAKoDMSTV3/giV+xdrv/AAT/AP8Agmf8N/hl4ss7Ox8W6TDdXWtxW063Ea3VxdTTkeYpKsVV0XKkj5eK+raKAPzj/wCCSP8AwTu+LHwQ/wCCkX7V3x4+Lmi6fotx8VdXWHwxFbanDfM2nC4mf5jGSUxGlooVsE7TxxXJ/wDBUv8A4J8/tLePf+Cw3wL/AGkPg7ovgjx1oPw30pdOk0PXNXGmfZZDJdCd2cqx2vHcjbJGHZHj5jIADfqRRQByvwUuvG978NtPm+Itj4W03xfJ5jX1p4dvJ73TrceY3lrHNPFFJJiPZuYxp827C4xXVUUUAFFFFABRRRQAUUUUAFFFFABRRRQAUUUUAFFFFABRRRQAUUUUAFFFFABRRRQAUUUUAFFFFABRRRQAUUUUAFFFFABRRRQAUUUUAFFFFABRRRQAUUUUAFFFFABRRRQAUUUUAFFFFABRRRQAUUUUAFFFFABRRRQAUUUUAFFFFABRRRQAUUUUAFFFFABRRRQAUUUUAFFFFABRRRQAUUUUAFFFFABRRRQAUUUUAFFFFABRRRQAUUUUAFFFFABRRRQAUUUUAFFFFABRRRQAUUUUAFFFFABRRRQAUUUUAFFFFABRRRQAUUUUAFFFFABRRRQAUUUUAFFFFABRRRQAUUUUAFFFFABRRRQAUUUUAFFFFABRRRQAUUUUAFFFFABRRRQAUUUUAFFFFABRRRQAUUUUAFFFFABRRRQAUUUUAFFFFABRRRQAUUUUAFFFFABRRRQAUUUUAFFFFABRRRQAUUUUAFFFFABRRRQAUUUUAFFFFABRRRQAUUUUAFFFFABRRRQAUUUUAFFFFABRRRQAUUUUAFFFFABRRRQAUUUUAFFFFABRRRQAUUUUAFFFFABRRRQAUUUUAFFFFABRRRQAUUUUAFFFFABRRRQAUUUUAFFFFABRRRQAUUUUAFFFFABRRRQAUUUUAFFFFABRRRQAUUUUAFFFFABRRRQAUUUUAFFFFABRRRQAUUUUAFFFFABRRRQAUUUUAFFFFABRRRQAUUUUAFFFFABRRRQAUUUUAFFFFABRRRQAUUUUAFFFFABRRRQAUUUUAFFFFABRRRQAUUUUAFFFFABRRRQAUUUUAFFFFABRRRQAUUUUAFFFFABRRRQAUUUUAFFFFABRRRQAUUUUAFFFFABRRRQAUUUUAFFFFABRRRQAUUUUAFFFFABRRRQAUUUUAFFFFABRRRQAUUUUAFFFFABRRRQAUUUUAFFFFABRRRQAUUUUAFFFFABRRRQAUUUUAFFFFABRRRQAUUUUAFFFFABRRRQAUUUUAFFFFABRRRQAUUUUAFFFFABRRRQAUUUUAFFFFABRRRQAUUUUAFFFFABRRRQAUUUUAFFFFABRRRQAUUUUAFFFFABRRRQAUUUUAFFFFABRRRQAUUUUAFFFFABRRRQAUUUUAFFFFABRRRQAUUUUAFFFFABRRRQAUUUUAFFFFABRRRQAUUUUAFFFFABRRRQAUUUUAFFFFABRRRQAUUUUAFFFFABRRRQAUUUUAFFFFABRRRQAUUUUAFFFFABRRRQAUUUUAFFFFABRRRQAUUUUAFFFFABRRRQAUUUUAFFFFABRRRQAUUUUAFFFFABRRRQAUUUUAFFFFABRRRQAUUUUAFFFFABRRRQAUUUUAFFFFABRRRQAUUUUAFFFFABRRRQAUUUUAFFFFABRRRQAUUUUAFFFFABRRRQAUUUUAFFFFABRRRQAUUUUAFFFFABRRRQAUUUUAFFFFABRRRQAUUUUAFFFFABRRRQAUUUUAFFFFABRRRQAUUUUAFFFFABRRRQAUUUUAFFFFABRRRQAUUUUAFFFFABRRRQAUUUUAFFFFABRRRQAUUUUAFFFFABRRRQAUUUUAFFFFABRRRQAUUUUAFFFFABRRRQAUUUUAFFFFABRRRQAUUUUAFFFFABRRRQAUUUUAFFFFABRRRQAUUUUAFFFFABRRRQAUUUUAFFFFABRRRQAUUUUAFFFFABRRRQAUUUUAFFFFABRRRQAUUUUAFFFFABRRRQAUUUUAFFFFABRRRQAUUUUAFFFFABRRRQAUUUUAFFFFABRRRQAUUUUAFFFFABRRRQAUUUUAFFFFABRRRQAUUUUAFFFFABRRRQAUUUUAFFFFABRRRQAUUUUAFFFFABRRRQAUUUUAFFFFABRRRQAUUUUAFFFFABRRRQAUUUUAFFFFABRRRQAUUUUAFFFFABRRRQAUUUUAFFFFABRRRQAUUUUAFFFFABRRRQAUUUUAFFFFABRRRQAUUUUAFFFFABRRRQAUUUUAFFFFABRRRQAUUUUAFFFFABRRRQAUUUUAFFFFABRRRQAUUUUAFFFFABRRRQAUUUUAFFFFABRRRQAUUUUAFFFFABRRRQAUUUUAFFFFABRRRQAUUUUAFFFFABRRRQAUUUUAFFFFABRRRQAUUUUAFFFFABRRRQAUUUUAFFFFABRRRQAUUUUAFfzNf8ABwt+3l8a/hn/AMFa/ir4W8KfGD4oeFfDejrpMVrpWjeKL2ws7bfpNpK5SKKRVBZ5GYkDksTX9Mtfye/8HInH/Ban42f9dNG/9MlhX779HLL8LjOKKlPF041IqjN2kk1fmhrZ9TzM2nKNG8XbVHif/D0P9pZRgftB/GrA4/5HPUP/AI7R/wAPRP2lv+jg/jV/4Weof/Ha8Jor+3f9Vcl/6BKX/gEf8j5z6xU/mf3nu3/D0T9pb/o4P41f+FnqH/x2j/h6J+0t/wBHB/Gr/wALPUP/AI7XhNFH+quS/wDQJS/8Aj/kL29T+Z/ee7f8PRP2lv8Ao4P41f8AhZ6h/wDHaP8Ah6J+0t/0cH8av/Cz1D/47XhNFH+quS/9AlL/AMAj/kHt6n8z+892/wCHon7S3/Rwfxq/8LPUP/jtH/D0T9pb/o4P41f+FnqH/wAdrwmij/VXJf8AoEpf+AR/yD29T+Z/ee7f8PRP2lv+jg/jV/4Weof/AB2j/h6J+0t/0cH8av8Aws9Q/wDjteE0Uf6q5L/0CUv/AACP+Qe3qfzP7z3b/h6J+0t/0cH8av8Aws9Q/wDjtH/D0T9pb/o4P41f+FnqH/x2vCaKP9Vcl/6BKX/gEf8AIPb1P5n957q3/BUP9pZ1Kn9oP41YYYP/ABWmof8Ax2vs/wD4J0/ty/Gbxj+yz8SJtR+LnxO1bVrC3lktbm88T3txPARExG13kLLjaTwa/LuvtX/gjz4vs7jxR4q8IX0yxwa9YsOWxwUaNz+CyM3/AAGvwb6THB+FqeHOYyyzDxhUhFSvCKUrRab1SvsedmGOlh6mGxdST5Kdak5a6cvOlK/kk7vyR6//AMFb/wBt743eAPFPhW78N/GL4o6FaXSStjTfFN7apKQeCwSQBuD3r5BP/BUT9pY/83BfGn/ws9Q/+O19Vf8ABQP4U6h8ZP2SdH1j7O3/AAkHgktaapEo5SW3P2e4A/FEkH+zIp6GvzfPWo+jM8jz7w9wGIlRp1KlOPJNuMZPmjo7tq/3nNk1TEYeeJy+vJ+0o1akXdvZycov0cWreR7r/wAPQ/2lv+jgvjT/AOFnqH/x2j/h6H+0t/0cF8af/Cz1D/47XhVFfvn+quS/9AlL/wAAj/ke39Yq/wAz+891/wCHof7S3/RwXxp/8LPUP/jtH/D0P9pb/o4L40/+FnqH/wAdrwqij/VXJf8AoEpf+AR/yD6xV/mf3nuv/D0P9pb/AKOC+NP/AIWeof8Ax2j/AIeh/tLf9HBfGn/ws9Q/+O14VRR/qrkv/QJS/wDAI/5B9Yq/zP7z3X/h6H+0t/0cF8af/Cz1D/47R/w9D/aW/wCjgvjT/wCFnqH/AMdrwqij/VXJf+gSl/4BH/IPrFX+Z/ee6/8AD0P9pb/o4L40/wDhZ6h/8do/4eh/tLf9HBfGn/ws9Q/+O14VRR/qrkv/AECUv/AI/wCQfWKv8z+891/4eh/tLf8ARwXxp/8ACz1D/wCO0f8AD0P9pb/o4L40/wDhZ6h/8drwqij/AFVyX/oEpf8AgEf8g+sVf5n957r/AMPQ/wBpb/o4L40/+FnqH/x2j/h6H+0t/wBHBfGn/wALPUP/AI7XhVFH+quS/wDQJS/8Aj/kH1ir/M/vPdf+Hof7S3/RwXxp/wDCz1D/AOO0f8PQ/wBpb/o4L40/+FnqH/x2vCqKP9Vcl/6BKX/gEf8AIPrFX+Z/ee6/8PQ/2lv+jgvjT/4Weof/AB2j/h6H+0t/0cF8af8Aws9Q/wDjteFUUf6q5L/0CUv/AACP+QfWKv8AM/vPdf8Ah6H+0t/0cF8af/Cz1D/47R/w9D/aW/6OC+NP/hZ6h/8AHa8Koo/1VyX/AKBKX/gEf8g+sVf5n957r/w9D/aW/wCjgvjT/wCFnqH/AMdo/wCHof7S3/RwXxp/8LPUP/jteFUUf6q5L/0CUv8AwCP+QfWKv8z+891/4eh/tLf9HBfGn/ws9Q/+O0f8PQ/2lv8Ao4L40/8AhZ6h/wDHa8Koo/1VyX/oEpf+AR/yD6xV/mf3nuv/AA9D/aW/6OC+NP8A4Weof/HaP+Hof7S3/RwXxp/8LPUP/jteFUUf6q5L/wBAlL/wCP8AkH1ir/M/vPdf+Hof7S3/AEcF8af/AAs9Q/8AjtH/AA9D/aW/6OC+NP8A4Weof/Ha8Koo/wBVcl/6BKX/AIBH/IPrFX+Z/ee6/wDD0P8AaW/6OC+NP/hZ6h/8do/4eh/tLf8ARwXxp/8ACz1D/wCO14VRR/qrkv8A0CUv/AI/5B9Yq/zP7z3X/h6H+0t/0cF8af8Aws9Q/wDjtH/D0P8AaW/6OC+NP/hZ6h/8drwqij/VXJf+gSl/4BH/ACD6xV/mf3nuv/D0P9pb/o4L40/+FnqH/wAdo/4eh/tLf9HBfGn/AMLPUP8A47XhVFH+quS/9AlL/wAAj/kH1ir/ADP7z3X/AIeh/tLf9HBfGn/ws9Q/+O0f8PQ/2lv+jgvjT/4Weof/AB2vCqKP9Vcl/wCgSl/4BH/IPrFX+Z/ee6/8PQ/2lv8Ao4L40/8AhZ6h/wDHaP8Ah6H+0t/0cF8af/Cz1D/47XhVFH+quS/9AlL/AMAj/kH1ir/M/vPdf+Hof7S3/RwXxp/8LPUP/jtH/D0P9pb/AKOC+NP/AIWeof8Ax2vCqKP9Vcl/6BKX/gEf8g+sVf5n957r/wAPQ/2lv+jgvjT/AOFnqH/x2j/h6H+0t/0cF8af/Cz1D/47XhVFH+quS/8AQJS/8Aj/AJB9Yq/zP7z3X/h6H+0t/wBHBfGn/wALPUP/AI7R/wAPQ/2lv+jgvjT/AOFnqH/x2vCqKP8AVXJf+gSl/wCAR/yD6xV/mf3nuv8Aw9D/AGlv+jgvjT/4Weof/HaP+Hof7S3/AEcF8af/AAs9Q/8AjteFUUf6q5L/ANAlL/wCP+QfWKv8z+891/4eh/tLf9HBfGn/AMLPUP8A47R/w9D/AGlv+jgvjT/4Weof/Ha8Koo/1VyX/oEpf+AR/wAg+sVf5n957r/w9D/aW/6OC+NP/hZ6h/8AHaP+Hof7S3/RwXxp/wDCz1D/AOO14VRR/qrkv/QJS/8AAI/5B9Yq/wAz+891/wCHof7S3/RwXxp/8LPUP/jtH/D0P9pb/o4L40/+FnqH/wAdrwqij/VXJf8AoEpf+AR/yD6xV/mf3nuv/D0P9pb/AKOC+NP/AIWeof8Ax2j/AIeh/tLf9HBfGn/ws9Q/+O14VRR/qrkv/QJS/wDAI/5B9Yq/zP7z3X/h6H+0t/0cF8af/Cz1D/47R/w9D/aW/wCjgvjT/wCFnqH/AMdrwqij/VXJf+gSl/4BH/IPrFX+Z/ee6/8AD0P9pb/o4L40/wDhZ6h/8do/4eh/tLf9HBfGn/ws9Q/+O14VRR/qrkv/AECUv/AI/wCQfWKv8z+891/4eh/tLf8ARwXxp/8ACz1D/wCO0f8AD0P9pb/o4L40/wDhZ6h/8drwqij/AFVyX/oEpf8AgEf8g+sVf5n957r/AMPQ/wBpb/o4L40/+FnqH/x2j/h6H+0t/wBHBfGn/wALPUP/AI7XhVFH+quS/wDQJS/8Aj/kH1ir/M/vPdf+Hof7S3/RwXxp/wDCz1D/AOO0f8PQ/wBpb/o4L40/+FnqH/x2vCqKP9Vcl/6BKX/gEf8AIPrFX+Z/ee6/8PQ/2lv+jgvjT/4Weof/AB2j/h6H+0t/0cF8af8Aws9Q/wDjteFUUf6q5L/0CUv/AACP+QfWKv8AM/vPdf8Ah6H+0t/0cF8af/Cz1D/47R/w9D/aW/6OC+NP/hZ6h/8AHa8Koo/1VyX/AKBKX/gEf8g+sVf5n957r/w9D/aW/wCjgvjT/wCFnqH/AMdo/wCHof7S3/RwXxp/8LPUP/jteFUUf6q5L/0CUv8AwCP+QfWKv8z+891/4eh/tLf9HBfGn/ws9Q/+O0f8PQ/2lv8Ao4L40/8AhZ6h/wDHa8Koo/1VyX/oEpf+AR/yD6xV/mf3nuv/AA9D/aW/6OC+NP8A4Weof/HaP+Hof7S3/RwXxp/8LPUP/jteFUUf6q5L/wBAlL/wCP8AkH1ir/M/vPdf+Hof7S3/AEcF8af/AAs9Q/8AjtH/AA9D/aW/6OC+NP8A4Weof/Ha8Koo/wBVcl/6BKX/AIBH/IPrFX+Z/ee6/wDD0P8AaW/6OC+NP/hZ6h/8do/4eh/tLf8ARwXxp/8ACz1D/wCO14VRR/qrkv8A0CUv/AI/5B9Yq/zP7z3X/h6H+0t/0cF8af8Aws9Q/wDjtH/D0P8AaW/6OC+NP/hZ6h/8drwqij/VXJf+gSl/4BH/ACD6xV/mf3nuv/D0P9pb/o4L40/+FnqH/wAdo/4eh/tLf9HBfGn/AMLPUP8A47XhVFH+quS/9AlL/wAAj/kH1ir/ADP7z3X/AIeh/tLf9HBfGn/ws9Q/+O0f8PQ/2lv+jgvjT/4Weof/AB2vCqKP9Vcl/wCgSl/4BH/IPrFX+Z/ee6/8PQ/2lv8Ao4L40/8AhZ6h/wDHaP8Ah6H+0t/0cF8af/Cz1D/47XhVFH+quS/9AlL/AMAj/kH1ir/M/vPdf+Hof7S3/RwXxp/8LPUP/jtH/D0P9pb/AKOC+NP/AIWeof8Ax2vCqKP9Vcl/6BKX/gEf8g+sVf5n957r/wAPQ/2lv+jgvjT/AOFnqH/x2j/h6H+0t/0cF8af/Cz1D/47XhVFH+quS/8AQJS/8Aj/AJB9Yq/zP7z3X/h6H+0t/wBHBfGn/wALPUP/AI7R/wAPQ/2lv+jgvjT/AOFnqH/x2vCqKP8AVXJf+gSl/wCAR/yD6xV/mf3nuv8Aw9D/AGlv+jgvjT/4Weof/HaP+Hof7S3/AEcF8af/AAs9Q/8AjteFUUf6q5L/ANAlL/wCP+QfWKv8z+891/4eh/tLf9HBfGn/AMLPUP8A47R/w9D/AGlv+jgvjT/4Weof/Ha8Koo/1VyX/oEpf+AR/wAg+sVf5n957lN/wU6/aSuwqyftBfGo7TuGPGuorz+Etf0e/wDBtj8bvFv7QH/BKnwr4g8beJte8XeIDrGq202p6zfy315MiXkgQNLIS7BVwoyTgACv5UV61/UF/wAGp3/KH/wz/wBjDrH/AKVtX89/SOyXL8Jw/RqYShCm/abxik9vJHqZTVnKq1Jt6H6Q0UUV/FJ9EFFFFABRRRQAUUUUAFFFFABRRRQAUUUUAFFFFABRRRQAUUUUAFFFFABRRRQAUUUUAFFFFABRRRQAUUUUAFFFFABX8nv/AAci/wDKan42f9dNG/8ATJYV/WFX8nv/AAci/wDKan42f9dNG/8ATJYV/RH0Zf8Akq6v/Xif/pUDys4/gL1R8O0UUV/eB8wFFFFABRRRQAUUUUAFFFFABRRRQAV1XwV+K1/8FfiVpfiLT2KzafMHZe0i91PqCMjHvXK0Vy4zB0cXh54XERUoTTTT2aejMcRh6eIpSoVleMk015M/Yfwb8S9D+JHhOPx9pzfbPDPia2SDxNalPOFhIiBEvGUcnYn7qcAHMeyT+A4+Cv29f2KL34BeKZde0eFrnwnqj+ZFLEfMW2LfMFJHBUjlWHDDBFc3+xh+2RrH7K/jdJFkluvD944F5abuAP76+jDJ5+oOQSK/RjSNW8K+NfhdJfWAt9a+GOsxMbu0WIyHw4W5Z0Rct9l3HLxrloGO9Mxkgf50YnD539H/AIrnjaEJVsixctUrv2Tb09Gtl0krLdK/zcqeMliacIu+NhFQjd2ji6Ufhg3ssRTWkW/4i8z8eaK+mv21P2B734JzN4l8Lt/bfg+9xNHNbsJvs6Nyp3LwyHs44P6V8ykYr/QHhfirK+Istp5rk9VVaNRXTT/B9muqPby7MqONpe0pXTTtKLVpRkt4yW6a7BRRRX0B3hRRRQAUUUUAFFFFABRRRQAUUUUAFFFFABRRRQAUUUUAFFFFABRRRQAUUUUAFFFFABRRRQAUUUUAFFFFABRRRQAUUUUAFFFFABRRRQAUUUUAFFFFABRRRQAUUUUAFFFFABRRRQAUUUUAFFFFABRRRQAUUUUAFFFFABRRRQAUUUUAFFFFABRRRQAUUUUAFFFFABRRRQAUUUUAFFFFABRRRQAUUUUAFFFFABRRRQAUUUUAFFFFABRRRQAq9a/qC/4NTv8AlD/4Z/7GHWP/AErav5fV61/UF/wanf8AKH/wz/2MOsf+lbV/OH0mv+Sdof8AXz9D1sn/AIz9D9IaKKK/hY+mCiiigAooooAKKKKACiiigAooooAKKKKACisD4q6/r3hT4Y+ItU8L+H18WeJdO0y4udJ0Rr5LAaxdpEzQ2puJAUh8xwqeYwKruyeBX58fGD/grJ+2X+z/APCrXvG/jT9hDR/DvhXwxYyajqmoXXx20Py7SFFyxIWEszHoqqCzMQqgkgEA/SaivGP+Cev7UHiD9tH9jjwP8UvE3gO6+GmqeNLN9QHh+4vvtslrbmVxbyeb5cRYTQiOYZRSBKB2zXs9ABRRRQAUUUUAFFFFABRRRQAUUUUAFFFFABRRRQAUUUUAFfye/wDByL/ymp+Nn/XTRv8A0yWFf1hV/J7/AMHIv/Kan42f9dNG/wDTJYV/RH0Zf+Srq/8AXif/AKVA8rOP4C9UfDtFFFf3gfMBRRRQAUUUUAFFFFABRRRQAUUUUAFFFFABmvYv2S/2xfEX7LPitJrGSS60eZwbqyZztI/vL6MOxH8sivHaK8nPMhwGc4GpluZ0lVo1FaUZK6aZy43BUcXRdCurr7mmtmmtU1umtUz9fvhd8S/D/wAXPAs3iDwWsOteH9Qy+s+GfKUzWzuD5slqucBzyzQEeXLglCj8V8x/tP8A/BNCPxajeLvhXdWmpaXqDMwtI3+UsPvKhOCGB4MbYdTwRXyr8B/2gvEn7PPjKHWPD148LKR51uxzFcL/AHWHSvuD4e/8FKPhr44kbVtW1HxB8NvE90qrfT6ZELix1BwMB7i3ZWimI/vMofHBc1/BeYeFviD4R5xPMvDqLxmXVXeWHbu4+SW/pJa9Gnpbxa+FqVK6qYurKnXVlHERhzqpFbQxNONm5LpVjrb4j4X8S/APxl4PvJINS8M6xayRnBzbMR/KsKfwdqtu3z6bfp9YG/wr9O5/2/PAckCeT8UvhvqHr/aHhzU7F2/CFnQfgPwFNl/bZ+Gd2v73xZ8HdQkbnMianb445GGtX/PPPpX3GH+lLxVTiljuE8VzdeVXV/mkelHC52lZVMLU81VnC/ylB29Ln5fnQL0H/jzu/wDvy3+FH9g3v/Pndf8Aflv8K/Tj/hsj4Vl8HVPgxjdn/j6vs7Mf9g/73+cUf8Ni/CoygNqnwZ+UEti7vueMrj/iX4+td/8AxNRm/wD0SuN/8BX+ZX1fPv8An3hv/Cj/AO5n5j/2De/8+d1/35b/AApDoV4OtrdD6wt/hX6cj9sP4VBW/wCJt8FyyqR/x932Cw7/APIP6c9ufemT/tkfCsK229+DMo/h/wBPvBtx94nOn8+wH6019KjNr68K43/wGP8AmOOGz9/8u8N/4Uf/AGh+ZA0S7/59rj/v03+FH9jXWf8Aj3uP+/Tf4V+mz/te/CIhm8/4PN/3E7kZHrzp2f8AgPWiT9rr4PrDuF18H5G7KL+5HfH/AEDq0/4mozP/AKJbG/8AgK/zF9Xz9f8ALrD/APhQv/kD8yf7Euv+fe4/79N/hR/Yl1/z73H/AH6b/Cv02b9rn4RBV/ffB3cw+7/adx97OMZ/s7H4nihv2vPhCDtE3wdYnGANTufm9ef7NwMe/Wp/4mozP/olsb/4Cv8AMpYfP3/y6w//AIUL/wCQPzK/sO6/597j/v03+FIdEux/y7XH/fpv8K/Tb/hrr4QtIF+0fB1VOMH+0rnkf3v+Qbx9DzRF+2B8J9w/0j4NRqvJU6jdMXyDjBGn4HTnP86f/E1GZ9OFsb/4DH/MPquf/wDPrD/+FC/+QPzJ/sS8/wCfW6/79N/hTv7CvMf8etz/AN+m/wAK/TQftifCnP7y7+DMK7sn/iYXUhK4yPu6f1//AFdakf8AbD+EpPzap8GvJztwLm9Mn/pvx09utT/xNRmv/RLY3/wGP+ZMsPnydvZ4f/wo/wDtD8xf7EvM/wDHrc/9+m/wpw0G8Yf8el1/35b/AAr9OIv2u/g8V3fb/g7wDk/a7zn8P7OzQv7YnwrSNduqfBVeSWH2u+Hyjpj/AIl/Xmk/pVZr04Wxv/gK/wAxRo58/wDl3h//AAo/+0PzFOiXa/8ALrc/9+m/woGi3Tf8u1x/36b/AAr9Oh+1/wDCOUt52pfBtmXut3ecjPvpx/Smyfte/B9MiHUfg2smeN91eFR+WnUf8TU5p/0S2N/8BX+YvZZ7e3ssP/4Uf/aH5nQeE9SuSPL0++fPpA3+FWh8OtcOP+JPqnzdMWzc/pX6aQftffDloP8AQfE3wQspeMNLe3rLnnstohq/pv7Wek6lErWPjT9n6ROg83Vr62AI46OgPHr3rzcV9LPO6eseFsWl/eVvyTOijl+eVVdzwkP8WIf6Uz8w5PhR4kig8xtB1hY+u77I+B+lYd1YzWT7ZopYm9HQqR+dfrja/HTXr20W4t9W+A97puZMtB4jbYQgUyDezggqrAnAwAVznOK439sjwt8EvE3w8v7jXNU8I2WtC2ldZdPvI5ZI7lH2GMFOXG4YIIyD3NehwH9LCtnmd0slzDIsRQdR2U1FyjH/AB6Kxx8RVMyyGnSr410K8KjUf9nq+0lFvvHlTt3Z+XVFT6nDDb6lPHbyebAjkRv/AHhUFf2HF3V0erGV1dBRRRTGFFFFABRRRQAUUUUAFFFFABRRRQAUUUUAFFFFABRRRQAUUUUAFFFFABRRRQAUUUUAFFFFABRRRQAUUUUAFFFFABRRRQAUUUUAFFFFABRRRQAUUUUAFFFFABRRRQAUUUUAFFFFABRRRQAUUUUAFFFFABRRRQAUUUUAFFFFABRRRQAUUUUAFFFFACr1r+oL/g1O/wCUP/hn/sYdY/8AStq/l9XrX9QX/Bqd/wAof/DP/Yw6x/6VtX84fSa/5J2h/wBfP0PWyf8AjP0P0hooor+Fj6YKKKKACiiigAooooAKKKKACiiigAooooAK/Mv4u38n/Bc79vOT4X6a0l1+yn+z1rMdx44v4X/0X4h+JYgHh0hGHEtpasQ8w5DNwRhoZB9+/tK/CzV/jj+z5408G6D4qvvA2s+KdGutLs/EFlCZbjRpJo2QXEah0JZN2Rh1ORwwOCPz6/Zl/wCCIn7UH7Gvwa0v4e/DH9uz/hE/B+jGRrWwt/glokxDSOZJHeWSdpZXZmJLSMzdBnAFAH6dQwpbQrHGqpHGAqqowFA6AU6vK/2PPhH8Svgp8Hl0X4rfFp/jR4sW8mnbxG3hm18PFoWI8uH7NbM0fyYPzZy2ea9UoAKKKKACiiigAooooAKKKKACiiigAooooAKKKKACiiigAr+T3/g5F/5TU/Gz/rpo3/pksK/rCr+T3/g5F/5TU/Gz/rpo3/pksK/oj6Mv/JV1f+vE/wD0qB5WcfwF6o+HaKKK/vA+YCiiigAooooAKKKKACiiigAooooAKKKKACiiigApwkZe9Noou1sF2O81vWjeTTaK09rPuAu40u802ij2s+7DQdvNG84ptFHtZ92Gg7zDigORTaKPaz7sBxkJoDkU2ij2s+7Ad5ho8w5ptFHtZ92A4uTRvNNoo9rPuw0F3ml3mm0Ue1n3YaC7zRuNJRR7WfdhoO8w0b89qbRS9pLuA4Pj+Ggtk/d59abRWfKk7pL7gCiiimAUUUUAFFFFABRRRQAUUUUAFFFFABRRRQAUUUUAFFFFABRRRQAUUUUAFFFFABRRRQAUUUUAFFFFABRRRQAUUUUAFFFFABRRRQAUUUUAFFFFABRRRQAUUUUAFFFFABRRRQAUUUUAFFFFABRRRQAUUUUAFFFFABRRRQAUUUUAFFFFABRRRQAUUUUAFFFFACr1r+oL/g1O/wCUP/hn/sYdY/8AStq/l9XrX9QX/Bqd/wAof/DP/Yw6x/6VtX84fSa/5J2h/wBfP0PWyf8AjP0P0hooor+Fj6YKKKKACiiigAooooAKKKKACiiigAooooAKKKKACiiigAooooAKKK4H9p74aeLvjD8CvEHhvwH8QLv4W+LNSjjXT/FFtpcOqSaUyyo7MLeYhJNyKyEEjAfIOQKAO+or87/+CPHxV+Ndr+3R+1b8F/i78YtQ+M0Hwebwwmj6td6DZ6OwN/aXVzP+6tx3Plr8zv8A6oEbdxFfohQAUV8F/wDBR79qr4zfEf8AbX8Dfsn/ALPPiDTPAPjDxL4el8Z+L/HV7pqak3hbRUnNun2a3k/dyXEsoZcNjaCmCu4unmf7Unwf/au/4JQfCW++OPhP9ozxL8f/AAv4GRdS8aeBfHemWqtq2nKw+0zWN5Coe1kijLOE5XCknzNoicA/UCiuZ+CvxZ0n49/B3wr440FppND8YaRa61p7Srtka3uIVmj3DJwdrjIyea6agAooooAKKKKACiiigAr+T3/g5F/5TU/Gz/rpo3/pksK/rCr+T3/g5F/5TU/Gz/rpo3/pksK/oj6Mv/JV1f8ArxP/ANKgeVnH8BeqPh2iiiv7wPmAooooAKKKKACiiigAooooAKKKKACiiigAooooAKKKKACiiigAooooAKKKKACiiigAooooAKKKKACiiigAooooAKKKKACiiigAooooAKKKKACiiigAooooAKKKKACiiigAooooAKKKKACiiigAooooAKKKKACiiigAooooAKKKKACiiigAooooAKKKKACiiigAooooAKKKKACiiigAooooAKKKKACiiigAooooAKKKKACiiigAooooAKKKKACiiigAooooAKKKKACiiigAooooAKKKKACiiigAooooAVetf1Bf8Gp3/KH/AMM/9jDrH/pW1fy+r1r+oL/g1O/5Q/8Ahn/sYdY/9K2r+cPpNf8AJO0P+vn6HrZP/GfofpDRRRX8LH0wUUUUAFFFFABRRRQAUUUUAFFFFABRRRQA2aZLeJpJGWNFGSzHAH41V/4SGx/5/LP/AL/r/jXzD/wW+jEv/BJn48K3I/4RaY4/4GlfybDwVC4H7lfyr+ifBjwBlx/l+Ix8ccsP7Kahb2fPe8VK9+aNt7WPEzTOoYGcYSje6vvY/tn/AOEhsf8An8s/+/6/41zPiL9oj4f+D9fk0nV/HPg7StUhRZZLO81q2guI0YZVijOGAI5BI5r+L/8A4QiEf8sV/Kv1U/4NE/DVtbft4/EzfbQsR4FAy0YJAN9BkfjtH5V9f4ifRXlwpw/iM+lmareySfIqXLe7S355d+xzYHiSniqyoxja/mfvF/w1R8MP+ij+A/8AwoLT/wCOU6H9qP4Z3E8cUfxF8CySzOscaLr9qWdmOAoHmckk4AHU12H9hWP/AD52v/flf8KBodkpBFnagg5B8peP0r+Rz6QtA5FFFFAH53/8E0/+U4v/AAUI/wCu/gf/ANNVzX6IV8F/8E8/hf4m8J/8Flf27PEWq+HNe0zw/wCKJvBp0bU7vT5YbPVhDpk6TfZ5mUJNsZgG2E7SQDivdv20P2m/H37P3xJ+Cek+C/AN140034heMotA8SXkNrczDw5YMhLXjGFSsYVsfNLhOCMjqAD528Fc/wDBzt40z/D8ArMD2H9sCvoP/grUM/8ABLf9ov8A7Jt4g/8ATdPXzj/wUV8G/Eb9i/8A4KTeCf2uvA/gLxN8U/Br+D5Ph/8AEPw74at/tWt2dl9qN1BqNrb8GcpIcOoIwsfOAxdPO/26P+CrU3/BS79m3xL8A/2Y/hj8VvFvjr4p2TeHdQ1bWvCt3omheELK4+S6mvrm4VdpEJdVVQQS3BZgsbsZ9kf8Ee23f8EqP2c+Sf8Ai3Ohdf8Arwhr6Orh/wBmb4KWv7Nn7OfgP4e2M5urPwP4fsdBhmKbTMltbpCHI7E7M/jXcUhBRRRQAUUUUAFFFFABX8nv/ByL/wApqfjZ/wBdNG/9MlhX9YVfye/8HIv/ACmp+Nn/AF00b/0yWFf0R9GX/kq6v/Xif/pUDys4/gL1R8O0UUV/eB8wFFFFABRRRQAUUUUAFFFFABRRRQAUUUUAFFFFABRRRQAUUUUAFFFFABRRRQAUUUUAFFFFABRRRQAUUUUAFFFFABRRRQAUUUUAFFFFABRRRQAUUUUAFFFFABRRRQAUUUUAFFFFABRRRQAUUUUAFFFFABRRRQAUUUUAFFFFABRRRQAUUUUAFFFFABRRRQAUUUUAFFFFABRRRQAUUUUAFFFFABRRRQAUUUUAFFFFABRRRQAUUUUAFFFFABRRRQAUUUUAFFFFABRRRQAUUUUAFFFFABRRRQAUUUUAFFFFACr1r+oL/g1O/wCUP/hn/sYdY/8AStq/l9XrX9QX/Bqd/wAof/DP/Yw6x/6VtX84fSa/5J2h/wBfP0PWyf8AjP0P0hooor+Fj6YKKKKACiiigAooooAKKKKACiiigAooooA+W/8AgthD5/8AwSi+Oyjq3hWf/wBCWv5cR4fyq/u+3pX9TX/BZOD7V/wS5+N0f97wzOP/AB5a/mdTw5hV+XtX+gX0P8V7Lh/HL/p8v/SIn5L4iY72GJox/uv8zhx4eOf9X+lfp3/wag6Z9h/bt+Jbbdu7wPGOn/T9HX5/DQefu/zr9JP+DXHTPsX7bnxGfufBcY/8nY6/VPpBY72nAWPj/dj/AOlRPB4PzL2ma0od7/kfupRRRX+VJ+8BRRRQAUUUUAFFFFABRRRQAUUUUAFFFFABRRRQAV/J7/wci/8AKan42f8AXTRv/TJYV/WFX8nv/ByL/wApqfjZ/wBdNG/9MlhX9EfRl/5Kur/14n/6VA8rOP4C9UfDtFFFf3gfMBRRRQAUUUUAFFFFABRRRQAUUUUAFFFFABRRRQAUUUUAFFFFABRRRQAUUUUAFFFFABRRRQAUUUUAFFFFABRRRQAUUUUAFFFFABRRRQAUUUUAFFFFABRRRQAUUUUAFFFFABRRRQAUUUUAFFFFABRRRQAUUUUAFFFFABRRRQAUUUUAFFFFABRRRQAUUUUAFFFFABRRRQAUUUUAFFFFABRRRQAUUUUAFFFFABRRRQAUUUUAFFFFABRRRQAUUUUAFFFFABRRRQAUUUUAFFFFABRRRQAUUUUAFFFFABRRRQAq9a/qC/4NTv8AlD/4Z/7GHWP/AErav5fV61/UF/wanf8AKH/wz/2MOsf+lbV/OH0mv+Sdof8AXz9D1sn/AIz9D9IaKKK/hY+mCiiigAooooAKKKKACiiigAooooAKKKKAPnP/AIK5wfaf+Cafxmj/AL3hyYf+PLX85Y8O8Cv6Pv8AgqtD9o/4J2fFyPrv8PzD9Vr+ftPDvyD5f5V/b30W8V7LJMYv+nq/9Iifzn4z472OZYeN/sf+3M4b/hHa/Q7/AINo9M+w/tmfEFv73g+Mf+TiV8Wf8I7/ALH8q+9v+DdXSjp/7XfjptuN3hNB/wCTa1+j+N2O9pwXjY+Uf/SkfJ+HOZe04hw8L7t/kz9jqKKK/wA2j+uAooooAKKKKACiiigAooooAKKKKACiiigAooooAK/k9/4ORf8AlNT8bP8Arpo3/pksK/rCr+T3/g5F/wCU1Pxs/wCumjf+mSwr+iPoy/8AJV1f+vE//SoHlZx/AXqj4dooor+8D5gKKKKACiiigAooooAKKKKACiiigAooooAKKKKACiiigAooooAKKKKACiiigAooooAKKKKACiiigAooooAKKKKACiiigAooooAKKKKACiiigAooooAKKKKACiiigAooooAKKKKACiiigAooooAKKKKACiiigAooooAKKKKACiiigAooooAKKKKACiiigAooooAKKKKACiiigAooooAKKKKACiiigAooooAKKKKACiiigAooooAKKKKACiiigAooooAKKKKACiiigAooooAKKKKACiiigAooooAKKKKAFXrX9QX/AAanf8of/DP/AGMOsf8ApW1fy+r1r+oL/g1O/wCUP/hn/sYdY/8AStq/nD6TX/JO0P8Ar5+h62T/AMZ+h+kNFFFfwsfTBRRRQAUUUUAFFFFABRRRQAUUUUAFFFFAHhP/AAU3h+0/sEfFKP8Av6HKP1FfhQPD3yjhq/eL/goxB9p/Yk+I0f8Af0iQfyr8Vl0DCj735V/XP0eMV7LKMSv+nn/tqP5B+kRjvY5zho/9O/8A25nD/wDCO/WvuL/ggPpX2H9qXxo397wyg/8AJla+VxoQP978q+zv+CHem/Yv2kvFrc/N4eUdP+nha+78W8d7ThTFx8l/6Uj4XwjzL2vFeEhfdv8AJn6iUUUV/BZ/fAUUV8zf8FDf+Cn3hX9gWXwj4dXw34m+JXxU+Itw9r4T8DeGYBNqerFBmSZyflgt0/ilbP8AEQrBJCgB9M0V+fUH/BbPxx+z54v0GH9qf9mHxl+zx4P8UXsenWHjFPE9j4q0OyuJDiNdQmtQv2MN0BcNg8kBVZ1/QRHEiKyncrDII7igBaK8L/4KBft/eEP+CeHwXtfFPiax1zxFq2vanDoPhnwzoVt9q1bxNqc5IhtLeP1OCSx4AGBudkRvn34af8Fm/Gfgv49eCfA/7Sf7N3iz9neH4oXq6Z4Q1+bxJZ+JNKv7x/8AVWl1Laqv2OeTgLG+4knnABYAH3tRRmigAooooAKKKKACiiigAr+T3/g5F/5TU/Gz/rpo3/pksK/rCr+T3/g5F/5TU/Gz/rpo3/pksK/oj6Mv/JV1f+vE/wD0qB5WcfwF6o+HaKKK/vA+YCiiigAooooAKKKKACiiigAooooAKKKKACiiigAooooAKKKKACiiigAooooAKKKKACiiigAooooAKKKKACiiigAooooAKKKKACiiigAooooAKKKKACiiigAooooAKKKKACiiigAooooAKKKKACiiigAooooAKKKKACiiigAooooAKKKKACiiigAooooAKKKKACiiigAooooAKKKKACiiigAooooAKKKKACiiigAooooAKKKKACiiigAooooAKKKKACiiigAooooAKKKKACiiigAooooAKKKKACiiigBV61/UF/wanf8AKH/wz/2MOsf+lbV/L6vWv6gv+DU7/lD/AOGf+xh1j/0rav5w+k1/yTtD/r5+h62T/wAZ+h+kNFFFfwsfTBRRRQAUUUUAFFFFABRRRQAUUUUAFFFFAHj/AO3zF9o/ZA8eR4zv0yQYr8hR4dAX7lfsL+23D9p/Za8ZR/37BxX5Zjw+MfdH51/SngpivZZZXX9//wBtR/B/0qsd7HiDCR/6df8At7OG/wCEdH/PP9K+uv8AgjdpP2D4/eJpNuN2iBen/TZa+f8A/hH1/ur+de/f8E2fhTe+Ivjh4gmtPGHizw3v0lV8rTHs/K4kXtNbSHJ69a+u8SMc58O4iHdL80fnXgXmCq8bYKDl1fz0Z+kVFea/8KC1r/orHxK/8pX/AMg06D4C61DcxSN8VviRIsbq5jY6XtkAOdpxZA4PQ4IODwRX8en+mp6RX52+BrCHxT/wc+eOrzUIY7q48L/A2xttMeQbjZrNqQeTZn7pJZuRzhmHc1+iQ4Ffm3438d6X+yp/wcq2OreNrqHQfD/xz+E0WgeGdVvJBDZ3mr2l+rPYCRiFEpj2sFJ5MsSjLOooA+gv+C2HhbT/ABj/AMElP2hrPUrWG8to/A+o3ixyqGUTQRGeF8eqSxowPYqDXb/8E2dYuPEH/BPH4FX15NJcXV54A0OaaWRtzSO2nwFmJ7kk5zXjv/Bfn9orwx8A/wDglX8XLXXNStodW8eaDc+FvD+nbwbvWL68TyEigi+9IyiQuwUHCoSa7n4CfF/wn+wn+yn+zX8OfiXrUfhvxR4i0fRvBOk2j208323VYrCNWt90aMsZyjDdIVXOBnJAL6D6HzT/AMHGerN+zxov7P8A+0fa6h4budQ+Avjf7anhXVdQFpN4ugvUSGa3ssqxkvEVA6AKdq+Y/Oza3z1+3H/wUxsP+Cunxj/Z4/Z90/wD44+Bdj4i8aaZ4tvvEHxZ0weHvPFk+5LHS1LP9oupmk2IQy5YqgzvJX6D/bx1PQ/Bn/BwZ+zBrnxXazt/hzJ4L1XT/BN3qZVdPs/Fr3IL5Z/kSZ7byFjLYJk8oL8wFdf/AMHLniDwDb/8EnvHOi+LzZ3PiLxBNaQeB7BcNqd3rguYvs5slH7wyqCxYx8+W0inhiCAffcaeXGq/wB0Yp1cb+zvZ+IdO+APgm38Wu0niqHQbKPWHZtzNeCBBMSe/wC83c12VIQUUUUAFFFFABRRRQAV/J7/AMHIv/Kan42f9dNG/wDTJYV/WFX8nv8Awci/8pqfjZ/100b/ANMlhX9EfRl/5Kur/wBeJ/8ApUDys4/gL1R8O0UUV/eB8wFFFFABRRRQAUUUUAFFFFABRRRQAUUUUAFFFFABRRRQAUUUUAFFFFABRRRQAUUUUAFFFFABRRRQAUUUUAFFFFABRRRQAUUUUAFFFFABRRRQAUUUUAFFFFABRRRQAUUUUAFFFFABRRRQAUUUUAFFFFABRRRQAUUUUAFFFFABRRRQAUUUUAFFFFABRRRQAUUUUAFFFFABRRRQAUUUUAFFFFABRRRQAUUUUAFFFFABRRRQAUUUUAFFFFABRRRQAUUUUAFFFFABRRRQAUUUUAFFFFABRRRQAUUUUAFFFFACr1r+oL/g1O/5Q/8Ahn/sYdY/9K2r+X1etf1Bf8Gp3/KH/wAM/wDYw6x/6VtX84fSa/5J2h/18/Q9bJ/4z9D9IaKKK/hY+mCiiigAooooAKKKKACiiigAooooAKKKKAPNf2vovP8A2dvFEf8Aes2FfnCvh/cBX6SftUjd8DNfX+9bkfoa+DksoAv3f1r9w8MMV7LAVV/f/RH+cH0ysY6PE+DS/wCfP/t7OM/4Rw/7P519If8ABNPSvsHxX1lv72nY/wDHxXkf2OE9v1r3r9gG3SL4j6mVGP8AQ8f+PCvouNMdz5LXj5L80flX0d8wlU8Qcuh/ef8A6Sz66ooor+bT/XQK81/ar/Y8+GP7b/wrm8FfFfwXo3jbw3LKJ1tr5GD20oBAlgmQrLBIFZl3xOrbWYZwSD6VRQB8e/s5f8EGP2W/2Xfi7pvjzw78OX1DxZoZVtJv/EGt32tnSSpyjW8d1NJHG6nBVwu5CMqQa+gvjX+yz4C/aK8T+B9Z8Z+H49b1L4b60viHw5M91PD/AGbfqpRZtsbqsmAT8sgZc4OMgEegUUAef/tM/sr/AA7/AGyfhNeeBfih4R0jxn4VvnWWSxv4yRHIoIWWJ1IeKVQzASRsrgMwBGTXgX7Mn/BCX9l/9kv4taf468K/DprvxVooC6Tf69rN9rTaOF+79mS6lkSJl/hdV3r2Yc19e0UAFFFFABRRRQAUUUUAFFFFABX8nv8Awci/8pqfjZ/100b/ANMlhX9YVfye/wDByL/ymp+Nn/XTRv8A0yWFf0R9GX/kq6v/AF4n/wClQPKzj+AvVHw7RRRX94HzAUUUUAFFFFABRRRQAUUUUAFFFFABRRRQAUUUUAFFFFABRRRQAUUUUAFFFFABRRRQAUUUUAFFFFABRRRQAUUUUAFFFFABRRRQAUUUUAFFFFABRRRQAUUUUAFFFFABRRRQAUUUUAFFFFABRRRQAUUUUAFFFFABRRRQAUUUUAFFFFABRRRQAUUUUAFFFFABRRRQAUUUUAFFFFABRRRQAUUUUAFFFFABRRRQAUUUUAFFFFABRRRQAUUUUAFFFFABRRRQAUUUUAFFFFABRRRQAUUUUAFFFFABRRRQAUUUUAKvWv6gv+DU7/lD/wCGf+xh1j/0rav5fV61/UF/wanf8of/AAz/ANjDrH/pW1fzh9Jr/knaH/Xz9D1sn/jP0P0hooor+Fj6YKKKKACiiigAooooAKKKKACiiigAooooA87/AGqjt+Bevn/p3P8AI18FrNlf/r195ftXHb8B/EH/AF7GvgFZ8rX6FwnmCw+GlG+7P81/poRb4owf/Xn/ANvZe82ve/8Agn9Jv+Iuqc/8uf8A7MK+d/OFfQX/AAT0ff8AEjVP+vL/ANmFehn2bKtgZ077o/J/o507eIWXf4n/AOks+waKKK/LT/YAKKKKACiiigAooooAKKKKACiiigAooooAKKKKACv5Pf8Ag5F/5TU/Gz/rpo3/AKZLCv6wq/k9/wCDkX/lNT8bP+umjf8ApksK/oj6Mv8AyVdX/rxP/wBKgeVnH8BeqPh2iiiv7wPmAooooAKKKKACiiigAooooAKKKKACiiigAooooAKKKKACiiigAooooAKKKKACiiigAooooAKKKKACiiigAooooAKKKKACiiigAooooAKKKKACiiigAooooAKKKKACiiigAooooAKKKKACiiigAooooAKKKKACiiigAooooAKKKKACiiigAooooAKKKKACiiigAooooAKKKKACiiigAooooAKKKKACiiigAooooAKKKKACiiigAooooAKKKKACiiigAooooAKKKKACiiigAooooAKKKKACiiigAooooAVetf1Bf8Gp3/KH/wAM/wDYw6x/6VtX8vq9a/qC/wCDU7/lD/4Z/wCxh1j/ANK2r+cPpNf8k7Q/6+foetk/8Z+h+kNFFFfwsfTBRRRQAUUUUAFFFFABRRRQAUUUUAFFFFAHm/7Whx8AvEX/AF7Gvz4WcbetfoL+10cfs/eJP+vY1+eCS/LW8cw+rxUe5/nD9MqF+JsH/wBef/b2W/PHqa+hv+CdUm74mat/15f+zCvm/wA2von/AIJwSbvibq3/AF4/+zim819qvZ33Pyn6O9O3iBl7/vP/ANJZ9n0UUVzn+ugUUVx3x2/aE8DfswfDm68XfETxb4f8F+GbJgkuo6xepawbznbGpYjdI2DtRcs2OAaAOxor5v8A2XP+Cvn7NH7aHjv/AIRf4afGLwj4k8SOGMOl+ZJZ3l3tBZvJiuEjabCgsfLDYAJPHNfSFABRRXF+Gv2jfAfjL4zeIPh3pPi3QdT8c+FLeK71rRLW7WW80qKUAxtOikmPeGUgNgkEHGOaAO0ooooAKKKKACiiigAooooAK/k9/wCDkX/lNT8bP+umjf8ApksK/rCr+T3/AIORf+U1Pxs/66aN/wCmSwr+iPoy/wDJV1f+vE//AEqB5WcfwF6o+HaKKK/vA+YCiiigAooooAKKKKACiiigAooooAKKKKACiiigAooooAKKKKACiiigAooooAKKKKACiiigAooooAKKKKACiiigAooooAKKKKACiiigAooooAKKKKACiiigAooooAKKKKACiiigAooooAKKKKACiiigAooooAKKKKACiiigAooooAKKKKACiiigAooooAKKKKACiiigAooooAKKKKACiiigAooooAKKKKACiiigAooooAKKKKACiiigAooooAKKKKACiiigAooooAKKKKACiiigAooooAKKKKACiiigBV61/UF/wanf8of/AAz/ANjDrH/pW1fy+r1r+oL/AINTv+UP/hn/ALGHWP8A0rav5w+k1/yTtD/r5+h62T/xn6H6Q0UUV/Cx9MFFFFABRRRQAUUUUAFFFFABRRRQAUUUUAeZ/tftt/Z68Sn/AKdTX5zpN8tfor+2Mcfs7eJv+vU1+bySZUV8XxPmLw9aEU+n6n+dP0wo34lwf/Xn/wBvZdE1fR//AATXk3/E/WOf+XD/ANnFfMfme9e3fsAar4ytPi/rK+HdD8L6pa/2ePn1HXp7GTO4Z+WOzmHH+9z7V5+SZs62MhTvvf8AI/MPo80W+PsA1bST6+TP0Corz3/hJPit/wBCb8Pf/CzvP/lXTofEfxTa4jEng74frEXUSMvjG7ZlXPzED+zBkgZIBIyeMjrX6If6ynoFfmf8dPhNon7eX/BxBpPgX4kWcPib4ffA74Xx+KtI8N3qCbTp9Zu70RG7mhbKSlYdoCuCAY0OODn9MB0r88Ph3cR6H/wc7/ES2upFhn1z4G6fdWKOcG5jj1JY3K+uGBHHoaAOj/4Lx/sWeA/ib/wTm+IHjSHQNN0Hx/8ACPR38W+EfE+l2yWeraDd6fi5TyJ4wHVG8sqUzt5DAB0Rl+oP2LPipqXxz/Y9+FfjTWHjk1bxd4R0rWb10QKrT3FpFLIQBwBuc8CvL/8AgtDrVroH/BJv9oe4vJo7eFvAeqW4ZzgF5bdoo1+rO6qPciuu/wCCaWnTaP8A8E6vgPa3EbRXFt8PtCikRhgow0+AEEexp9B9Dgf+Cx3/AAU60H/glV+xdrnj+++zXvivUN2leEtJkOTqWpOjFCygg+TEAZJDkfKu0EM6Z+Q/+CGv7c/7OPwFsbP4da7468Rf8NAfGrUj4l8Q+I/GPhq80NfHOr3OCY7Se5jRWiRm8qGNim9iSib5SD6F8RPC+k/tA/8ABzT4b0X4gQ2+oad8KfhD/wAJP4F0u9CtbjUp9REU9+iMMNMigKD/AAmFGGGjBHtX/Bd74JeC/jT/AMEo/jV/wmdjYzDwr4YvfEWi3k2Fm03U7WFpbWSGT70btKqxnaQWWRkOQxBAPryivEf+CanxB8SfFj/gnr8EfE3i9riXxRr3gjSL/U5ZyTLPPJZxM8j553MTuOe5r26kIKKKKACiiigAooooAK/k9/4ORf8AlNT8bP8Arpo3/pksK/rCr+T3/g5F/wCU1Pxs/wCumjf+mSwr+iPoy/8AJV1f+vE//SoHlZx/AXqj4dooor+8D5gKKKKACiiigAooooAKKKKACiiigAooooAKKKKACiiigAooooAKKKKACiiigAooooAKKKKACiiigAooooAKKKKACiiigAooooAKKKKACiiigAooooAKKKKACiiigAooooAKKKKACiiigAooooAKKKKACiiigAooooAKKKKACiiigAooooAKKKKACiiigAooooAKKKKACiiigAooooAKKKKACiiigAooooAKKKKACiiigAooooAKKKKACiiigAooooAKKKKACiiigAooooAKKKKACiiigAooooAKKKKAFXrX9QX/AAanf8of/DP/AGMOsf8ApW1fy+r1r+oL/g1O/wCUP/hn/sYdY/8AStq/nD6TX/JO0P8Ar5+h62T/AMZ+h+kNFFFfwsfTBRRRQAUUUUAFFFFABRRRQAUUUUAFFFFAHl37ZR2/s5eJv+vU1+aiTArX6Uftott/Zu8UH/p1NfmWs/y1+I+KGZfV8dSjf7H6s/zz+l5G/EmE/wCvP/t7L3nLX0x/wTCk3fFPWv8Arw/9nFfLfn19O/8ABLqTf8V9a/7B/wD7OK+c4JzZ1c6owvu3+R+YfR/hbjzAf4n/AOks+6aKKK/pE/1bCvlf/goh/wAEx4v2zvFvg34ieC/H2ufB344fDUyDwz410m2jvDHDJ/rLS7tZCEurZsk+WxABZuqs6P8AVFFAH5y+M/8AgkZ+0F+29qWj6D+1P+0fpvjH4R6TewX994K8GeF10GLxXJC4kjW/ud5k8ncqlokGDwVMbqrj6W/bD/YRf9qXx/8AAvWNP8YXHgu1+Cvi+HxR9htbAzJrMccRjFoSssYiUg43bZBjI2819CUUAfLv/BRP/gmVY/tv6v4M8beGvHHiD4R/Gn4Yyyz+EfHGiRJNNZCUYltrq3fC3Vq4zmJmXqwzteRJPC/E3/BI/wCP37aepaNof7VX7Run+OPhPot3Be3Xgrwd4XXQYPFssLiSP+0bgOXaHcoLQoNpOCpjZVav0WooAg0zTLfRdNt7Ozt4bW0tY1hhhiQJHEijCqoHAAAAAFT0UUAFFFFABRRRQAUUUUAFfye/8HIv/Kan42f9dNG/9MlhX9YVfye/8HIv/Kan42f9dNG/9MlhX9EfRl/5Kur/ANeJ/wDpUDys4/gL1R8O0UUV/eB8wFFFFABRRRQAUUUUAFFFFABRRRQAUUUUAFFFFABRRRQAUUUUAFFFFABRRRQAUUUUAFFFFABRRRQAUUUUAFFFFABRRRQAUUUUAFFFFABRRRQAUUUUAFFFFABRRRQAUUUUAFFFFABRRRQAUUUUAFFFFABRRRQAUUUUAFFFFABRRRQAUUUUAFFFFABRRRQAUUUUAFFFFABRRRQAUUUUAFFFFABRRRQAUUUUAFFFFABRRRQAUUUUAFFFFABRRRQAUUUUAFFFFABRRRQAUUUUAFFFFABRRRQAUUUUAFFFFACr1r+oL/g1O/5Q/wDhn/sYdY/9K2r+X1etf1Bf8Gp3/KH/AMM/9jDrH/pW1fzh9Jr/AJJ2h/18/Q9bJ/4z9D9IaKKK/hY+mCiiigAooooAKKKKACiiigAooooAKKKKAPKf21m2/s1eKf8Ar0NfmGk/y1+nX7bjbf2ZvFX/AF6Gvy5WfCiv5V8eMy+r5vh4/wDTv/25n+fv0toc3EWE/wCvX/t7LpmzX1D/AMEsJN3xa1r/ALB//s4r5SE+a+p/+CU77/i7rn/YOP8A6GK+M8Lc29rxPhYX3b/Jn5l4B07cdYB/3n/6Sz72ooor+3T/AFPCiiigAooooAKKKKACiiigAooooAKKKKACiiigAr+T3/g5F/5TU/Gz/rpo3/pksK/rCr+T3/g5F/5TU/Gz/rpo3/pksK/oj6Mv/JV1f+vE/wD0qB5WcfwF6o+HaKKK/vA+YCiiigAooooAKKKKACiiigAooooAKKKKACiiigAooooAKKKKACiiigAooooAKKKKACiiigAooooAKKKKACiiigAooooAKKKKACiiigAooooAKKKKACiiigAooooAKKKKACiiigAooooAKKKKACiiigAooooAKKKKACiiigAooooAKKKKACiiigAooooAKKKKACiiigAooooAKKKKACiiigAooooAKKKKACiiigAooooAKKKKACiiigAooooAKKKKACiiigAooooAKKKKACiiigAooooAKKKKACiiigBV61/UF/wanf8AKH/wz/2MOsf+lbV/L6vWv6gv+DU7/lD/AOGf+xh1j/0rav5w+k1/yTtD/r5+h62T/wAZ+h+kNFFFfwsfTBRRRQAUUUUAFFFFABRRRQAUUUUAFFFFAHlP7a8fm/s0+KV9bQ1+YMenHYK/UT9slPM/Zz8TD/p1NfmumnkgcV/Fv0lKzhnmGX/Tv/25n8P/AEnsv+sZ9hZf9Ov/AG5mGdPI719Rf8Erbbyfi3rbeunkf+Pivns6bX0t/wAExrT7P8UtYP8A04H/ANDFfA+Dddy4vwa83+TPzzwVyn2XGeCqJbN/+ks+4KKKK/0QP9IwooooAKKZBcx3K7o5EkUHBKtnBp9ABRRRQAUUUUAFFFFABRRRQAUUUUAFfye/8HIv/Kan42f9dNG/9MlhX9YVfye/8HIv/Kan42f9dNG/9MlhX9EfRl/5Kur/ANeJ/wDpUDys4/gL1R8O0UUV/eB8wFFFFABRRRQAUUUUAFFFFABRRRQAUUUUAFFFFABRRRQAUUUUAFFFFABRRRQAUUUUAFFFFABRRRQAUUUUAFFFFABRRRQAUUUUAFFFFABRRRQAUUUUAFFFFABRRRQAUUUUAFFFFABRRRQAUUUUAFFFFABRRRQAUUUUAFFFFABRRRQAUUUUAFFFFABRRRQAUUUUAFFFFABRRRQAUUUUAFFFFABRRRQAUUUUAFFFFABRRRQAUUUUAFFFFABRRRQAUUUUAFFFFABRRRQAUUUUAFFFFABRRRQAUUUUAFFFFACr1r+oL/g1O/5Q/wDhn/sYdY/9K2r+X1etf1Bf8Gp3/KH/AMM/9jDrH/pW1fzh9Jr/AJJ2h/18/Q9bJ/4z9D9IaKKK/hY+mCiiigAooooAKKKKACiiigAooooAKKKKAPNf2uk839nzxIvrbH+tfnemnjYOD+Vfot+1VH5vwI8Qr/07n+tfAqaedtfw19KCtyZ/hl/06/8Abmfyz47Ze8Rm2Hlb/l3/AO3Mwzpw9D+VfRX/AATetfI+JmrNz/x446f7YrxL7AfSvV/2Lfi1oXw5+KmsW2o/2/JcpYqzLY+HNSv1AZgR+8ggdPw3ZHfFfnvgjUlU4zwaj3d/uZ8d4XZQ6fE2GqW2b/Jn3NRXm/8Aw1b4R/59/G//AIROtf8AyJToP2p/CdzcxQrB413zOsa7vBesquWOBkm1wBz1JAHUkCv9Jz+1z0avzX/b70nxJ/wUl/4Ku6D+yjN4v8SeDfgv4R8Djx747h8PX7WF94ulluvs9vpsk6/OtsBtdlUgOGfOGWJ0/SgHIr88/hR+7/4OavisG+UyfBPS2QH+IC/UEj8eKAPLP28P+COHgL/gl/8As0eJvj/+yPJ4i+DXxE+FFl/b9xa23iHUNQ0fxXZW5D3FnqFvdTSiRDCHI2lfmA74Zf0r/Zv+L8f7QX7PfgXx5Damxi8aaBY64luW3GAXNukwTPGcb8Z9q8h/4LGSLH/wSm/aJLEKP+FfayOfU2kgFb//AATDRov+CbnwBVgQy/DvQQQe3/Eugo6B0PcZ7iO1geWV1jjjUs7sdqqByST2Ar8DP+Ci/wC1j48/b6/a/wDgp8Z/CviLUNF/Zy8D/Hnw78N/B8NtNJCPHN5JcPLqWrfKw3W6/Z1t42O5WVmxsYyivuj/AILCftBeIv2kPir4b/Ys+E+t/wBkeLfidaHUfiL4hgcf8UX4SB2XBJJwLi6B8pEJztbkKJUceaf8Fs/hX4N/Z4/Z1/Yj8A+BY9M0vwn4P+PXhDT7K0huE2wxRLcKGc5yzHlmkbJLMSxy2S0M/VdPuj6UtNhkWWFWVlZWGQQcg06kIKKKKACiiigAooooAK/k9/4ORf8AlNT8bP8Arpo3/pksK/rCr+T3/g5F/wCU1Pxs/wCumjf+mSwr+iPoy/8AJV1f+vE//SoHlZx/AXqj4dooor+8D5gKKKKACiiigAooooAKKKKACiiigAooooAKKKKACiiigAooooAKKKKACiiigAooooAKKKKACiiigAooooAKKKKACiiigAooooAKKKKACiiigAooooAKKKKACiiigAooooAKKKKACiiigAooooAKKKKACiiigAooooAKKKKACiiigAooooAKKKKACiiigAooooAKKKKACiiigAooooAKKKKACiiigAooooAKKKKACiiigAooooAKKKKACiiigAooooAKKKKACiiigAooooAKKKKACiiigAooooAKKKKAFXrX9QX/AAanf8of/DP/AGMOsf8ApW1fy+r1r+oL/g1O/wCUP/hn/sYdY/8AStq/nD6TX/JO0P8Ar5+h62T/AMZ+h+kNFFFfwsfTBRRRQAUUUUAFFFFABRRRQAUUUUAFFFFAHA/tNp5nwR14f9O5r4dXT/lr7p/aMj834N64vrAa+NI9Nyor+BvpXVeXiLCr/p1/7cz8U8TcveIx1KX939WYI0+vdf2DoWg8eaouW2/ZOmePvivKjpaivZv2J7T7P461I4/5dP8A2YV+beBNa/G+BX95/wDpLPnuCsp9lnNGpbZv8j6aooor/UI/owK+Hf8Agod+xL8W9P8A2vfBf7Un7OP/AAjuqfFDwroknhPxH4R166NnY+NdDeUziBLgcQXMcpLI74QnYWOI/Ll+4qKAPy7/AGmbH9tb/grX8OJPgrrfwF0n9l34ceKJIYvGninU/HNl4k1G5sFkV5bWwgtFG2R9uC8nyspIyvOfqz9pP4Z/GX4e6l+zp4d+AbWul+BfC/iS0sfG9tI1oB/wjsNv5flr56lyRtUDycSZxzjJH0xRQB8tftOf8EU/2X/2yvjJqPxA+Jnwn0zxV4w1aKCG71GbU7+BpkhjWKMFIZ0QbUVVyFBIAzmvjX/gop/wbH/B3xFpPwnT4D/BTw7YTWvxF0q58al/EF5E1x4bXzftsQM1yfvZj4jxJwNpHOf1vooA534RfCfw/wDAj4XeH/BfhPTItF8M+F7CHTNLsI3d0tLaJAkcYZyWIVQBliSe5NdFRRQAUUUUAFFFFABRRRQAV/J7/wAHIv8Aymp+Nn/XTRv/AEyWFf1hV/J7/wAHIv8Aymp+Nn/XTRv/AEyWFf0R9GX/AJKur/14n/6VA8rOP4C9UfDtFFFf3gfMBRRRQAUUUUAFFFFABRRRQAUUUUAFFFFABRRRQAUUUUAFFFFABRRRQAUUUUAFFFFABRRRQAUUUUAFFFFABRRRQAUUUUAFFFFABRRRQAUUUUAFFFFABRRRQAUUUUAFFFFABRRRQAUUUUAFFFFABRRRQAUUUUAFFFFABRRRQAUUUUAFFFFABRRRQAUUUUAFFFFABRRRQAUUUUAFFFFABRRRQAUUUUAFFFFABRRRQAUUUUAFFFFABRRRQAUUUUAFFFFABRRRQAUUUUAFFFFABRRRQAUUUUAFFFFABRRRQAq9a/qC/wCDU7/lD/4Z/wCxh1j/ANK2r+X1etf1Bf8ABqd/yh/8M/8AYw6x/wClbV/OH0mv+Sdof9fP0PWyf+M/Q/SGiiiv4WPpgooooAKKKKACiiigAooooAKKKKACiiigDjvj7H5vwm1hf+mJr5KSwIX7tfXfxtTzPhjqy+sJr5kXTeOlf54/S6rcvEuFX/Tr/wBuZ8fxJl31itCVtl+pg/YD6V65+x9beT4z1E4/5df/AGauB/s32r1D9le1+z+K9Q97b/2avzHwBr83HmAX95/+ks8/Jcp9ljIVLbX/ACPdqKKK/wBXD9ACiiigAooooAKKKKACiiigAooooAKKKKACiiigAr+T3/g5F/5TU/Gz/rpo3/pksK/rCr+T3/g5F/5TU/Gz/rpo3/pksK/oj6Mv/JV1f+vE/wD0qB5WcfwF6o+HaKKK/vA+YCiiigAooooAKKKKACiiigAooooAKKKKACiiigAooooAKKKKACiiigAooooAKKKKACiiigAooooAKKKKACiiigAooooAKKKKACiiigAooooAKKKKACiiigAooooAKKKKACiiigAooooAKKKKACiiigAooooAKKKKACiiigAooooAKKKKACiiigAooooAKKKKACiiigAooooAKKKKACiiigAooooAKKKKACiiigAooooAKKKKACiiigAooooAKKKKACiiigAooooAKKKKACiiigAooooAKKKKACiiigBV61/UF/wanf8AKH/wz/2MOsf+lbV/L6vWv6gv+DU7/lD/AOGf+xh1j/0rav5w+k1/yTtD/r5+h62T/wAZ+h+kNFFFfwsfTBRRRQAUUUUAFFFFABRRRQAUUUUAFFFFAHNfF5PM+Hepr6xGvnoacwFfRfxOTzfBN8v96M14gNN9q/zd+mRW5OKMIv8Apz/7czqo5f8AWI81tjD/ALPb/Ir0T9nC2MHia8P/AE74/wDHq5n+zyK7j4E2vkeILo/9MR/Ovyv6O+I5vEDLl/ef/pLKnlXso+0tseqUUUV/rscYUUUUAFFFFABRRRQAUUUUAFFFFABRRRQAUUUUAFfye/8AByL/AMpqfjZ/100b/wBMlhX9YVfye/8AByL/AMpqfjZ/100b/wBMlhX9EfRl/wCSrq/9eJ/+lQPKzj+AvVHw7RRRX94HzAUUUUAFFFFABRRRQAUUUUAFFFFABRRRQAUUUUAFFFFABRRRQAUUUUAFFFFABRRRQAUUUUAFFFFABRRRQAUUUUAFFFFABRRRQAUUUUAFFFFABRRRQAUUUUAFFFFABRRRQAUUUUAFFFFABRRRQAUUUUAFFFFABRRRQAUUUUAFFFFABRRRQAUUUUAFFFFABRRRQAUUUUAFFFFABRRRQAUUUUAFFFFABRRRQAUUUUAFFFFABRRRQAUUUUAFFFFABRRRQAUUUUAFFFFABRRRQAUUUUAFFFFABRRRQAUUUUAKvWv6gv8Ag1O/5Q/+Gf8AsYdY/wDStq/l9XrX9QX/AAanf8of/DP/AGMOsf8ApW1fzh9Jr/knaH/Xz9D1sn/jP0P0hooor+Fj6YKKKKACiiigAooooAKKKKACiiigAooooAw/iKceEbz/AHD/ACrx/wC1R+lesfF2f7N8O9Uk/uwk/pXzuNdUjqa/za+mVhZVOKMI1/z5/wDbmffcJ4L22Hk/P9DsPtUfpXZfBiVJNcudv/PL+tePHXQvc16P+zddyXniG8bbJ5fkD5yvy53etflf0dcHKHiDl0v7z/8ASWelnuXezwNSfkeyUUUV/ryfl4V8Pf8ABRT9u34tW37WHgv9mH9m3TfDbfFzxbo0ninXfEviKN5tK8FaGkpgFyYU5mnklBVFOQp2blYSbk+4a/PP4UHzP+Dmr4rFvmMfwT0tVJ/hB1BSQPx5oA5P4/8AxG/bY/4JK+B/+Fu+Pvip4R/am+Euhywv410qPwVb+Ftf0OyeRUa6082zmKfyiwLCY8qOijdJH+kXgPxxpfxN8D6P4k0O7jv9F1+yh1GwuUBC3EEqCSNwCAcFWB5Gea8D/wCCxiLJ/wAEpf2iQwDD/hX2snn2tJDXQf8ABMRy/wDwTe+ATM24t8PNBJPr/wAS+CmB47/wUq/bq+KHgv8AaE+Hn7OX7Pem+Hbr40fEyxuNbuNZ8QBpNL8G6LCxje/liT5pXaQMka8rvTBByBXjPx7+Lv7ZX/BILwxZ/Fr4pfFbwn+058FrG+toPG9rD4Lt/DGveF7WeZYftdiLVjHcpE7puWU7mBAwgLSx/oVJ8APBUvxzj+JjeGdHb4gR6P8A8I+mvm3H25dP83zvswk6+X5nzY9a/P3/AIK9fH++/wCCini+8/Yc+B5GteJPEk1q3xR8Twr5unfD3RknSWRJH+617KYwqw5zjcp2klkAP0m8Pa/Z+KtBsdU0+ZLqx1GBLm3mT7ssbqGVh7EEGrlZPgTwdZ/DzwTo+gaeGWx0SyhsLcMcsI4kCLk+uFFa1IAooooAKKKKACiiigAr+T3/AIORf+U1Pxs/66aN/wCmSwr+sKv5Pf8Ag5F/5TU/Gz/rpo3/AKZLCv6I+jL/AMlXV/68T/8ASoHlZx/AXqj4dooor+8D5gKKKKACiiigAooooAKKKKACiiigAooooAKKKKACiiigAooooAKKKKACiiigAooooAKKKKACiiigAooooAKKKKACiiigAooooAKKKKACiiigAooooAKKKKACiiigAooooAKKKKACiiigAooooAKKKKACiiigAooooAKKKKACiiigAooooAKKKKACiiigAooooAKKKKACiiigAooooAKKKKACiiigAooooAKKKKACiiigAooooAKKKKACiiigAooooAKKKKACiiigAooooAKKKKACiiigAooooAKKKKAFXrX9QX/Bqd/yh/8ADP8A2MOsf+lbV/L6vWv6gv8Ag1O/5Q/+Gf8AsYdY/wDStq/nD6TX/JO0P+vn6HrZP/GfofpDRRRX8LH0wUUUUAFFFFABRRRQAUUUUAFFFFABRRRQBx/x7m+z/CLXJOm22Y5r5JHiFcfe/Svqz9peXyPgZ4kk/u2jGvhv+3wB979a/gH6WOD9rxHhJf8ATr/25n7Z4Y4L2+BqvtP9Edx/wkCn+Kus/Z4+CXgf4t/FDVL7XvDOk6vqDWKq1xcRFpGVWAUdccD2rxv+38fxD869w/YN1T7d8StWXg7dPz/5EFfm/gPg5UeOMDKOnvO/3M+i40y32eTVqltkvzR7B/wxl8K/+hF8P/8AgP8A/Xp9v+xx8LrS6hnj8D+H0mt5FljYW/KMpypHPUEA16XRX+o1z+cbgBgV+af7fHijVv8Agmb/AMFaNA/ar1jw3r2v/A/xp4FHgLxzqWi6fJfXHgyeK6+0W+ozxRgubVl2xsyg7cP1cxI/6WUUAflH/wAFJP8Ags78Lv2+f2XfEX7P/wCy5f6l8bfiz8ZbE+HrWy0bSLuO00S0uSI7i9vZ5okSGJIi4JySpILBVy1fVHjr9oR/+CYfgH9lX4RQ+FbvxpH4w1LTPhsdQt7s2w0oQ2QX7YU8p/MH7rJTcmF3Hd8uD9T6R4b07w/5v2DT7Kx887pPs8Cx+YfU7QM/jV2gD8v/APgvX/wWJ1D9k7x34Z+APg7Wrz4c6/4/tEuvEPxLn0W71O18EaVK8sZktYLVHlnvX8qQKAAI/kO4FvMi5b9gz/grn/wTy/4Jw/AeHwX4G8feJyJJDe63rmoeB9dl1PxHfN/rby7mNmC8jHtwqjCqAABX600UAUfDPiO08X+HLDVtPkaax1O3jurd2jaNnjdQykqwDLkEcEAjvV6iigAooooAKKKKACiiigAr+T3/AIORf+U1Pxs/66aN/wCmSwr+sKv5Pf8Ag5F/5TU/Gz/rpo3/AKZLCv6I+jL/AMlXV/68T/8ASoHlZx/AXqj4dooor+8D5gKKKKACiiigAooooAKKKKACiiigAooooAKKKKACiiigAooooAKKKKACiiigAooooAKKKKACiiigAooooAKKKKACiiigAooooAKKKKACiiigAooooAKKKKACiiigAooooAKKKKACiiigAooooAKKKKACiiigAooooAKKKKACiiigAooooAKKKKACiiigAooooAKKKKACiiigAooooAKKKKACiiigAooooAKKKKACiiigAooooAKKKKACiiigAooooAKKKKACiiigAooooAKKKKACiiigAooooAKKKKAFXrX9QX/Bqd/yh/8ADP8A2MOsf+lbV/L6vWv6gv8Ag1O/5Q/+Gf8AsYdY/wDStq/nD6TX/JO0P+vn6HrZP/GfofpDRRRX8LH0wUUUUAFFFFABRRRQAUUUUAFFFFABRRRQB5z+1rP9m/Zy8Wyc/JYsePwr87V8RBR1/Wv0H/bUn+y/sseNpBxs01z+or8vhr5x94/99V/FP0l8J7XPcM/+nX/tzP6c8DcD7fK8RL/p5/7ajuh4kyfvfrX0N/wTa1b+0Pi9riZzt0oHr/01WvkEa+2fvH/vqvpj/glRqZvfjn4jXdu26Krdf+my1+f+DOB5OMMHLzf5M+y8TMt9lw3iZ26L80ffFFFFf6LH8YhRRRQAUUUUAFFFFABRRRQAUUUUAFFFFABRRRQAV/J7/wAHIv8Aymp+Nn/XTRv/AEyWFf1hV/J7/wAHIv8Aymp+Nn/XTRv/AEyWFf0R9GX/AJKur/14n/6VA8rOP4C9UfDtFFFf3gfMBRRRQAUUUUAFFFFABRRRQAUUUUAFFFFABRRRQAUUUUAFFFFABRRRQAUUUUAFFFFABRRRQAUUUUAFFFFABRRRQAUUUUAFFFFABRRRQAUUUUAFFFFABRRRQAUUUUAFFFFABRRRQAUUUUAFFFFABRRRQAUUUUAFFFFABRRRQAUUUUAFFFFABRRRQAUUUUAFFFFABRRRQAUUUUAFFFFABRRRQAUUUUAFFFFABRRRQAUUUUAFFFFABRRRQAUUUUAFFFFABRRRQAUUUUAFFFFABRRRQAUUUUAFFFFABRRRQAq9a/qC/wCDU7/lD/4Z/wCxh1j/ANK2r+X1etf1Bf8ABqd/yh/8M/8AYw6x/wClbV/OH0mv+Sdof9fP0PWyf+M/Q/SGiiiv4WPpgooooAKKKKACiiigAooooAKKKKACiiigDyH9vWf7L+x58QJP7mkyH9RX5JjxJgDkV+sH/BRa4+y/sQ/EyT+5osh/UV+MY8RjavPb1r+T/H7B+1zfDy/6d/8AtzP7L+jTgfb5Nipdqv8A7ZE70eJRnrX1d/wR21f+0P2h/FSf3dAU/wDkwtfCo8RZPX9a+w/+CIWr/b/2nPGEf93w0jdf+nla+K8KsBycUYWdtm/yZ+g+MuW+y4Qxk7dF/wClI/UKiiiv7lP88wooooAKKKKACiiigAooooAKKKKACiiigAooooAK/k9/4ORf+U1Pxs/66aN/6ZLCv6wq/k9/4ORf+U1Pxs/66aN/6ZLCv6I+jL/yVdX/AK8T/wDSoHlZx/AXqj4dooor+8D5gKKKKACiiigAooooAKKKKACiiigAooooAKKKKACiiigAooooAKKKKACiiigAooooAKKKKACiiigAooooAKKKKACiiigAooooAKKKKACiiigAooooAKKKKACiiigAooooAKKKKACiiigAooooAKKKKACiiigAooooAKKKKACiiigAooooAKKKKACiiigAooooAKKKKACiiigAooooAKKKKACiiigAooooAKKKKACiiigAooooAKKKKACiiigAooooAKKKKACiiigAooooAKKKKACiiigAooooAKKKKAFXrX9QX/Bqd/yh/wDDP/Yw6x/6VtX8vq9a/qC/4NTv+UP/AIZ/7GHWP/Stq/nD6TX/ACTtD/r5+h62T/xn6H6Q0UUV/Cx9MFFFFABRRRQAUUUUAFFFFABRRRQAUUUUAeE/8FN5/s37AvxVk/556DKf1Wvw1TxENi8np6V+33/BVi4+y/8ABOn4wSdNnh2Y59OVr8B011di/PX89eMWD9rmNCX9z/25n9+fRGwXt+H8a/8Ap8v/AEiJ3g8RAH7x/Kvtj/gghq32/wDaw8bJnO3wsh/8mlr87f7dX+9X3Z/wbuap9t/bE8eLuzt8Ixn/AMnFr5Tw9wPJn+Hnbq/yZ+oePuW+y4Ex8+yj/wClRP2Mooor+sD/ACzCiiigAor5I/4K7ft2+MP2PPhb4J8N/CvR9L174zfGfxJD4Q8GwamSLCynkG6W9uAMFooUwSB3dSQyhlPj+u/8E+f24vh14EPjDwz+2heeNfidYRm9l8N674K0638La5IPmNkFjAktkb7olUg+0ecqAfovRXz3/wAEuf27rb/go3+xf4X+Jw0mTw9rF4ZtO13SGDf8SzUraRobiJSwyU3ruUnnY65w2QOR/wCCuv7d/iv9iz4NeEdK+Geh6f4i+L3xf8T2vgvwZaag22xtrufJa7uMEEwxKMkA/edCflDUAfWVFfnTqf8AwTz/AG4vBfgL/hLdD/bWu/E/xStY/tsugav4J06HwnqsoG42IVFEkEbfc85fmxztQn5for/glf8At3n/AIKJ/scaF8Qr7Rf+EZ8Tx3NzoviXRgSy6ZqlpKYriNSedhIDqCSQsigncDQB9GUUUUAFFFFABRRRQAV/J7/wci/8pqfjZ/100b/0yWFf1hV/J7/wci/8pqfjZ/100b/0yWFf0R9GX/kq6v8A14n/AOlQPKzj+AvVHw7RRRX94HzAUUUUAFFFFABRRRQAUUUUAFFFFABRRRQAUUUUAFFFFABRRRQAUUUUAFFFFABRRRQAUUUUAFFFFABRRRQAUUUUAFFFFABRRRQAUUUUAFFFFABRRRQAUUUUAFFFFABRRRQAUUUUAFFFFABRRRQAUUUUAFFFFABRRRQAUUUUAFFFFABRRRQAUUUUAFFFFABRRRQAUUUUAFFFFABRRRQAUUUUAFFFFABRRRQAUUUUAFFFFABRRRQAUUUUAFFFFABRRRQAUUUUAFFFFABRRRQAUUUUAFFFFABRRRQAUUUUAKvWv6gv+DU7/lD/AOGf+xh1j/0rav5fV61/UF/wanf8of8Awz/2MOsf+lbV/OH0mv8AknaH/Xz9D1sn/jP0P0hooor+Fj6YKKKKACiiigAooooAKKKKACiiigAooooA+cf+Cukywf8ABNP4zOx2qvhubJ9BuWv50V8ZIqD5u3oa/q6mhW4jZHVWVuoYZBqr/wAI/Z/8+tr/AN+V/wAK+N4m4PhnFaFadTl5Vba/W/dH9FeDHj/LgDLq+XrArEe1nz3dTkt7qja3LK+17n8qI8Zpn7/6GvvD/g3S+L3h3wr+2V49k1zX9H0eOTweio1/eR2ysftiHALkA/hX7ff8I/Z/8+tr/wB+V/wqO68KaZfRhbjTrG4VTkCS3RgD+Irz8l8P6WXYyGLVbm5enLb9T6zxG+lRPivh/EZC8sVFVklz+15rWae3Iu3c5n/hpf4cf9FA8E/+Dy1/+Lp0P7Sfw6uJ44o/H3guSSZxGiLrlsWdicAAb+STwBW9/wAIDoP/AEBdJ/8AAOP/AAoTwHocbqy6LpKspBBFpHkEdD0r9CP5JNYHIrxD4/8A/BSn4A/sq+Pf+EW+JHxd8B+CfEX2dLv+ztX1WO2uPJfOx9rHO07Tg+1e31yPjT9n7wH8Sdb/ALT8ReCPCOv6l5aw/a9R0e3up9i52rvkQttGTgZwMmgD86f2+f2jPAn7U/7f/wDwT38VfDvxZoXjTwzN478R26ajpV0tzbNLHp8IZdy8blPav1Er4J/4K+fsV+J7b4ffCD4o/APwNpepeLv2c/GI8XW/g/SoYrD/AISCwlXZqFtAqKF+0OgVhgFm2sFDuVRud8Vf8HI3wz1HwDNY+Bfhj8dPFPxnuIWhsfhxL4FvrXVIr0ghY7qTYYY41fG90kkKqCQrEYpjLn/BtXx+xJ49UfdX4q+JgB6D7XTf+CyXzft/fsEKfu/8LKvjj3FkmKo/sveAvip/wRe/4IZanrl14Ob4h/Gaykl8V6t4ZsDJceff6jqKGS2Bt1dnaCKYbjGGUtC5DbPmrqP+Ct3wE+J37RH7PPwT+NXwx8MjVvil8D/EVh4+i8IyyGKXWrYwgX2nRswBExUjGRuPlsoUuVUgH3pX57/8G53H7OXxuUfdX42+KgB6Dz46p61/wcj/AAtufA8ll4b+GPx4174xSRNFb/DU+BL+DWI73BCxTuUMKRh8BnR3ZVyQjEba9Y/4Ih/sf+M/2Nv2EdN0v4kx29v8RvGWsah4w8TWkEiyR2N5fTmUwblJUtHH5attLLvVtrMuCUI+vKKKKACiiigAooooAK/k9/4ORf8AlNT8bP8Arpo3/pksK/rCr+T3/g5F/wCU1Pxs/wCumjf+mSwr+iPoy/8AJV1f+vE//SoHlZx/AXqj4dooor+8D5gKKKKACiiigAooooAKKKKACiiigAooooAKKKKACiiigAooooAKKKKACiiigAooooAKKKKACiiigAooooAKKKKACiiigAooooAKKKKACiiigAooooAKKKKACiiigAooooAKKKKACiiigAooooAKKKKACiiigAooooAKKKKACiiigAooooAKKKKACiiigAooooAKKKKACiiigAooooAKKKKACiiigAooooAKKKKACiiigAooooAKKKKACiiigAooooAKKKKACiiigAooooAKKKKACiiigAooooAKKKKAFXrX9QX/AAanf8of/DP/AGMOsf8ApW1fy+r1r+oL/g1O/wCUP/hn/sYdY/8AStq/nD6TX/JO0P8Ar5+h62T/AMZ+h+kNFFFfwsfTBRRRQAUUUUAFFFFABRRRQAUUUUAFFFFABRRRQAUUUUAFFFFABRRRQAUUUUAFFFFABRRRQAUUUUAFFFFABRRRQAV/J7/wci/8pqfjZ/100b/0yWFf1hV/J7/wci/8pqfjZ/100b/0yWFf0R9GX/kq6v8A14n/AOlQPKzj+AvVHw7RRRX94HzAUUUUAFFFFABRRRQAUUUUAFFFFABRRRQAUUUUAFFFFABRRRQAUUUUAFFFFABRRRQAUUUUAFFFFABRRRQAUUUUAFFFFABRRRQAUUUUAFFFFABRRRQAUUUUAFFFFABRRRQAUUUUAFFFFABRRRQAUUUUAFFFFABRRRQAUUUUAFFFFABRRRQAUUUUAFFFFABRRRQAUUUUAFFFFABRRRQAUUUUAFFFFABRRRQAUUUUAFFFFABRRRQAUUUUAFFFFABRRRQAUUUUAFFFFABRRRQAUUUUAFFFFABRRRQAUUUUAKvWv6gv+DU7/lD/AOGf+xh1j/0rav5fV61/UF/wanf8of8Awz/2MOsf+lbV/OH0mv8AknaH/Xz9D1sn/jP0P0hooor+Fj6YKKKKACiiigAooooAKKKKACiiigAooooAKKKKACiiigAooooAKKKKACiiigAooooAKKKKACiiigAooooAKKKKACv5Qf8Ag5Qg+x/8FqfjNvZVMv8AYsgGex0WxH9K/q+rzv4i/sh/Cf4v+I5tY8WfDD4e+KNXuAglvtW8OWd7cyhAFUNJJGzHaAAMngACv0jwu48hwlm8szqUnVUoShZO27i73/7dOTGYV16fInbW5/E75y/3l/Ojzl/vL+df2ey/8E3f2eJ5Wkf4EfBxmc5JPgzTuT/35pv/AA7Y/Z2/6IN8G/8AwjNO/wDjNf0F/wATTYT/AKAJf+Br/I8r+xX/ADfgfxiecv8AeX86POX+8v51/Z3/AMO2P2dv+iDfBv8A8IzTv/jNH/Dtj9nb/og3wb/8IzTv/jNH/E02E/6AJf8Aga/yD+xX/N+B/GJ5y/3l/Ojzl/vL+df2d/8ADtj9nb/og3wb/wDCM07/AOM0f8O2P2dv+iDfBv8A8IzTv/jNH/E02E/6AJf+Br/IP7Ff834H8YnnL/eX86POX+8v51/Z3/w7Y/Z2/wCiDfBv/wAIzTv/AIzR/wAO2P2dv+iDfBv/AMIzTv8A4zR/xNNhP+gCX/ga/wAg/sV/zfgfxiecv95fzo85f7y/nX9nf/Dtj9nb/og3wb/8IzTv/jNH/Dtj9nb/AKIN8G//AAjNO/8AjNH/ABNNhP8AoAl/4Gv8g/sV/wA34H8YnnL/AHl/Ojzl/vL+df2d/wDDtj9nb/og3wb/APCM07/4zR/w7Y/Z2/6IN8G//CM07/4zR/xNNhP+gCX/AIGv8g/sV/zfgfxiecv95fzo85f7y/nX9nf/AA7Y/Z2/6IN8G/8AwjNO/wDjNH/Dtj9nb/og3wb/APCM07/4zR/xNNhP+gCX/ga/yD+xX/N+B/GJ5y/3l/Ojzl/vL+df2d/8O2P2dv8Aog3wb/8ACM07/wCM0f8ADtj9nb/og3wb/wDCM07/AOM0f8TTYT/oAl/4Gv8AIP7Ff834H8YnnL/eX86POX+8v51/Z3/w7Y/Z2/6IN8G//CM07/4zR/w7Y/Z2/wCiDfBv/wAIzTv/AIzR/wATTYT/AKAJf+Br/IP7Ff8AN+B/GJ5y/wB5fzo85f7y/nX9nf8Aw7Y/Z2/6IN8G/wDwjNO/+M0f8O2P2dv+iDfBv/wjNO/+M0f8TTYT/oAl/wCBr/IP7Ff834H8YnnL/eX86POX+8v51/Z3/wAO2P2dv+iDfBv/AMIzTv8A4zR/w7Y/Z2/6IN8G/wDwjNO/+M0f8TTYT/oAl/4Gv8g/sV/zfgfxiecv95fzo85f7y/nX9nf/Dtj9nb/AKIN8G//AAjNO/8AjNH/AA7Y/Z2/6IN8G/8AwjNO/wDjNH/E02E/6AJf+Br/ACD+xX/N+B/GJ5y/3l/Ojzl/vL+df2d/8O2P2dv+iDfBv/wjNO/+M0f8O2P2dv8Aog3wb/8ACM07/wCM0f8AE02E/wCgCX/ga/yD+xX/ADfgfxiecv8AeX86POX+8v51/Z3/AMO2P2dv+iDfBv8A8IzTv/jNH/Dtj9nb/og3wb/8IzTv/jNH/E02E/6AJf8Aga/yD+xX/N+B/GJ5y/3l/Ojzl/vL+df2d/8ADtj9nb/og3wb/wDCM07/AOM0f8O2P2dv+iDfBv8A8IzTv/jNH/E02E/6AJf+Br/IP7Ff834H8YnnL/eX86POX+8v51/Z3/w7Y/Z2/wCiDfBv/wAIzTv/AIzR/wAO2P2dv+iDfBv/AMIzTv8A4zR/xNNhP+gCX/ga/wAg/sV/zfgfxiecv95fzo85f7y/nX9nf/Dtj9nb/og3wb/8IzTv/jNH/Dtj9nb/AKIN8G//AAjNO/8AjNH/ABNNhP8AoAl/4Gv8g/sV/wA34H8YnnL/AHl/Ojzl/vL+df2d/wDDtj9nb/og3wb/APCM07/4zR/w7Y/Z2/6IN8G//CM07/4zR/xNNhP+gCX/AIGv8g/sV/zfgfxiecv95fzo85f7y/nX9nf/AA7Y/Z2/6IN8G/8AwjNO/wDjNH/Dtj9nb/og3wb/APCM07/4zR/xNNhP+gCX/ga/yD+xX/N+B/GJ5y/3l/Ojzl/vL+df2d/8O2P2dv8Aog3wb/8ACM07/wCM0f8ADtj9nb/og3wb/wDCM07/AOM0f8TTYT/oAl/4Gv8AIP7Ff834H8YnnL/eX86POX+8v51/Z3/w7Y/Z2/6IN8G//CM07/4zR/w7Y/Z2/wCiDfBv/wAIzTv/AIzR/wATTYT/AKAJf+Br/IP7Ff8AN+B/GJ5y/wB5fzo85f7y/nX9nf8Aw7Y/Z2/6IN8G/wDwjNO/+M0f8O2P2dv+iDfBv/wjNO/+M0f8TTYT/oAl/wCBr/IP7Ff834H8YnnL/eX86POX+8v51/Z3/wAO2P2dv+iDfBv/AMIzTv8A4zR/w7Y/Z2/6IN8G/wDwjNO/+M0f8TTYT/oAl/4Gv8g/sV/zfgfxiecv95fzo85f7y/nX9nf/Dtj9nb/AKIN8G//AAjNO/8AjNH/AA7Y/Z2/6IN8G/8AwjNO/wDjNH/E02E/6AJf+Br/ACD+xX/N+B/GJ5y/3l/Ojzl/vL+df2d/8O2P2dv+iDfBv/wjNO/+M0f8O2P2dv8Aog3wb/8ACM07/wCM0f8AE02E/wCgCX/ga/yD+xX/ADfgfxiecv8AeX86POX+8v51/Z3/AMO2P2dv+iDfBv8A8IzTv/jNH/Dtj9nb/og3wb/8IzTv/jNH/E02E/6AJf8Aga/yD+xX/N+B/GJ5y/3l/Ojzl/vL+df2d/8ADtj9nb/og3wb/wDCM07/AOM0f8O2P2dv+iDfBv8A8IzTv/jNH/E02E/6AJf+Br/IP7Ff834H8YnnL/eX86POX+8v51/Z3/w7Y/Z2/wCiDfBv/wAIzTv/AIzR/wAO2P2dv+iDfBv/AMIzTv8A4zR/xNNhP+gCX/ga/wAg/sV/zfgfxiecv95fzo85f7y/nX9nf/Dtj9nb/og3wb/8IzTv/jNH/Dtj9nb/AKIN8G//AAjNO/8AjNH/ABNNhP8AoAl/4Gv8g/sV/wA34H8YnnL/AHl/Ojzl/vL+df2d/wDDtj9nb/og3wb/APCM07/4zR/w7Y/Z2/6IN8G//CM07/4zR/xNNhP+gCX/AIGv8g/sV/zfgfxiecv95fzo85f7y/nX9nf/AA7Y/Z2/6IN8G/8AwjNO/wDjNH/Dtj9nb/og3wb/APCM07/4zR/xNNhP+gCX/ga/yD+xX/N+B/GJ5y/3l/Ojzl/vL+df2d/8O2P2dv8Aog3wb/8ACM07/wCM0f8ADtj9nb/og3wb/wDCM07/AOM0f8TTYT/oAl/4Gv8AIP7Ff834H8YnnL/eX86POX+8v51/Z3/w7Y/Z2/6IN8G//CM07/4zR/w7Y/Z2/wCiDfBv/wAIzTv/AIzR/wATTYT/AKAJf+Br/IP7Ff8AN+B/GJ5y/wB5fzo85f7y/nX9nf8Aw7Y/Z2/6IN8G/wDwjNO/+M0f8O2P2dv+iDfBv/wjNO/+M0f8TTYT/oAl/wCBr/IP7Ff834H8YnnL/eX86POX+8v51/Z3/wAO2P2dv+iDfBv/AMIzTv8A4zR/w7Y/Z2/6IN8G/wDwjNO/+M0f8TTYT/oAl/4Gv8g/sV/zfgfxiecv95fzo85f7y/nX9nf/Dtj9nb/AKIN8G//AAjNO/8AjNH/AA7Y/Z2/6IN8G/8AwjNO/wDjNH/E02E/6AJf+Br/ACD+xX/N+B/GJ5y/3l/Ojzl/vL+df2d/8O2P2dv+iDfBv/wjNO/+M0f8O2P2dv8Aog3wb/8ACM07/wCM0f8AE02E/wCgCX/ga/yD+xX/ADfgfxiecv8AeX86POX+8v51/Z3/AMO2P2dv+iDfBv8A8IzTv/jNH/Dtj9nb/og3wb/8IzTv/jNH/E02E/6AJf8Aga/yD+xX/N+B/GJ5y/3l/Ojzl/vL+df2d/8ADtj9nb/og3wb/wDCM07/AOM0f8O2P2dv+iDfBv8A8IzTv/jNH/E02E/6AJf+Br/IP7Ff834H8YnnL/eX86POX+8v51/Z3/w7Y/Z2/wCiDfBv/wAIzTv/AIzR/wAO2P2dv+iDfBv/AMIzTv8A4zR/xNNhP+gCX/ga/wAg/sV/zfgfxiecv95fzo85f7y/nX9nf/Dtj9nb/og3wb/8IzTv/jNH/Dtj9nb/AKIN8G//AAjNO/8AjNH/ABNNhP8AoAl/4Gv8g/sV/wA34H8YnnL/AHl/Ojzl/vL+df2d/wDDtj9nb/og3wb/APCM07/4zR/w7Y/Z2/6IN8G//CM07/4zR/xNNhP+gCX/AIGv8g/sV/zfgfxiecv95fzo85f7y/nX9nf/AA7Y/Z2/6IN8G/8AwjNO/wDjNH/Dtj9nb/og3wb/APCM07/4zR/xNNhP+gCX/ga/yD+xX/N+B/GJ5y/3l/Ojzl/vL+df2d/8O2P2dv8Aog3wb/8ACM07/wCM0f8ADtj9nb/og3wb/wDCM07/AOM0f8TTYT/oAl/4Gv8AIP7Ff834H8YnnL/eX86POX+8v51/Z3/w7Y/Z2/6IN8G//CM07/4zR/w7Y/Z2/wCiDfBv/wAIzTv/AIzR/wATTYT/AKAJf+Br/IP7Ff8AN+B/GJ5y/wB5fzo85f7y/nX9nf8Aw7Y/Z2/6IN8G/wDwjNO/+M0f8O2P2dv+iDfBv/wjNO/+M0f8TTYT/oAl/wCBr/IP7Ff834H8YnnL/eX86POX+8v51/Z3/wAO2P2dv+iDfBv/AMIzTv8A4zR/w7Y/Z2/6IN8G/wDwjNO/+M0f8TTYT/oAl/4Gv8g/sV/zfgfxiecv95fzo85f7y/nX9nf/Dtj9nb/AKIN8G//AAjNO/8AjNH/AA7Y/Z2/6IN8G/8AwjNO/wDjNH/E02E/6AJf+Br/ACD+xX/N+B/GJ5y/3l/Ojzl/vL+df2d/8O2P2dv+iDfBv/wjNO/+M0f8O2P2dv8Aog3wb/8ACM07/wCM0f8AE02E/wCgCX/ga/yD+xX/ADfgfxiecv8AeX86POX+8v51/Z3/AMO2P2dv+iDfBv8A8IzTv/jNH/Dtj9nb/og3wb/8IzTv/jNH/E02E/6AJf8Aga/yD+xX/N+B/GJ5y/3l/Ojzl/vL+df2d/8ADtj9nb/og3wb/wDCM07/AOM0f8O2P2dv+iDfBv8A8IzTv/jNH/E02E/6AJf+Br/IP7Ff834H8YnnL/eX86POX+8v51/Z3/w7Y/Z2/wCiDfBv/wAIzTv/AIzR/wAO2P2dv+iDfBv/AMIzTv8A4zR/xNNhP+gCX/ga/wAg/sV/zfgfxiecv95fzo85f7y/nX9nf/Dtj9nb/og3wb/8IzTv/jNH/Dtj9nb/AKIN8G//AAjNO/8AjNH/ABNNhP8AoAl/4Gv8g/sV/wA34H8YnnL/AHl/Ojzl/vL+df2d/wDDtj9nb/og3wb/APCM07/4zR/w7Y/Z2/6IN8G//CM07/4zR/xNNhP+gCX/AIGv8g/sV/zfgfxiecv95fzo85f7y/nX9nf/AA7Y/Z2/6IN8G/8AwjNO/wDjNH/Dtj9nb/og3wb/APCM07/4zR/xNNhP+gCX/ga/yD+xX/N+B/GJ5y/3l/Ojzl/vL+df2d/8O2P2dv8Aog3wb/8ACM07/wCM0f8ADtj9nb/og3wb/wDCM07/AOM0f8TTYT/oAl/4Gv8AIP7Ff834H8Yqyp/fX86/qJ/4NVbYwf8ABHrwm/8ADPr2suv0+2yL/SvrS3/4Jwfs82kyyR/An4OxuvRl8G6cCP8AyDXqHgT4eeH/AIW+GYNF8M6Ho/hzR7UsYbDS7KOztYSxLMVjjAUZYknA5JJr8y8UvGehxbltPAUsK6TjLmu5J9LWtY7MFl7oT527mxRRRX4EeoFFFFABRRRQAUUUUAFFFFABRRRQAUUUUAFFFFABRRRQAUUUUAFFFFABRRRQAUUUUAFFFFABRRRQAUUUUAFFFFABRRRQAUUUUAFFFFABRRRQAUUUUAFFFFABRRRQAUUUUAFFFFABRRRQAUUUUAFFFFABRRRQAUUUUAFFFFABRRRQAUUUUAFFFFABRRRQAUUUUAFFFFABRRRQAUUUUAFFFFABRRRQAUUUUAFFFFABRRRQAUUUUAFFFFABRRRQAUUUUAFFFFABRRRQAUUUUAFFFFABRRRQAUUUUAFFFFABRRRQAUUUUAFFFFABRRRQAUUUUAFFFFABRRRQAUUUUAFFFFABRRRQAUUUUAFFFFABRRRQAUUUUAFFFFABRRRQAUUUUAFFFFABRRRQAUUUUAFFFFABRRRQAUUUUAFFFFABRRRQAUUUUAFFFFABRRRQAUUUUAFFFFABRRRQAUUUUAFFFFABRRRQAUUUUAFFFFABRRRQAUUUUAFFFFABRRRQAUUUUAFFFFABRRRQAUUUUAFFFFABRRRQAUUUUAFFFFABRRRQAUUUUAFFFFABRRRQAUUUUAFFFFABRRRQAUUUUAFFFFABRRRQAUUUUAFFFFABRRRQAUUUUAFFFFABRRRQAUUUUAFFFFABRRRQAUUUUAFFFFABRRRQAUUUUAFFFFABRRRQAUUUUAFFFFABRRRQAUUUUAFFFFABRRRQAUUUUAFFFFABRRRQAUUUUAFFFFABRRRQAUUUUAFFFFABRRRQAUUUUAFFFFABRRRQAUUUUAFFFFABRRRQAUUUUAFFFFABRRRQAUUUUAFFFFABRRRQAUUUUAFFFFABRRRQAUUUUAFFFFABRRRQAUUUUAFFFFABRRRQAUUUUAFFFFAH/9k=)"
      ]
    }
  ],
  "metadata": {
    "colab": {
      "provenance": []
    },
    "kernelspec": {
      "display_name": "Python 3",
      "name": "python3"
    },
    "language_info": {
      "name": "python"
    }
  },
  "nbformat": 4,
  "nbformat_minor": 0
}
