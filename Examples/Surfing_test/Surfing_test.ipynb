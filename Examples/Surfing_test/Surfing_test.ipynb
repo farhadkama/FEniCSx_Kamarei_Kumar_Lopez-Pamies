{
  "cells": [
    {
      "cell_type": "markdown",
      "metadata": {
        "id": "U4I0guFxXJoX"
      },
      "source": [
        "## Adding the Dolfinx library to the colab environment"
      ]
    },
    {
      "cell_type": "code",
      "execution_count": null,
      "metadata": {
        "id": "O475uI91ax-b"
      },
      "outputs": [],
      "source": [
        "!wget \"https://fem-on-colab.github.io/releases/fenicsx-install-development-real.sh\" -O \"/tmp/fenicsx-install.sh\" && bash \"/tmp/fenicsx-install.sh\""
      ]
    },
    {
      "cell_type": "markdown",
      "metadata": {
        "id": "SCJ7RmEsXNRH"
      },
      "source": [
        "## Importing the required libraries"
      ]
    },
    {
      "cell_type": "code",
      "execution_count": 1,
      "metadata": {
        "id": "LW1txDGga9rj"
      },
      "outputs": [],
      "source": [
        "from mpi4py import MPI\n",
        "from dolfinx import mesh, fem, io, plot, nls, log, geometry, la\n",
        "from dolfinx import cpp as _cpp\n",
        "from dolfinx import default_real_type\n",
        "import dolfinx.fem.petsc\n",
        "import ufl\n",
        "import numpy as np\n",
        "from petsc4py.PETSc import ScalarType\n",
        "from petsc4py import PETSc\n",
        "import time\n",
        "import os"
      ]
    },
    {
      "cell_type": "markdown",
      "metadata": {
        "id": "UyUTrbKHXSip"
      },
      "source": [
        "## Setting material properties and geometry dimensions\n"
      ]
    },
    {
      "cell_type": "code",
      "execution_count": 48,
      "metadata": {
        "id": "QsBe2yGKbBby"
      },
      "outputs": [],
      "source": [
        "# Material properties\n",
        "E, nu = ScalarType(9800), ScalarType(0.13)\t                                    #Young's modulus and Poisson's ratio\n",
        "mu, lmbda, kappa = E/(2*(1 + nu)), E*nu/((1 + nu)*(1 - 2*nu)), E/(3*(1 - 2*nu))\n",
        "Gc= ScalarType(0.091)\t                                                            #Critical energy release rate\n",
        "sts, scs= ScalarType(27), ScalarType(77)\t                                        #Tensile strength and compressive strength\n",
        "shs = (2/3)*sts*scs/(scs-sts)\n",
        "Wts = sts**2/(2*E)\n",
        "Whs = shs**2/(2*kappa)\n",
        "\n",
        "\n",
        "#Irwin characteristic length\n",
        "lch=3*Gc*E/8/(sts**2)\n",
        "#The regularization length\n",
        "eps=0.2                                                                           #epsilon should not be chosen to be too large compared to lch. Typically eps<4*lch should work\n",
        "\n",
        "h=eps/5\n",
        "\n",
        "\n",
        "\n",
        "delta = (1+3*h/(8*eps))**(-2) * ((sts + (1+2*np.sqrt(3))*shs)/((8+3*np.sqrt(3))*shs)) * 3*Gc/(16*Wts*eps) + (1+3*h/(8*eps))**(-1) * (2/5)\n",
        "comm = MPI.COMM_WORLD\n",
        "comm_rank = MPI.COMM_WORLD.rank\n",
        "log.set_log_level(log.LogLevel.ERROR)\n",
        "\n",
        "#Geometry of the single edge notch geometry\n",
        "ac = 5.0                                                                          #notch length\n",
        "W, L = 30.0, 5.0                                                                  #making use of symmetry"
      ]
    },
    {
      "cell_type": "markdown",
      "metadata": {
        "id": "0C6lNAIkXWll"
      },
      "source": [
        "## Generating the mesh with element size $h=\\frac{ϵ}{5}$"
      ]
    },
    {
      "cell_type": "code",
      "execution_count": 49,
      "metadata": {
        "id": "1HBatlwabOBa"
      },
      "outputs": [],
      "source": [
        "domain = mesh.create_rectangle(comm = comm,points=\n",
        "                             [np.array([0,0]), np.array([W,L])],n=[int(W/(32*h))\n",
        "                             ,int(L/(32*h))], cell_type=mesh.CellType.triangle\n",
        "                               , diagonal= mesh.DiagonalType.crossed)\n",
        "\n",
        "\n",
        "def cell_criterion(x):\n",
        "    \"\"\"Given mesh coordinates, return if each point\n",
        "    satisfies x[1]<lch*4\n",
        "\n",
        "    :param x: Input coordinates, shape (num_points, 3)\n",
        "    :returns: Boolean array of shape (num_points, )\n",
        "    \"\"\"\n",
        "    return (x[1]<lch*4)\n",
        "\n",
        "ir=0\n",
        "while ir<2:\n",
        "    domain.topology.create_connectivity(domain.topology.dim, domain.topology.dim)\n",
        "    cells_local = np.arange(domain.topology.index_map(\n",
        "        domain.topology.dim).size_local, dtype=np.int32)\n",
        "    midpoints = dolfinx.mesh.compute_midpoints(\n",
        "        domain, domain.topology.dim, cells_local).T\n",
        "    should_refine = np.flatnonzero(cell_criterion(midpoints)).astype(np.int32)\n",
        "    domain.topology.create_entities(1)\n",
        "    local_edges = dolfinx.mesh.compute_incident_entities(\n",
        "        domain.topology, should_refine, domain.topology.dim, 1)\n",
        "    domain = dolfinx.mesh.refine(domain, local_edges)[0]\n",
        "    ir+=1\n",
        "\n",
        "\n",
        "def cell_criterion2(x):\n",
        "    \"\"\"Given mesh coordinates, return if each point\n",
        "    satisfies (x[1]<2.5*eps)  & (x[0]>ac-h*8*4)\n",
        "\n",
        "    :param x: Input coordinates, shape (num_points, 3)\n",
        "    :returns: Boolean array of shape (num_points, )\n",
        "    \"\"\"\n",
        "    return (x[1]<2.5*eps) & (x[0]>ac-h*8*4)\n",
        "\n",
        "ir=0\n",
        "while ir<3:\n",
        "    domain.topology.create_connectivity(domain.topology.dim, domain.topology.dim)\n",
        "    cells_local = np.arange(domain.topology.index_map(\n",
        "        domain.topology.dim).size_local, dtype=np.int32)\n",
        "    midpoints = dolfinx.mesh.compute_midpoints(\n",
        "        domain, domain.topology.dim, cells_local).T\n",
        "    should_refine = np.flatnonzero(cell_criterion2(midpoints)).astype(np.int32)\n",
        "    domain.topology.create_entities(1)\n",
        "    local_edges = dolfinx.mesh.compute_incident_entities(\n",
        "        domain.topology, should_refine, domain.topology.dim, 1)\n",
        "    domain = dolfinx.mesh.refine(domain, local_edges)[0]\n",
        "    ir+=1\n",
        "\n",
        "\n",
        "with dolfinx.io.XDMFFile(domain.comm, \"refined_mesh.xdmf\", \"w\") as xdmf:\n",
        "    xdmf.write_mesh(domain)"
      ]
    },
    {
      "cell_type": "markdown",
      "metadata": {
        "id": "otviNVMHXgSn"
      },
      "source": [
        "## Defining the function spaces"
      ]
    },
    {
      "cell_type": "code",
      "execution_count": 50,
      "metadata": {
        "id": "zx8hba68bTPp"
      },
      "outputs": [],
      "source": [
        "# Defining the function spaces\n",
        "V = fem.functionspace(domain, (\"CG\", 1, (domain.geometry.dim,)))                 #Function space for u\n",
        "Y = fem.functionspace(domain, (\"CG\", 1))                                          #Function space for z\n",
        "\n",
        "n=ufl.FacetNormal(domain)"
      ]
    },
    {
      "cell_type": "markdown",
      "metadata": {
        "id": "rZH82wnrXj8N"
      },
      "source": [
        "## Creating the applied displacement on the boundary"
      ]
    },
    {
      "cell_type": "code",
      "execution_count": 51,
      "metadata": {
        "id": "9cX5EeqybV78"
      },
      "outputs": [],
      "source": [
        "class MyExpression:\n",
        "    def __init__(self):\n",
        "        self.t = 0.0\n",
        "        self.v = 5.0\n",
        "\n",
        "    def eval(self, x):\n",
        "        values = np.zeros((1, x.shape[1]))\n",
        "        values[0,:] = (1+nu)*np.sqrt(Gc)/np.sqrt(2*np.pi*E)*\\\n",
        "         (((x[0]-self.v*self.t)**2+L**2)**0.25)*\\\n",
        "          ((3-nu)/(1+nu)-np.cos(np.arctan2(L,(x[0]-self.v*self.t))))*\\\n",
        "          np.sin(0.5*np.arctan2(L,(x[0]-self.v*self.t)))\n",
        "\n",
        "        return values\n",
        "\n",
        "V_1, _ = V.sub(1).collapse()\n",
        "re = MyExpression()\n",
        "re.t = 0\n",
        "r = fem.Function(V_1)\n",
        "r.interpolate(re.eval)"
      ]
    },
    {
      "cell_type": "markdown",
      "metadata": {
        "id": "GzErQv4qXqi2"
      },
      "source": [
        "## Setting the Dirichlet part of boundary conditions"
      ]
    },
    {
      "cell_type": "code",
      "execution_count": 52,
      "metadata": {
        "id": "sKGBuM8waHbG"
      },
      "outputs": [],
      "source": [
        "def left(x):\n",
        "    return np.isclose(x[0], 0)\n",
        "\n",
        "def front(x):\n",
        "    return np.isclose(x[0], W)\n",
        "\n",
        "def top(x):\n",
        "    return np.isclose(x[1], L)\n",
        "\n",
        "def bottom(x):\n",
        "    return (x[1]<1e-4) & (x[0]>ac - 1e-4)\n",
        "\n",
        "def cracktip(x):\n",
        "    return (x[1] < 1e-4) & (x[0] > ac - h*8*2) & (x[0] < ac+1e-4)\n",
        "\n",
        "def righttop(x):\n",
        "    return np.isclose(x[1], 0) & np.isclose(x[0], W)\n",
        "\n",
        "def outer(x):\n",
        "    return (x[1] > L/10)\n",
        "\n",
        "fdim = domain.topology.dim -1\n",
        "left_facets = mesh.locate_entities_boundary(domain, fdim, left)\n",
        "front_facets = mesh.locate_entities_boundary(domain, fdim, front)\n",
        "top_facets = mesh.locate_entities_boundary(domain, fdim, top)\n",
        "bottom_facets = mesh.locate_entities(domain, fdim, bottom)\n",
        "cracktip_facets = mesh.locate_entities(domain, fdim, cracktip)\n",
        "righttop_facets = mesh.locate_entities(domain, 0, righttop)\n",
        "outer_facets = mesh.locate_entities(domain, fdim, outer)\n",
        "\n",
        "\n",
        "dofs_righttop = fem.locate_dofs_topological(V.sub(0), 0, righttop_facets)\n",
        "dofs_bottom = fem.locate_dofs_topological(V.sub(1), fdim, bottom_facets)\n",
        "dofs_top = fem.locate_dofs_topological((V.sub(1), V_1), fdim, top_facets)\n",
        "\n",
        "dofs_outer = fem.locate_dofs_topological(Y, fdim, outer_facets)\n",
        "dofs_cracktip = fem.locate_dofs_topological(Y, fdim, cracktip_facets)\n",
        "\n",
        "bcl = fem.dirichletbc(ScalarType(0), dofs_righttop, V.sub(0))\n",
        "bcb = fem.dirichletbc(ScalarType(0), dofs_bottom, V.sub(1))\n",
        "bct = fem.dirichletbc(r, dofs_top, V.sub(1))\n",
        "bcs = [bcl, bcb, bct]\n",
        "\n",
        "\n",
        "bct_z = fem.dirichletbc(ScalarType(1), dofs_outer, Y)\n",
        "bct_z2 = fem.dirichletbc(ScalarType(0), dofs_cracktip, Y)\n",
        "bcs_z = [bct_z, bct_z2]\n"
      ]
    },
    {
      "cell_type": "markdown",
      "metadata": {
        "id": "__VzPX7GXtTf"
      },
      "source": [
        "## Marking the facets and defining trial and test functions"
      ]
    },
    {
      "cell_type": "code",
      "execution_count": 54,
      "metadata": {
        "colab": {
          "base_uri": "https://localhost:8080/",
          "height": 231
        },
        "collapsed": true,
        "id": "G9lDEO2UcUE3",
        "outputId": "eaa6b27a-782e-4870-9a02-6a4ded041e1a"
      },
      "outputs": [],
      "source": [
        "marked_facets = np.hstack([front_facets, left_facets, top_facets])\n",
        "marked_values = np.hstack([np.full_like(front_facets, 1),\n",
        "                           np.full_like(left_facets, 2),\n",
        "                           np.full_like(top_facets, 3)])\n",
        "sorted_facets = np.argsort(marked_facets)\n",
        "facet_tag = mesh.meshtags(domain, domain.topology.dim -1,\n",
        "                          marked_facets[sorted_facets],\n",
        "                          marked_values[sorted_facets])\n",
        "\n",
        "metadata = {\"quadrature_degree\": 4}\n",
        "ds = ufl.Measure('ds', domain=domain,\n",
        "                 subdomain_data=facet_tag, metadata=metadata)\n",
        "dS = ufl.Measure(\"dS\", domain=domain, metadata=metadata)\n",
        "dx = ufl.Measure(\"dx\", domain=domain, metadata=metadata)\n",
        "\n",
        "\n",
        "\n",
        "########################################################################\n",
        "# Define functions\n",
        "########################################################################\n",
        "du = ufl.TrialFunction(V)                                                         # Incremental displacement\n",
        "v  = ufl.TestFunction(V)                                                          # Test function for u\n",
        "u  = fem.Function(V)                                                              # Displacement from previous iteration\n",
        "u_inc = fem.Function(V)\n",
        "dz = ufl.TrialFunction(Y)                                                         # Incremental phase field\n",
        "y  = ufl.TestFunction(Y)                                                          # Test function\n",
        "z  = fem.Function(Y)                                                              # Phase field from previous iteration\n",
        "z_inc = fem.Function(Y)\n",
        "d = len(u)                                                                        # Dimension\n",
        "B  = fem.Constant(domain, (0.0, 0.0))                                             # Body force per unit volume\n",
        "Tr  = fem.Constant(domain, (0.0,  0.0))                                           # Traction force on the boundary\n"
      ]
    },
    {
      "cell_type": "markdown",
      "metadata": {
        "id": "22l5ySrsXw-W"
      },
      "source": [
        "## Setting the initial conditions"
      ]
    },
    {
      "cell_type": "code",
      "execution_count": 55,
      "metadata": {
        "id": "RMohBN5ydjIB"
      },
      "outputs": [],
      "source": [
        "u.x.array[:] = 0.\n",
        "\n",
        "\n",
        "z.x.array[:] = 1.\n",
        "\n",
        "\n",
        "u_prev = fem.Function(V)\n",
        "u_prev.x.array[:] = u.x.array\n",
        "z_prev = fem.Function(Y)\n",
        "z_prev.x.array[:] = z.x.array\n",
        "\n",
        "\n",
        "y_dofs_top = fem.locate_dofs_topological(V.sub(1), fdim, top_facets)"
      ]
    },
    {
      "cell_type": "markdown",
      "metadata": {
        "id": "mjLEZNiLX0vd"
      },
      "source": [
        "## Defining a function to do an interpolation for any field for visualization purposes"
      ]
    },
    {
      "cell_type": "code",
      "execution_count": 56,
      "metadata": {
        "id": "9CyGsy1pdjwW"
      },
      "outputs": [],
      "source": [
        "def adjust_array_shape(input_array):\n",
        "    if input_array.shape == (2,):                                                 # Check if the shape is (2,)\n",
        "        adjusted_array = np.append(input_array, 0.0)                              # Append 0.0 to the array\n",
        "        return adjusted_array\n",
        "    else:\n",
        "        return input_array\n",
        "bb_tree = geometry.bb_tree(domain, domain.topology.dim)\n",
        "\n",
        "def evaluate_function(u, x):\n",
        "    \"\"\"[summary]\n",
        "        Helps evaluated a function at a point `x` in parallel\n",
        "    Args:\n",
        "        u ([dolfin.Function]): [function to be evaluated]\n",
        "        x ([Union(tuple, list, numpy.ndarray)]): [point at which to evaluate function `u`]\n",
        "\n",
        "    Returns:\n",
        "        [numpy.ndarray]: [function evaluated at point `x`]\n",
        "    \"\"\"\n",
        "\n",
        "\n",
        "    if isinstance(x, np.ndarray):\n",
        "        # If x is already a NumPy array\n",
        "        points0 = x\n",
        "    elif isinstance(x, (tuple, list)):\n",
        "        # If x is a tuple or list, convert it to a NumPy array\n",
        "        points0 = np.array(x)\n",
        "    else:\n",
        "        # Handle the case if x is of an unsupported type\n",
        "        points0 = None\n",
        "\n",
        "    points = adjust_array_shape(points0)\n",
        "\n",
        "    u_value = []\n",
        "\n",
        "    cells = []\n",
        "    # Find cells whose bounding-box collide with the the points\n",
        "    cell_candidates = geometry.compute_collisions_points(bb_tree, points)\n",
        "    # Choose one of the cells that contains the point\n",
        "    colliding_cells = geometry.compute_colliding_cells(domain, cell_candidates, points)\n",
        "\n",
        "    if len(colliding_cells.links(0)) > 0:\n",
        "        u_value = u.eval(points, colliding_cells.links(0)[0])\n",
        "        u_value = domain.comm.gather(u_value, root=0)\n",
        "    return u_value[0]"
      ]
    },
    {
      "cell_type": "markdown",
      "metadata": {
        "id": "D0ZLaF2kX2w1"
      },
      "source": [
        "## Defining stored energy, strain, and stress functions"
      ]
    },
    {
      "cell_type": "code",
      "execution_count": 57,
      "metadata": {
        "id": "0WfwaCX4dqMv"
      },
      "outputs": [],
      "source": [
        "# Stored energy, strain and stress functions in linear isotropic elasticity (plane stress)\n",
        "\n",
        "def energy(v):\n",
        "\t  return mu*(ufl.inner(ufl.sym(ufl.grad(v)),ufl.sym(ufl.grad(v))) + ((nu/(1-nu))**2)*(ufl.tr(ufl.sym(ufl.grad(v))))**2 )+ 0.5*(lmbda)*(ufl.tr(ufl.sym(ufl.grad(v)))*(1-2*nu)/(1-nu))**2\n",
        "\n",
        "def epsilon(v):\n",
        "\treturn ufl.sym(ufl.grad(v))\n",
        "\n",
        "def sigma(v):\n",
        "\treturn 2.0*mu*ufl.sym(ufl.grad(v)) + (lmbda)*ufl.tr(ufl.sym(ufl.grad(v)))*(1-2*nu)/(1-nu)*ufl.Identity(len(v))\n",
        "\n",
        "def sigmavm(sig,v):\n",
        "\treturn ufl.sqrt(1/2*(ufl.inner(sig-1/3*ufl.tr(sig)*ufl.Identity(len(v)), sig-1/3*ufl.tr(sig)*ufl.Identity(len(v))) + (1/9)*ufl.tr(sig)**2 ))\n",
        "\n",
        "\n",
        "eta = 0.0\n",
        "# Stored energy density\n",
        "psi1 = (z**2+eta)*(energy(u))\n",
        "psi11 = energy(u)\n",
        "# Total potential energy\n",
        "Pi = psi1*dx\n",
        "# Compute first variation of Pi (directional derivative about u in the direction of v)\n",
        "R = ufl.derivative(Pi, u, v)\n",
        "# Compute Jacobian of R\n",
        "Jac = ufl.derivative(R, u, du)"
      ]
    },
    {
      "cell_type": "markdown",
      "metadata": {
        "id": "67Glt0HiX9O9"
      },
      "source": [
        "## Defining the external force $c_{e}$ in the phase field equation"
      ]
    },
    {
      "cell_type": "code",
      "execution_count": 58,
      "metadata": {
        "id": "oQu-y6Sndwew"
      },
      "outputs": [],
      "source": [
        "I1 = (z**2)*ufl.tr(sigma(u))\n",
        "SQJ2 = (z**2)*sigmavm(sigma(u),u)\n",
        "\n",
        "alpha1 = (delta*Gc)/(shs*8*eps) - (2*Whs)/(3*shs)\n",
        "alpha2 = (3**0.5*(3*shs - sts)*delta*Gc)/(shs*sts*8*eps) + (2*Whs)/(3**0.5*shs) - (2*3**0.5*Wts)/(sts)\n",
        "\n",
        "ce= alpha2*SQJ2 + alpha1*I1 - z*(1-ufl.sqrt(I1**2)/I1)*psi11"
      ]
    },
    {
      "cell_type": "markdown",
      "metadata": {
        "id": "FfRMVsNLX-cg"
      },
      "source": [
        "## Weak form of PDE for phase field"
      ]
    },
    {
      "cell_type": "code",
      "execution_count": 59,
      "metadata": {
        "id": "3F9_kQLQd0RW"
      },
      "outputs": [],
      "source": [
        "#Balance of configurational forces PDE\n",
        "pen=1000*(3*Gc/8/eps)*ufl.conditional(ufl.lt(delta,1),1, delta)\n",
        "Wv=pen/2*((abs(z)-z)**2 + (abs(1-z) - (1-z))**2 )*dx\n",
        "\n",
        "R_z = y*2*z*(psi11)*dx + y*(ce)*dx + 3*delta*Gc/8*(-y/eps + 2*eps*ufl.inner(ufl.grad(z),ufl.grad(y)))*dx + ufl.derivative(Wv,z,y)\n",
        "\n",
        "# Compute Jacobian of R_z\n",
        "Jac_z = ufl.derivative(R_z, z, dz)"
      ]
    },
    {
      "cell_type": "markdown",
      "metadata": {
        "id": "EZHR9ZeVYFj1"
      },
      "source": [
        "## Defining a class for solving nonlinear PDEs"
      ]
    },
    {
      "cell_type": "code",
      "execution_count": 60,
      "metadata": {
        "id": "ZHpgzlrAd2tA"
      },
      "outputs": [],
      "source": [
        "class NonlinearPDEProblem:\n",
        "    \"\"\"Nonlinear problem class for PDEs.\"\"\"\n",
        "\n",
        "    def __init__(self, F, u, bc, J):\n",
        "        self.L = fem.form(F)\n",
        "        self.a = fem.form(J)\n",
        "        self.bc = bc\n",
        "\n",
        "    def form(self, x):\n",
        "        x.ghostUpdate(addv=PETSc.InsertMode.INSERT, mode=PETSc.ScatterMode.FORWARD)\n",
        "\n",
        "    def F(self, x, b):\n",
        "        \"\"\"Assemble residual vector.\"\"\"\n",
        "        with b.localForm() as b_local:\n",
        "            b_local.set(0.0)\n",
        "        fem.petsc.assemble_vector(b, self.L)\n",
        "        fem.petsc.apply_lifting(b, [self.a], bcs=[self.bc], x0=[x], alpha=-1.0)\n",
        "        b.ghostUpdate(addv=PETSc.InsertMode.ADD, mode=PETSc.ScatterMode.REVERSE)\n",
        "        fem.petsc.set_bc(b, self.bc, x, -1.0)\n",
        "\n",
        "    def J(self, x, A):\n",
        "        \"\"\"Assemble Jacobian matrix.\"\"\"\n",
        "        A.zeroEntries()\n",
        "        fem.petsc.assemble_matrix(A, self.a, bcs=self.bc)\n",
        "        A.assemble()\n",
        "\n",
        "    def matrix(self):\n",
        "        return fem.petsc.create_matrix(self.a)\n",
        "\n",
        "    def vector(self):\n",
        "        return fem.petsc.create_vector(self.L)"
      ]
    },
    {
      "cell_type": "markdown",
      "metadata": {
        "id": "9xL4X2xWYPFI"
      },
      "source": [
        "## Setting the time step parameters\n"
      ]
    },
    {
      "cell_type": "code",
      "execution_count": 61,
      "metadata": {
        "id": "QqduxPLbd5aA"
      },
      "outputs": [],
      "source": [
        "# time-stepping parameters\n",
        "T=1\n",
        "Totalsteps=500\n",
        "startstepsize=1/Totalsteps\n",
        "stepsize=startstepsize\n",
        "t=stepsize\n",
        "step=1\n",
        "rtol=1e-9"
      ]
    },
    {
      "cell_type": "markdown",
      "metadata": {
        "id": "8Bn4DVuzYM5E"
      },
      "source": [
        "## Creating Newton solvers and their customizations"
      ]
    },
    {
      "cell_type": "code",
      "execution_count": 62,
      "metadata": {
        "id": "X7dn_c2Td7nO"
      },
      "outputs": [],
      "source": [
        "# Create nonlinear problem\n",
        "problem_u = NonlinearPDEProblem(R, u, bcs, Jac)\n",
        "\n",
        "# Create Newton solver and solve\n",
        "\n",
        "solver = _cpp.nls.petsc.NewtonSolver(MPI.COMM_WORLD)\n",
        "solver.setF(problem_u.F, problem_u.vector())\n",
        "solver.setJ(problem_u.J, problem_u.matrix())\n",
        "solver.set_form(problem_u.form)\n",
        "solver.max_it = 10\n",
        "solver.error_on_nonconvergence = False\n",
        "solver.atol = 1.0e-8\n",
        "solver.rtol = 1.0e-7\n",
        "\n",
        "ksp1 = solver.krylov_solver\n",
        "opts = PETSc.Options()\n",
        "option_prefix = ksp1.getOptionsPrefix()\n",
        "opts[f\"{option_prefix}ksp_type\"] = \"preonly\"\n",
        "opts[f\"{option_prefix}pc_type\"] = \"lu\"\n",
        "\n",
        "# Create nonlinear problem\n",
        "problem_z = NonlinearPDEProblem(R_z, z, bcs_z, Jac_z)\n",
        "\n",
        "# Create Newton solver and solve\n",
        "\n",
        "solver_z = _cpp.nls.petsc.NewtonSolver(MPI.COMM_WORLD)\n",
        "solver_z.setF(problem_z.F, problem_z.vector())\n",
        "solver_z.setJ(problem_z.J, problem_z.matrix())\n",
        "solver_z.set_form(problem_z.form)\n",
        "solver_z.max_it = 10\n",
        "solver_z.error_on_nonconvergence = False\n",
        "solver_z.atol = 1.0e-8\n",
        "solver_z.rtol = 1.0e-7\n",
        "\n",
        "\n",
        "ksp2 = solver_z.krylov_solver\n",
        "opts = PETSc.Options()\n",
        "option_prefix = ksp2.getOptionsPrefix()\n",
        "opts[f\"{option_prefix}ksp_type\"] = \"preonly\"\n",
        "opts[f\"{option_prefix}pc_type\"] = \"lu\""
      ]
    },
    {
      "cell_type": "markdown",
      "metadata": {
        "id": "rp2XGN3bYUcO"
      },
      "source": [
        "## Solving the problem over several time steps via a staggered scheme"
      ]
    },
    {
      "cell_type": "code",
      "execution_count": null,
      "metadata": {
        "id": "G21GWmrod9_x"
      },
      "outputs": [],
      "source": [
        "while t-stepsize < T:\n",
        "\n",
        "    if comm_rank==0:\n",
        "        print('Step= %d' %step, 't= %f' %t, 'Stepsize= %e' %stepsize)\n",
        "\n",
        "    re.t = t\n",
        "    r.interpolate(re.eval)\n",
        "    stag_iter = 1\n",
        "    rnorm_stag = 1\n",
        "    while stag_iter<100 and rnorm_stag > 1e-7:\n",
        "        start_time=time.time()\n",
        "        ##############################################################\n",
        "        # PDE for u\n",
        "        ##############################################################\n",
        "        solver.solve(u.x.petsc_vec)\n",
        "        u.x.scatter_forward()\n",
        "        ##############################################################\n",
        "        # PDE for z\n",
        "        ##############################################################\n",
        "        solver_z.solve(z.x.petsc_vec)\n",
        "        z.x.scatter_forward()\n",
        "        ##############################################################\n",
        "\n",
        "        zmin = domain.comm.allreduce(np.min(z.x.array), op=MPI.MIN)\n",
        "\n",
        "\n",
        "        if comm_rank==0:\n",
        "            print(zmin)\n",
        "\n",
        "        if comm_rank==0:\n",
        "            print(\"--- %s seconds ---\" % (time.time() - start_time))\n",
        "\n",
        "        ###############################################################\n",
        "        #Residual check for stag loop\n",
        "        ###############################################################\n",
        "        b_e = fem.petsc.assemble_vector(fem.form(-R))\n",
        "        fint=b_e.copy()\n",
        "        fem.petsc.set_bc(b_e, bcs)\n",
        "\n",
        "        rnorm_stag=b_e.norm()\n",
        "        stag_iter+=1\n",
        "\n",
        "    ########### Post-processing ##############\n",
        "\n",
        "    u_prev.x.array[:] = u.x.array\n",
        "    z_prev.x.array[:] = z.x.array\n",
        "\n",
        "    # Calculate Reaction and J-Integral\n",
        "\n",
        "    Fx=domain.comm.allreduce(np.sum(fint[y_dofs_top]), op=MPI.SUM)\n",
        "    z_x = evaluate_function(z, (ac+eps,0.0))[0]\n",
        "\n",
        "    JI = fem.form((psi1-ufl.dot(ufl.dot(sigma(u),n),u.dx(0)))*ds(1)+\n",
        "     (psi1-ufl.dot(ufl.dot(sigma(u),n),u.dx(0)))*ds(2)+\n",
        "      (-ufl.dot(ufl.dot(sigma(u),n),u.dx(0)))*ds(3))\n",
        "\n",
        "    Jintegral = domain.comm.allreduce(fem.assemble_scalar(JI), op=MPI.SUM)\n",
        "\n",
        "    if comm_rank==0:\n",
        "        print(Fx)\n",
        "        print(z_x)\n",
        "        with open('Surfing.txt', 'a') as rfile:\n",
        "            rfile.write(\"%s %s %s %s\\n\" % (str(t), str(zmin), str(z_x), str(Fx)))\n",
        "        with open('Surfing_Jintegral.txt', 'a') as rfile:\n",
        "            rfile.write(\"%s %s\\n\" % (str(t), str(2*Jintegral)))\n",
        "\n",
        "    # time stepping\n",
        "    step+=1\n",
        "    t+=stepsize"
      ]
    },
    {
      "cell_type": "markdown",
      "metadata": {
        "id": "Xq_jWGBbc9-z"
      },
      "source": [
        "## Results\n",
        "\n",
        "Plot of the energy release rate as a function of time for graphite.\n",
        "\n",
        "![Gc.jpg](data:image/jpeg;base64,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)"
      ]
    }
  ],
  "metadata": {
    "colab": {
      "provenance": []
    },
    "kernelspec": {
      "display_name": "dolfinx-env",
      "language": "python",
      "name": "python3"
    },
    "language_info": {
      "codemirror_mode": {
        "name": "ipython",
        "version": 3
      },
      "file_extension": ".py",
      "mimetype": "text/x-python",
      "name": "python",
      "nbconvert_exporter": "python",
      "pygments_lexer": "ipython3",
      "version": "3.12.3"
    }
  },
  "nbformat": 4,
  "nbformat_minor": 0
}
